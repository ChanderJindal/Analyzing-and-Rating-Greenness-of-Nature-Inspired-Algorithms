{
 "cells": [
  {
   "cell_type": "code",
   "execution_count": null,
   "metadata": {},
   "outputs": [],
   "source": [
    "para = {'n_estimators':list(range(100,1000,100)), 'min_samples_split':2, 'min_samples_leaf':list(range(1,10,1)), 'min_weight_fraction_leaf':0.0, 'max_features':'sqrt', 'max_leaf_nodes':None, 'min_impurity_decrease':0.0, 'bootstrap':True, 'oob_score':False, 'n_jobs':None, 'random_state':None, 'verbose':0, 'warm_start':False, 'class_weight':None, 'ccp_alpha':0.0, 'max_samples':None}"
   ]
  },
  {
   "cell_type": "code",
   "execution_count": null,
   "metadata": {},
   "outputs": [],
   "source": [
    "param_grid = {'n_estimators': range(20, 100, 20), 'max_depth': range(2, 40, 2), 'min_samples_split': range(2, 20, 2), 'max_features': [\"sqrt\", \"log2\"]}"
   ]
  }
 ],
 "metadata": {
  "kernelspec": {
   "display_name": "Python 3.9.13 64-bit (microsoft store)",
   "language": "python",
   "name": "python3"
  },
  "language_info": {
   "name": "python",
   "version": "3.9.13"
  },
  "orig_nbformat": 4,
  "vscode": {
   "interpreter": {
    "hash": "bcac82fb26a6e7c950421e78519edb87e1a5e005e0aec2fc293e679965bb2493"
   }
  }
 },
 "nbformat": 4,
 "nbformat_minor": 2
}
