{
 "cells": [
  {
   "cell_type": "code",
   "execution_count": null,
   "id": "e3e77791",
   "metadata": {},
   "outputs": [],
   "source": [
    "import os\n",
    "import json\n",
    "import numpy as np\n",
    "import pandas as pd"
   ]
  },
  {
   "cell_type": "code",
   "execution_count": null,
   "id": "97896cde",
   "metadata": {},
   "outputs": [],
   "source": [
    "Home = os.getcwd()\n",
    "DataFolder = os.path.join(Home,'Data')\n",
    "df = pd.read_csv(os.path.join(DataFolder,'MyDataSet.csv'))\n",
    "df_cols = list(df.columns)\n",
    "df = df[df.filter(regex='^(?!Unnamed)').columns]\n",
    "#df = df.drop(columns=[i for i in df_cols if i.startswith('Unnamed:')])"
   ]
  },
  {
   "cell_type": "code",
   "execution_count": null,
   "id": "1813f37c",
   "metadata": {},
   "outputs": [],
   "source": [
    "from sklearn.model_selection import train_test_split\n",
    "from sklearn.ensemble import RandomForestClassifier\n",
    "\n",
    "from sklearn_nature_inspired_algorithms.model_selection import NatureInspiredSearchCV\n",
    "from niapy.algorithms import basic, modified"
   ]
  },
  {
   "cell_type": "code",
   "execution_count": null,
   "id": "a82eaaad",
   "metadata": {},
   "outputs": [],
   "source": [
    "def Define_Model():\n",
    "    model = RandomForestClassifier()\n",
    "    param_grid = {}\n",
    "    return model, param_grid"
   ]
  },
  {
   "cell_type": "code",
   "execution_count": null,
   "id": "bec8fc08",
   "metadata": {},
   "outputs": [],
   "source": [
    "df_cols = list(df.columns)\n",
    "y = df[df_cols[-1]]\n",
    "X = df[df_cols[:-1]]\n",
    "start_val = 0\n",
    "model, param_grid = Define_Model()"
   ]
  },
  {
   "cell_type": "code",
   "execution_count": null,
   "id": "e7289d7c",
   "metadata": {},
   "outputs": [],
   "source": [
    "def SKLEARN_HBA(Kmodel, Kparam_grid):\n",
    "    lst = []\n",
    "    for Kpopulation_size in range(10,101,10): #10\n",
    "        for Kloudness in np.arange(0.5,1.1,.1): #6\n",
    "            for Kpulse_rate in np.arange(0.5,1.1,.1): #6\n",
    "                for Kalpha in np.arange(0.3, Kloudness-0.1, .1):\n",
    "                    for Kgamma in np.arange(0.3, Kpulse_rate-0.1, .1):\n",
    "                        for Kmin_frequency in range(0,7,1): #7\n",
    "                            for Kmax_frequency in range(Kmin_frequency+1, Kmin_frequency+3, 1):\n",
    "                                Algo = modified.hba.HybridBatAlgorithm()\n",
    "                                Algo.set_parameters(\n",
    "                                    population_size = Kpopulation_size,\n",
    "                                    loudness = Kloudness,\n",
    "                                    pulse_rate = Kpulse_rate,\n",
    "                                    alpha = Kalpha,\n",
    "                                    gamma = Kgamma,\n",
    "                                    min_frequency = Kmin_frequency,\n",
    "                                    max_frequency = Kmax_frequency\n",
    "                                )\n",
    "                                NIS = NatureInspiredSearchCV(\n",
    "                                    estimator = Kmodel,\n",
    "                                    param_grid = Kparam_grid,\n",
    "                                    algorithm=Algo\n",
    "                                )\n",
    "                                lst.append(NIS)\n",
    "    return lst\n",
    "'''\n",
    "def NIAPY_HBA():\n",
    "    lst = []\n",
    "    for Kpopulation_size in range(10,101,10): #10\n",
    "        for Kloudness in np.arange(0.5,1.1,.1): #6\n",
    "            for Kpulse_rate in np.arange(0.5,1.1,.1): #6\n",
    "                for Kalpha in np.arange(0.3, Kloudness-0.1, .1):\n",
    "                    for Kgamma in np.arange(0.3, Kpulse_rate-0.1, .1):\n",
    "                        for Kdifferential_weight in np.arange(0.1,1.1,0.1): #10\n",
    "                            for Kcrossover_probability in np.arange(0.1,1.1,.1): #10\n",
    "                                Kmin_frequency = 0 #for Kmin_frequency in range(0,7,1): #7\n",
    "                                for Kmax_frequency in range(1, 3, 1):    #for Kmax_frequency in range(Kmin_frequency+1, Kmin_frequency+3, 1):\n",
    "\n",
    "                                    Algo = modified.hba.HybridBatAlgorithm()\n",
    "                                    Algo.set_parameters(\n",
    "                                        population_size = Kpopulation_size,\n",
    "                                        loudness = Kloudness,\n",
    "                                        pulse_rate = Kpulse_rate,\n",
    "                                        alpha = Kalpha,\n",
    "                                        gamma = Kgamma,\n",
    "                                        differential_weight = Kdifferential_weight,\n",
    "                                        crossover_probability = Kcrossover_probability,\n",
    "                                        min_frequency = Kmin_frequency,\n",
    "                                        max_frequency = Kmax_frequency,\n",
    "                                        seed = 1\n",
    "                                    )\n",
    "                                    lst.append(Algo)\n",
    "    return lst\n",
    "'''"
   ]
  },
  {
   "cell_type": "code",
   "execution_count": null,
   "id": "ea6661f1",
   "metadata": {},
   "outputs": [],
   "source": [
    "def Save_Often(HBA_Dict,Name):\n",
    "    ResultFolder = os.path.join(Home, 'Result')\n",
    "    Name = os.path.join(ResultFolder, Name)\n",
    "    with open(Name,'w') as kanaishk:\n",
    "        json.dump(HBA_Dict,kanaishk)"
   ]
  },
  {
   "cell_type": "code",
   "execution_count": null,
   "id": "d1da7d94",
   "metadata": {},
   "outputs": [],
   "source": [
    "NIS_lst = SKLEARN_HBA(model, param_grid)\n",
    "#Algo_lst = NIAPY_HBA()\n",
    "print(len(NIS_lst))\n",
    "Best_Score = 0\n",
    "Best_Para = None \n",
    "HBA_Dict = dict()"
   ]
  },
  {
   "cell_type": "code",
   "execution_count": null,
   "id": "1d918d9f",
   "metadata": {},
   "outputs": [],
   "source": [
    "for i in range(len(NIS_lst)):\n",
    "    if(i%10==0 and i != start_val):\n",
    "        Name = f'Kanaishk Hybrid Bat Dict-{i/10}.json'\n",
    "        Save_Often(HBA_Dict,Name)\n",
    "        HBA_Dict = dict()\n",
    "    Curr_Candidate = NIS_lst[i]\n",
    "    Curr_Candidate.fit(X,y)\n",
    "    Curr_Para = NIS_lst[i].get_algorithm.get_parameters()\n",
    "    Curr_Score = Curr_Candidate.best_score_\n",
    "    HBA_Dict[str(Curr_Para)] = Curr_Score\n",
    "    if Curr_Score > Best_Score:\n",
    "        Best_Para = Curr_Para"
   ]
  },
  {
   "cell_type": "code",
   "execution_count": null,
   "id": "246c8418",
   "metadata": {},
   "outputs": [],
   "source": [
    "print(Best_Score)\n",
    "print(Best_Para)"
   ]
  },
  {
   "cell_type": "code",
   "execution_count": null,
   "id": "b1d85236",
   "metadata": {},
   "outputs": [],
   "source": [
    "#Orignal Paper HBA: https://arxiv.org/abs/1303.6310\n",
    "#Sklearn Dir: https://github.com/timzatko/Sklearn-Nature-Inspired-Algorithms\n",
    "#NIAPY ALgorithm Class: https://github.com/NiaOrg/NiaPy/blob/master/niapy/algorithms/algorithm.py\n",
    "#NIAPY Bat Algorithm Class: https://github.com/NiaOrg/NiaPy/blob/master/niapy/algorithms/basic/ba.py\n",
    "#NIAPY Hybrid Bat Algorithm Class: https://github.com/NiaOrg/NiaPy/blob/master/niapy/algorithms/modified/hba.py\n",
    "#NIAPY How to test Algorithm: https://github.com/NiaOrg/NiaPy/blob/master/niapy/tests/test_algorithm.py\n",
    "#NIAPY How to test HBA: https://github.com/NiaOrg/NiaPy/blob/master/niapy/tests/test_hba.py\n",
    "#NIAPY Task (Answer to Sphere Function): https://github.com/NiaOrg/NiaPy/blob/master/niapy/task.py"
   ]
  }
 ],
 "metadata": {
  "kernelspec": {
   "display_name": "Python 3 (ipykernel)",
   "language": "python",
   "name": "python3"
  },
  "language_info": {
   "codemirror_mode": {
    "name": "ipython",
    "version": 3
   },
   "file_extension": ".py",
   "mimetype": "text/x-python",
   "name": "python",
   "nbconvert_exporter": "python",
   "pygments_lexer": "ipython3",
   "version": "3.11.0"
  }
 },
 "nbformat": 4,
 "nbformat_minor": 5
}
