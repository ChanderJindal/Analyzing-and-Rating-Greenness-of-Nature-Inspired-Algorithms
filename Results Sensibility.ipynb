{
 "cells": [
  {
   "cell_type": "code",
   "execution_count": 1,
   "id": "9f29a338",
   "metadata": {},
   "outputs": [],
   "source": [
    "import os\n",
    "import json\n",
    "import operator"
   ]
  },
  {
   "cell_type": "code",
   "execution_count": 2,
   "id": "1e8bed48",
   "metadata": {},
   "outputs": [],
   "source": [
    "Home = os.getcwd()\n",
    "ResultFolder = os.path.join(Home,'Result')\n",
    "FileLinks = []\n",
    "for i in range(1,11):\n",
    "    FileLinks.append(os.path.join(ResultFolder,f'Kanaishk Cuckoo Search Dict-{i}.0.json'))"
   ]
  },
  {
   "cell_type": "code",
   "execution_count": 3,
   "id": "89e3b17f",
   "metadata": {},
   "outputs": [],
   "source": [
    "alldata = {}"
   ]
  },
  {
   "cell_type": "code",
   "execution_count": 4,
   "id": "d97c4616",
   "metadata": {},
   "outputs": [],
   "source": [
    "for i in range(10):\n",
    "    with open(FileLinks[i]) as json_file:\n",
    "        data = json.load(json_file)\n",
    "        alldata = alldata | data"
   ]
  },
  {
   "cell_type": "code",
   "execution_count": 5,
   "id": "b422ab2e",
   "metadata": {},
   "outputs": [
    {
     "name": "stdout",
     "output_type": "stream",
     "text": [
      "1000\n"
     ]
    }
   ],
   "source": [
    "print(len(alldata))"
   ]
  },
  {
   "cell_type": "code",
   "execution_count": 6,
   "id": "5232b646",
   "metadata": {},
   "outputs": [
    {
     "data": {
      "text/plain": [
       "'keys = list(alldata.keys())\\nvalues = list(alldata.values())\\nfor i in range(len(alldata)):\\n    attribute = keys[i].split(\\',\\')\\n    keys[i] = attribute[0] + attribute[-1]+\"\\t:\\t\"+str(values[i])\\n    print(keys[i])'"
      ]
     },
     "execution_count": 6,
     "metadata": {},
     "output_type": "execute_result"
    }
   ],
   "source": [
    "#To check whole data\n",
    "'''keys = list(alldata.keys())\n",
    "values = list(alldata.values())\n",
    "for i in range(len(alldata)):\n",
    "    attribute = keys[i].split(',')\n",
    "    keys[i] = attribute[0] + attribute[-1]+\"\\t:\\t\"+str(values[i])\n",
    "    print(keys[i])'''"
   ]
  },
  {
   "cell_type": "code",
   "execution_count": 7,
   "id": "c524cd79",
   "metadata": {},
   "outputs": [
    {
     "name": "stdout",
     "output_type": "stream",
     "text": [
      "{'population_size': 30 'pa': 0.32}\t:\t0.9092834189334187\n",
      "{'population_size': 50 'pa': 0.77}\t:\t0.9092834189334187\n",
      "{'population_size': 10 'pa': 0.74}\t:\t0.9092756906595287\n",
      "{'population_size': 50 'pa': 0.87}\t:\t0.9092756906595287\n",
      "{'population_size': 70 'pa': 0.14}\t:\t0.9092756906595287\n",
      "{'population_size': 90 'pa': 0.31}\t:\t0.9092756906595287\n",
      "{'population_size': 20 'pa': 0.76}\t:\t0.9092756903608861\n",
      "{'population_size': 30 'pa': 0.19}\t:\t0.9092756903608861\n",
      "{'population_size': 40 'pa': 0.52}\t:\t0.9092756903608861\n",
      "{'population_size': 60 'pa': 0.3}\t:\t0.9092756903608861\n"
     ]
    }
   ],
   "source": [
    "top10 = dict(sorted(alldata.items(), key=operator.itemgetter(1), reverse=True)[:10])\n",
    "keystt = list(top10.keys())\n",
    "valuestt = list(top10.values())\n",
    "for i in range(len(keystt)):\n",
    "    attributes = keystt[i].split(',')\n",
    "    keystt[i] = attributes[0] + attributes[-1]+\"\\t:\\t\"+str(valuestt[i])\n",
    "    print(keystt[i])"
   ]
  },
  {
   "cell_type": "code",
   "execution_count": 8,
   "id": "b00fc8b3",
   "metadata": {},
   "outputs": [
    {
     "name": "stdout",
     "output_type": "stream",
     "text": [
      "{'population_size': 50 'pa': 0.77}\t:\t0.9093066031578034\n"
     ]
    }
   ],
   "source": [
    "FileLinks.append(os.path.join(ResultFolder,'Kanaishk Cuckoo Search Dict-param_grid.json'))\n",
    "with open(FileLinks[10]) as json_file:\n",
    "    redata = json.load(json_file)\n",
    "redata = dict(sorted(redata.items(), key=operator.itemgetter(1), reverse=True))\n",
    "keystt = list(redata.keys())\n",
    "valuestt = list(redata.values())\n",
    "for i in range(len(keystt)):\n",
    "    attributes = keystt[i].split(',')\n",
    "    keystt[i] = attributes[0] + attributes[-1]+\"\\t:\\t\"+str(valuestt[i])\n",
    "    print(keystt[i])"
   ]
  }
 ],
 "metadata": {
  "kernelspec": {
   "display_name": "Python 3 (ipykernel)",
   "language": "python",
   "name": "python3"
  },
  "language_info": {
   "codemirror_mode": {
    "name": "ipython",
    "version": 3
   },
   "file_extension": ".py",
   "mimetype": "text/x-python",
   "name": "python",
   "nbconvert_exporter": "python",
   "pygments_lexer": "ipython3",
   "version": "3.11.0"
  }
 },
 "nbformat": 4,
 "nbformat_minor": 5
}
