{
 "cells": [
  {
   "cell_type": "code",
   "execution_count": 1,
   "metadata": {},
   "outputs": [],
   "source": [
    "import os\n",
    "import json\n",
    "import numpy as np\n",
    "import pandas as pd "
   ]
  },
  {
   "cell_type": "code",
   "execution_count": 2,
   "metadata": {},
   "outputs": [],
   "source": [
    "Home = os.getcwd()\n",
    "DataFolder = os.path.join(Home,'Data')\n",
    "\n"
   ]
  },
  {
   "cell_type": "code",
   "execution_count": 3,
   "metadata": {},
   "outputs": [],
   "source": [
    "MyDataFiles = [os.path.join(DataFolder,i) for i in os.listdir(DataFolder) if i.endswith('csv')]\n",
    "lst = []\n",
    "for MyFile in MyDataFiles:\n",
    "    lst.append(pd.read_csv(MyFile))\n",
    "    os.remove(MyFile)\n",
    "df = pd.concat(lst)\n",
    "df_cols = list(df.columns)\n",
    "df = df.drop(columns=[i for i in df_cols if i.startswith('Unnamed:')])\n",
    "df.to_csv(os.path.join(DataFolder,'MyDataSet.csv'))\n"
   ]
  },
  {
   "cell_type": "code",
   "execution_count": 4,
   "metadata": {},
   "outputs": [],
   "source": [
    "from sklearn.model_selection import train_test_split\n",
    "from sklearn.ensemble import RandomForestClassifier,AdaBoostClassifier\n",
    "from sklearn_nature_inspired_algorithms.model_selection import NatureInspiredSearchCV\n",
    "from niapy.algorithms import basic, modified"
   ]
  },
  {
   "cell_type": "code",
   "execution_count": 5,
   "metadata": {},
   "outputs": [],
   "source": [
    "#Specific Value\n",
    "def NIA_BAT():\n",
    "    lst = []\n",
    "    for My_population_size in range(10,51,5):\n",
    "        for My_loudness in np.arange(0.5,1.1,.1):\n",
    "            for My_pulse_rate in np.arange(0.5,1.1,.1):\n",
    "                for My_alpha in np.arange(0.3,My_loudness-0.1,.1):\n",
    "                    for My_gamma in np.arange(0.3,My_pulse_rate-0.1,.1):\n",
    "                        for My_min_frequency in range(1,7,1):\n",
    "                            for My_max_frequency in range(My_min_frequency+1,My_min_frequency+3,1):\n",
    "\n",
    "                                Algo = basic.ba.BatAlgorithm()\n",
    "                                #Vary, for NIA\n",
    "                                Algo.set_parameters(\n",
    "                                    population_size = My_population_size,\n",
    "                                    loudness = My_loudness,\n",
    "                                    pulse_rate = My_pulse_rate,\n",
    "                                    alpha = My_alpha,\n",
    "                                    gamma = My_gamma,\n",
    "                                    min_frequency = My_min_frequency,\n",
    "                                    max_frequency = My_max_frequency\n",
    "                                )\n",
    "                                lst.append(Algo)\n",
    "    return lst\n",
    "    '''default\n",
    "    population_size=20,  range(10,51,5)\n",
    "    loudness=1.0,       np.arange(0.5,1.1,.1)\n",
    "    pulse_rate=1.0,    np.arange(0.5,1.1,.1)\n",
    "    alpha=0.97,         np.arange(0.3,loudness-0.1,.1)\n",
    "    gamma=0.1,          np.arange(0.3,pulse_rate-0.1,.1)\n",
    "    min_frequency=0.0,   range(1,7,1)\n",
    "    max_frequency=2.0,   min_frequency+1, +2\n",
    "    '''\n",
    "    #10*6*6*6*2*5*5"
   ]
  },
  {
   "cell_type": "code",
   "execution_count": 7,
   "metadata": {},
   "outputs": [
    {
     "data": {
      "text/plain": [
       "'default\\n     |  set_parameters(\\n        self, \\n        differential_weight=0.5, \\n        crossover_probability=0.9, \\n        strategy=<function cross_best1 at 0x0000027B012AC790>, \\n        **kwargs)\\n        \\n     |      Set core parameters of HybridBatAlgorithm algorithm.\\n     |      \\n     |      Args:\\n     |          differential_weight (Optional[float]): Differential weight.\\n     |          crossover_probability (Optional[float]): Crossover rate.\\n     |          strategy (Callable): DE Crossover and mutation strategy.\\n'"
      ]
     },
     "execution_count": 7,
     "metadata": {},
     "output_type": "execute_result"
    }
   ],
   "source": [
    "def NIA_HBAT():\n",
    "    Algo = modified.hba.HybridBatAlgorithm()\n",
    "    Algo.set_parameters(\n",
    "        differential_weight=0.7,\n",
    "        crossover_probability=0.8,\n",
    "        strategy = basic.de.cross_rand2\n",
    "    )\n",
    "    return Algo\n",
    "\n",
    "'''default\n",
    "     |  set_parameters(\n",
    "        self, \n",
    "        differential_weight=0.5, \n",
    "        crossover_probability=0.9, \n",
    "        strategy=<function cross_best1 at 0x0000027B012AC790>, \n",
    "        **kwargs)\n",
    "        \n",
    "     |      Set core parameters of HybridBatAlgorithm algorithm.\n",
    "     |      \n",
    "     |      Args:\n",
    "     |          differential_weight (Optional[float]): Differential weight.\n",
    "     |          crossover_probability (Optional[float]): Crossover rate.\n",
    "     |          strategy (Callable): DE Crossover and mutation strategy.\n",
    "''' "
   ]
  },
  {
   "cell_type": "code",
   "execution_count": 9,
   "metadata": {},
   "outputs": [
    {
     "data": {
      "text/plain": [
       "'sklearn default\\n    set_parameters(\\n        alpha=1, \\n        betamin=1, \\n        gamma=2)\\n        NP=population_size\\n'"
      ]
     },
     "execution_count": 9,
     "metadata": {},
     "output_type": "execute_result"
    }
   ],
   "source": [
    "def NIA_FireFly():\n",
    "    lst = []\n",
    "    for population_size in range(10,101,10):#10\n",
    "        for alpha in np.arange(0.10,0.21,0.01):#10\n",
    "            for beta0 in range(10,101,10):#10\n",
    "                for gamma in np.arange(0.05,1.01,0.05):#19\n",
    "                    for theta in np.arange(0.05,1.01,0.05):#19\n",
    "                        Algo = basic.fa.FireflyAlgorithm()\n",
    "                        Algo.set_parameters(population_size=population_size, \n",
    "                        alpha=alpha, \n",
    "                        beta0=beta0, \n",
    "                        gamma=gamma, \n",
    "                        theta=theta\n",
    "                        )\n",
    "                        lst.append(Algo)\n",
    "    return lst \n",
    "\n",
    "def Sklearn_FireFly():\n",
    "    lst = []\n",
    "    for population_size in range(10,101,10):#10\n",
    "        for alpha in np.arange(0.10,0.21,0.01):#10\n",
    "            for beta0 in range(10,101,10):#10\n",
    "                for gamma in np.arange(0.05,1.01,0.05):#19\n",
    "                    Algo = basic.FireflyAlgorithm()\n",
    "                    Algo.set_parameters(NP=population_size, \n",
    "                    alpha=alpha, \n",
    "                    betamin=beta0, \n",
    "                    gamma=gamma, \n",
    "                    )\n",
    "                    lst.append(Algo)\n",
    "    return lst \n",
    "\n",
    "\n",
    "'''Niapy default\n",
    "set_parameters(self, \n",
    "population_size=20, \n",
    "alpha=1, \n",
    "beta0=1, \n",
    "gamma=0.01, \n",
    "theta=0.97, \n",
    "**kwargs)\n",
    " |      Set the parameters of the algorithm.\n",
    " |      \n",
    " |      Args:\n",
    " |          population_size (Optional[int]): Population size.\n",
    " |          alpha (Optional[float]): Randomness strength 0--1 (highly random).\n",
    " |          beta0 (Optional[float]): Attractiveness constant.\n",
    " |          gamma (Optional[float]): Absorption coefficient.\n",
    " |          theta (Optional[float]): Randomness reduction factor.\n",
    "'''\n",
    "'''sklearn default\n",
    "    set_parameters(\n",
    "        alpha=1, \n",
    "        betamin=1, \n",
    "        gamma=2)\n",
    "        NP=population_size\n",
    "''' "
   ]
  },
  {
   "cell_type": "code",
   "execution_count": 10,
   "metadata": {},
   "outputs": [
    {
     "data": {
      "text/plain": [
       "\"default\\nn_estimators=100, \\ncriterion='gini', \\nmax_depth=None, \\nmin_samples_split=2, \\nmin_samples_leaf=1, \\nmin_weight_fraction_leaf=0.0, \\nmax_features='sqrt', \\nmax_leaf_nodes=None, \\nmin_impurity_decrease=0.0, \\nbootstrap=True, \\noob_score=False, \\nn_jobs=None, \\nrandom_state=None, \\nverbose=0, \\nwarm_start=False, \\nclass_weight=None, \\nccp_alpha=0.0, \\nmax_samples=None)\\n\""
      ]
     },
     "execution_count": 10,
     "metadata": {},
     "output_type": "execute_result"
    }
   ],
   "source": [
    "def Define_Model():\n",
    "        model = RandomForestClassifier()\n",
    "        param_grid = {}\n",
    "        return model, param_grid\n",
    "#Range\n",
    "'''default\n",
    "n_estimators=100, \n",
    "criterion='gini', \n",
    "max_depth=None, \n",
    "min_samples_split=2, \n",
    "min_samples_leaf=1, \n",
    "min_weight_fraction_leaf=0.0, \n",
    "max_features='sqrt', \n",
    "max_leaf_nodes=None, \n",
    "min_impurity_decrease=0.0, \n",
    "bootstrap=True, \n",
    "oob_score=False, \n",
    "n_jobs=None, \n",
    "random_state=None, \n",
    "verbose=0, \n",
    "warm_start=False, \n",
    "class_weight=None, \n",
    "ccp_alpha=0.0, \n",
    "max_samples=None)\n",
    "'''\n"
   ]
  },
  {
   "cell_type": "code",
   "execution_count": 18,
   "metadata": {},
   "outputs": [],
   "source": [
    "from sklearn.neural_network import MLPClassifier"
   ]
  },
  {
   "cell_type": "code",
   "execution_count": 19,
   "metadata": {},
   "outputs": [],
   "source": [
    "df_cols = list(df.columns)\n",
    "y = df[df_cols[-1]]\n",
    "X = df[df_cols[:-1]]\n",
    "model = MLPClassifier()\n",
    "param_grid = {}"
   ]
  },
  {
   "cell_type": "code",
   "execution_count": 30,
   "metadata": {},
   "outputs": [
    {
     "data": {
      "text/plain": [
       "0.9110609620378385"
      ]
     },
     "execution_count": 30,
     "metadata": {},
     "output_type": "execute_result"
    }
   ],
   "source": [
    "X_train, X_test, y_train, y_test = train_test_split(X,y)\n",
    "\n",
    "Pure_model = MLPClassifier()\n",
    "Pure_model.fit(X_train,y_train)\n",
    "Pure_model.score(X_test,y_test)"
   ]
  },
  {
   "cell_type": "markdown",
   "metadata": {},
   "source": [
    "RF -> 90.5% to 91.2%\n",
    "BG -> 90.8% to 91.1%\n",
    "MLP > 90.8% to 91.0%"
   ]
  },
  {
   "cell_type": "code",
   "execution_count": 31,
   "metadata": {},
   "outputs": [
    {
     "name": "stdout",
     "output_type": "stream",
     "text": [
      "Fitting at most 1.0 candidates\n",
      "Optimization finished, 1 candidates were fitted\n",
      "0.9093066031578034\n"
     ]
    }
   ],
   "source": [
    "test_fa = NatureInspiredSearchCV(estimator=model, param_grid=param_grid, algorithm='fa')\n",
    "#test_hba = NatureInspiredSearchCV(estimator=RandomForestClassifier(), param_grid={})\n",
    "test_fa.fit(X,y)\n",
    "print(test_fa.best_score_)\n",
    "#print(Algo.get_parameters())"
   ]
  },
  {
   "cell_type": "code",
   "execution_count": 32,
   "metadata": {},
   "outputs": [
    {
     "name": "stdout",
     "output_type": "stream",
     "text": [
      "0.9093066031578034\n"
     ]
    }
   ],
   "source": [
    "print(test_fa.best_score_)\n"
   ]
  },
  {
   "cell_type": "markdown",
   "metadata": {},
   "source": [
    "RF -> 90.92\n",
    "BoostedGradient -> 90.93"
   ]
  },
  {
   "cell_type": "code",
   "execution_count": 33,
   "metadata": {},
   "outputs": [
    {
     "name": "stdout",
     "output_type": "stream",
     "text": [
      "Fitting at most 1.0 candidates\n",
      "Optimization finished, 1 candidates were fitted\n",
      "0.9093066031578034\n"
     ]
    }
   ],
   "source": [
    "Algo = basic.fa.FireflyAlgorithm()\n",
    "test_fa = NatureInspiredSearchCV(estimator=model, param_grid=param_grid, algorithm=Algo)\n",
    "test_fa.fit(X,y)\n",
    "print(test_fa.best_score_)\n"
   ]
  },
  {
   "cell_type": "markdown",
   "metadata": {},
   "source": [
    "RF -> 90.92\n",
    "BG -> 90.93\n",
    "MLP -> 90.93"
   ]
  },
  {
   "cell_type": "code",
   "execution_count": null,
   "metadata": {},
   "outputs": [],
   "source": [
    "def NIA_FireFly():\n",
    "    lst = []\n",
    "    for population_size in range(10,101,10):#10\n",
    "        for alpha in np.arange(0.10,0.21,0.01):#10\n",
    "            for beta0 in range(10,101,10):#10\n",
    "                for gamma in np.arange(0.05,1.01,0.05):#19\n",
    "                    for theta in np.arange(0.05,1.01,0.05):#19\n",
    "                        Algo = basic.fa.FireflyAlgorithm()\n",
    "                        Algo.set_parameters(population_size=population_size, \n",
    "                        alpha=alpha, \n",
    "                        beta0=beta0, \n",
    "                        gamma=gamma, \n",
    "                        theta=theta\n",
    "                        )\n",
    "                        lst.append(Algo)\n",
    "    return lst \n",
    "\n",
    "def Sklearn_FireFly():\n",
    "    lst = []\n",
    "    for population_size in range(10,101,10):#10\n",
    "        for alpha in np.arange(0.10,0.21,0.01):#10\n",
    "            for beta0 in range(10,101,10):#10\n",
    "                for gamma in np.arange(0.05,1.01,0.05):#19\n",
    "                    Algo = basic.FireflyAlgorithm()\n",
    "                    Algo.set_parameters(NP=population_size, \n",
    "                    alpha=alpha, \n",
    "                    betamin=beta0, \n",
    "                    gamma=gamma, \n",
    "                    )\n",
    "                    lst.append(Algo)\n",
    "    return lst \n"
   ]
  },
  {
   "cell_type": "code",
   "execution_count": null,
   "metadata": {},
   "outputs": [],
   "source": [
    "df_cols = list(df.columns)\n",
    "y = df[df_cols[-1]]\n",
    "X = df[df_cols[:-1]]\n",
    "model = RandomForestClassifier()\n",
    "param_grid = {}\n",
    "test_hba, name = NatureInspiredSearchCV(estimator=model, param_grid=param_grid, algorithm='hba'), 'Hybrid Bat Algorithm'\n",
    "#test_hba = NatureInspiredSearchCV(estimator=RandomForestClassifier(), param_grid={})\n",
    "test_hba.fit(X,y)\n",
    "print(test_hba.best_score_)\n",
    "print(Algo.get_parameters())\n"
   ]
  },
  {
   "cell_type": "code",
   "execution_count": null,
   "metadata": {},
   "outputs": [],
   "source": [
    "df_cols = list(df.columns)\n",
    "y = df[df_cols[-1]]\n",
    "X = df[df_cols[:-1]]\n",
    "model, param_grid = Define_Model()\n",
    "\n",
    "Algo = modified.HybridBatAlgorithm()\n",
    "Algo.set_parameters(A=0.9, r=0.1, Qmin=0.0, Qmax=2.0,NP=50)\n",
    "\n",
    "'''\n",
    "(\n",
    "    differential_weight=0.5,\n",
    "    crossover_probability=0.9\n",
    "    #strategy = basic.de.cross_rand2\n",
    ")\n",
    "''' \n",
    "#del Algo \n",
    "#Algo = basic.de.DifferentialEvolution()\n",
    "#Algo = modified.saba.SelfAdaptiveBatAlgorithm()\n",
    "\n",
    "test_hba = NatureInspiredSearchCV(estimator=model, param_grid=param_grid, algorithm='hba')\n",
    "test_hba.fit(X,y)\n",
    "print(test_hba.best_score_)\n",
    "print(Algo.get_parameters())\n"
   ]
  },
  {
   "cell_type": "code",
   "execution_count": null,
   "metadata": {},
   "outputs": [],
   "source": [
    "model, param_grid = Define_Model()\n",
    "Algo_lst = NIA_BAT()\n",
    "print(len(Algo_lst))\n",
    "Best_Score = 0\n",
    "Best_Para = None \n",
    "Bat_Dict = dict()\n",
    "for i in range(len(Algo_lst)):\n",
    "    Curr_Candidate = NatureInspiredSearchCV(estimator=model, param_grid=param_grid, algorithm=Algo_lst[i])\n",
    "    Curr_Candidate.fit(X,y)\n",
    "    Curr_Para = Algo_lst[i].get_parameters()\n",
    "    Curr_Score = Curr_Candidate.best_score_\n",
    "    Bat_Dict[str(Curr_Para)] = Curr_Score\n",
    "    if Curr_Score > Best_Score:\n",
    "        Best_Para = Curr_Para\n",
    "\n",
    "with open('Kids Bat Dict.json','w') as kid:\n",
    "    json.dump(Bat_Dict,kid)\n",
    "\n",
    "print(Best_Score)\n",
    "print(Best_Para)\n"
   ]
  },
  {
   "cell_type": "code",
   "execution_count": null,
   "metadata": {},
   "outputs": [],
   "source": [
    "def Model_try(DataFileName:str,model_val:int):\n",
    "    df = pd.read_csv(DataFileName)\n",
    "    df_cols = list(df.columns)\n",
    "    y = df[df_cols[0]]\n",
    "    X = df[df_cols[1:]]\n",
    "    #X_train, X_test, y_train, y_test = train_test_split(X,y,test_size=0.2,shuffle=False,random_state=1412)\n",
    "    model, NIA_Name = Select_NIS_model(model_val)\n",
    "    model.fit(X,y)\n",
    "    print(f'For {NIA_Name} we get a score of {model.best_score_}.')\n",
    "    #df = pd.DataFrame(model.cv_results_)\n",
    "\n",
    "    #df.to_csv(f\"{NIA_Name}_results.csv\")\n",
    "    return NIA_Name, model.best_score_\n"
   ]
  },
  {
   "cell_type": "code",
   "execution_count": null,
   "metadata": {},
   "outputs": [],
   "source": [
    "def NIA_Apply(Algo, model, param_grid):\n",
    "        #Fixed\n",
    "    final = NatureInspiredSearchCV(\n",
    "        estimator=model, \n",
    "        algorithm=Algo,\n",
    "        param_grid=param_grid, \n",
    "        max_stagnating_gen=10,\n",
    "        max_n_gen=100\n",
    "        )\n",
    "'''deafult\n",
    "estimator, \n",
    "param_grid, \n",
    "algorithm='hba', \n",
    "population_size=50, \n",
    "max_n_gen=100, \n",
    "runs=3,\n",
    "max_stagnating_gen=20, \n",
    "random_state=None, \n",
    "scoring=None, \n",
    "refit=True, \n",
    "verbose=0,\n",
    "pre_dispatch='2*n_jobs', \n",
    "error_score=np.nan, \n",
    "return_train_score=True\n",
    "             '''"
   ]
  },
  {
   "cell_type": "code",
   "execution_count": null,
   "metadata": {},
   "outputs": [],
   "source": [
    "def Algo_Selector(val:int=1):\n",
    "    if val == 1:\n",
    "        print('Bat')\n",
    "    elif val == 2:\n",
    "        print('Hybrid Bat')\n",
    "    elif val == 3:\n",
    "        print('Self Adapting Hybrid Bat')\n",
    "    else:\n",
    "        print('Fire Fly')"
   ]
  },
  {
   "cell_type": "code",
   "execution_count": null,
   "metadata": {},
   "outputs": [],
   "source": [
    "((10*6*6*6)+24+24)"
   ]
  },
  {
   "cell_type": "code",
   "execution_count": null,
   "metadata": {},
   "outputs": [],
   "source": [
    "def Model_try(DataFileName:str,model_val:int):\n",
    "    df = pd.read_csv(DataFileName)\n",
    "    df_cols = list(df.columns)\n",
    "    y = df[df_cols[0]]\n",
    "    X = df[df_cols[1:]]\n",
    "    #X_train, X_test, y_train, y_test = train_test_split(X,y,test_size=0.2,shuffle=False,random_state=1412)\n",
    "    model, NIA_Name = Select_NIS_model(model_val)\n",
    "    model.fit(X,y)\n",
    "    print(f'For {NIA_Name} we get a score of {model.best_score_}.')\n",
    "    #df = pd.DataFrame(model.cv_results_)\n",
    "\n",
    "    #df.to_csv(f\"{NIA_Name}_results.csv\")\n",
    "    return NIA_Name, model.best_score_\n"
   ]
  },
  {
   "cell_type": "code",
   "execution_count": null,
   "metadata": {},
   "outputs": [],
   "source": [
    "MyDict = dict()\n",
    "My_prev_idx = 0\n",
    "for M_type in range(5):\n",
    "    print(M_type)\n",
    "    for Para in range(50,501,50):\n",
    "        print(Para)\n",
    "        start_time = dt.now()\n",
    "        Name, Score = Model_try(DataFile,M_type,Para)\n",
    "        end_time = dt.now()\n",
    "        #total,cpu,monitor,disk,base, time_taken, end_idx\n",
    "        total,cpu,monitor,disk,base, time_taken, My_prev_idx = Get_Time_Energy(start_time,end_time,prev_idx=My_prev_idx)\n",
    "        TempDict = {'Total Energy (J)' : total, 'Total CPU  Energy (J)' : cpu, 'Total Monitor Energy (J)' : monitor, 'Total Disk Energy (J)' : disk, 'Base Energy (J)' : base, 'Time (Sec)' : time_taken, 'Score' : Score*100, 'n_estimators' : Para}\n",
    "        if Name in MyDict:\n",
    "            MyDict[Name].append(TempDict)\n",
    "        else:\n",
    "            MyDict[Name] = [TempDict]\n",
    "        with open('Kaito Kids Dairy.json','w') as kid:\n",
    "            json.dump(MyDict,kid)\n"
   ]
  },
  {
   "cell_type": "code",
   "execution_count": null,
   "metadata": {},
   "outputs": [],
   "source": [
    "#Specific Value\n",
    "def NIA_Hybrid_Bat():\n",
    "    Algo = modified.HybridBatAlgorithm()\n",
    "    #Vary, for NIA\n",
    "    Algo.set_parameters(\n",
    "        \n",
    "    )\n",
    "    Algo.set_parameters(\n",
    "        population_size = population_size,\n",
    "        loudness = loudness,\n",
    "        pulse_rate = pulse_rate,\n",
    "        alpha = alpha,\n",
    "        gamma = gamma,\n",
    "        min_frequency = min_frequency,\n",
    "        max_frequency = max_frequency\n",
    "    )\n",
    "    return Algo\n",
    "    '''default\n",
    "    differential_weight=0.5, \n",
    "    crossover_probability=0.9, \n",
    "    strategy=<function cross_best1 at 0x000001B81D4F64C0>\n",
    "    '''\n",
    "    #10*6*6*6 +24+24\n"
   ]
  }
 ],
 "metadata": {
  "kernelspec": {
   "display_name": "Python 3.9.13 64-bit (microsoft store)",
   "language": "python",
   "name": "python3"
  },
  "language_info": {
   "codemirror_mode": {
    "name": "ipython",
    "version": 3
   },
   "file_extension": ".py",
   "mimetype": "text/x-python",
   "name": "python",
   "nbconvert_exporter": "python",
   "pygments_lexer": "ipython3",
   "version": "3.9.13"
  },
  "orig_nbformat": 4,
  "vscode": {
   "interpreter": {
    "hash": "bcac82fb26a6e7c950421e78519edb87e1a5e005e0aec2fc293e679965bb2493"
   }
  }
 },
 "nbformat": 4,
 "nbformat_minor": 2
}
