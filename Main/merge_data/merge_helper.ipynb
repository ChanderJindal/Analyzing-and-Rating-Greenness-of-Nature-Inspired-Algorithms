{
 "cells": [
  {
   "cell_type": "code",
   "execution_count": 1,
   "metadata": {},
   "outputs": [],
   "source": [
    "import os \n",
    "import json \n",
    "from collections import OrderedDict\n"
   ]
  },
  {
   "cell_type": "code",
   "execution_count": 2,
   "metadata": {},
   "outputs": [],
   "source": [
    "Home = os.getcwd()\n",
    "\n",
    "DataFiles = os.path.join(Home,'files')\n",
    "\n",
    "files = [os.path.join(DataFiles,i) for i in os.listdir(DataFiles) if i.endswith('.json')]"
   ]
  },
  {
   "cell_type": "code",
   "execution_count": 3,
   "metadata": {},
   "outputs": [],
   "source": [
    "final_dict = dict()\n",
    "for i in files:\n",
    "    with open(i, \"r\") as read_content:\n",
    "        curr = json.load(read_content)\n",
    "        final_dict.update(curr)\n"
   ]
  },
  {
   "cell_type": "code",
   "execution_count": 4,
   "metadata": {},
   "outputs": [
    {
     "data": {
      "text/plain": [
       "3300"
      ]
     },
     "execution_count": 4,
     "metadata": {},
     "output_type": "execute_result"
    }
   ],
   "source": [
    "len(final_dict)"
   ]
  },
  {
   "cell_type": "code",
   "execution_count": 5,
   "metadata": {},
   "outputs": [],
   "source": [
    "final_dict_sorted = sorted(final_dict.items(), key=lambda x:x[1])\n"
   ]
  },
  {
   "cell_type": "code",
   "execution_count": 6,
   "metadata": {},
   "outputs": [
    {
     "data": {
      "text/plain": [
       "0.9091056668420923"
      ]
     },
     "execution_count": 6,
     "metadata": {},
     "output_type": "execute_result"
    }
   ],
   "source": [
    "final_dict_sorted[0][1]"
   ]
  },
  {
   "cell_type": "code",
   "execution_count": 7,
   "metadata": {},
   "outputs": [
    {
     "data": {
      "text/plain": [
       "0.9092911475059514"
      ]
     },
     "execution_count": 7,
     "metadata": {},
     "output_type": "execute_result"
    }
   ],
   "source": [
    "final_dict_sorted[-1][1]"
   ]
  },
  {
   "cell_type": "code",
   "execution_count": 8,
   "metadata": {},
   "outputs": [],
   "source": [
    "def Consolidate(DataFiles,files):\n",
    "    final_dict = dict()\n",
    "    End_val = 0\n",
    "    for i in files:\n",
    "        curr_val = i.split('-')[-1]\n",
    "        curr_val = curr_val.split('.')[0]\n",
    "        try:\n",
    "            curr_val = int(curr_val)\n",
    "            End_val = max(End_val,curr_val)\n",
    "        except:\n",
    "            pass\n",
    "        with open(i, \"r\") as read_content:\n",
    "            curr = json.load(read_content)\n",
    "            final_dict.update(curr)\n",
    "        os.remove(i)\n",
    "    with open(os.path.join(DataFiles,f'Kids Bat Dict-{End_val}.json'),'w') as kid:\n",
    "        json.dump(final_dict,kid)\n",
    "\n",
    "    return os.path.join(DataFiles,f'Kids Bat Dict-{End_val}.json')\n",
    "\n",
    "\n"
   ]
  },
  {
   "cell_type": "code",
   "execution_count": 9,
   "metadata": {},
   "outputs": [
    {
     "data": {
      "text/plain": [
       "'c:\\\\Users\\\\chand\\\\Desktop\\\\work_simple\\\\Green-Computing\\\\Main\\\\merge_data\\\\files\\\\Kids Bat Dict-33.json'"
      ]
     },
     "execution_count": 9,
     "metadata": {},
     "output_type": "execute_result"
    }
   ],
   "source": [
    "new_file = Consolidate(DataFiles,files)\n",
    "new_file"
   ]
  }
 ],
 "metadata": {
  "kernelspec": {
   "display_name": "Python 3.9.13 64-bit (microsoft store)",
   "language": "python",
   "name": "python3"
  },
  "language_info": {
   "codemirror_mode": {
    "name": "ipython",
    "version": 3
   },
   "file_extension": ".py",
   "mimetype": "text/x-python",
   "name": "python",
   "nbconvert_exporter": "python",
   "pygments_lexer": "ipython3",
   "version": "3.9.13"
  },
  "orig_nbformat": 4,
  "vscode": {
   "interpreter": {
    "hash": "bcac82fb26a6e7c950421e78519edb87e1a5e005e0aec2fc293e679965bb2493"
   }
  }
 },
 "nbformat": 4,
 "nbformat_minor": 2
}
