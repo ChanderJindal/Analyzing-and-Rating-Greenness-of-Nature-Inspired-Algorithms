{
  "cells": [
    {
      "cell_type": "code",
      "execution_count": 3,
      "metadata": {
        "id": "4cQ_jUDxOgEO"
      },
      "outputs": [],
      "source": [
        "import os\n",
        "import json\n",
        "import numpy as np\n",
        "import pandas as pd "
      ]
    },
    {
      "cell_type": "code",
      "execution_count": 4,
      "metadata": {
        "colab": {
          "base_uri": "https://localhost:8080/"
        },
        "id": "8n-0fBzyOoT0",
        "outputId": "abe15ae9-8d8b-46ae-81f4-0050c9f2b397"
      },
      "outputs": [
        {
          "name": "stdout",
          "output_type": "stream",
          "text": [
            "Mounted at /content/gdrive\n"
          ]
        }
      ],
      "source": [
        "from google.colab import drive\n",
        "drive.mount('/content/gdrive')"
      ]
    },
    {
      "cell_type": "code",
      "execution_count": 5,
      "metadata": {
        "id": "HFjXmXnHOsyN"
      },
      "outputs": [],
      "source": [
        "df = pd.read_csv('/content/gdrive/MyDrive/MyDataSet.csv')\n",
        "df_cols = list(df.columns)\n",
        "df = df.drop(columns=[i for i in df_cols if i.startswith('Unnamed:')])"
      ]
    },
    {
      "cell_type": "code",
      "execution_count": 6,
      "metadata": {
        "colab": {
          "base_uri": "https://localhost:8080/"
        },
        "id": "2MZOHc0TP44v",
        "outputId": "194666e5-9462-4c0f-ec56-dbdf5a54f9da"
      },
      "outputs": [
        {
          "name": "stdout",
          "output_type": "stream",
          "text": [
            "Looking in indexes: https://pypi.org/simple, https://us-python.pkg.dev/colab-wheels/public/simple/\n",
            "Collecting sklearn\n",
            "  Downloading sklearn-0.0.tar.gz (1.1 kB)\n",
            "Requirement already satisfied: scikit-learn in /usr/local/lib/python3.7/dist-packages (from sklearn) (1.0.2)\n",
            "Requirement already satisfied: numpy>=1.14.6 in /usr/local/lib/python3.7/dist-packages (from scikit-learn->sklearn) (1.21.6)\n",
            "Requirement already satisfied: joblib>=0.11 in /usr/local/lib/python3.7/dist-packages (from scikit-learn->sklearn) (1.2.0)\n",
            "Requirement already satisfied: threadpoolctl>=2.0.0 in /usr/local/lib/python3.7/dist-packages (from scikit-learn->sklearn) (3.1.0)\n",
            "Requirement already satisfied: scipy>=1.1.0 in /usr/local/lib/python3.7/dist-packages (from scikit-learn->sklearn) (1.7.3)\n",
            "Building wheels for collected packages: sklearn\n",
            "  Building wheel for sklearn (setup.py) ... \u001b[?25l\u001b[?25hdone\n",
            "  Created wheel for sklearn: filename=sklearn-0.0-py2.py3-none-any.whl size=1310 sha256=72cae5c255d3dbcc992f45f8fb17090fda3e59100aa5b3e27ca678caa2c40053\n",
            "  Stored in directory: /root/.cache/pip/wheels/46/ef/c3/157e41f5ee1372d1be90b09f74f82b10e391eaacca8f22d33e\n",
            "Successfully built sklearn\n",
            "Installing collected packages: sklearn\n",
            "Successfully installed sklearn-0.0\n"
          ]
        }
      ],
      "source": [
        "pip install sklearn"
      ]
    },
    {
      "cell_type": "code",
      "execution_count": 7,
      "metadata": {
        "colab": {
          "base_uri": "https://localhost:8080/"
        },
        "id": "qb0fDXOrPjb3",
        "outputId": "d4525aaf-7e5d-4351-808a-22fc2e6bca8d"
      },
      "outputs": [
        {
          "name": "stdout",
          "output_type": "stream",
          "text": [
            "Looking in indexes: https://pypi.org/simple, https://us-python.pkg.dev/colab-wheels/public/simple/\n",
            "Collecting sklearn_nature_inspired_algorithms\n",
            "  Downloading sklearn_nature_inspired_algorithms-0.7.1-py3-none-any.whl (9.9 kB)\n",
            "Requirement already satisfied: numpy<2.0.0,>=1.18 in /usr/local/lib/python3.7/dist-packages (from sklearn_nature_inspired_algorithms) (1.21.6)\n",
            "Collecting niapy==2.0.0\n",
            "  Downloading niapy-2.0.0-py3-none-any.whl (175 kB)\n",
            "\u001b[K     |████████████████████████████████| 175 kB 9.0 MB/s \n",
            "\u001b[?25hRequirement already satisfied: pandas<2.0.0,>=1.0 in /usr/local/lib/python3.7/dist-packages (from sklearn_nature_inspired_algorithms) (1.3.5)\n",
            "Requirement already satisfied: toml<1.0.0,>=0.9 in /usr/local/lib/python3.7/dist-packages (from sklearn_nature_inspired_algorithms) (0.10.2)\n",
            "Requirement already satisfied: matplotlib<4.0.0,>=3.2 in /usr/local/lib/python3.7/dist-packages (from sklearn_nature_inspired_algorithms) (3.2.2)\n",
            "Collecting scikit-learn<1.0.0,>=0.22\n",
            "  Downloading scikit_learn-0.24.2-cp37-cp37m-manylinux2010_x86_64.whl (22.3 MB)\n",
            "\u001b[K     |████████████████████████████████| 22.3 MB 1.4 MB/s \n",
            "\u001b[?25hRequirement already satisfied: seaborn<1.0.0,>=0.10 in /usr/local/lib/python3.7/dist-packages (from sklearn_nature_inspired_algorithms) (0.11.2)\n",
            "Requirement already satisfied: openpyxl>=3.0.3 in /usr/local/lib/python3.7/dist-packages (from niapy==2.0.0->sklearn_nature_inspired_algorithms) (3.0.10)\n",
            "Requirement already satisfied: python-dateutil>=2.1 in /usr/local/lib/python3.7/dist-packages (from matplotlib<4.0.0,>=3.2->sklearn_nature_inspired_algorithms) (2.8.2)\n",
            "Requirement already satisfied: pyparsing!=2.0.4,!=2.1.2,!=2.1.6,>=2.0.1 in /usr/local/lib/python3.7/dist-packages (from matplotlib<4.0.0,>=3.2->sklearn_nature_inspired_algorithms) (3.0.9)\n",
            "Requirement already satisfied: kiwisolver>=1.0.1 in /usr/local/lib/python3.7/dist-packages (from matplotlib<4.0.0,>=3.2->sklearn_nature_inspired_algorithms) (1.4.4)\n",
            "Requirement already satisfied: cycler>=0.10 in /usr/local/lib/python3.7/dist-packages (from matplotlib<4.0.0,>=3.2->sklearn_nature_inspired_algorithms) (0.11.0)\n",
            "Requirement already satisfied: typing-extensions in /usr/local/lib/python3.7/dist-packages (from kiwisolver>=1.0.1->matplotlib<4.0.0,>=3.2->sklearn_nature_inspired_algorithms) (4.1.1)\n",
            "Requirement already satisfied: et-xmlfile in /usr/local/lib/python3.7/dist-packages (from openpyxl>=3.0.3->niapy==2.0.0->sklearn_nature_inspired_algorithms) (1.1.0)\n",
            "Requirement already satisfied: pytz>=2017.3 in /usr/local/lib/python3.7/dist-packages (from pandas<2.0.0,>=1.0->sklearn_nature_inspired_algorithms) (2022.5)\n",
            "Requirement already satisfied: six>=1.5 in /usr/local/lib/python3.7/dist-packages (from python-dateutil>=2.1->matplotlib<4.0.0,>=3.2->sklearn_nature_inspired_algorithms) (1.15.0)\n",
            "Requirement already satisfied: threadpoolctl>=2.0.0 in /usr/local/lib/python3.7/dist-packages (from scikit-learn<1.0.0,>=0.22->sklearn_nature_inspired_algorithms) (3.1.0)\n",
            "Requirement already satisfied: joblib>=0.11 in /usr/local/lib/python3.7/dist-packages (from scikit-learn<1.0.0,>=0.22->sklearn_nature_inspired_algorithms) (1.2.0)\n",
            "Requirement already satisfied: scipy>=0.19.1 in /usr/local/lib/python3.7/dist-packages (from scikit-learn<1.0.0,>=0.22->sklearn_nature_inspired_algorithms) (1.7.3)\n",
            "Installing collected packages: scikit-learn, niapy, sklearn-nature-inspired-algorithms\n",
            "  Attempting uninstall: scikit-learn\n",
            "    Found existing installation: scikit-learn 1.0.2\n",
            "    Uninstalling scikit-learn-1.0.2:\n",
            "      Successfully uninstalled scikit-learn-1.0.2\n",
            "\u001b[31mERROR: pip's dependency resolver does not currently take into account all the packages that are installed. This behaviour is the source of the following dependency conflicts.\n",
            "yellowbrick 1.5 requires scikit-learn>=1.0.0, but you have scikit-learn 0.24.2 which is incompatible.\u001b[0m\n",
            "Successfully installed niapy-2.0.0 scikit-learn-0.24.2 sklearn-nature-inspired-algorithms-0.7.1\n"
          ]
        }
      ],
      "source": [
        "pip install sklearn_nature_inspired_algorithms"
      ]
    },
    {
      "cell_type": "code",
      "execution_count": 8,
      "metadata": {
        "id": "_H7bk6d3PTxN"
      },
      "outputs": [],
      "source": [
        "from sklearn.model_selection import train_test_split\n",
        "from sklearn.ensemble import RandomForestClassifier\n",
        "\n",
        "from sklearn_nature_inspired_algorithms.model_selection import NatureInspiredSearchCV\n",
        "from niapy.algorithms import basic, modified"
      ]
    },
    {
      "cell_type": "code",
      "execution_count": 9,
      "metadata": {
        "id": "P-LDOQ7bPm9i"
      },
      "outputs": [],
      "source": [
        "#Specific Value\n",
        "def NIA_BAT():\n",
        "    lst = []\n",
        "    for My_population_size in range(10,51,5):\n",
        "        for My_loudness in np.arange(0.5,1.1,.1):\n",
        "            for My_pulse_rate in np.arange(0.5,1.1,.1):\n",
        "                for My_alpha in np.arange(0.3,My_loudness-0.1,.1):\n",
        "                    for My_gamma in np.arange(0.3,My_pulse_rate-0.1,.1):\n",
        "                        for My_min_frequency in range(1,7,1):\n",
        "                            for My_max_frequency in range(My_min_frequency+1,My_min_frequency+3,1):\n",
        "\n",
        "                                Algo = basic.ba.BatAlgorithm()\n",
        "                                #Vary, for NIA\n",
        "                                Algo.set_parameters(\n",
        "                                    population_size = My_population_size,\n",
        "                                    loudness = My_loudness,\n",
        "                                    pulse_rate = My_pulse_rate,\n",
        "                                    alpha = My_alpha,\n",
        "                                    gamma = My_gamma,\n",
        "                                    min_frequency = My_min_frequency,\n",
        "                                    max_frequency = My_max_frequency\n",
        "                                )\n",
        "                                lst.append(Algo)\n",
        "    return lst\n",
        "    '''default\n",
        "    population_size=20,  range(10,51,5)\n",
        "    loudness=1.0,       np.arange(0.5,1.1,.1)\n",
        "    pulse_rate=1.0,    np.arange(0.5,1.1,.1)\n",
        "    alpha=0.97,         np.arange(0.3,loudness-0.1,.1)\n",
        "    gamma=0.1,          np.arange(0.3,pulse_rate-0.1,.1)\n",
        "    min_frequency=0.0,   range(1,7,1)\n",
        "    max_frequency=2.0,   min_frequency+1, +2\n",
        "    '''\n",
        "    #10*6*6*6*2*5*5"
      ]
    },
    {
      "cell_type": "code",
      "execution_count": 10,
      "metadata": {
        "colab": {
          "base_uri": "https://localhost:8080/",
          "height": 72
        },
        "id": "OHDvVteQPspK",
        "outputId": "54760ec8-a692-4b36-a61c-6d40272cd447"
      },
      "outputs": [
        {
          "data": {
            "application/vnd.google.colaboratory.intrinsic+json": {
              "type": "string"
            },
            "text/plain": [
              "\"default\\nn_estimators=100, \\ncriterion='gini', \\nmax_depth=None, \\nmin_samples_split=2, \\nmin_samples_leaf=1, \\nmin_weight_fraction_leaf=0.0, \\nmax_features='sqrt', \\nmax_leaf_nodes=None, \\nmin_impurity_decrease=0.0, \\nbootstrap=True, \\noob_score=False, \\nn_jobs=None, \\nrandom_state=None, \\nverbose=0, \\nwarm_start=False, \\nclass_weight=None, \\nccp_alpha=0.0, \\nmax_samples=None)\\n\""
            ]
          },
          "execution_count": 10,
          "metadata": {},
          "output_type": "execute_result"
        }
      ],
      "source": [
        "def Define_Model():\n",
        "        model = RandomForestClassifier()\n",
        "        param_grid = {}\n",
        "        return model, param_grid\n",
        "#Range\n",
        "'''default\n",
        "n_estimators=100, \n",
        "criterion='gini', \n",
        "max_depth=None, \n",
        "min_samples_split=2, \n",
        "min_samples_leaf=1, \n",
        "min_weight_fraction_leaf=0.0, \n",
        "max_features='sqrt', \n",
        "max_leaf_nodes=None, \n",
        "min_impurity_decrease=0.0, \n",
        "bootstrap=True, \n",
        "oob_score=False, \n",
        "n_jobs=None, \n",
        "random_state=None, \n",
        "verbose=0, \n",
        "warm_start=False, \n",
        "class_weight=None, \n",
        "ccp_alpha=0.0, \n",
        "max_samples=None)\n",
        "'''\n"
      ]
    },
    {
      "cell_type": "code",
      "execution_count": 11,
      "metadata": {
        "id": "6uR2rVhQPuLZ"
      },
      "outputs": [],
      "source": [
        "df_cols = list(df.columns)\n",
        "y = df[df_cols[-1]]\n",
        "X = df[df_cols[:-1]]\n"
      ]
    },
    {
      "cell_type": "code",
      "execution_count": 12,
      "metadata": {
        "id": "E5XEXQJqQZ2S"
      },
      "outputs": [],
      "source": [
        "def Save_Often(Bat_Dict,Name):\n",
        "  with open(f'/content/gdrive/MyDrive/{Name}','w') as kid:\n",
        "    json.dump(Bat_Dict,kid)"
      ]
    },
    {
      "cell_type": "code",
      "execution_count": 13,
      "metadata": {
        "id": "pMPI67c0Avi4"
      },
      "outputs": [],
      "source": [
        "start_val = 1400"
      ]
    },
    {
      "cell_type": "code",
      "execution_count": null,
      "metadata": {
        "colab": {
          "base_uri": "https://localhost:8080/"
        },
        "id": "QmgSnq0qPvxq",
        "outputId": "47cffb32-3b91-43bf-ca3b-479da74f2f71"
      },
      "outputs": [
        {
          "name": "stdout",
          "output_type": "stream",
          "text": [
            "90828\n",
            "Fitting at most 1.0 candidates\n"
          ]
        }
      ],
      "source": [
        "model, param_grid = Define_Model()\n",
        "Algo_lst = NIA_BAT()\n",
        "print(len(Algo_lst))\n",
        "Best_Score = 0\n",
        "Best_Para = None \n",
        "Bat_Dict = dict()\n",
        "for i in range(start_val,len(Algo_lst)):\n",
        "    if(i%100==0 and i != start_val):\n",
        "      Name = f'Kids Bat Dict-{i/100}.json'\n",
        "      Save_Often(Bat_Dict,Name)\n",
        "      Bat_Dict = dict()\n",
        "    Curr_Candidate = NatureInspiredSearchCV(estimator=model, param_grid=param_grid, algorithm=Algo_lst[i])\n",
        "    Curr_Candidate.fit(X,y)\n",
        "    Curr_Para = Algo_lst[i].get_parameters()\n",
        "    Curr_Score = Curr_Candidate.best_score_\n",
        "    Bat_Dict[str(Curr_Para)] = Curr_Score\n",
        "    if Curr_Score > Best_Score:\n",
        "        Best_Para = Curr_Para\n",
        "\n",
        "print(Best_Score)\n",
        "print(Best_Para)\n"
      ]
    },
    {
      "cell_type": "code",
      "execution_count": null,
      "metadata": {
        "id": "z5dLq7ibP9de"
      },
      "outputs": [],
      "source": [
        "Save_Often(Bat_Dict)"
      ]
    },
    {
      "cell_type": "markdown",
      "metadata": {
        "id": "ZNf3CE0cQG-F"
      },
      "source": [
        "function ClickConnect(){\n",
        "\n",
        "console.log(\"Working\"); \n",
        "document.querySelector(\"#comments > span\").click() \n",
        "}\n",
        "setInterval(ClickConnect,5000)"
      ]
    },
    {
      "cell_type": "code",
      "execution_count": null,
      "metadata": {},
      "outputs": [],
      "source": [
        "link = 'https://www.researchgate.net/publication/300297266_The_bat_algorithm_and_its_parameters'"
      ]
    }
  ],
  "metadata": {
    "colab": {
      "collapsed_sections": [],
      "provenance": []
    },
    "gpuClass": "standard",
    "kernelspec": {
      "display_name": "Python 3.9.13 64-bit (microsoft store)",
      "language": "python",
      "name": "python3"
    },
    "language_info": {
      "name": "python",
      "version": "3.9.13"
    },
    "vscode": {
      "interpreter": {
        "hash": "bcac82fb26a6e7c950421e78519edb87e1a5e005e0aec2fc293e679965bb2493"
      }
    }
  },
  "nbformat": 4,
  "nbformat_minor": 0
}
