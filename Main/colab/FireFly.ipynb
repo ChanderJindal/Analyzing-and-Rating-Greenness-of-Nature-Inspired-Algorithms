{
 "cells": [
  {
   "cell_type": "code",
   "execution_count": 26,
   "metadata": {},
   "outputs": [],
   "source": [
    "import os\n",
    "import json\n",
    "import numpy as np\n",
    "import pandas as pd "
   ]
  },
  {
   "cell_type": "code",
   "execution_count": null,
   "metadata": {},
   "outputs": [],
   "source": [
    "from google.colab import drive\n",
    "drive.mount('/content/gdrive')"
   ]
  },
  {
   "cell_type": "code",
   "execution_count": null,
   "metadata": {},
   "outputs": [],
   "source": [
    "df = pd.read_csv('/content/gdrive/MyDrive/MyDataSet.csv')\n",
    "df_cols = list(df.columns)\n",
    "df = df.drop(columns=[i for i in df_cols if i.startswith('Unnamed:')])"
   ]
  },
  {
   "cell_type": "code",
   "execution_count": null,
   "metadata": {},
   "outputs": [],
   "source": [
    "pip install sklearn"
   ]
  },
  {
   "cell_type": "code",
   "execution_count": null,
   "metadata": {},
   "outputs": [],
   "source": [
    "pip install sklearn_nature_inspired_algorithms"
   ]
  },
  {
   "cell_type": "code",
   "execution_count": 29,
   "metadata": {},
   "outputs": [],
   "source": [
    "from sklearn.model_selection import train_test_split\n",
    "from sklearn.ensemble import RandomForestClassifier\n",
    "\n",
    "from sklearn_nature_inspired_algorithms.model_selection import NatureInspiredSearchCV\n",
    "from niapy.algorithms import basic, modified"
   ]
  },
  {
   "cell_type": "code",
   "execution_count": 30,
   "metadata": {},
   "outputs": [
    {
     "data": {
      "text/plain": [
       "'sklearn default\\n    set_parameters(\\n        alpha=1, \\n        betamin=1, \\n        gamma=2)\\n        NP=population_size\\n'"
      ]
     },
     "execution_count": 30,
     "metadata": {},
     "output_type": "execute_result"
    }
   ],
   "source": [
    "def NIA_FireFly():\n",
    "    lst = []\n",
    "    for population_size in range(10,101,10):#10\n",
    "        for alpha in np.arange(0.10,0.21,0.01):#10\n",
    "            for beta0 in range(10,101,10):#10\n",
    "                for gamma in np.arange(0.05,1.01,0.05):#19\n",
    "                    for theta in np.arange(0.05,1.01,0.05):#19\n",
    "                        Algo = basic.fa.FireflyAlgorithm()\n",
    "                        Algo.set_parameters(population_size=population_size, \n",
    "                        alpha=alpha, \n",
    "                        beta0=beta0, \n",
    "                        gamma=gamma, \n",
    "                        theta=theta\n",
    "                        )\n",
    "                        lst.append(Algo)\n",
    "    return lst \n",
    "\n",
    "def Sklearn_FireFly():\n",
    "    lst = []\n",
    "    for population_size in range(10,101,10):#10\n",
    "        for alpha in np.arange(0.10,0.21,0.01):#10\n",
    "            for beta0 in range(10,101,10):#10\n",
    "                for gamma in np.arange(0.05,1.01,0.05):#19\n",
    "                    Algo = basic.FireflyAlgorithm()\n",
    "                    Algo.set_parameters(NP=population_size, \n",
    "                    alpha=alpha, \n",
    "                    betamin=beta0, \n",
    "                    gamma=gamma, \n",
    "                    )\n",
    "                    lst.append(Algo)\n",
    "    return lst \n",
    "\n",
    "\n",
    "'''Niapy default\n",
    "set_parameters(self, \n",
    "population_size=20, \n",
    "alpha=1, \n",
    "beta0=1, \n",
    "gamma=0.01, \n",
    "theta=0.97, \n",
    "**kwargs)\n",
    " |      Set the parameters of the algorithm.\n",
    " |      \n",
    " |      Args:\n",
    " |          population_size (Optional[int]): Population size.\n",
    " |          alpha (Optional[float]): Randomness strength 0--1 (highly random).\n",
    " |          beta0 (Optional[float]): Attractiveness constant.\n",
    " |          gamma (Optional[float]): Absorption coefficient.\n",
    " |          theta (Optional[float]): Randomness reduction factor.\n",
    "'''\n",
    "'''sklearn default\n",
    "    set_parameters(\n",
    "        alpha=1, \n",
    "        betamin=1, \n",
    "        gamma=2)\n",
    "        NP=population_size\n",
    "''' "
   ]
  },
  {
   "cell_type": "code",
   "execution_count": 31,
   "metadata": {},
   "outputs": [
    {
     "data": {
      "text/plain": [
       "\"default\\nn_estimators=100, \\ncriterion='gini', \\nmax_depth=None, \\nmin_samples_split=2, \\nmin_samples_leaf=1, \\nmin_weight_fraction_leaf=0.0, \\nmax_features='sqrt', \\nmax_leaf_nodes=None, \\nmin_impurity_decrease=0.0, \\nbootstrap=True, \\noob_score=False, \\nn_jobs=None, \\nrandom_state=None, \\nverbose=0, \\nwarm_start=False, \\nclass_weight=None, \\nccp_alpha=0.0, \\nmax_samples=None)\\n\""
      ]
     },
     "execution_count": 31,
     "metadata": {},
     "output_type": "execute_result"
    }
   ],
   "source": [
    "def Define_Model():\n",
    "        model = RandomForestClassifier()\n",
    "        param_grid = {}\n",
    "        return model, param_grid\n",
    "#Range\n",
    "'''default\n",
    "n_estimators=100, \n",
    "criterion='gini', \n",
    "max_depth=None, \n",
    "min_samples_split=2, \n",
    "min_samples_leaf=1, \n",
    "min_weight_fraction_leaf=0.0, \n",
    "max_features='sqrt', \n",
    "max_leaf_nodes=None, \n",
    "min_impurity_decrease=0.0, \n",
    "bootstrap=True, \n",
    "oob_score=False, \n",
    "n_jobs=None, \n",
    "random_state=None, \n",
    "verbose=0, \n",
    "warm_start=False, \n",
    "class_weight=None, \n",
    "ccp_alpha=0.0, \n",
    "max_samples=None)\n",
    "'''\n"
   ]
  },
  {
   "cell_type": "code",
   "execution_count": 32,
   "metadata": {},
   "outputs": [],
   "source": [
    "df_cols = list(df.columns)\n",
    "y = df[df_cols[-1]]\n",
    "X = df[df_cols[:-1]]\n"
   ]
  },
  {
   "cell_type": "code",
   "execution_count": null,
   "metadata": {},
   "outputs": [],
   "source": [
    "def NIA_FireFly():\n",
    "    lst = []\n",
    "    for population_size in range(10,101,10):#10\n",
    "        for alpha in np.arange(0.10,0.21,0.01):#10\n",
    "            for beta0 in range(10,101,10):#10\n",
    "                for gamma in np.arange(0.05,1.01,0.05):#19\n",
    "                    for theta in np.arange(0.05,1.01,0.05):#19\n",
    "                        Algo = basic.fa.FireflyAlgorithm()\n",
    "                        Algo.set_parameters(population_size=population_size, \n",
    "                        alpha=alpha, \n",
    "                        beta0=beta0, \n",
    "                        gamma=gamma, \n",
    "                        theta=theta\n",
    "                        )\n",
    "                        lst.append(Algo)\n",
    "    return lst \n",
    "    #361k\n",
    "\n",
    "def Sklearn_FireFly():\n",
    "    lst = []\n",
    "    for population_size in range(10,101,10):#10\n",
    "        for alpha in np.arange(0.10,0.21,0.01):#10\n",
    "            for beta0 in range(10,101,10):#10\n",
    "                for gamma in np.arange(0.05,1.01,0.05):#19\n",
    "                    Algo = basic.FireflyAlgorithm()\n",
    "                    Algo.set_parameters(NP=population_size, \n",
    "                    alpha=alpha, \n",
    "                    betamin=beta0, \n",
    "                    gamma=gamma, \n",
    "                    )\n",
    "                    lst.append(Algo)\n",
    "    return lst \n",
    "    #19k\n"
   ]
  },
  {
   "cell_type": "code",
   "execution_count": null,
   "metadata": {},
   "outputs": [],
   "source": [
    "def Save_Often(Bat_Dict,Name):\n",
    "  with open(f'/content/gdrive/MyDrive/{Name}','w') as kid:\n",
    "    json.dump(Bat_Dict,kid)"
   ]
  },
  {
   "cell_type": "code",
   "execution_count": null,
   "metadata": {},
   "outputs": [],
   "source": [
    "start_val = 0"
   ]
  },
  {
   "cell_type": "code",
   "execution_count": null,
   "metadata": {},
   "outputs": [],
   "source": [
    "model, param_grid = Define_Model()\n",
    "Algo_lst = Sklearn_FireFly()\n",
    "print(len(Algo_lst))\n",
    "Best_Score = 0\n",
    "Best_Para = None \n",
    "Bat_Dict = dict()\n",
    "for i in range(start_val,len(Algo_lst)):\n",
    "    if(i%100==0 and i != start_val):\n",
    "      Name = f'Kids Fire Fly Dict-{i/100}.json'\n",
    "      Save_Often(Bat_Dict,Name)\n",
    "      Bat_Dict = dict()\n",
    "    Curr_Candidate = NatureInspiredSearchCV(estimator=model, param_grid=param_grid, algorithm=Algo_lst[i])\n",
    "    Curr_Candidate.fit(X,y)\n",
    "    Curr_Para = Algo_lst[i].get_parameters()\n",
    "    Curr_Score = Curr_Candidate.best_score_\n",
    "    Bat_Dict[str(Curr_Para)] = Curr_Score\n",
    "    if Curr_Score > Best_Score:\n",
    "        Best_Para = Curr_Para\n",
    "\n",
    "print(Best_Score)\n",
    "print(Best_Para)\n"
   ]
  },
  {
   "cell_type": "code",
   "execution_count": 37,
   "metadata": {},
   "outputs": [
    {
     "data": {
      "text/plain": [
       "(665000, 11083.333333333334, 184.72222222222223, 7.6967592592592595)"
      ]
     },
     "execution_count": 37,
     "metadata": {},
     "output_type": "execute_result"
    }
   ],
   "source": [
    "10*10*10*19*35 , (10*10*10*19*35)/60, (10*10*10*19*35)/3600, (10*10*10*19*35)/(3600*24)"
   ]
  },
  {
   "cell_type": "markdown",
   "metadata": {},
   "source": [
    "Basement Don't go down!!"
   ]
  },
  {
   "cell_type": "markdown",
   "metadata": {},
   "source": []
  },
  {
   "cell_type": "markdown",
   "metadata": {},
   "source": []
  },
  {
   "cell_type": "code",
   "execution_count": 33,
   "metadata": {},
   "outputs": [
    {
     "data": {
      "text/plain": [
       "'\\nX_train, X_test, y_train, y_test = train_test_split(X,y)\\nPure_model = RandomForestClassifier()\\nPure_model.fit(X_train,y_train)\\nPure_model.score(X_test,y_test)\\n'"
      ]
     },
     "execution_count": 33,
     "metadata": {},
     "output_type": "execute_result"
    }
   ],
   "source": [
    "'''\n",
    "X_train, X_test, y_train, y_test = train_test_split(X,y)\n",
    "Pure_model = RandomForestClassifier()\n",
    "Pure_model.fit(X_train,y_train)\n",
    "Pure_model.score(X_test,y_test)\n",
    "'''"
   ]
  },
  {
   "cell_type": "markdown",
   "metadata": {},
   "source": [
    "Basic Random Forest Classifier"
   ]
  },
  {
   "cell_type": "markdown",
   "metadata": {},
   "source": [
    "90.5% to 91.2%"
   ]
  },
  {
   "cell_type": "code",
   "execution_count": 34,
   "metadata": {},
   "outputs": [
    {
     "data": {
      "text/plain": [
       "\"\\nmodel = RandomForestClassifier()\\nparam_grid = {}\\ntest_fa = NatureInspiredSearchCV(estimator=model, param_grid=param_grid, algorithm='fa')\\ntest_fa.fit(X,y)\\nprint(test_fa.best_score_)\\n\""
      ]
     },
     "execution_count": 34,
     "metadata": {},
     "output_type": "execute_result"
    }
   ],
   "source": [
    "'''\n",
    "model = RandomForestClassifier()\n",
    "param_grid = {}\n",
    "test_fa = NatureInspiredSearchCV(estimator=model, param_grid=param_grid, algorithm='fa')\n",
    "test_fa.fit(X,y)\n",
    "print(test_fa.best_score_)\n",
    "'''"
   ]
  },
  {
   "cell_type": "markdown",
   "metadata": {},
   "source": [
    "Basic sklearn NIA FireFly "
   ]
  },
  {
   "cell_type": "markdown",
   "metadata": {},
   "source": [
    "90.9%"
   ]
  },
  {
   "cell_type": "code",
   "execution_count": 35,
   "metadata": {},
   "outputs": [
    {
     "data": {
      "text/plain": [
       "'\\nAlgo = basic.fa.FireflyAlgorithm()\\ntest_fa = NatureInspiredSearchCV(estimator=model, param_grid=param_grid, algorithm=Algo)\\ntest_fa.fit(X,y)\\nprint(test_fa.best_score_)\\n'"
      ]
     },
     "execution_count": 35,
     "metadata": {},
     "output_type": "execute_result"
    }
   ],
   "source": [
    "'''\n",
    "Algo = basic.fa.FireflyAlgorithm()\n",
    "test_fa = NatureInspiredSearchCV(estimator=model, param_grid=param_grid, algorithm=Algo)\n",
    "test_fa.fit(X,y)\n",
    "print(test_fa.best_score_)\n",
    "'''"
   ]
  },
  {
   "cell_type": "markdown",
   "metadata": {},
   "source": [
    "NIA Fire Fly used"
   ]
  },
  {
   "cell_type": "markdown",
   "metadata": {},
   "source": [
    "90.9%"
   ]
  },
  {
   "cell_type": "markdown",
   "metadata": {},
   "source": [
    "35sec"
   ]
  },
  {
   "cell_type": "code",
   "execution_count": null,
   "metadata": {},
   "outputs": [],
   "source": [
    "Link = 'https://sci-hub.se/10.1109/ICDMA.2013.210'"
   ]
  }
 ],
 "metadata": {
  "kernelspec": {
   "display_name": "Python 3.9.13 64-bit (microsoft store)",
   "language": "python",
   "name": "python3"
  },
  "language_info": {
   "codemirror_mode": {
    "name": "ipython",
    "version": 3
   },
   "file_extension": ".py",
   "mimetype": "text/x-python",
   "name": "python",
   "nbconvert_exporter": "python",
   "pygments_lexer": "ipython3",
   "version": "3.9.13"
  },
  "orig_nbformat": 4,
  "vscode": {
   "interpreter": {
    "hash": "bcac82fb26a6e7c950421e78519edb87e1a5e005e0aec2fc293e679965bb2493"
   }
  }
 },
 "nbformat": 4,
 "nbformat_minor": 2
}
