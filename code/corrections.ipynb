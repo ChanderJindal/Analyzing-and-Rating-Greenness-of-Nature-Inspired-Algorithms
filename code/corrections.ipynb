{
 "cells": [
  {
   "cell_type": "code",
   "execution_count": null,
   "metadata": {},
   "outputs": [],
   "source": [
    "import os \n",
    "import pandas as pd\n",
    "from matplotlib import pyplot as plt "
   ]
  },
  {
   "cell_type": "code",
   "execution_count": null,
   "metadata": {},
   "outputs": [],
   "source": [
    "Home = os.getcwd()\n",
    "Main = os.path.join(Home,'Main_Result')\n",
    "Supp = os.path.join(Home,'Supplementary_Result')"
   ]
  },
  {
   "cell_type": "code",
   "execution_count": null,
   "metadata": {},
   "outputs": [],
   "source": [
    "Main_files = [os.path.join(Main,i) for i in os.listdir(Main)]"
   ]
  },
  {
   "cell_type": "code",
   "execution_count": null,
   "metadata": {},
   "outputs": [],
   "source": [
    "df = pd.read_csv(Main_files[3])\n",
    "Main_files[3]"
   ]
  },
  {
   "cell_type": "code",
   "execution_count": null,
   "metadata": {},
   "outputs": [],
   "source": [
    "df"
   ]
  },
  {
   "cell_type": "code",
   "execution_count": null,
   "metadata": {},
   "outputs": [],
   "source": [
    "for curr_file in Main_files:\n",
    "    df = pd.read_csv(curr_file)\n",
    "    df_cols = [i for i in df.columns if not i.startswith('Unnamed')]\n",
    "    #print(curr_file)\n",
    "    #print(df_cols)\n",
    "    if df['Accuracy'][0] < 1:\n",
    "        df['Accuracy'] *= 100\n",
    "    new_df = pd.DataFrame()\n",
    "    for col_name in df_cols:\n",
    "        new_df[col_name] = df[col_name]\n",
    "    new_df.to_csv(curr_file)\n"
   ]
  },
  {
   "cell_type": "code",
   "execution_count": null,
   "metadata": {},
   "outputs": [],
   "source": [
    "Supp_files = [os.path.join(Supp,i) for i in os.listdir(Supp)]\n",
    "Supp_files"
   ]
  },
  {
   "cell_type": "code",
   "execution_count": null,
   "metadata": {},
   "outputs": [],
   "source": [
    "temp = [ os.path.join(Home,i) for i in os.listdir(Home) if i.endswith('.svg')]\n",
    "for i in temp:\n",
    "    os.remove(i) \n"
   ]
  },
  {
   "cell_type": "code",
   "execution_count": null,
   "metadata": {},
   "outputs": [],
   "source": [
    "graphs = [i for i in Supp_files if i.endswith('.svg')]\n",
    "print('graphs')\n",
    "for i in graphs:\n",
    "    os.remove\n",
    "for curr_file in os.listdir(Main):\n",
    "    if curr_file == 'Base.csv':\n",
    "        print('Just passed Base')\n",
    "        continue\n",
    "    df = pd.read_csv(os.path.join(Main,curr_file))\n",
    "    Acc = df['Accuracy']\n",
    "    plt.close()\n",
    "    plt.plot(range(len(Acc)),Acc,'-o')\n",
    "    plt.grid(True)\n",
    "    plt.xlabel(\"Iteration Number\")\n",
    "    plt.ylabel(\"Accuracy\")\n",
    "    plt.title(curr_file.split('.')[0])\n",
    "    plt.savefig(os.path.join(Supp,f\"{curr_file.split('.')[0]}_Iterations.svg\"), format='SVG')"
   ]
  }
 ],
 "metadata": {
  "kernelspec": {
   "display_name": "Python 3.9.13 64-bit (microsoft store)",
   "language": "python",
   "name": "python3"
  },
  "language_info": {
   "codemirror_mode": {
    "name": "ipython",
    "version": 3
   },
   "file_extension": ".py",
   "mimetype": "text/x-python",
   "name": "python",
   "nbconvert_exporter": "python",
   "pygments_lexer": "ipython3",
   "version": "3.9.13 (tags/v3.9.13:6de2ca5, May 17 2022, 16:36:42) [MSC v.1929 64 bit (AMD64)]"
  },
  "orig_nbformat": 4,
  "vscode": {
   "interpreter": {
    "hash": "bcac82fb26a6e7c950421e78519edb87e1a5e005e0aec2fc293e679965bb2493"
   }
  }
 },
 "nbformat": 4,
 "nbformat_minor": 2
}
