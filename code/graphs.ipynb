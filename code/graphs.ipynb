{
 "cells": [
  {
   "cell_type": "code",
   "execution_count": 24,
   "metadata": {},
   "outputs": [],
   "source": [
    "import os \n",
    "import json \n",
    "import numpy as np\n",
    "import pandas as pd "
   ]
  },
  {
   "cell_type": "code",
   "execution_count": 25,
   "metadata": {},
   "outputs": [
    {
     "name": "stdout",
     "output_type": "stream",
     "text": [
      "Graph Folder Already there\n",
      "Top vals graph already there\n",
      "Aggregated Average is already there\n"
     ]
    }
   ],
   "source": [
    "Home = os.getcwd()\n",
    "Graphs_Folder = os.path.join(Home,'Graph')\n",
    "\n",
    "try:\n",
    "    os.mkdir(Graphs_Folder)\n",
    "except:\n",
    "    print('Graph Folder Already there')\n",
    "\n",
    "Top_folder = os.path.join(Home,'Top Vals')\n",
    "Top_folder_prefix = '_peak_values.csv'\n",
    "try:\n",
    "    os.mkdir(Top_folder)\n",
    "except:\n",
    "    print('Top vals graph already there')\n",
    "\n",
    "AA_folder = os.path.join(Home,'Aggregated Average')\n",
    "\n",
    "try:\n",
    "    os.mkdir(AA_folder)\n",
    "except:\n",
    "    print('Aggregated Average is already there')\n",
    "    \n",
    "main = os.path.join(Home,'Main_Result')\n",
    "main_files = [ os.path.join(main,i) for i in os.listdir(main) if i != 'Base.csv' and i != 'Avg.csv'  and i.endswith('.csv')]\n",
    "\n",
    "supp = os.path.join(Home,'Supplementary_Result')"
   ]
  },
  {
   "cell_type": "code",
   "execution_count": 26,
   "metadata": {},
   "outputs": [],
   "source": [
    "def Supp_Itr(name):\n",
    "    return os.path.join(supp,f'{name}_Iterations.svg')\n",
    "\n",
    "def Supp_para(name):\n",
    "    return os.path.join(supp,f'{name}_Parameter.csv')\n",
    "\n",
    "def Supp_eng(name):\n",
    "    return os.path.join(supp,f'{name}_Energy_Distribution.csv')"
   ]
  },
  {
   "cell_type": "code",
   "execution_count": 27,
   "metadata": {},
   "outputs": [],
   "source": [
    "def Find_val_eng(name,keys):\n",
    "    eng_file = Supp_eng(name=name)\n",
    "    df = pd.read_csv(eng_file,index_col=[0])\n",
    "    #print(df.columns)\n",
    "    #print(keys)\n",
    "    index_lst = [ int(i[4:]) for i in keys]\n",
    "    #print(index_lst)\n",
    "    new_df = pd.DataFrame(columns=df.columns)\n",
    "    print(new_df.columns)\n",
    "    for i in index_lst:\n",
    "        new_df.loc[len(new_df)] = df.loc[i]\n",
    "        # 'Time Taken(s)', 'Total Energy(J)',\n",
    "        new_df['Power Consumption (w)'] = new_df['Total Energy(J)']/new_df['Time Taken(s)']\n",
    "        #mean_total_eng = np.mean(new_df['Total Energy(J)'])\n",
    "    return new_df"
   ]
  },
  {
   "cell_type": "code",
   "execution_count": 28,
   "metadata": {},
   "outputs": [
    {
     "name": "stdout",
     "output_type": "stream",
     "text": [
      "Index(['ID', 'Time Taken(s)', 'Total Energy(J)', 'CPU(J)', 'Monitor(J)',\n",
      "       'Disk(J)', 'Base(J)'],\n",
      "      dtype='object')\n",
      "Index(['ID', 'Time Taken(s)', 'Total Energy(J)', 'CPU(J)', 'Monitor(J)',\n",
      "       'Disk(J)', 'Base(J)'],\n",
      "      dtype='object')\n",
      "Index(['ID', 'Time Taken(s)', 'Total Energy(J)', 'CPU(J)', 'Monitor(J)',\n",
      "       'Disk(J)', 'Base(J)'],\n",
      "      dtype='object')\n",
      "Index(['ID', 'Time Taken(s)', 'Total Energy(J)', 'CPU(J)', 'Monitor(J)',\n",
      "       'Disk(J)', 'Base(J)'],\n",
      "      dtype='object')\n",
      "Index(['ID', 'Time Taken(s)', 'Total Energy(J)', 'CPU(J)', 'Monitor(J)',\n",
      "       'Disk(J)', 'Base(J)'],\n",
      "      dtype='object')\n"
     ]
    }
   ],
   "source": [
    "TOP_vals = 10\n",
    "\n",
    "for curr_file in main_files:\n",
    "    #print(df.columns)\n",
    "    df = pd.read_csv(curr_file,index_col=[0])\n",
    "    df = df.sort_values(by='Energy Used (J)',ascending=True)\n",
    "    df = df.sort_values(by='Accuracy',ascending=False)\n",
    "    df = df[:TOP_vals]\n",
    "\n",
    "    Algo_Name = os.path.basename(curr_file)\n",
    "    Algo_Name = Algo_Name.split('.csv')[0]\n",
    "    df = Find_val_eng(Algo_Name,df['ID'])\n",
    "    df.to_csv(os.path.join(Top_folder,f'{Algo_Name}{Top_folder_prefix}'))"
   ]
  },
  {
   "cell_type": "code",
   "execution_count": 32,
   "metadata": {},
   "outputs": [
    {
     "name": "stdout",
     "output_type": "stream",
     "text": [
      "['Time Taken(s)', 'Total Energy(J)', 'CPU(J)', 'Monitor(J)', 'Disk(J)', 'Base(J)', 'Power Consumption (w)']\n",
      "Empty DataFrame\n",
      "Columns: [Algorithm, Time Taken(s), Total Energy(J), CPU(J), Monitor(J), Disk(J), Base(J), Power Consumption (w)]\n",
      "Index: []\n",
      "['Bat', 239.0, 792.4600000000004, 443.1800000000002, 0.0, 0.01, 358.5, 3.269911858886457]\n",
      "['Camel Algorithm', 242.5, 779.4399999999994, 426.62999999999994, 0.0, 0.09, 363.75, 3.2246734167712687]\n",
      "['Cuckoo Search', 216.8, 700.1099999999997, 384.2900000000006, 0.0, 0.01, 325.2, 3.2315450544535986]\n",
      "['Fire Fly', 261.1, 827.8199999999991, 447.2899999999998, 0.0, 0.0, 391.65, 3.1763434084614555]\n",
      "['Particle Swarm', 96.4, 317.35, 176.88999999999993, 0.0, 0.04, 144.6, 3.2967332623604775]\n"
     ]
    }
   ],
   "source": [
    "top_lst = [ os.path.join(Top_folder,i) for i in os.listdir(Top_folder) if i.endswith(Top_folder_prefix) ]\n",
    "col_lst = [i for i in pd.read_csv(top_lst[0],index_col=[0]).columns if not i.startswith('Unnamed:') and i != 'ID']\n",
    "#print(col_lst)\n",
    "new_df = pd.DataFrame(columns= ['Algorithm'] + col_lst)\n",
    "#print(new_df)\n",
    "for i in top_lst:\n",
    "    df = pd.read_csv(i,index_col=[0])\n",
    "    lst = [os.path.basename(i).split(Top_folder_prefix)[0]] \n",
    "    for i in range(len(col_lst)):\n",
    "        lst.append(np.mean(df[col_lst[i]]))\n",
    "\n",
    "    new_df.loc[len(new_df)] = lst\n",
    "\n",
    "new_df.to_csv(f'{os.path.join(AA_folder, os.path.basename(AA_folder))}.csv')"
   ]
  },
  {
   "cell_type": "code",
   "execution_count": 33,
   "metadata": {},
   "outputs": [
    {
     "data": {
      "text/html": [
       "<div>\n",
       "<style scoped>\n",
       "    .dataframe tbody tr th:only-of-type {\n",
       "        vertical-align: middle;\n",
       "    }\n",
       "\n",
       "    .dataframe tbody tr th {\n",
       "        vertical-align: top;\n",
       "    }\n",
       "\n",
       "    .dataframe thead th {\n",
       "        text-align: right;\n",
       "    }\n",
       "</style>\n",
       "<table border=\"1\" class=\"dataframe\">\n",
       "  <thead>\n",
       "    <tr style=\"text-align: right;\">\n",
       "      <th></th>\n",
       "      <th>Algorithm</th>\n",
       "      <th>Time Taken(s)</th>\n",
       "      <th>Total Energy(J)</th>\n",
       "      <th>CPU(J)</th>\n",
       "      <th>Monitor(J)</th>\n",
       "      <th>Disk(J)</th>\n",
       "      <th>Base(J)</th>\n",
       "      <th>Power Consumption (w)</th>\n",
       "    </tr>\n",
       "  </thead>\n",
       "  <tbody>\n",
       "    <tr>\n",
       "      <th>0</th>\n",
       "      <td>Bat</td>\n",
       "      <td>239.0</td>\n",
       "      <td>792.46</td>\n",
       "      <td>443.18</td>\n",
       "      <td>0.0</td>\n",
       "      <td>0.01</td>\n",
       "      <td>358.50</td>\n",
       "      <td>3.269912</td>\n",
       "    </tr>\n",
       "    <tr>\n",
       "      <th>1</th>\n",
       "      <td>Camel Algorithm</td>\n",
       "      <td>242.5</td>\n",
       "      <td>779.44</td>\n",
       "      <td>426.63</td>\n",
       "      <td>0.0</td>\n",
       "      <td>0.09</td>\n",
       "      <td>363.75</td>\n",
       "      <td>3.224673</td>\n",
       "    </tr>\n",
       "    <tr>\n",
       "      <th>2</th>\n",
       "      <td>Cuckoo Search</td>\n",
       "      <td>216.8</td>\n",
       "      <td>700.11</td>\n",
       "      <td>384.29</td>\n",
       "      <td>0.0</td>\n",
       "      <td>0.01</td>\n",
       "      <td>325.20</td>\n",
       "      <td>3.231545</td>\n",
       "    </tr>\n",
       "    <tr>\n",
       "      <th>3</th>\n",
       "      <td>Fire Fly</td>\n",
       "      <td>261.1</td>\n",
       "      <td>827.82</td>\n",
       "      <td>447.29</td>\n",
       "      <td>0.0</td>\n",
       "      <td>0.00</td>\n",
       "      <td>391.65</td>\n",
       "      <td>3.176343</td>\n",
       "    </tr>\n",
       "    <tr>\n",
       "      <th>4</th>\n",
       "      <td>Particle Swarm</td>\n",
       "      <td>96.4</td>\n",
       "      <td>317.35</td>\n",
       "      <td>176.89</td>\n",
       "      <td>0.0</td>\n",
       "      <td>0.04</td>\n",
       "      <td>144.60</td>\n",
       "      <td>3.296733</td>\n",
       "    </tr>\n",
       "  </tbody>\n",
       "</table>\n",
       "</div>"
      ],
      "text/plain": [
       "         Algorithm  Time Taken(s)  Total Energy(J)  CPU(J)  Monitor(J)  \\\n",
       "0              Bat          239.0           792.46  443.18         0.0   \n",
       "1  Camel Algorithm          242.5           779.44  426.63         0.0   \n",
       "2    Cuckoo Search          216.8           700.11  384.29         0.0   \n",
       "3         Fire Fly          261.1           827.82  447.29         0.0   \n",
       "4   Particle Swarm           96.4           317.35  176.89         0.0   \n",
       "\n",
       "   Disk(J)  Base(J)  Power Consumption (w)  \n",
       "0     0.01   358.50               3.269912  \n",
       "1     0.09   363.75               3.224673  \n",
       "2     0.01   325.20               3.231545  \n",
       "3     0.00   391.65               3.176343  \n",
       "4     0.04   144.60               3.296733  "
      ]
     },
     "execution_count": 33,
     "metadata": {},
     "output_type": "execute_result"
    }
   ],
   "source": [
    "new_df"
   ]
  },
  {
   "cell_type": "code",
   "execution_count": 34,
   "metadata": {},
   "outputs": [
    {
     "name": "stdout",
     "output_type": "stream",
     "text": [
      "Index(['Total Energy(J)', 'CPU(J)', 'Base(J)', 'Disk(J)', 'Monitor(J)'], dtype='object')\n"
     ]
    },
    {
     "data": {
      "image/png": "[encoded data removed]",
      "text/plain": [
       "<Figure size 640x480 with 1 Axes>"
      ]
     },
     "metadata": {},
     "output_type": "display_data"
    }
   ],
   "source": [
    "from matplotlib import pyplot as plt \n",
    "\n",
    "plot_df = new_df.drop(columns=['Power Consumption (w)','Time Taken(s)','Algorithm'])\n",
    "plot_df = plot_df.loc[:,['Total Energy(J)', 'CPU(J)', 'Base(J)', 'Disk(J)', 'Monitor(J)']]\n",
    "\n",
    "plot_df.index = new_df['Algorithm']\n",
    "plot_df.plot(kind=\"bar\")\n",
    "plt.title('Aggregated Average Consumption of Energy in each algorthm')\n",
    "plt.xlabel('Algorithm')\n",
    "plt.ylabel('Energy Consumed (J)')\n",
    "print(plot_df.columns)\n",
    "plt.savefig(f'{os.path.join(AA_folder, os.path.basename(AA_folder))} sector.svg')\n",
    "plt.show()"
   ]
  },
  {
   "cell_type": "code",
   "execution_count": 35,
   "metadata": {},
   "outputs": [
    {
     "name": "stdout",
     "output_type": "stream",
     "text": [
      "Index(['Bat', 'Camel Algorithm', 'Cuckoo Search', 'Fire Fly',\n",
      "       'Particle Swarm'],\n",
      "      dtype='object', name='Algorithm')\n"
     ]
    },
    {
     "data": {
      "image/png": "[encoded data removed]",
      "text/plain": [
       "<Figure size 640x480 with 1 Axes>"
      ]
     },
     "metadata": {},
     "output_type": "display_data"
    }
   ],
   "source": [
    "from matplotlib import pyplot as plt \n",
    "\n",
    "plot_df = new_df.drop(columns=['Power Consumption (w)','Time Taken(s)','Algorithm'])\n",
    "plot_df = plot_df.loc[:,['Total Energy(J)', 'CPU(J)', 'Base(J)', 'Disk(J)', 'Monitor(J)']]\n",
    "\n",
    "plot_df.index = new_df['Algorithm']\n",
    "plot_df = plot_df.T\n",
    "plot_df.plot(kind=\"bar\")\n",
    "plt.title('Aggregated Average Consumption of Energy in each algorthm')\n",
    "plt.xlabel('Algorithm')\n",
    "plt.ylabel('Energy Consumed (J)')\n",
    "print(plot_df.columns)\n",
    "plt.savefig(f'{os.path.join(AA_folder, os.path.basename(AA_folder))} algo.svg')\n",
    "plt.show()"
   ]
  },
  {
   "cell_type": "code",
   "execution_count": 36,
   "metadata": {},
   "outputs": [],
   "source": [
    "compare_folder = os.path.join(Home,'Compare')\n",
    "\n",
    "try:\n",
    "    os.mkdir(compare_folder)\n",
    "except:\n",
    "    print('Compare folder is already there')\n"
   ]
  },
  {
   "cell_type": "code",
   "execution_count": 43,
   "metadata": {},
   "outputs": [
    {
     "name": "stdout",
     "output_type": "stream",
     "text": [
      "Index(['Algorithm', 'Time Taken(s)', 'Total Energy(J)', 'CPU(J)', 'Monitor(J)',\n",
      "       'Disk(J)', 'Base(J)', 'Power Consumption (w)'],\n",
      "      dtype='object')\n"
     ]
    },
    {
     "data": {
      "text/html": [
       "<div>\n",
       "<style scoped>\n",
       "    .dataframe tbody tr th:only-of-type {\n",
       "        vertical-align: middle;\n",
       "    }\n",
       "\n",
       "    .dataframe tbody tr th {\n",
       "        vertical-align: top;\n",
       "    }\n",
       "\n",
       "    .dataframe thead th {\n",
       "        text-align: right;\n",
       "    }\n",
       "</style>\n",
       "<table border=\"1\" class=\"dataframe\">\n",
       "  <thead>\n",
       "    <tr style=\"text-align: right;\">\n",
       "      <th></th>\n",
       "      <th>Algorithm</th>\n",
       "      <th>Time Taken(s)</th>\n",
       "      <th>Total Energy(J)</th>\n",
       "      <th>CPU(J)</th>\n",
       "      <th>Monitor(J)</th>\n",
       "      <th>Disk(J)</th>\n",
       "      <th>Base(J)</th>\n",
       "      <th>Power Consumption (w)</th>\n",
       "    </tr>\n",
       "  </thead>\n",
       "  <tbody>\n",
       "    <tr>\n",
       "      <th>0</th>\n",
       "      <td>Bat</td>\n",
       "      <td>239.0</td>\n",
       "      <td>792.46</td>\n",
       "      <td>443.18</td>\n",
       "      <td>0.0</td>\n",
       "      <td>0.01</td>\n",
       "      <td>358.50</td>\n",
       "      <td>3.269912</td>\n",
       "    </tr>\n",
       "    <tr>\n",
       "      <th>1</th>\n",
       "      <td>Camel Algorithm</td>\n",
       "      <td>242.5</td>\n",
       "      <td>779.44</td>\n",
       "      <td>426.63</td>\n",
       "      <td>0.0</td>\n",
       "      <td>0.09</td>\n",
       "      <td>363.75</td>\n",
       "      <td>3.224673</td>\n",
       "    </tr>\n",
       "    <tr>\n",
       "      <th>2</th>\n",
       "      <td>Cuckoo Search</td>\n",
       "      <td>216.8</td>\n",
       "      <td>700.11</td>\n",
       "      <td>384.29</td>\n",
       "      <td>0.0</td>\n",
       "      <td>0.01</td>\n",
       "      <td>325.20</td>\n",
       "      <td>3.231545</td>\n",
       "    </tr>\n",
       "    <tr>\n",
       "      <th>3</th>\n",
       "      <td>Fire Fly</td>\n",
       "      <td>261.1</td>\n",
       "      <td>827.82</td>\n",
       "      <td>447.29</td>\n",
       "      <td>0.0</td>\n",
       "      <td>0.00</td>\n",
       "      <td>391.65</td>\n",
       "      <td>3.176343</td>\n",
       "    </tr>\n",
       "    <tr>\n",
       "      <th>4</th>\n",
       "      <td>Particle Swarm</td>\n",
       "      <td>96.4</td>\n",
       "      <td>317.35</td>\n",
       "      <td>176.89</td>\n",
       "      <td>0.0</td>\n",
       "      <td>0.04</td>\n",
       "      <td>144.60</td>\n",
       "      <td>3.296733</td>\n",
       "    </tr>\n",
       "  </tbody>\n",
       "</table>\n",
       "</div>"
      ],
      "text/plain": [
       "         Algorithm  Time Taken(s)  Total Energy(J)  CPU(J)  Monitor(J)  \\\n",
       "0              Bat          239.0           792.46  443.18         0.0   \n",
       "1  Camel Algorithm          242.5           779.44  426.63         0.0   \n",
       "2    Cuckoo Search          216.8           700.11  384.29         0.0   \n",
       "3         Fire Fly          261.1           827.82  447.29         0.0   \n",
       "4   Particle Swarm           96.4           317.35  176.89         0.0   \n",
       "\n",
       "   Disk(J)  Base(J)  Power Consumption (w)  \n",
       "0     0.01   358.50               3.269912  \n",
       "1     0.09   363.75               3.224673  \n",
       "2     0.01   325.20               3.231545  \n",
       "3     0.00   391.65               3.176343  \n",
       "4     0.04   144.60               3.296733  "
      ]
     },
     "execution_count": 43,
     "metadata": {},
     "output_type": "execute_result"
    }
   ],
   "source": [
    "file_name = os.path.join(AA_folder,'Aggregated Average.csv')\n",
    "Main_cmp_df = pd.read_csv(file_name,index_col=[0])\n",
    "print(Main_cmp_df.columns)\n",
    "Main_cmp_df"
   ]
  },
  {
   "cell_type": "code",
   "execution_count": 46,
   "metadata": {},
   "outputs": [],
   "source": [
    "PSO_no = -1\n",
    "for i in range(len(Main_cmp_df['Algorithm'])):\n",
    "    if Main_cmp_df['Algorithm'][i] == 'Particle Swarm':\n",
    "        PSO_no = i\n",
    "        break\n"
   ]
  },
  {
   "cell_type": "code",
   "execution_count": 57,
   "metadata": {},
   "outputs": [
    {
     "name": "stderr",
     "output_type": "stream",
     "text": [
      "C:\\Users\\chand\\AppData\\Local\\Temp\\ipykernel_4236\\2356405239.py:5: SettingWithCopyWarning: \n",
      "A value is trying to be set on a copy of a slice from a DataFrame.\n",
      "Try using .loc[row_indexer,col_indexer] = value instead\n",
      "\n",
      "See the caveats in the documentation: https://pandas.pydata.org/pandas-docs/stable/user_guide/indexing.html#returning-a-view-versus-a-copy\n",
      "  curr_df['Ratio Comparison to PSO'] = round(curr_df[curr_cmp_var]/curr_df[curr_cmp_var][PSO_no],3)\n",
      "C:\\Users\\chand\\AppData\\Local\\Temp\\ipykernel_4236\\2356405239.py:5: SettingWithCopyWarning: \n",
      "A value is trying to be set on a copy of a slice from a DataFrame.\n",
      "Try using .loc[row_indexer,col_indexer] = value instead\n",
      "\n",
      "See the caveats in the documentation: https://pandas.pydata.org/pandas-docs/stable/user_guide/indexing.html#returning-a-view-versus-a-copy\n",
      "  curr_df['Ratio Comparison to PSO'] = round(curr_df[curr_cmp_var]/curr_df[curr_cmp_var][PSO_no],3)\n",
      "C:\\Users\\chand\\AppData\\Local\\Temp\\ipykernel_4236\\2356405239.py:5: SettingWithCopyWarning: \n",
      "A value is trying to be set on a copy of a slice from a DataFrame.\n",
      "Try using .loc[row_indexer,col_indexer] = value instead\n",
      "\n",
      "See the caveats in the documentation: https://pandas.pydata.org/pandas-docs/stable/user_guide/indexing.html#returning-a-view-versus-a-copy\n",
      "  curr_df['Ratio Comparison to PSO'] = round(curr_df[curr_cmp_var]/curr_df[curr_cmp_var][PSO_no],3)\n",
      "C:\\Users\\chand\\AppData\\Local\\Temp\\ipykernel_4236\\2356405239.py:5: SettingWithCopyWarning: \n",
      "A value is trying to be set on a copy of a slice from a DataFrame.\n",
      "Try using .loc[row_indexer,col_indexer] = value instead\n",
      "\n",
      "See the caveats in the documentation: https://pandas.pydata.org/pandas-docs/stable/user_guide/indexing.html#returning-a-view-versus-a-copy\n",
      "  curr_df['Ratio Comparison to PSO'] = round(curr_df[curr_cmp_var]/curr_df[curr_cmp_var][PSO_no],3)\n"
     ]
    }
   ],
   "source": [
    "cmp_lst = ['Time Taken(s)',\t'Total Energy(J)', 'CPU(J)','Power Consumption (w)']\n",
    "for curr_cmp_var in cmp_lst:\n",
    "    curr_col_lst = ['Algorithm', curr_cmp_var]\n",
    "    curr_df = Main_cmp_df[curr_col_lst]\n",
    "    curr_df['Ratio Comparison to PSO'] = round(curr_df[curr_cmp_var]/curr_df[curr_cmp_var][PSO_no],3)\n",
    "    #print(f'Aggregated Average {curr_cmp_var[:-3]} Ratio.csv')\n",
    "    curr_df.to_csv(os.path.join(AA_folder,f'Aggregated Average {curr_cmp_var[:-3]} Ratio.csv'))"
   ]
  }
 ],
 "metadata": {
  "kernelspec": {
   "display_name": "Python 3",
   "language": "python",
   "name": "python3"
  },
  "language_info": {
   "codemirror_mode": {
    "name": "ipython",
    "version": 3
   },
   "file_extension": ".py",
   "mimetype": "text/x-python",
   "name": "python",
   "nbconvert_exporter": "python",
   "pygments_lexer": "ipython3",
   "version": "3.9.13"
  },
  "orig_nbformat": 4,
  "vscode": {
   "interpreter": {
    "hash": "bcac82fb26a6e7c950421e78519edb87e1a5e005e0aec2fc293e679965bb2493"
   }
  }
 },
 "nbformat": 4,
 "nbformat_minor": 2
}
