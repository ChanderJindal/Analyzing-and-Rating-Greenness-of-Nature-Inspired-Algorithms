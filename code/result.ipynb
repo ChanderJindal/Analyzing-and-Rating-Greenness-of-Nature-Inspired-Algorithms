{
 "cells": [
  {
   "cell_type": "code",
   "execution_count": null,
   "metadata": {},
   "outputs": [],
   "source": [
    "import os \n",
    "import json \n",
    "import pandas as pd \n",
    "import numpy as np"
   ]
  },
  {
   "cell_type": "code",
   "execution_count": null,
   "metadata": {},
   "outputs": [],
   "source": [
    "home = os.getcwd()\n",
    "main = os.path.join(home,'Main_Result')\n",
    "supp = os.path.join(home,'Supplementary_Result')"
   ]
  },
  {
   "cell_type": "code",
   "execution_count": null,
   "metadata": {},
   "outputs": [],
   "source": [
    "main_files = [ os.path.join(main,i) for i in os.listdir(main) if i != 'Base.csv' and i != 'Avg.csv'  and i.endswith('.csv')]\n",
    "Base_file = os.path.join(main,'Base.csv')"
   ]
  },
  {
   "cell_type": "code",
   "execution_count": null,
   "metadata": {},
   "outputs": [],
   "source": [
    "df = pd.read_csv(main_files[0],index_col=[0])\n",
    "df.columns"
   ]
  },
  {
   "cell_type": "code",
   "execution_count": null,
   "metadata": {},
   "outputs": [],
   "source": [
    "Avg_Dict = dict()\n",
    "for curr_file in main_files:\n",
    "    df = pd.read_csv(curr_file,index_col=[0])\n",
    "    print(df.columns)\n",
    "    df = df.sort_values(by='Energy Used (J)',ascending=True)\n",
    "    df = df.sort_values(by='Accuracy',ascending=False)\n",
    "    df = df[:10]\n",
    "    Key = list(df['ID'])[0][:3]\n",
    "    Inner_Dict = {'Keys' : list(df['ID'])}\n",
    "    df_cols = list(df.columns)\n",
    "    try:df_cols.remove('ID')\n",
    "    except: print('ID not there')\n",
    "    for curr_col in df_cols:\n",
    "        Inner_Dict[f'Avg {curr_col.strip()}'] = np.average(df[curr_col])\n",
    "\n",
    "    Avg_Dict[Key] = Inner_Dict"
   ]
  },
  {
   "cell_type": "code",
   "execution_count": null,
   "metadata": {},
   "outputs": [],
   "source": [
    "new_df = pd.DataFrame(data=Avg_Dict).T\n",
    "new_df.to_csv(os.path.join(main,'Avg.csv'))"
   ]
  },
  {
   "cell_type": "code",
   "execution_count": null,
   "metadata": {},
   "outputs": [],
   "source": [
    "from matplotlib import pyplot as plt \n",
    "try:\n",
    "    os.mkdir('Extra')\n",
    "except:\n",
    "    pass\n",
    "extra = os.path.join(home,'Extra')\n",
    "for i in main_files:\n",
    "    df = pd.read_csv(i,index_col=[0])\n",
    "    df = df.sort_values(by='Energy Used (J)',ascending=True)\n",
    "    df = df.sort_values(by='Accuracy',ascending=False)\n",
    "    print(os.path.basename(i))\n",
    "    plt.close()\n",
    "    plt.plot(df['Accuracy'],df['Energy Used (J)'],'o')\n",
    "    plt.xlabel('Accuracy')\n",
    "    plt.ylabel('Energy Used (J)')\n",
    "    plt.title(os.path.basename(i).split('.')[0])\n",
    "    plt.savefig(os.path.join(extra,f\"{os.path.basename(i).split('.')[0]} Energy Vs Accuracy.svg\"))\n",
    "    plt.show()\n"
   ]
  },
  {
   "cell_type": "code",
   "execution_count": null,
   "metadata": {},
   "outputs": [],
   "source": [
    "df = pd.read_csv(os.path.join(main,'Avg.csv'),index_col=[0])\n",
    "print(df.columns)\n",
    "'''\n",
    "accuracy = df[['Avg Accuracy']].T\n",
    "energy = df[['Avg Energy Used (J)']].T\n",
    "sns.catplot(\n",
    "        #x='Avg Accuracy',\n",
    "        #y='',\n",
    "        data=accuracy, \n",
    "        kind='bar',\n",
    "        height=5,\n",
    "        aspect=7)\n",
    "''' \n",
    "df = df[['Avg Accuracy','Avg Energy Used (J)', 'Keys','Avg Equivalent CO2 Emission (mg)']]\n",
    "df['Avg Accuracy'] = round(df['Avg Accuracy'],3)\n",
    "df['Avg Equivalent CO2 Emission (mg)'] = round(df['Avg Equivalent CO2 Emission (mg)'],3)\n",
    "df['Avg Energy Used (J)'] = round(df['Avg Energy Used (J)'],3)\n",
    "df['Keys'] = df['Keys'].keys()\n",
    "print(df['Keys'])\n",
    "print(df.columns)"
   ]
  },
  {
   "cell_type": "code",
   "execution_count": null,
   "metadata": {},
   "outputs": [],
   "source": [
    "import seaborn as sns\n",
    "\n",
    "plt.close()\n",
    "fig, ax = plt.subplots()\n",
    "sns.barplot(x=df['Keys'],y=df['Avg Accuracy'], ax=ax)\n",
    "#sns.barplot(data, ax=ax)\n",
    "#ax.set_xlim(89, 91)\n",
    "ax.set_ylim(89.85, 89.92)\n",
    "plt.title('Accuracy')\n",
    "plt.savefig(os.path.join(extra,'Accuracy.svg'),format='svg')\n",
    "plt.show()\n",
    "\n"
   ]
  },
  {
   "cell_type": "code",
   "execution_count": null,
   "metadata": {},
   "outputs": [],
   "source": [
    "plt.close()\n",
    "# depict visualization\n",
    "fig, ax = plt.subplots()\n",
    "sns.barplot(x=df['Keys'],y=df['Avg Energy Used (J)'], ax=ax)\n",
    "#sns.barplot(data, ax=ax)\n",
    "#ax.set_xlim(89, 91)\n",
    "ax.set_ylim(200,500)\n",
    "plt.title('Energy Consumed (J)')\n",
    "plt.savefig(os.path.join(extra,'Energy Consumed.svg'),format='svg')\n",
    "plt.show()\n",
    "print(df['Avg Energy Used (J)'])"
   ]
  },
  {
   "cell_type": "code",
   "execution_count": null,
   "metadata": {},
   "outputs": [],
   "source": [
    "plt.close()\n",
    "# depict visualization\n",
    "fig, ax = plt.subplots()\n",
    "print(df.columns)\n",
    "sns.barplot(x=df['Keys'],y=df['Avg Equivalent CO2 Emission (mg)'], ax=ax)\n",
    "#sns.barplot(data, ax=ax)\n",
    "#ax.set_xlim(89, 91)\n",
    "ax.set_ylim(40,120)\n",
    "plt.title('CO2 Emitted (mg)')\n",
    "plt.savefig(os.path.join(extra,'CO2 Emitted.svg'),format='svg')\n",
    "plt.show()\n",
    "print(df['Avg Equivalent CO2 Emission (mg)'])"
   ]
  },
  {
   "cell_type": "code",
   "execution_count": null,
   "metadata": {},
   "outputs": [],
   "source": [
    "plt.close()\n",
    "# depict visualization\n",
    "fig, ax = plt.subplots()\n",
    "new_y = df['Avg Accuracy'] / df['Avg Energy Used (J)']\n",
    "print(new_y)\n",
    "sns.barplot(x=df['Keys'],y=new_y, ax=ax)\n",
    "#sns.barplot(data, ax=ax)\n",
    "#ax.set_xlim(89, 91)\n",
    "ax.set_ylim(0.15,0.45)\n",
    "ax.set_ylabel('Ratio of Accuracy to Energy Consumed')\n",
    "plt.title('Accuracy : Energy Consumed')\n",
    "plt.savefig(os.path.join(extra,'Accuracy_to_Energy Consumed.svg'),format='svg')\n",
    "plt.show()"
   ]
  },
  {
   "cell_type": "code",
   "execution_count": null,
   "metadata": {},
   "outputs": [],
   "source": [
    "from docx import Document\n",
    "from docx.shared import Inches\n",
    "\n",
    "document = Document()\n",
    "\n",
    "Algos = [ os.path.basename(i)[:-4] for i in main_files]\n",
    "document.add_paragraph().add_run('The following Algorithms results are present here:-\\n').bold = True\n",
    "for i in Algos:\n",
    "    document.add_paragraph().add_run(f'{i}\\n').bold = True\n",
    "document.add_page_break()\n"
   ]
  },
  {
   "cell_type": "code",
   "execution_count": null,
   "metadata": {},
   "outputs": [],
   "source": [
    "def Add_Table(df,doc):\n",
    "    t = doc.add_table(rows=(df.shape[0]+1), cols=df.shape[1])\n",
    "    t.style = 'TableGrid'\n",
    "    #print( f'({df.shape[0]+1}, {df.shape[1]})' )\n",
    "\n",
    "    for i in range(df.shape[1]):\n",
    "        t.cell(0, i).text = df.columns[i]\n",
    "        #t.cell(0, i).style = 'bold'\n",
    "        t.rows[0].cells[i].paragraphs[0].runs[0].font.bold = True\n",
    "\n",
    "    #t.row_cells[0].font.bold = True\n",
    "        #t.cell(0, i).font.bold = True\n",
    "        #run.font.bold = True\n",
    "        #print( f'(0, {i}) = {t.cell(0, i).text}',end=' ')\n",
    "    #print('')\n",
    "\n",
    "    for i in range(df.shape[0]):\n",
    "        for j in range(df.shape[1]):\n",
    "            t.cell(i + 1, j).text = str(df.iat[i, j])\n",
    "            #print( f'({i+1}, {j}) = {t.cell(i + 1, j).text}',end=' ')\n",
    "        #print('')\n",
    "    return doc "
   ]
  },
  {
   "cell_type": "code",
   "execution_count": null,
   "metadata": {},
   "outputs": [],
   "source": [
    "def Para_Type(doc,sent:str,bold:bool=False,italic:bool=False,underline:bool=False):\n",
    "    p = doc.add_paragraph()\n",
    "    runner = p.add_run(sent)\n",
    "    if bold is True:\n",
    "        runner.bold = True\n",
    "    if italic is True:\n",
    "        runner.italic = True\n",
    "    if underline is True:\n",
    "        runner.underline = True\n",
    "    return doc "
   ]
  },
  {
   "cell_type": "code",
   "execution_count": null,
   "metadata": {},
   "outputs": [],
   "source": [
    "for i in range(len(Algos)):\n",
    "    document.add_section()\n",
    "\n",
    "    document = Para_Type(document,f'\\t NIA {Algos[i]}\\n', bold=True,underline=True)\n",
    "    \n",
    "    df = pd.read_csv(os.path.join(main,f'{Algos[i]}.csv'),index_col=[0])\n",
    "    document = Add_Table(df,document)\n",
    "    document =  Para_Type(document,f'\\n\\tT#{i+1}.1 {Algos[i]} Main Result\\n', bold=True,italic=True)\n",
    "\n",
    "    df = pd.read_csv(os.path.join(supp,f'{Algos[i]}_Parameter.csv'),index_col=[0])\n",
    "    document = Add_Table(df,document)\n",
    "    document =  Para_Type(document,f'\\n\\tT#{i+1}.2 {Algos[i]} Parameters\\n', bold=True,italic=True)\n",
    "\n",
    "    df = pd.read_csv(os.path.join(supp,f'{Algos[i]}_Energy_Distribution.csv'),index_col=[0])\n",
    "    document = Add_Table(df,document)\n",
    "    document =  Para_Type(document,f'\\n\\tT#{i+1}.3 {Algos[i]} Energy Distribution\\n', bold=True,italic=True)\n",
    "\n",
    "    #document.add_picture(os.path.join(supp,f'{Algos[i]}_Iterations.svg'))\n",
    "    document =  Para_Type(document,f'\\n\\tFig#{i+1}.1 {Algos[i]} Iterations\\n', bold=True,italic=True)\n",
    "    document =  Para_Type(document,f'\\n\\tFig#{i+1}.2 {Algos[i]} Energy Vs Accuracy\\n', bold=True,italic=True)\n",
    "\n",
    "    document.add_page_break()\n",
    "\n",
    "document.save('Supplementary_file.docx')"
   ]
  }
 ],
 "metadata": {
  "kernelspec": {
   "display_name": "Python 3",
   "language": "python",
   "name": "python3"
  },
  "language_info": {
   "codemirror_mode": {
    "name": "ipython",
    "version": 3
   },
   "file_extension": ".py",
   "mimetype": "text/x-python",
   "name": "python",
   "nbconvert_exporter": "python",
   "pygments_lexer": "ipython3",
   "version": "3.9.13"
  },
  "orig_nbformat": 4,
  "vscode": {
   "interpreter": {
    "hash": "bcac82fb26a6e7c950421e78519edb87e1a5e005e0aec2fc293e679965bb2493"
   }
  }
 },
 "nbformat": 4,
 "nbformat_minor": 2
}
