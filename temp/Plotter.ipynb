{
 "cells": [
  {
   "cell_type": "code",
   "execution_count": null,
   "metadata": {},
   "outputs": [],
   "source": [
    "import os \n",
    "import pandas as pd\n",
    "import seaborn as sns \n",
    "from matplotlib import pyplot as plt "
   ]
  },
  {
   "cell_type": "code",
   "execution_count": null,
   "metadata": {},
   "outputs": [],
   "source": [
    "Home = os.getcwd()\n",
    "Result_Folder = os.path.join(Home,'Result')\n",
    "Algo_Folder = os.path.join(Result_Folder,'Algo')\n",
    "Estimator_Folder = os.path.join(Result_Folder,'Estimator')\n",
    "Algo_Files = [ (x,os.path.join(Algo_Folder,x)) for x in os.listdir(Algo_Folder) if x.endswith('.csv') ]\n",
    "Estimator_Files = [ (x,os.path.join(Estimator_Folder,x)) for x in os.listdir(Estimator_Folder) if x.endswith('.csv') ]\n",
    "print(Algo_Files)\n",
    "print(Estimator_Files)"
   ]
  },
  {
   "cell_type": "code",
   "execution_count": null,
   "metadata": {},
   "outputs": [],
   "source": [
    "try:\n",
    "    os.mkdir('Graphs')\n",
    "except:\n",
    "    pass \n",
    "try:\n",
    "    os.mkdir('Graphs\\\\Algo')\n",
    "except:\n",
    "    print('f')\n",
    "    pass \n",
    "try:\n",
    "    os.mkdir('Graphs\\\\Estimator')\n",
    "except:\n",
    "    print('f')\n",
    "    pass \n",
    "Algo_Graph_Path = os.path.join(Home,'Graphs\\\\Algo')\n",
    "Estimator_Graph_Path = os.path.join(Home,'Graphs\\\\Estimator')\n",
    "print(Algo_Graph_Path)\n",
    "print(Estimator_Graph_Path)"
   ]
  },
  {
   "cell_type": "code",
   "execution_count": null,
   "metadata": {},
   "outputs": [],
   "source": [
    "for i in Algo_Files:\n",
    "    Algo_Name = i[0].split('.')[0]\n",
    "    df = pd.read_csv(i[1])\n",
    "    plt.close()\n",
    "    plt.plot(df['n_estimators'],df['CPU Energy (J)'],marker='x')\n",
    "    plt.xlabel('n_estimators')\n",
    "    plt.ylabel('CPU Energy (J)')\n",
    "    plt.title(Algo_Name)\n",
    "    plt.savefig(os.path.join(Algo_Graph_Path,f'{Algo_Name}.svg'),format='svg')\n",
    "    plt.show()"
   ]
  },
  {
   "cell_type": "code",
   "execution_count": null,
   "metadata": {},
   "outputs": [],
   "source": [
    "for i in Algo_Files:\n",
    "    Algo_Name = i[0].split('.')[0]\n",
    "    df = pd.read_csv(i[1])\n",
    "    plt.close()\n",
    "    plt.plot(df['CPU Energy (J)'],df['Accuracy'],marker='x')\n",
    "    plt.ylabel('Accuracy')\n",
    "    plt.xlabel('CPU Energy (J)')\n",
    "    plt.title(Algo_Name)\n",
    "    #plt.savefig(os.path.join(Algo_Graph_Path,f'{Algo_Name}.svg'),format='svg')\n",
    "    plt.show()"
   ]
  },
  {
   "cell_type": "code",
   "execution_count": null,
   "metadata": {},
   "outputs": [],
   "source": [
    "for i in Estimator_Files:\n",
    "    Estimate = i[0].split('.')[0]\n",
    "    df = pd.read_csv(i[1])\n",
    "    plt.close()\n",
    "    for i in range(len(df['CPU Energy (J)'])):\n",
    "        plt.plot(df['CPU Energy (J)'][i],df['Accuracy'][i],marker='x',label=df['Algo Name'][i])\n",
    "    #plt.plot(df['CPU Energy (J)'],marker='x',label=df['Algo Name'],linestyle=\"None\")\n",
    "    #plt.xlabel('n_estimators')\n",
    "    plt.xlabel('CPU Energy (J)')\n",
    "    plt.ylabel('Accuracy')\n",
    "    plt.title(Estimate)\n",
    "    plt.legend()\n",
    "    plt.savefig(os.path.join(Estimator_Graph_Path,f'n-{Estimate}.svg'),format='svg')\n",
    "    plt.show()"
   ]
  },
  {
   "cell_type": "code",
   "execution_count": null,
   "metadata": {},
   "outputs": [],
   "source": [
    "full = pd.read_csv([ os.path.join(Result_Folder,x) for x in os.listdir(Result_Folder) if x.endswith('.csv') ][0])"
   ]
  },
  {
   "cell_type": "code",
   "execution_count": null,
   "metadata": {},
   "outputs": [],
   "source": [
    "sns.barplot(data=full, x='n_estimators', y='CPU Energy (J)')\n",
    "#Index(['Unnamed: 0', 'Algo Name', 'n_estimators', 'Time Taken', 'Accuracy',\n",
    "plt.show()\n"
   ]
  },
  {
   "cell_type": "code",
   "execution_count": null,
   "metadata": {},
   "outputs": [],
   "source": [
    "sns.barplot(data=full, x='Algo Name', y='CPU Energy (J)')\n",
    "#Index(['Unnamed: 0', 'Algo Name', 'n_estimators', 'Time Taken', 'Accuracy',\n",
    "plt.show()\n"
   ]
  },
  {
   "cell_type": "code",
   "execution_count": null,
   "metadata": {},
   "outputs": [],
   "source": [
    "sns.barplot(data=full, hue='Algo Name', y='CPU Energy (J)',x='n_estimators')\n",
    "#Index(['Unnamed: 0', 'Algo Name', 'n_estimators', 'Time Taken', 'Accuracy',\n",
    "plt.savefig(os.path.join(Home,'Graphs\\\\Graph_Final.svg'),format='svg')\n",
    "plt.show()\n"
   ]
  },
  {
   "cell_type": "markdown",
   "metadata": {},
   "source": []
  }
 ],
 "metadata": {
  "kernelspec": {
   "display_name": "Python 3.9.13 64-bit (microsoft store)",
   "language": "python",
   "name": "python3"
  },
  "language_info": {
   "codemirror_mode": {
    "name": "ipython",
    "version": 3
   },
   "file_extension": ".py",
   "mimetype": "text/x-python",
   "name": "python",
   "nbconvert_exporter": "python",
   "pygments_lexer": "ipython3",
   "version": "3.9.13"
  },
  "orig_nbformat": 4,
  "vscode": {
   "interpreter": {
    "hash": "bcac82fb26a6e7c950421e78519edb87e1a5e005e0aec2fc293e679965bb2493"
   }
  }
 },
 "nbformat": 4,
 "nbformat_minor": 2
}
