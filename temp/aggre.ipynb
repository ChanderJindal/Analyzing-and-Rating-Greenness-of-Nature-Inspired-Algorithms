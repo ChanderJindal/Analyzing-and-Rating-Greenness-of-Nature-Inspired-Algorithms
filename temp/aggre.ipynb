{
 "cells": [
  {
   "cell_type": "code",
   "execution_count": 3,
   "metadata": {},
   "outputs": [],
   "source": [
    "import os \n",
    "import pandas as pd \n",
    "import matplotlib.pyplot as plt \n",
    "import seaborn as sns "
   ]
  },
  {
   "cell_type": "code",
   "execution_count": 11,
   "metadata": {},
   "outputs": [],
   "source": [
    "home = os.getcwd()\n",
    "res = [ (x,f'{home}\\\\Result\\\\Algo\\\\{x}') for x in os.listdir(f'{home}\\\\Result\\\\Algo') if x.endswith('.csv')]\n",
    "res_co2 = [ (x,f'{home}\\\\ResultCO2\\\\Algo\\\\{x}') for x in os.listdir(f'{home}\\\\ResultCO2\\\\Algo') if x.endswith('.csv')]"
   ]
  },
  {
   "cell_type": "code",
   "execution_count": 13,
   "metadata": {},
   "outputs": [
    {
     "data": {
      "text/plain": [
       "[('Bat Algorithm.csv',\n",
       "  [('Unnamed: 0', 21),\n",
       "   ('Time Taken', 259),\n",
       "   ('Total Energy (J)', 957.2),\n",
       "   ('Base Energy (J)', 388.5),\n",
       "   ('CPU Energy (J)', 575.3),\n",
       "   ('Monitor Energy (J)', 0.0),\n",
       "   ('Disk Energy (J)', 0.0)]),\n",
       " ('Firefly Algorithm.csv',\n",
       "  [('Unnamed: 0', 21),\n",
       "   ('Time Taken', 272),\n",
       "   ('Total Energy (J)', 1017.1000000000003),\n",
       "   ('Base Energy (J)', 411.0),\n",
       "   ('CPU Energy (J)', 611.7),\n",
       "   ('Monitor Energy (J)', 0.0),\n",
       "   ('Disk Energy (J)', 0.0)]),\n",
       " ('Grey Wolf Optimizer.csv',\n",
       "  [('Unnamed: 0', 21),\n",
       "   ('Time Taken', 247),\n",
       "   ('Total Energy (J)', 944.3000000000002),\n",
       "   ('Base Energy (J)', 370.5),\n",
       "   ('CPU Energy (J)', 578.3),\n",
       "   ('Monitor Energy (J)', 0.0),\n",
       "   ('Disk Energy (J)', 0.0)]),\n",
       " ('Hybrid Bat Algorithm.csv',\n",
       "  [('Unnamed: 0', 21),\n",
       "   ('Time Taken', 259),\n",
       "   ('Total Energy (J)', 963.5000000000001),\n",
       "   ('Base Energy (J)', 393.0),\n",
       "   ('CPU Energy (J)', 574.8),\n",
       "   ('Monitor Energy (J)', 0.0),\n",
       "   ('Disk Energy (J)', 0.5)]),\n",
       " ('Hybrid Self Adaptive Bat Algorithm.csv',\n",
       "  [('Unnamed: 0', 21),\n",
       "   ('Time Taken', 263),\n",
       "   ('Total Energy (J)', 969.8999999999999),\n",
       "   ('Base Energy (J)', 399.0),\n",
       "   ('CPU Energy (J)', 577.4),\n",
       "   ('Monitor Energy (J)', 0.0),\n",
       "   ('Disk Energy (J)', 0.0)])]"
      ]
     },
     "execution_count": 13,
     "metadata": {},
     "output_type": "execute_result"
    }
   ],
   "source": [
    "lst = []\n",
    "for i in range(len(res)):\n",
    "    name = res[i][0]\n",
    "    df = pd.read_csv(res[i][1])\n",
    "    df = df.drop(columns=['n_estimators','Accuracy'])\n",
    "    df_lst = list(df.keys())\n",
    "    temp_lst = []\n",
    "    for j in df_lst:\n",
    "        temp_val = 0\n",
    "        for k in range(len(df_lst)):\n",
    "            temp_val += df[j][k]\n",
    "        temp_lst.append((j,temp_val))\n",
    "    lst.append((name,temp_lst))\n",
    "lst"
   ]
  },
  {
   "cell_type": "code",
   "execution_count": 14,
   "metadata": {},
   "outputs": [
    {
     "data": {
      "text/plain": [
       "[('Bat Algorithm.csv',\n",
       "  [('Unnamed: 0', 21),\n",
       "   ('Time Taken', 259),\n",
       "   ('Total Energy (J)', 957.2),\n",
       "   ('Base Energy (J)', 388.5),\n",
       "   ('CPU Energy (J)', 575.3),\n",
       "   ('Monitor Energy (J)', 0.0),\n",
       "   ('Disk Energy (J)', 0.0)]),\n",
       " ('Firefly Algorithm.csv',\n",
       "  [('Unnamed: 0', 21),\n",
       "   ('Time Taken', 272),\n",
       "   ('Total Energy (J)', 1017.1000000000003),\n",
       "   ('Base Energy (J)', 411.0),\n",
       "   ('CPU Energy (J)', 611.7),\n",
       "   ('Monitor Energy (J)', 0.0),\n",
       "   ('Disk Energy (J)', 0.0)]),\n",
       " ('Grey Wolf Optimizer.csv',\n",
       "  [('Unnamed: 0', 21),\n",
       "   ('Time Taken', 247),\n",
       "   ('Total Energy (J)', 944.3000000000002),\n",
       "   ('Base Energy (J)', 370.5),\n",
       "   ('CPU Energy (J)', 578.3),\n",
       "   ('Monitor Energy (J)', 0.0),\n",
       "   ('Disk Energy (J)', 0.0)]),\n",
       " ('Hybrid Bat Algorithm.csv',\n",
       "  [('Unnamed: 0', 21),\n",
       "   ('Time Taken', 259),\n",
       "   ('Total Energy (J)', 963.5000000000001),\n",
       "   ('Base Energy (J)', 393.0),\n",
       "   ('CPU Energy (J)', 574.8),\n",
       "   ('Monitor Energy (J)', 0.0),\n",
       "   ('Disk Energy (J)', 0.5)]),\n",
       " ('Hybrid Self Adaptive Bat Algorithm.csv',\n",
       "  [('Unnamed: 0', 21),\n",
       "   ('Time Taken', 263),\n",
       "   ('Total Energy (J)', 969.8999999999999),\n",
       "   ('Base Energy (J)', 399.0),\n",
       "   ('CPU Energy (J)', 577.4),\n",
       "   ('Monitor Energy (J)', 0.0),\n",
       "   ('Disk Energy (J)', 0.0)])]"
      ]
     },
     "execution_count": 14,
     "metadata": {},
     "output_type": "execute_result"
    }
   ],
   "source": [
    "lst = []\n",
    "for i in range(len(res)):\n",
    "    name = res_co2[i][0]\n",
    "    df = pd.read_csv(res[i][1])\n",
    "    df = df.drop(columns=['n_estimators','Accuracy'])\n",
    "    df_lst = list(df.keys())\n",
    "    temp_lst = []\n",
    "    for j in df_lst:\n",
    "        temp_val = 0\n",
    "        for k in range(len(df_lst)):\n",
    "            temp_val += df[j][k]\n",
    "        temp_lst.append((j,temp_val))\n",
    "    lst.append((name,temp_lst))\n",
    "lst"
   ]
  }
 ],
 "metadata": {
  "kernelspec": {
   "display_name": "Python 3.9.13 64-bit (microsoft store)",
   "language": "python",
   "name": "python3"
  },
  "language_info": {
   "codemirror_mode": {
    "name": "ipython",
    "version": 3
   },
   "file_extension": ".py",
   "mimetype": "text/x-python",
   "name": "python",
   "nbconvert_exporter": "python",
   "pygments_lexer": "ipython3",
   "version": "3.9.13"
  },
  "orig_nbformat": 4,
  "vscode": {
   "interpreter": {
    "hash": "bcac82fb26a6e7c950421e78519edb87e1a5e005e0aec2fc293e679965bb2493"
   }
  }
 },
 "nbformat": 4,
 "nbformat_minor": 2
}
