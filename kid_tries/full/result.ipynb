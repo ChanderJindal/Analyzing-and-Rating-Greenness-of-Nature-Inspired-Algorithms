{
 "cells": [
  {
   "cell_type": "code",
   "execution_count": 21,
   "metadata": {},
   "outputs": [],
   "source": [
    "import os \n",
    "import json \n",
    "import pandas as pd \n",
    "import numpy as np"
   ]
  },
  {
   "cell_type": "code",
   "execution_count": 2,
   "metadata": {},
   "outputs": [],
   "source": [
    "home = os.getcwd()\n",
    "main = os.path.join(home,'Main_Result')"
   ]
  },
  {
   "cell_type": "code",
   "execution_count": 3,
   "metadata": {},
   "outputs": [],
   "source": [
    "main_files = [ os.path.join(main,i) for i in os.listdir(main) if i != 'Base.csv' and i.endswith('.csv')]\n",
    "Base_file = os.path.join(main,'Base.csv')"
   ]
  },
  {
   "cell_type": "code",
   "execution_count": 9,
   "metadata": {},
   "outputs": [
    {
     "data": {
      "text/plain": [
       "Index(['ID', 'Accuracy', 'Time Taken (s)', 'Energy Used (J)',\n",
       "       'Equivalent CO2 Emission (mg)'],\n",
       "      dtype='object')"
      ]
     },
     "execution_count": 9,
     "metadata": {},
     "output_type": "execute_result"
    }
   ],
   "source": [
    "df = pd.read_csv(main_files[0],index_col=[0])\n",
    "df.columns"
   ]
  },
  {
   "cell_type": "code",
   "execution_count": 19,
   "metadata": {},
   "outputs": [],
   "source": [
    "Avg_Dict = dict()\n",
    "for curr_file in main_files:\n",
    "    df = pd.read_csv(curr_file,index_col=[0])\n",
    "    df = df.sort_values(by='Energy Used (J)',ascending=True)\n",
    "    df = df.sort_values(by='Accuracy',ascending=False)\n",
    "    df = df[:10]\n",
    "    Key = list(df['ID'])[0][:3]\n",
    "    Inner_Dict = {'Keys' : list(df['ID'])}\n",
    "    df_cols = list(df.columns)\n",
    "    try:df_cols.remove('ID')\n",
    "    except: print('ID not there')\n",
    "    for curr_col in df_cols:\n",
    "        Inner_Dict[f'Avg {curr_col.strip()}'] = np.average(df[curr_col])\n",
    "\n",
    "    Avg_Dict[Key] = Inner_Dict"
   ]
  },
  {
   "cell_type": "code",
   "execution_count": 24,
   "metadata": {},
   "outputs": [],
   "source": [
    "new_df = pd.DataFrame(data=Avg_Dict).T\n",
    "new_df.to_csv(os.path.join(main,'Avg.csv'))"
   ]
  }
 ],
 "metadata": {
  "kernelspec": {
   "display_name": "Python 3",
   "language": "python",
   "name": "python3"
  },
  "language_info": {
   "codemirror_mode": {
    "name": "ipython",
    "version": 3
   },
   "file_extension": ".py",
   "mimetype": "text/x-python",
   "name": "python",
   "nbconvert_exporter": "python",
   "pygments_lexer": "ipython3",
   "version": "3.9.13 (tags/v3.9.13:6de2ca5, May 17 2022, 16:36:42) [MSC v.1929 64 bit (AMD64)]"
  },
  "orig_nbformat": 4,
  "vscode": {
   "interpreter": {
    "hash": "bcac82fb26a6e7c950421e78519edb87e1a5e005e0aec2fc293e679965bb2493"
   }
  }
 },
 "nbformat": 4,
 "nbformat_minor": 2
}
