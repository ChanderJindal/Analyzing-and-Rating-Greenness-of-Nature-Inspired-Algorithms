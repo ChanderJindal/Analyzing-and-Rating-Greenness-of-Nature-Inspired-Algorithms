{
  "cells": [
    {
      "cell_type": "code",
      "execution_count": 65,
      "metadata": {
        "id": "8kP5DjKoFQS7"
      },
      "outputs": [],
      "source": [
        "Link = 'https://github.com/natsunoyuki/blog_posts/blob/main/data_science/Bayesian%20Optimization%20of%20Model%20Hyperparameters.ipynb'"
      ]
    },
    {
      "cell_type": "markdown",
      "metadata": {},
      "source": [
        "BASIC"
      ]
    },
    {
      "cell_type": "code",
      "execution_count": 66,
      "metadata": {
        "id": "VWCENWUzFQS9"
      },
      "outputs": [],
      "source": [
        "SEED = 1412\n",
        "Test_Ratio = 0.2\n",
        "import os \n",
        "import pandas as pd"
      ]
    },
    {
      "cell_type": "code",
      "execution_count": 67,
      "metadata": {},
      "outputs": [
        {
          "name": "stdout",
          "output_type": "stream",
          "text": [
            "Already Got the Data Folder\n",
            "Already Got this Data Folder too\n",
            "High on Energy\n"
          ]
        }
      ],
      "source": [
        "Home = os.getcwd()\n",
        "DataFolder = 'Data'\n",
        "try:\n",
        "    os.mkdir(DataFolder)\n",
        "except:\n",
        "    print('Already Got the Data Folder')\n",
        "DataFolder = os.path.join(Home,DataFolder)\n",
        "\n",
        "MainResultFolder = 'Main_Result'\n",
        "try:\n",
        "    os.mkdir(MainResultFolder)\n",
        "except:\n",
        "    print('Already Got this Data Folder too')\n",
        "MainResultFolder = os.path.join(Home,MainResultFolder)\n",
        "\n",
        "Supplementary_result = 'Supplementary_Result'\n",
        "try:\n",
        "    os.mkdir(Supplementary_result)\n",
        "except:\n",
        "    print('High on Energy')\n",
        "Supplementary_result = os.path.join(Home,Supplementary_result)\n"
      ]
    },
    {
      "cell_type": "markdown",
      "metadata": {},
      "source": [
        "BASIC"
      ]
    },
    {
      "cell_type": "markdown",
      "metadata": {},
      "source": [
        "DB"
      ]
    },
    {
      "cell_type": "code",
      "execution_count": 68,
      "metadata": {
        "id": "nkcqKuoze_xG"
      },
      "outputs": [],
      "source": [
        "from sklearn.datasets import make_classification\n",
        "from sklearn.model_selection import train_test_split\n",
        "\n",
        "def Make_db():\n",
        "  print(\"New db\")\n",
        "  \n",
        "  remove_lst = [os.path.join(DataFolder,i) for i in os.listdir(DataFolder)]\n",
        "  for i in remove_lst:\n",
        "    os.remove(i)\n",
        "\n",
        "  X,y = make_classification(n_samples=10000,n_features=5,n_informative=2,n_classes=2,n_clusters_per_class=1,flip_y=float(f'0.{SEED}'),shuffle=False,random_state=SEED)\n",
        "  #95 -> 4.5%\n",
        "  #90 -> 14%\n",
        "  #89 -> 14.12%\n",
        "  X_train, X_test, y_train, y_test = train_test_split(X, y, test_size = Test_Ratio, random_state = SEED)\n",
        "\n",
        "  Train = pd.DataFrame(X_train)\n",
        "  Train['Answers'] = y_train\n",
        "  Test = pd.DataFrame(X_test)\n",
        "  Test['Answers'] = y_test\n",
        "\n",
        "  Train_Folder = os.path.join(DataFolder,'Train.csv')\n",
        "  Test_Folder = os.path.join(DataFolder,'Test.csv')\n",
        "\n",
        "  Train.to_csv(Train_Folder)\n",
        "  Test.to_csv(Test_Folder)\n"
      ]
    },
    {
      "cell_type": "code",
      "execution_count": 69,
      "metadata": {
        "id": "U9EhD0e0j0Oh"
      },
      "outputs": [],
      "source": [
        "if 'Train.csv' not in os.listdir(DataFolder) or 'Test.csv' not in os.listdir(DataFolder): \n",
        "  Make_db()\n",
        "\n",
        "  remove_lst = [ os.path.join(MainResultFolder,i) for i in os.listdir(MainResultFolder)]\n",
        "  for i in remove_lst:\n",
        "    os.remove(i)\n",
        "\n",
        "  remove_lst = [ os.path.join(Supplementary_result,i) for i in os.listdir(Supplementary_result)]\n",
        "  for i in remove_lst:\n",
        "    os.remove(i)\n",
        "\n",
        "#New data new results"
      ]
    },
    {
      "cell_type": "markdown",
      "metadata": {},
      "source": [
        "DB"
      ]
    },
    {
      "cell_type": "markdown",
      "metadata": {},
      "source": [
        "FILES"
      ]
    },
    {
      "cell_type": "code",
      "execution_count": 70,
      "metadata": {},
      "outputs": [],
      "source": [
        "Train_File = os.path.join(DataFolder,'Train.csv')\n",
        "Test_File = os.path.join(DataFolder,'Test.csv')"
      ]
    },
    {
      "cell_type": "code",
      "execution_count": 71,
      "metadata": {
        "id": "sEYaYCfwWncq"
      },
      "outputs": [],
      "source": [
        "Train = pd.read_csv(Train_File)\n",
        "Test = pd.read_csv(Test_File)\n",
        "col_lst = list(Test.columns)\n",
        "col_lst.remove('Answers')\n",
        "col_lst = [i for i in col_lst if not i.startswith('Unnamed')]\n",
        "X_train = Train[col_lst]\n",
        "X_test = Test[col_lst]\n",
        "y_train = Train['Answers']\n",
        "y_test = Test['Answers']"
      ]
    },
    {
      "cell_type": "markdown",
      "metadata": {},
      "source": [
        "FILES"
      ]
    },
    {
      "cell_type": "code",
      "execution_count": 72,
      "metadata": {
        "colab": {
          "base_uri": "https://localhost:8080/"
        },
        "id": "AjwzmHJ9ei3T",
        "outputId": "0cf8e82c-2687-4ca7-a31b-666c75ebb661"
      },
      "outputs": [
        {
          "data": {
            "text/plain": [
              "(2000, 8000)"
            ]
          },
          "execution_count": 72,
          "metadata": {},
          "output_type": "execute_result"
        }
      ],
      "source": [
        "len(Test),len(Train)"
      ]
    },
    {
      "cell_type": "code",
      "execution_count": 73,
      "metadata": {
        "id": "hQa-0Ofoe8yQ"
      },
      "outputs": [],
      "source": [
        "import json\n",
        "import numpy as np \n",
        "import niapy\n",
        "from sklearn_nature_inspired_algorithms.model_selection import NatureInspiredSearchCV\n",
        "from sklearn.ensemble import RandomForestClassifier\n"
      ]
    },
    {
      "cell_type": "markdown",
      "metadata": {
        "id": "fbhs_5Bhe8yS"
      },
      "source": [
        "CUCKOO SEARCH"
      ]
    },
    {
      "cell_type": "code",
      "execution_count": 74,
      "metadata": {
        "id": "RPrU3DTMe8yS"
      },
      "outputs": [],
      "source": [
        "from niapy.algorithms.basic import CuckooSearch\n",
        "\n",
        "CucKoo_pbounds = {'population_size':(10,100),'pa':(0.1,1.0) ,'n_estimator':(10,1000),'criterion':(0,1),'max_feature':(0,1)}\n",
        "\n",
        "def mdl_Cuckoo(population_size,pa,n_estimator,criterion,max_feature):\n",
        "    \n",
        "    population_size = int(population_size)\n",
        "    n_estimator = int(n_estimator)\n",
        "    if criterion < 0.5:\n",
        "        criterion = 'gini'\n",
        "    else:\n",
        "        criterion = 'entropy'\n",
        "    if max_feature < 0.34:\n",
        "        max_feature = 'sqrt'\n",
        "    elif max_feature < 0.67:\n",
        "        max_feature = 'log2'\n",
        "    else:\n",
        "        max_feature = None\n",
        "\n",
        "    Algo = CuckooSearch()\n",
        "    Algo.set_parameters(population_size=population_size,pa=pa,seed=SEED)\n",
        "\n",
        "    nia_mdl = NatureInspiredSearchCV(\n",
        "        estimator=RandomForestClassifier(n_estimators=n_estimator,criterion=criterion,max_features=max_feature),\n",
        "        param_grid={},\n",
        "        algorithm=Algo,\n",
        "        runs=1\n",
        "    )\n",
        "    return nia_mdl"
      ]
    },
    {
      "cell_type": "markdown",
      "metadata": {
        "id": "zjwskMKUe8yT"
      },
      "source": [
        "CUCKOO SEARCH"
      ]
    },
    {
      "cell_type": "markdown",
      "metadata": {
        "id": "dKpXd9zWe8yT"
      },
      "source": [
        "FIRE FLY "
      ]
    },
    {
      "cell_type": "code",
      "execution_count": 75,
      "metadata": {
        "id": "th9hn7Yge8yU"
      },
      "outputs": [],
      "source": [
        "from niapy.algorithms.basic import FireflyAlgorithm\n",
        "\n",
        "FireFly_pbounds = {'population_size':(10,100),'alpha':(0.1,1.0),'beta0':(0.01,100),'gamma':(0.1,1.0),'theta':(0.1,1.0),'n_estimator':(10,1000),'criterion':(0,1),'max_feature':(0,1)}\n",
        "\n",
        "def mdl_Firefly(population_size,alpha,beta0,gamma,theta,n_estimator,criterion,max_feature):\n",
        "    \n",
        "    population_size = int(population_size)\n",
        "    n_estimator = int(n_estimator)\n",
        "    if criterion < 0.5:\n",
        "        criterion = 'gini'\n",
        "    else:\n",
        "        criterion = 'entropy'\n",
        "    if max_feature < 0.34:\n",
        "        max_feature = 'sqrt'\n",
        "    elif max_feature < 0.67:\n",
        "        max_feature = 'log2'\n",
        "    else:\n",
        "        max_feature = None\n",
        "\n",
        "    Algo = FireflyAlgorithm()\n",
        "    Algo.set_parameters(population_size=population_size,alpha=alpha,beta0=beta0,gamma=gamma,theta=theta,seed=SEED)\n",
        "\n",
        "    nia_mdl = NatureInspiredSearchCV(\n",
        "        estimator=RandomForestClassifier(n_estimators=n_estimator,criterion=criterion,max_features=max_feature),         \n",
        "        param_grid={},\n",
        "        algorithm=Algo,\n",
        "        runs=1\n",
        "    )\n",
        "    return nia_mdl"
      ]
    },
    {
      "cell_type": "markdown",
      "metadata": {
        "id": "xr6i5YwNe8yU"
      },
      "source": [
        "FIRE FLY "
      ]
    },
    {
      "cell_type": "markdown",
      "metadata": {
        "id": "yC4cSoSpe8yU"
      },
      "source": [
        "BAT"
      ]
    },
    {
      "cell_type": "code",
      "execution_count": 76,
      "metadata": {
        "id": "FHruFa4Ae8yV"
      },
      "outputs": [],
      "source": [
        "from niapy.algorithms.basic import BatAlgorithm\n",
        "\n",
        "BAT_pbounds = {'population_size':(10,100),'loudness':(0.1,1.0),'pulse_rate':(0.1,1.0),'gamma':(0.1,1.0),'alpha':(0.1,1.0),'min_frequency':(0,10),'max_frequency':(10,100),'n_estimator':(10,1000),'criterion':(0,1),'max_feature':(0,1)}\n",
        "\n",
        "def mdl_Bat(population_size,loudness,pulse_rate,gamma,alpha,min_frequency,max_frequency,n_estimator,criterion,max_feature):\n",
        "    \n",
        "    population_size = int(population_size)\n",
        "    n_estimator = int(n_estimator)\n",
        "    if criterion < 0.5:\n",
        "        criterion = 'gini'\n",
        "    else:\n",
        "        criterion = 'entropy'\n",
        "    if max_feature < 0.34:\n",
        "        max_feature = 'sqrt'\n",
        "    elif max_feature < 0.67:\n",
        "        max_feature = 'log2'\n",
        "    else:\n",
        "        max_feature = None\n",
        "\n",
        "    Algo = BatAlgorithm()\n",
        "    Algo.set_parameters(population_size=population_size,loudness=loudness,pulse_rate=pulse_rate,alpha=alpha,gamma=gamma,min_frequency=min_frequency,max_frequency=max_frequency,seed=SEED)\n",
        "\n",
        "    nia_mdl = NatureInspiredSearchCV(\n",
        "        estimator=RandomForestClassifier(n_estimators=n_estimator,criterion=criterion,max_features=max_feature),         \n",
        "        param_grid={},\n",
        "        algorithm=Algo,\n",
        "        runs=1\n",
        "    )\n",
        "    return nia_mdl"
      ]
    },
    {
      "cell_type": "markdown",
      "metadata": {
        "id": "y1x7e8ioe8yW"
      },
      "source": [
        "BAT"
      ]
    },
    {
      "cell_type": "markdown",
      "metadata": {
        "id": "UwQ5o3AJe8yW"
      },
      "source": [
        "SELF ADAPTIVE BAT"
      ]
    },
    {
      "cell_type": "code",
      "execution_count": 77,
      "metadata": {
        "id": "_NXOmcAYe8yX"
      },
      "outputs": [],
      "source": [
        "from niapy.algorithms.modified import AdaptiveBatAlgorithm\n",
        "\n",
        "SABA_pbounds = {'population_size':(10,100),'loudness':(0.1,1.0),'pulse_rate':(0.1,1.0),'epsilon':(0,0.1),'alpha':(0.1,1.0),'min_frequency':(0,10),'max_frequency':(10,100),'n_estimator':(10,1000),'criterion':(0,1),'max_feature':(0,1)}\n",
        "\n",
        "def mdl_SBA(population_size,loudness,pulse_rate,epsilon,alpha,min_frequency,max_frequency,n_estimator,criterion,max_feature):\n",
        "    \n",
        "    population_size = int(population_size)\n",
        "    n_estimator = int(n_estimator)\n",
        "    if criterion < 0.5:\n",
        "        criterion = 'gini'\n",
        "    else:\n",
        "        criterion = 'entropy'\n",
        "    if max_feature < 0.34:\n",
        "        max_feature = 'sqrt'\n",
        "    elif max_feature < 0.67:\n",
        "        max_feature = 'log2'\n",
        "    else:\n",
        "        max_feature = None\n",
        "\n",
        "    Algo = AdaptiveBatAlgorithm()\n",
        "    Algo.set_parameters(population_size=population_size,loudness=loudness,pulse_rate=pulse_rate,alpha=alpha,epsilon=epsilon,min_frequency=min_frequency,max_frequency=max_frequency,seed=SEED)\n",
        "\n",
        "    nia_mdl = NatureInspiredSearchCV(\n",
        "        estimator=RandomForestClassifier(n_estimators=n_estimator,criterion=criterion,max_features=max_feature),         \n",
        "        param_grid={},\n",
        "        algorithm=Algo,\n",
        "        runs=1\n",
        "    )\n",
        "    return nia_mdl"
      ]
    },
    {
      "cell_type": "markdown",
      "metadata": {
        "id": "g9EvQl5Ce8yX"
      },
      "source": [
        "SELF ADAPTIVE BAT"
      ]
    },
    {
      "cell_type": "markdown",
      "metadata": {
        "id": "GdK4U0Z3e8yY"
      },
      "source": [
        "PARTICLE SWARM"
      ]
    },
    {
      "cell_type": "code",
      "execution_count": 78,
      "metadata": {
        "id": "F2_0l7Kme8yY"
      },
      "outputs": [],
      "source": [
        "from niapy.algorithms.basic import ParticleSwarmAlgorithm\n",
        "\n",
        "PSA_pbounds = {'population_size':(10,100),'c1':(0,4),'c2':(0,4),'w':(0,1),'min_velocity':(-10,0),'max_velocity':(0,10),'repair':(0,5),'n_estimator':(10,1000),'criterion':(0,1),'max_feature':(0,1)}\n",
        "\n",
        "def mdl_PSA(population_size,c1,c2,w,min_velocity,max_velocity,repair,n_estimator,criterion,max_feature):\n",
        "\n",
        "    population_size = int(population_size)\n",
        "    n_estimator = int(n_estimator)\n",
        "    if criterion < 0.5:\n",
        "        criterion = 'gini'\n",
        "    else:\n",
        "        criterion = 'entropy'\n",
        "    if max_feature < 0.34:\n",
        "        max_feature = 'sqrt'\n",
        "    elif max_feature < 0.67:\n",
        "        max_feature = 'log2'\n",
        "    else:\n",
        "        max_feature = None\n",
        "    #limit, limit_inverse, wang, rand, reflect\n",
        "    repair_name = ''\n",
        "    if repair < 1.0:\n",
        "        repair = niapy.util.repair.limit\n",
        "        repair_name = 'limit'\n",
        "    elif repair < 2.0:\n",
        "        repair = niapy.util.repair.limit_inverse\n",
        "        repair_name = 'limit_inverse'\n",
        "    elif repair < 3.0:\n",
        "        repair = niapy.util.repair.wang\n",
        "        repair_name = 'wang'\n",
        "    elif repair < 4.0:\n",
        "        repair = niapy.util.repair.rand\n",
        "        repair_name = 'rand'\n",
        "    else:\n",
        "        repair = niapy.util.repair.reflect\n",
        "        repair_name = 'reflect'\n",
        "\n",
        "    Algo = ParticleSwarmAlgorithm()\n",
        "    Algo.set_parameters(population_size=population_size,c1=c1,c2=c2,w=w,min_velocity=min_velocity,max_velocity=max_velocity,repair=repair,seed=SEED) \n",
        "\n",
        "    nia_mdl = NatureInspiredSearchCV(\n",
        "        estimator=RandomForestClassifier(n_estimators=n_estimator,criterion=criterion,max_features=max_feature),         \n",
        "        param_grid={},\n",
        "        algorithm=Algo,\n",
        "        runs=1,\n",
        "    )\n",
        "    return nia_mdl\n",
        "\n",
        "Link = 'https://www.researchgate.net/profile/Mohamed_Mourad_Lafifi/post/Which-is-the-best-swarm-size-in-PSO/attachment/5b5b6f85b53d2f89289c14e1/AS%3A653084896288769%401532718981208/download/Good+Parameters+for+Particle+Swarm+Optimization.pdf'"
      ]
    },
    {
      "cell_type": "markdown",
      "metadata": {
        "id": "nVoHknq7e8yY"
      },
      "source": [
        "PARTICLE SWARM"
      ]
    },
    {
      "cell_type": "markdown",
      "metadata": {
        "id": "E8f_g9pPjBJ4"
      },
      "source": [
        "Camel Algorithm"
      ]
    },
    {
      "cell_type": "code",
      "execution_count": 79,
      "metadata": {
        "id": "C0T8P9H4jBW3"
      },
      "outputs": [],
      "source": [
        "from niapy.algorithms.basic import CamelAlgorithm\n",
        "\n",
        "camel_bounds = {'population_size':(10,100), 'burden_factor':(0.1,1.0), 'death_rate':(0.1,1.0), 'visibility':(0.1,1.0),'supply_init':(1,1000),'endurance_init':(0,1000), 'min_temperature':(-100,0), 'max_temperature':(1,100),'n_estimator':(10,1000),'criterion':(0,1),'max_feature':(0,1)}\n",
        "\n",
        "def mdl_camel(population_size,burden_factor,death_rate,visibility,supply_init,endurance_init,min_temperature,max_temperature,n_estimator,criterion,max_feature):\n",
        "\n",
        "    population_size = int(population_size)\n",
        "    n_estimator = int(n_estimator)\n",
        "    if criterion < 0.5:\n",
        "        criterion = 'gini'\n",
        "    else:\n",
        "        criterion = 'entropy'\n",
        "    if max_feature < 0.34:\n",
        "        max_feature = 'sqrt'\n",
        "    elif max_feature < 0.67:\n",
        "        max_feature = 'log2'\n",
        "    else:\n",
        "        max_feature = None\n",
        "\n",
        "    Algo = CamelAlgorithm()\n",
        "    Algo.set_parameters(population_size=population_size,burden_factor=burden_factor,death_rate=death_rate,visibility=visibility,supply_init=supply_init,endurance_init=endurance_init,min_temperature=min_temperature,max_temperature=max_temperature,seed=SEED) \n",
        "\n",
        "    nia_mdl = NatureInspiredSearchCV(\n",
        "        estimator=RandomForestClassifier(n_estimators=n_estimator,criterion=criterion,max_features=max_feature),         \n",
        "        param_grid={},\n",
        "        algorithm=Algo,\n",
        "        runs=1,\n",
        "    )\n",
        "    return nia_mdl"
      ]
    },
    {
      "cell_type": "markdown",
      "metadata": {
        "id": "KVnO6a5_jBkc"
      },
      "source": [
        "Camel Algorithm"
      ]
    },
    {
      "cell_type": "markdown",
      "metadata": {
        "id": "xYISMKude8yZ"
      },
      "source": [
        "BAYESIAN PARAMETERS"
      ]
    },
    {
      "cell_type": "code",
      "execution_count": 80,
      "metadata": {
        "id": "5hKJv7nizJlS"
      },
      "outputs": [],
      "source": [
        "\n",
        "NIA_Name = {0:'Cuckoo Search',1:'Fire Fly',2:'Bat',3:'Self Adaptive Bat',4:'Particle Swarm', 5:'Camel Algorithm'}\n",
        "\n",
        "NIA_pbounds_lst = {0:CucKoo_pbounds, 1:FireFly_pbounds, 2:BAT_pbounds, 3:SABA_pbounds, 4:PSA_pbounds, 5:camel_bounds}\n",
        "\n",
        "mdl_fxn = {0:mdl_Cuckoo,1:mdl_Firefly,2:mdl_Bat,3:mdl_SBA,4:mdl_PSA,5:mdl_camel}\n",
        "#mdl_camel(para_str)"
      ]
    },
    {
      "cell_type": "markdown",
      "metadata": {},
      "source": [
        "BAYESIAN PARAMETERS"
      ]
    },
    {
      "cell_type": "markdown",
      "metadata": {
        "id": "65Z1IZsle8yZ"
      },
      "source": [
        "FUNCTION LIST"
      ]
    },
    {
      "cell_type": "code",
      "execution_count": 81,
      "metadata": {},
      "outputs": [],
      "source": [
        "from bayes_opt import BayesianOptimization, UtilityFunction\n",
        "from matplotlib import pyplot as plt \n",
        "import time "
      ]
    },
    {
      "cell_type": "markdown",
      "metadata": {},
      "source": [
        "ENERGY FUNCTIONS"
      ]
    },
    {
      "cell_type": "code",
      "execution_count": 82,
      "metadata": {},
      "outputs": [
        {
          "data": {
            "text/plain": [
              "'c:\\\\Users\\\\chand\\\\Desktop\\\\temp_here\\\\Green-Computing\\\\my_tries\\\\full\\\\temp.csv'"
            ]
          },
          "execution_count": 82,
          "metadata": {},
          "output_type": "execute_result"
        }
      ],
      "source": [
        "energy_file = [ os.path.join(os.getcwd(),x) for x in os.listdir() if x.endswith('.csv')][0]\n",
        "energy_file\n",
        "#always check for latest copy whenever you check"
      ]
    },
    {
      "cell_type": "code",
      "execution_count": 83,
      "metadata": {},
      "outputs": [],
      "source": [
        "def Get_Time_Energy(Start_idx,End_idx):\n",
        "\n",
        "    temp_df = pd.read_csv(energy_file)\n",
        "    temp_df_cols = list(temp_df.columns)\n",
        "\n",
        "    ret_dict = {'Time Taken(s)':int(End_idx-Start_idx+1), 'Total Power(J)':0.0, 'CPU(J)':0.0, 'Monitor(J)':0.0, 'Disk(J)':0.0, 'Base(J)':0.0}\n",
        "    ret_dict_cols = list(ret_dict.keys())\n",
        "\n",
        "    for curr_idx in range(Start_idx,End_idx+1):\n",
        "        for i in range(1,len(ret_dict_cols)):\n",
        "              ret_dict[ret_dict_cols[i]] += temp_df[temp_df_cols[i]][curr_idx]\n",
        "    \n",
        "    return ret_dict\n",
        "    "
      ]
    },
    {
      "cell_type": "markdown",
      "metadata": {},
      "source": [
        "BAYESIAN FUNCTION"
      ]
    },
    {
      "cell_type": "code",
      "execution_count": 84,
      "metadata": {
        "colab": {
          "base_uri": "https://localhost:8080/",
          "height": 54
        },
        "id": "CagnD0eWe8ya",
        "outputId": "e711c148-352c-433e-c7de-2ba712a415b2"
      },
      "outputs": [],
      "source": [
        "def Optimize_and_plot(bounds,curr_mdl_fxn,Algo_name:str,Iters:int):\n",
        "    os.remove(energy_file)\n",
        "    time.sleep(2)\n",
        "    \n",
        "    print(f'Currently at {Algo_name}')\n",
        "\n",
        "    optimizer = BayesianOptimization(f = None, pbounds = bounds, verbose = 2, random_state = SEED)\n",
        "    utility = UtilityFunction(kind = \"ucb\", kappa = 1.96, xi = 0.01)\n",
        "\n",
        "    #ID refers to Iteration ID, it is of format f'{Algo_name[:3]}0{Iteration_no}'\n",
        "    #^ This is gonna be Primary Key\n",
        "\n",
        "    #All Parameters\n",
        "    Parameter_df = pd.DataFrame()\n",
        "    col_lst = ['ID'] + list(bounds.keys())\n",
        "    for col_name in col_lst:\n",
        "        Parameter_df[col_name] = []\n",
        "\n",
        "    #All results like Accuracy, time taken, Energy, CO2 \n",
        "    Result_df = pd.DataFrame()\n",
        "    col_lst = ['ID', 'Accuracy', 'Time Taken (s)', 'Energy Used (J)', 'Equivalent CO2 Emission (mg)']\n",
        "    for col_name in col_lst:\n",
        "        Result_df[col_name] = []\n",
        "\n",
        "    #Energy Distribution\n",
        "    Energy_df = pd.DataFrame()\n",
        "    col_lst = ['ID', 'Time Taken(s)', 'Total Power(J)', 'CPU(J)', 'Monitor(J)', 'Disk(J)', 'Base(J)']\n",
        "    for col_name in col_lst:\n",
        "        Energy_df[col_name] = []\n",
        "\n",
        "    for i in range(Iters):\n",
        "        Curr_ID = f'{Algo_name[:3].upper()}-{i:>4}'.replace(' ','0')\n",
        "        # Get optimizer to suggest a new parameter value to try.\n",
        "        next_point = optimizer.suggest(utility)  \n",
        "        # Evaluate the output of the black_box_function using the new parameter value.\n",
        "\n",
        "        Parameter_df.loc[len(Parameter_df)] = [Curr_ID] + list(next_point.values())#Parameter Dict Done\n",
        "\n",
        "        curr_mdl = curr_mdl_fxn(**next_point)\n",
        "\n",
        "        Start_idx = len(pd.read_csv(energy_file))\n",
        "        curr_mdl.fit(X_train,y_train)\n",
        "        target = curr_mdl.score(X_test,y_test)\n",
        "        End_idx = len(pd.read_csv(energy_file))\n",
        "\n",
        "\n",
        "        Energy_dict = Get_Time_Energy(Start_idx,End_idx)\n",
        "        #{'Time Taken(s)':int(End_idx-Start_idx+1), 'Total Power(J)':0.0, 'CPU(J)':0.0, 'Monitor(J)':0.0, 'Disk(J)':0.0, 'Base(J)':0.0}\n",
        "\n",
        "        Result_df.loc[len(Result_df)] = [Curr_ID, target, Energy_dict['Time Taken(s)'], Energy_dict['Total Power(J)'], (17.0/72.0)*Energy_dict['Total Power(J)']]\n",
        "        #['ID', 'Accuracy', 'Time Taken (s)', 'Energy Used (J)', 'Equivalent CO2 Emission (mg)']\n",
        "        \n",
        "        '''emission \n",
        "        1 kW-hr = 0.85 Kg of CO2 emission \n",
        "        36 e5 - 85 e4 mg\n",
        "        360 - 85\n",
        "        72 J - 17mg CO2 \n",
        "        1 J = (17.0/72.0) mg CO2\n",
        "        ''' \n",
        "\n",
        "        Energy_df.loc[len(Energy_df)] = [Curr_ID] + list(Energy_dict.values())\n",
        "        #['ID', 'Time Taken(s)', 'Total Power(J)', 'CPU(J)', 'Monitor(J)', 'Disk(J)', 'Base(J)']\n",
        "\n",
        "        try:\n",
        "            # Update the optimizer with the evaluation results. This needs to be in try-except\n",
        "            # to prevent repeat errors from occuring.\n",
        "            optimizer.register(params = next_point, target = target)\n",
        "        except:\n",
        "            print('What was that?')\n",
        "            pass\n",
        "\n",
        "    Result_df.to_csv(os.path.join(MainResultFolder,f'{Algo_name}.csv')) \n",
        "    Parameter_df.to_csv(os.path.join(Supplementary_result,f'{Algo_name}_Parameter.csv'))\n",
        "    Energy_df.to_csv(os.path.join(Supplementary_result,f'{Algo_name}_Energy_Distribution.csv'))\n",
        "\n",
        "    plt.plot(range(1, 1+len(optimizer.space.target)), optimizer.space.target, \"-o\")\n",
        "    plt.grid(True)\n",
        "    plt.xlabel(\"Iteration\")\n",
        "    plt.ylabel(\"Score\")\n",
        "    plt.show()\n",
        "    plt.savefig(os.path.join(Supplementary_result,f'{Algo_name}_Iterations.svg')  ,format='svg')\n",
        "    plt.show()\n"
      ]
    },
    {
      "cell_type": "markdown",
      "metadata": {},
      "source": [
        "BAYESIAN FUNCTION"
      ]
    },
    {
      "cell_type": "code",
      "execution_count": 96,
      "metadata": {
        "id": "9KJEEtHze8ya"
      },
      "outputs": [
        {
          "name": "stdout",
          "output_type": "stream",
          "text": [
            "Currently at Fire Fly\n",
            "Fitting at most 1.0 candidates\n",
            "Optimization finished, 1 candidates were fitted\n",
            "Fitting at most 1.0 candidates\n",
            "Optimization finished, 1 candidates were fitted\n",
            "Fitting at most 1.0 candidates\n",
            "Optimization finished, 1 candidates were fitted\n",
            "Fitting at most 1.0 candidates\n",
            "Optimization finished, 1 candidates were fitted\n",
            "Fitting at most 1.0 candidates\n",
            "Optimization finished, 1 candidates were fitted\n",
            "Fitting at most 1.0 candidates\n",
            "Optimization finished, 1 candidates were fitted\n",
            "Fitting at most 1.0 candidates\n",
            "Optimization finished, 1 candidates were fitted\n",
            "Fitting at most 1.0 candidates\n",
            "Optimization finished, 1 candidates were fitted\n",
            "Fitting at most 1.0 candidates\n",
            "Optimization finished, 1 candidates were fitted\n",
            "Fitting at most 1.0 candidates\n",
            "Optimization finished, 1 candidates were fitted\n",
            "Fitting at most 1.0 candidates\n",
            "Optimization finished, 1 candidates were fitted\n",
            "Fitting at most 1.0 candidates\n",
            "Optimization finished, 1 candidates were fitted\n",
            "Fitting at most 1.0 candidates\n",
            "Optimization finished, 1 candidates were fitted\n",
            "Fitting at most 1.0 candidates\n",
            "Optimization finished, 1 candidates were fitted\n",
            "Fitting at most 1.0 candidates\n",
            "Optimization finished, 1 candidates were fitted\n",
            "Fitting at most 1.0 candidates\n",
            "Optimization finished, 1 candidates were fitted\n",
            "Fitting at most 1.0 candidates\n",
            "Optimization finished, 1 candidates were fitted\n",
            "Fitting at most 1.0 candidates\n",
            "Optimization finished, 1 candidates were fitted\n",
            "Fitting at most 1.0 candidates\n",
            "Optimization finished, 1 candidates were fitted\n",
            "Fitting at most 1.0 candidates\n",
            "Optimization finished, 1 candidates were fitted\n",
            "Fitting at most 1.0 candidates\n",
            "Optimization finished, 1 candidates were fitted\n",
            "Fitting at most 1.0 candidates\n",
            "Optimization finished, 1 candidates were fitted\n",
            "Fitting at most 1.0 candidates\n",
            "Optimization finished, 1 candidates were fitted\n",
            "Fitting at most 1.0 candidates\n",
            "Optimization finished, 1 candidates were fitted\n",
            "Fitting at most 1.0 candidates\n",
            "Optimization finished, 1 candidates were fitted\n",
            "Fitting at most 1.0 candidates\n",
            "Optimization finished, 1 candidates were fitted\n",
            "Fitting at most 1.0 candidates\n",
            "Optimization finished, 1 candidates were fitted\n",
            "Fitting at most 1.0 candidates\n",
            "Optimization finished, 1 candidates were fitted\n",
            "Fitting at most 1.0 candidates\n",
            "Optimization finished, 1 candidates were fitted\n",
            "Fitting at most 1.0 candidates\n",
            "Optimization finished, 1 candidates were fitted\n",
            "Fitting at most 1.0 candidates\n",
            "Optimization finished, 1 candidates were fitted\n",
            "Fitting at most 1.0 candidates\n",
            "Optimization finished, 1 candidates were fitted\n",
            "Fitting at most 1.0 candidates\n",
            "Optimization finished, 1 candidates were fitted\n",
            "Fitting at most 1.0 candidates\n",
            "Optimization finished, 1 candidates were fitted\n",
            "Fitting at most 1.0 candidates\n",
            "Optimization finished, 1 candidates were fitted\n",
            "Fitting at most 1.0 candidates\n",
            "Optimization finished, 1 candidates were fitted\n",
            "Fitting at most 1.0 candidates\n",
            "Optimization finished, 1 candidates were fitted\n",
            "Fitting at most 1.0 candidates\n",
            "Optimization finished, 1 candidates were fitted\n",
            "Fitting at most 1.0 candidates\n",
            "Optimization finished, 1 candidates were fitted\n",
            "Fitting at most 1.0 candidates\n",
            "Optimization finished, 1 candidates were fitted\n",
            "Fitting at most 1.0 candidates\n",
            "Optimization finished, 1 candidates were fitted\n",
            "Fitting at most 1.0 candidates\n",
            "Optimization finished, 1 candidates were fitted\n",
            "Fitting at most 1.0 candidates\n",
            "Optimization finished, 1 candidates were fitted\n",
            "Fitting at most 1.0 candidates\n",
            "Optimization finished, 1 candidates were fitted\n",
            "Fitting at most 1.0 candidates\n",
            "Optimization finished, 1 candidates were fitted\n",
            "Fitting at most 1.0 candidates\n",
            "Optimization finished, 1 candidates were fitted\n",
            "Fitting at most 1.0 candidates\n",
            "Optimization finished, 1 candidates were fitted\n",
            "Fitting at most 1.0 candidates\n",
            "Optimization finished, 1 candidates were fitted\n",
            "Fitting at most 1.0 candidates\n",
            "Optimization finished, 1 candidates were fitted\n",
            "Fitting at most 1.0 candidates\n",
            "Optimization finished, 1 candidates were fitted\n",
            "Fitting at most 1.0 candidates\n",
            "Optimization finished, 1 candidates were fitted\n",
            "Fitting at most 1.0 candidates\n",
            "Optimization finished, 1 candidates were fitted\n",
            "Fitting at most 1.0 candidates\n",
            "Optimization finished, 1 candidates were fitted\n",
            "Fitting at most 1.0 candidates\n",
            "Optimization finished, 1 candidates were fitted\n",
            "Fitting at most 1.0 candidates\n",
            "Optimization finished, 1 candidates were fitted\n",
            "Fitting at most 1.0 candidates\n",
            "Optimization finished, 1 candidates were fitted\n",
            "Fitting at most 1.0 candidates\n",
            "Optimization finished, 1 candidates were fitted\n",
            "Fitting at most 1.0 candidates\n",
            "Optimization finished, 1 candidates were fitted\n",
            "Fitting at most 1.0 candidates\n",
            "Optimization finished, 1 candidates were fitted\n",
            "Fitting at most 1.0 candidates\n",
            "Optimization finished, 1 candidates were fitted\n",
            "Fitting at most 1.0 candidates\n",
            "Optimization finished, 1 candidates were fitted\n",
            "Fitting at most 1.0 candidates\n",
            "Optimization finished, 1 candidates were fitted\n",
            "re try\n",
            "5830\n"
          ]
        },
        {
          "ename": "KeyError",
          "evalue": "5863",
          "output_type": "error",
          "traceback": [
            "\u001b[1;31m---------------------------------------------------------------------------\u001b[0m",
            "\u001b[1;31mValueError\u001b[0m                                Traceback (most recent call last)",
            "File \u001b[1;32m~\\AppData\\Local\\Packages\\PythonSoftwareFoundation.Python.3.9_qbz5n2kfra8p0\\LocalCache\\local-packages\\Python39\\site-packages\\pandas\\core\\indexes\\range.py:385\u001b[0m, in \u001b[0;36mRangeIndex.get_loc\u001b[1;34m(self, key, method, tolerance)\u001b[0m\n\u001b[0;32m    384\u001b[0m \u001b[39mtry\u001b[39;00m:\n\u001b[1;32m--> 385\u001b[0m     \u001b[39mreturn\u001b[39;00m \u001b[39mself\u001b[39;49m\u001b[39m.\u001b[39;49m_range\u001b[39m.\u001b[39;49mindex(new_key)\n\u001b[0;32m    386\u001b[0m \u001b[39mexcept\u001b[39;00m \u001b[39mValueError\u001b[39;00m \u001b[39mas\u001b[39;00m err:\n",
            "\u001b[1;31mValueError\u001b[0m: 5863 is not in range",
            "\nThe above exception was the direct cause of the following exception:\n",
            "\u001b[1;31mKeyError\u001b[0m                                  Traceback (most recent call last)",
            "\u001b[1;32mc:\\Users\\chand\\Desktop\\temp_here\\Green-Computing\\my_tries\\full\\full.ipynb Cell 50\u001b[0m in \u001b[0;36m<cell line: 3>\u001b[1;34m()\u001b[0m\n\u001b[0;32m      <a href='vscode-notebook-cell:/c%3A/Users/chand/Desktop/temp_here/Green-Computing/my_tries/full/full.ipynb#Y100sZmlsZQ%3D%3D?line=1'>2</a>\u001b[0m My_prev_idx\u001b[39m=\u001b[39m\u001b[39m0\u001b[39m\n\u001b[0;32m      <a href='vscode-notebook-cell:/c%3A/Users/chand/Desktop/temp_here/Green-Computing/my_tries/full/full.ipynb#Y100sZmlsZQ%3D%3D?line=2'>3</a>\u001b[0m \u001b[39mfor\u001b[39;00m i \u001b[39min\u001b[39;00m \u001b[39mrange\u001b[39m(\u001b[39m1\u001b[39m,\u001b[39mlen\u001b[39m(mdl_fxn)):\n\u001b[1;32m----> <a href='vscode-notebook-cell:/c%3A/Users/chand/Desktop/temp_here/Green-Computing/my_tries/full/full.ipynb#Y100sZmlsZQ%3D%3D?line=3'>4</a>\u001b[0m     My_prev_idx\u001b[39m=\u001b[39mOptimize_and_plot(bounds\u001b[39m=\u001b[39;49mNIA_pbounds_lst[i],curr_mdl_fxn\u001b[39m=\u001b[39;49mmdl_fxn[i],Algo_name\u001b[39m=\u001b[39;49mNIA_Name[i],curr_save_fxn\u001b[39m=\u001b[39;49msave_fxn[i],Iters\u001b[39m=\u001b[39;49m\u001b[39m100\u001b[39;49m,curr_update_fxn\u001b[39m=\u001b[39;49mupdate_fxn[i],My_prev_idx\u001b[39m=\u001b[39;49mMy_prev_idx)\n",
            "\u001b[1;32mc:\\Users\\chand\\Desktop\\temp_here\\Green-Computing\\my_tries\\full\\full.ipynb Cell 50\u001b[0m in \u001b[0;36mOptimize_and_plot\u001b[1;34m(bounds, curr_mdl_fxn, Algo_name, Iters, curr_save_fxn, curr_update_fxn, My_prev_idx)\u001b[0m\n\u001b[0;32m     <a href='vscode-notebook-cell:/c%3A/Users/chand/Desktop/temp_here/Green-Computing/my_tries/full/full.ipynb#Y100sZmlsZQ%3D%3D?line=18'>19</a>\u001b[0m target \u001b[39m=\u001b[39m curr_mdl\u001b[39m.\u001b[39mscore(X_test,y_test)\n\u001b[0;32m     <a href='vscode-notebook-cell:/c%3A/Users/chand/Desktop/temp_here/Green-Computing/my_tries/full/full.ipynb#Y100sZmlsZQ%3D%3D?line=19'>20</a>\u001b[0m end_time \u001b[39m=\u001b[39m dt\u001b[39m.\u001b[39mnow()\n\u001b[1;32m---> <a href='vscode-notebook-cell:/c%3A/Users/chand/Desktop/temp_here/Green-Computing/my_tries/full/full.ipynb#Y100sZmlsZQ%3D%3D?line=21'>22</a>\u001b[0m total,cpu,monitor,disk,base, time_taken, My_prev_idx \u001b[39m=\u001b[39m Get_Time_Energy(start_time,end_time,prev_idx\u001b[39m=\u001b[39;49mMy_prev_idx)\n\u001b[0;32m     <a href='vscode-notebook-cell:/c%3A/Users/chand/Desktop/temp_here/Green-Computing/my_tries/full/full.ipynb#Y100sZmlsZQ%3D%3D?line=22'>23</a>\u001b[0m \u001b[39m'''emission \u001b[39;00m\n\u001b[0;32m     <a href='vscode-notebook-cell:/c%3A/Users/chand/Desktop/temp_here/Green-Computing/my_tries/full/full.ipynb#Y100sZmlsZQ%3D%3D?line=23'>24</a>\u001b[0m \u001b[39m1 kW-hr = 0.85 Kg of CO2 emission \u001b[39;00m\n\u001b[0;32m     <a href='vscode-notebook-cell:/c%3A/Users/chand/Desktop/temp_here/Green-Computing/my_tries/full/full.ipynb#Y100sZmlsZQ%3D%3D?line=24'>25</a>\u001b[0m \u001b[39m36 e5 - 85 e4 mg\u001b[39;00m\n\u001b[1;32m   (...)\u001b[0m\n\u001b[0;32m     <a href='vscode-notebook-cell:/c%3A/Users/chand/Desktop/temp_here/Green-Computing/my_tries/full/full.ipynb#Y100sZmlsZQ%3D%3D?line=27'>28</a>\u001b[0m \u001b[39m1 J = (17.0/72.0) mg CO2\u001b[39;00m\n\u001b[0;32m     <a href='vscode-notebook-cell:/c%3A/Users/chand/Desktop/temp_here/Green-Computing/my_tries/full/full.ipynb#Y100sZmlsZQ%3D%3D?line=28'>29</a>\u001b[0m \u001b[39m'''\u001b[39;00m \n\u001b[0;32m     <a href='vscode-notebook-cell:/c%3A/Users/chand/Desktop/temp_here/Green-Computing/my_tries/full/full.ipynb#Y100sZmlsZQ%3D%3D?line=29'>30</a>\u001b[0m curr_update_fxn(para_str,target,time_taken,total,total\u001b[39m*\u001b[39m(\u001b[39m17.0\u001b[39m\u001b[39m/\u001b[39m\u001b[39m72.0\u001b[39m))\n",
            "\u001b[1;32mc:\\Users\\chand\\Desktop\\temp_here\\Green-Computing\\my_tries\\full\\full.ipynb Cell 50\u001b[0m in \u001b[0;36mGet_Time_Energy\u001b[1;34m(start_time, end_time, prev_idx)\u001b[0m\n\u001b[0;32m     <a href='vscode-notebook-cell:/c%3A/Users/chand/Desktop/temp_here/Green-Computing/my_tries/full/full.ipynb#Y100sZmlsZQ%3D%3D?line=15'>16</a>\u001b[0m time_taken \u001b[39m=\u001b[39m \u001b[39m60\u001b[39m\u001b[39m*\u001b[39m(time_taken \u001b[39m+\u001b[39m e_m \u001b[39m-\u001b[39m s_m)\n\u001b[0;32m     <a href='vscode-notebook-cell:/c%3A/Users/chand/Desktop/temp_here/Green-Computing/my_tries/full/full.ipynb#Y100sZmlsZQ%3D%3D?line=16'>17</a>\u001b[0m time_taken \u001b[39m=\u001b[39m (time_taken \u001b[39m+\u001b[39m e_s \u001b[39m-\u001b[39m s_s)\n\u001b[1;32m---> <a href='vscode-notebook-cell:/c%3A/Users/chand/Desktop/temp_here/Green-Computing/my_tries/full/full.ipynb#Y100sZmlsZQ%3D%3D?line=18'>19</a>\u001b[0m start_idx \u001b[39m=\u001b[39m Get_req_start_Idx(s_h\u001b[39m=\u001b[39;49ms_h,s_m\u001b[39m=\u001b[39;49ms_m,s_s\u001b[39m=\u001b[39;49ms_s,prev_idx\u001b[39m=\u001b[39;49mprev_idx,flag\u001b[39m=\u001b[39;49m\u001b[39mTrue\u001b[39;49;00m)\n\u001b[0;32m     <a href='vscode-notebook-cell:/c%3A/Users/chand/Desktop/temp_here/Green-Computing/my_tries/full/full.ipynb#Y100sZmlsZQ%3D%3D?line=19'>20</a>\u001b[0m \u001b[39mif\u001b[39;00m start_idx \u001b[39m==\u001b[39m \u001b[39m-\u001b[39m\u001b[39m1\u001b[39m:\n\u001b[0;32m     <a href='vscode-notebook-cell:/c%3A/Users/chand/Desktop/temp_here/Green-Computing/my_tries/full/full.ipynb#Y100sZmlsZQ%3D%3D?line=20'>21</a>\u001b[0m     \u001b[39mprint\u001b[39m(\u001b[39m\"\u001b[39m\u001b[39mFAILED TO FIND START IDX\u001b[39m\u001b[39m\"\u001b[39m)\n",
            "\u001b[1;32mc:\\Users\\chand\\Desktop\\temp_here\\Green-Computing\\my_tries\\full\\full.ipynb Cell 50\u001b[0m in \u001b[0;36mGet_req_start_Idx\u001b[1;34m(s_h, s_m, s_s, prev_idx, flag)\u001b[0m\n\u001b[0;32m      <a href='vscode-notebook-cell:/c%3A/Users/chand/Desktop/temp_here/Green-Computing/my_tries/full/full.ipynb#Y100sZmlsZQ%3D%3D?line=7'>8</a>\u001b[0m     \u001b[39mprint\u001b[39m(\u001b[39m'\u001b[39m\u001b[39mre try\u001b[39m\u001b[39m'\u001b[39m)\n\u001b[0;32m      <a href='vscode-notebook-cell:/c%3A/Users/chand/Desktop/temp_here/Green-Computing/my_tries/full/full.ipynb#Y100sZmlsZQ%3D%3D?line=8'>9</a>\u001b[0m     \u001b[39mprint\u001b[39m(prev_idx)\n\u001b[1;32m---> <a href='vscode-notebook-cell:/c%3A/Users/chand/Desktop/temp_here/Green-Computing/my_tries/full/full.ipynb#Y100sZmlsZQ%3D%3D?line=9'>10</a>\u001b[0m     \u001b[39mprint\u001b[39m(Get_hms(df[\u001b[39m'\u001b[39;49m\u001b[39mTimeStamp (ms)\u001b[39;49m\u001b[39m'\u001b[39;49m][\u001b[39mlen\u001b[39;49m(df)]))\n\u001b[0;32m     <a href='vscode-notebook-cell:/c%3A/Users/chand/Desktop/temp_here/Green-Computing/my_tries/full/full.ipynb#Y100sZmlsZQ%3D%3D?line=10'>11</a>\u001b[0m     \u001b[39mreturn\u001b[39;00m Get_req_start_Idx(s_h,s_m,s_s,prev_idx\u001b[39m=\u001b[39m\u001b[39m0\u001b[39m,flag\u001b[39m=\u001b[39m\u001b[39mFalse\u001b[39;00m)\n\u001b[0;32m     <a href='vscode-notebook-cell:/c%3A/Users/chand/Desktop/temp_here/Green-Computing/my_tries/full/full.ipynb#Y100sZmlsZQ%3D%3D?line=11'>12</a>\u001b[0m \u001b[39melse\u001b[39;00m:\n",
            "File \u001b[1;32m~\\AppData\\Local\\Packages\\PythonSoftwareFoundation.Python.3.9_qbz5n2kfra8p0\\LocalCache\\local-packages\\Python39\\site-packages\\pandas\\core\\series.py:958\u001b[0m, in \u001b[0;36mSeries.__getitem__\u001b[1;34m(self, key)\u001b[0m\n\u001b[0;32m    955\u001b[0m     \u001b[39mreturn\u001b[39;00m \u001b[39mself\u001b[39m\u001b[39m.\u001b[39m_values[key]\n\u001b[0;32m    957\u001b[0m \u001b[39melif\u001b[39;00m key_is_scalar:\n\u001b[1;32m--> 958\u001b[0m     \u001b[39mreturn\u001b[39;00m \u001b[39mself\u001b[39;49m\u001b[39m.\u001b[39;49m_get_value(key)\n\u001b[0;32m    960\u001b[0m \u001b[39mif\u001b[39;00m is_hashable(key):\n\u001b[0;32m    961\u001b[0m     \u001b[39m# Otherwise index.get_value will raise InvalidIndexError\u001b[39;00m\n\u001b[0;32m    962\u001b[0m     \u001b[39mtry\u001b[39;00m:\n\u001b[0;32m    963\u001b[0m         \u001b[39m# For labels that don't resolve as scalars like tuples and frozensets\u001b[39;00m\n",
            "File \u001b[1;32m~\\AppData\\Local\\Packages\\PythonSoftwareFoundation.Python.3.9_qbz5n2kfra8p0\\LocalCache\\local-packages\\Python39\\site-packages\\pandas\\core\\series.py:1069\u001b[0m, in \u001b[0;36mSeries._get_value\u001b[1;34m(self, label, takeable)\u001b[0m\n\u001b[0;32m   1066\u001b[0m     \u001b[39mreturn\u001b[39;00m \u001b[39mself\u001b[39m\u001b[39m.\u001b[39m_values[label]\n\u001b[0;32m   1068\u001b[0m \u001b[39m# Similar to Index.get_value, but we do not fall back to positional\u001b[39;00m\n\u001b[1;32m-> 1069\u001b[0m loc \u001b[39m=\u001b[39m \u001b[39mself\u001b[39;49m\u001b[39m.\u001b[39;49mindex\u001b[39m.\u001b[39;49mget_loc(label)\n\u001b[0;32m   1070\u001b[0m \u001b[39mreturn\u001b[39;00m \u001b[39mself\u001b[39m\u001b[39m.\u001b[39mindex\u001b[39m.\u001b[39m_get_values_for_loc(\u001b[39mself\u001b[39m, loc, label)\n",
            "File \u001b[1;32m~\\AppData\\Local\\Packages\\PythonSoftwareFoundation.Python.3.9_qbz5n2kfra8p0\\LocalCache\\local-packages\\Python39\\site-packages\\pandas\\core\\indexes\\range.py:387\u001b[0m, in \u001b[0;36mRangeIndex.get_loc\u001b[1;34m(self, key, method, tolerance)\u001b[0m\n\u001b[0;32m    385\u001b[0m         \u001b[39mreturn\u001b[39;00m \u001b[39mself\u001b[39m\u001b[39m.\u001b[39m_range\u001b[39m.\u001b[39mindex(new_key)\n\u001b[0;32m    386\u001b[0m     \u001b[39mexcept\u001b[39;00m \u001b[39mValueError\u001b[39;00m \u001b[39mas\u001b[39;00m err:\n\u001b[1;32m--> 387\u001b[0m         \u001b[39mraise\u001b[39;00m \u001b[39mKeyError\u001b[39;00m(key) \u001b[39mfrom\u001b[39;00m \u001b[39merr\u001b[39;00m\n\u001b[0;32m    388\u001b[0m \u001b[39mself\u001b[39m\u001b[39m.\u001b[39m_check_indexing_error(key)\n\u001b[0;32m    389\u001b[0m \u001b[39mraise\u001b[39;00m \u001b[39mKeyError\u001b[39;00m(key)\n",
            "\u001b[1;31mKeyError\u001b[0m: 5863"
          ]
        }
      ],
      "source": [
        "#def Optimize_and_plot(bounds,curr_mdl_fxn,Algo_name:str,Iters:int):\n",
        "for i in range(1,len(mdl_fxn)):\n",
        "    Optimize_and_plot(bounds=NIA_pbounds_lst[i],curr_mdl_fxn=mdl_fxn[i],Algo_name=NIA_Name[i],Iters=100)\n",
        "    "
      ]
    },
    {
      "cell_type": "markdown",
      "metadata": {},
      "source": [
        "BASE CASE"
      ]
    },
    {
      "cell_type": "code",
      "execution_count": 85,
      "metadata": {},
      "outputs": [],
      "source": [
        "os.remove(energy_file)\n",
        "time.sleep(2)\n",
        "curr_mdl = RandomForestClassifier()\n",
        "Start_idx = len(pd.read_csv(energy_file))\n",
        "curr_mdl.fit(X_train,y_train)\n",
        "target = curr_mdl.score(X_test,y_test)\n",
        "End_idx = len(pd.read_csv(energy_file))\n",
        "\n",
        "Energy_dict = Get_Time_Energy(Start_idx,End_idx)\n",
        "#{'Time Taken(s)':int(End_idx-Start_idx+1), 'Total Power(J)':0.0, 'CPU(J)':0.0, 'Monitor(J)':0.0, 'Disk(J)':0.0, 'Base(J)':0.0}\n",
        "\n",
        "Curr_ID = 'BASE-0001'"
      ]
    },
    {
      "cell_type": "code",
      "execution_count": 88,
      "metadata": {},
      "outputs": [],
      "source": [
        "#All results like Accuracy, time taken, Energy, CO2 \n",
        "Result_df = pd.DataFrame()\n",
        "col_lst = ['ID', 'Accuracy', 'Time Taken (s)', 'Energy Used (J)', 'Equivalent CO2 Emission (mg)']\n",
        "for col_name in col_lst:\n",
        "    Result_df[col_name] = []\n",
        "\n",
        "#Energy Distribution\n",
        "Energy_df = pd.DataFrame()\n",
        "col_lst = ['ID', 'Time Taken(s)', 'Total Power(J)', 'CPU(J)', 'Monitor(J)', 'Disk(J)', 'Base(J)']\n",
        "for col_name in col_lst:\n",
        "    Energy_df[col_name] = []\n"
      ]
    },
    {
      "cell_type": "code",
      "execution_count": 89,
      "metadata": {},
      "outputs": [],
      "source": [
        "\n",
        "Result_df.loc[len(Result_df)] = [Curr_ID, target, Energy_dict['Time Taken(s)'], Energy_dict['Total Power(J)'], (17.0/72.0)*Energy_dict['Total Power(J)']]\n",
        "#['ID', 'Accuracy', 'Time Taken (s)', 'Energy Used (J)', 'Equivalent CO2 Emission (mg)']\n",
        "\n",
        "Energy_df.loc[len(Energy_df)] = [Curr_ID] + list(Energy_dict.values())\n",
        "#['ID', 'Time Taken(s)', 'Total Power(J)', 'CPU(J)', 'Monitor(J)', 'Disk(J)', 'Base(J)']\n"
      ]
    },
    {
      "cell_type": "code",
      "execution_count": 90,
      "metadata": {},
      "outputs": [],
      "source": [
        "Result_df.to_csv(os.path.join(MainResultFolder,'Base.csv')) \n",
        "Energy_df.to_csv(os.path.join(Supplementary_result,'Base_Energy_Distribution.csv'))"
      ]
    },
    {
      "cell_type": "markdown",
      "metadata": {},
      "source": [
        "BASE CASE"
      ]
    },
    {
      "cell_type": "markdown",
      "metadata": {
        "id": "Br_NO9vMGbt9"
      },
      "source": [
        "function ClickConnect(){\n",
        "               \n",
        "console.log(\"Working\"); \n",
        "document.querySelector(\"#comments > span\").click() \n",
        "}\n",
        "setInterval(ClickConnect,5000)"
      ]
    }
  ],
  "metadata": {
    "colab": {
      "provenance": []
    },
    "gpuClass": "standard",
    "kernelspec": {
      "display_name": "Python 3.9.13 64-bit (microsoft store)",
      "language": "python",
      "name": "python3"
    },
    "language_info": {
      "codemirror_mode": {
        "name": "ipython",
        "version": 3
      },
      "file_extension": ".py",
      "mimetype": "text/x-python",
      "name": "python",
      "nbconvert_exporter": "python",
      "pygments_lexer": "ipython3",
      "version": "3.9.13"
    },
    "vscode": {
      "interpreter": {
        "hash": "bcac82fb26a6e7c950421e78519edb87e1a5e005e0aec2fc293e679965bb2493"
      }
    }
  },
  "nbformat": 4,
  "nbformat_minor": 0
}
