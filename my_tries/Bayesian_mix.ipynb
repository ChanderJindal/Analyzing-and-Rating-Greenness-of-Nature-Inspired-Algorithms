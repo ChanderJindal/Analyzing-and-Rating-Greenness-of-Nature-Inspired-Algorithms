{
  "cells": [
    {
      "cell_type": "code",
      "execution_count": null,
      "metadata": {
        "id": "8kP5DjKoFQS7"
      },
      "outputs": [],
      "source": [
        "Link = 'https://github.com/natsunoyuki/blog_posts/blob/main/data_science/Bayesian%20Optimization%20of%20Model%20Hyperparameters.ipynb'"
      ]
    },
    {
      "cell_type": "code",
      "execution_count": null,
      "metadata": {
        "colab": {
          "base_uri": "https://localhost:8080/"
        },
        "id": "Yq0fwUIDFkId",
        "outputId": "3d26a211-0c13-4720-a2a5-adbcd2bbd5f7"
      },
      "outputs": [],
      "source": [
        "pip install niapy"
      ]
    },
    {
      "cell_type": "code",
      "execution_count": null,
      "metadata": {
        "colab": {
          "base_uri": "https://localhost:8080/"
        },
        "id": "xfp_nrcuFkK1",
        "outputId": "36645080-3d1f-4815-f1b9-a219d733a6f2"
      },
      "outputs": [],
      "source": [
        "pip install sklearn "
      ]
    },
    {
      "cell_type": "code",
      "execution_count": null,
      "metadata": {
        "colab": {
          "base_uri": "https://localhost:8080/"
        },
        "id": "jIy5TXCwFkOY",
        "outputId": "4b7ab6c0-e144-4fe9-f190-d8a1ecbeaf8d"
      },
      "outputs": [],
      "source": [
        "pip install sklearn-nature-inspired-algorithms"
      ]
    },
    {
      "cell_type": "code",
      "execution_count": null,
      "metadata": {
        "colab": {
          "base_uri": "https://localhost:8080/"
        },
        "id": "rOUE4gTGFz9K",
        "outputId": "e3396739-b452-4959-f4de-9287cf178bd7"
      },
      "outputs": [],
      "source": [
        "pip install bayesian-optimization"
      ]
    },
    {
      "cell_type": "code",
      "execution_count": null,
      "metadata": {
        "id": "VWCENWUzFQS9"
      },
      "outputs": [],
      "source": [
        "SEED = 1412\n",
        "Test_Ratio = 0.2"
      ]
    },
    {
      "cell_type": "code",
      "execution_count": null,
      "metadata": {
        "id": "Rl8W4hYOFQS-"
      },
      "outputs": [],
      "source": [
        "from sklearn.datasets import make_classification\n",
        "from sklearn.model_selection import train_test_split\n",
        "\n",
        "X,y = make_classification(n_samples=10000,n_features=5,n_informative=2,n_classes=2,n_clusters_per_class=1,flip_y=0.1412,shuffle=False,random_state=SEED)\n",
        "\n",
        "X_train, X_test, y_train, y_test = train_test_split(X, y, test_size = Test_Ratio, random_state = SEED)\n",
        "\n"
      ]
    },
    {
      "cell_type": "markdown",
      "metadata": {},
      "source": [
        "MDL"
      ]
    },
    {
      "cell_type": "code",
      "execution_count": null,
      "metadata": {
        "id": "ohW1sQrJFQS_"
      },
      "outputs": [],
      "source": [
        "from sklearn.ensemble import RandomForestClassifier\n",
        "\n",
        "def mdl_para_lst_maker():\n",
        "    lst = []\n",
        "    for n_estimator in range(50,501,50):\n",
        "        for criterion in ['gini', 'entropy']:\n",
        "            for max_feature in ['sqrt', 'log2', None]:\n",
        "                MyDict = {'n_estimators':[n_estimator], 'criterion':[criterion], 'max_features':[max_feature], 'random_state':[SEED]}\n",
        "                lst.append(MyDict)\n",
        "    return lst \n",
        "\n",
        "mdl_para_lst = mdl_para_lst_maker()   \n",
        "\n",
        "def get_mdl_para(x):\n",
        "    x = int(x)\n",
        "    try:\n",
        "        return mdl_para_lst[x]\n",
        "    except:\n",
        "        x = x%len(mdl_para_lst)\n",
        "        print(f'Yo! X ({x}) for mdl is out of bounds!')\n",
        "        return mdl_para_lst[x]"
      ]
    },
    {
      "cell_type": "markdown",
      "metadata": {},
      "source": [
        "MDL"
      ]
    },
    {
      "cell_type": "code",
      "execution_count": null,
      "metadata": {},
      "outputs": [],
      "source": [
        "import numpy as np \n",
        "from niapy.algorithms.basic import CuckooSearch, FireflyAlgorithm, BatAlgorithm\n",
        "from niapy.algorithms.modified import HybridBatAlgorithm, AdaptiveBatAlgorithm, HybridSelfAdaptiveBatAlgorithm\n",
        "\n",
        "from sklearn_nature_inspired_algorithms.model_selection import NatureInspiredSearchCV\n"
      ]
    },
    {
      "cell_type": "markdown",
      "metadata": {},
      "source": [
        "CUC-KOO SEARCH"
      ]
    },
    {
      "cell_type": "code",
      "execution_count": null,
      "metadata": {},
      "outputs": [],
      "source": [
        "def NIA_CucKoo():\n",
        "    lst = []\n",
        "    for population_size in range(10,101,10):#10\n",
        "        for Probability_abandoned in np.arange(0.10,1.0,0.01):#90\n",
        "            Algo = CuckooSearch()\n",
        "            Algo.set_parameters(population_size=population_size, \n",
        "            pa=Probability_abandoned, \n",
        "            seed=SEED\n",
        "            )\n",
        "            lst.append(Algo)\n",
        "    return lst \n",
        "\n",
        "link = 'https://sci-hub.se/10.1016/j.asoc.2020.107077'"
      ]
    },
    {
      "cell_type": "markdown",
      "metadata": {},
      "source": [
        "CUC-KOO SEARCH"
      ]
    },
    {
      "cell_type": "markdown",
      "metadata": {
        "id": "XuILZgNu7_ZN"
      },
      "source": [
        "FIRE FLY"
      ]
    },
    {
      "cell_type": "code",
      "execution_count": null,
      "metadata": {
        "colab": {
          "base_uri": "https://localhost:8080/",
          "height": 126
        },
        "id": "5jQPkz7qFQS_",
        "outputId": "53c0b34c-d314-468a-9f3e-d2149431af6d"
      },
      "outputs": [],
      "source": [
        "\n",
        "def NIA_FireFly():\n",
        "    lst = []\n",
        "    for population_size in range(10,101,10):#10\n",
        "        for alpha in np.arange(0.10,0.21,0.01):#10\n",
        "            for beta0 in range(10,101,10):#10\n",
        "                for gamma in np.arange(0.05,1.01,0.05):#19\n",
        "                    for theta in np.arange(0.05,1.01,0.05):#19\n",
        "                        Algo = FireflyAlgorithm()\n",
        "                        Algo.set_parameters(population_size=population_size, \n",
        "                        alpha=alpha, \n",
        "                        beta0=beta0, \n",
        "                        gamma=gamma, \n",
        "                        theta=theta,\n",
        "                        seed=SEED\n",
        "                        )\n",
        "                        lst.append(Algo)\n",
        "    return lst \n",
        "\n",
        "link = 'https://sci-hub.se/10.1109/ICDMA.2013.210'"
      ]
    },
    {
      "cell_type": "markdown",
      "metadata": {
        "id": "FwXzOIRk8BjL"
      },
      "source": [
        "FIRE FLY"
      ]
    },
    {
      "cell_type": "markdown",
      "metadata": {},
      "source": [
        "BAT"
      ]
    },
    {
      "cell_type": "code",
      "execution_count": null,
      "metadata": {},
      "outputs": [],
      "source": [
        "\n",
        "def NIA_BAT():\n",
        "    lst = []\n",
        "    for population_size in range(10,101,10):#10\n",
        "        for loudness in np.arange(0.25,1.01,0.05):#16\n",
        "            for pulse_rate in np.arange(0.25,1.01,0.05):#16\n",
        "                for gamma in np.arange(0.25,1.01,0.05):#16\n",
        "                    for alpha in np.arange(0.25,1.01,0.05):#16\n",
        "                        for min_frequency in range(0,5):#5\n",
        "                            for max_frequency in range(min_frequency,min_frequency+4):#4\n",
        "                                Algo = BatAlgorithm()\n",
        "                                Algo.set_parameters(population_size=population_size, \n",
        "                                loudness=loudness,\n",
        "                                pulse_rate=pulse_rate,\n",
        "                                alpha=alpha, \n",
        "                                gamma=gamma, \n",
        "                                min_frequency=min_frequency,\n",
        "                                max_frequency=max_frequency,\n",
        "                                seed=SEED\n",
        "                                )\n",
        "                                lst.append(Algo)\n",
        "    return lst \n",
        "\n",
        "link = 'https://sci-hub.se/10.1504/IJBIC.2015.069304'"
      ]
    },
    {
      "cell_type": "markdown",
      "metadata": {},
      "source": [
        "BAT"
      ]
    },
    {
      "cell_type": "markdown",
      "metadata": {
        "id": "Etm2Lbkd8Cy3"
      },
      "source": [
        "HYBRID BAT"
      ]
    },
    {
      "cell_type": "code",
      "execution_count": null,
      "metadata": {
        "id": "twgtafT23Mgb"
      },
      "outputs": [],
      "source": [
        "\n",
        "def NIA_HBA():\n",
        "    lst = []\n",
        "    for df in np.arange(0.10,.91,.01):\n",
        "      for cp in np.arange(0.10,.91,.01):\n",
        "        Algo = HybridBatAlgorithm()\n",
        "        Algo.set_parameters(differential_weight=df, crossover_probability=cp)#, strategy=sc)\n",
        "        lst.append(Algo)\n",
        "\n",
        "    return lst \n",
        "\n",
        "link = 'https://arxiv.org/pdf/1303.6310.pdf'"
      ]
    },
    {
      "cell_type": "markdown",
      "metadata": {
        "id": "hGXMMcnX8E8M"
      },
      "source": [
        "HYBRID BAT"
      ]
    },
    {
      "cell_type": "markdown",
      "metadata": {},
      "source": [
        "SELF ADAPTIVE BAT"
      ]
    },
    {
      "cell_type": "code",
      "execution_count": null,
      "metadata": {},
      "outputs": [],
      "source": [
        "\n",
        "def NIA_SABA():\n",
        "    lst = []\n",
        "    for population_size in range(10,101,10):#10\n",
        "        for loudness in np.arange(0.25,1.01,0.05):#16\n",
        "            for pulse_rate in np.arange(0.25,1.01,0.05):#16\n",
        "                for epsilon in np.arange(0.001,0.101,0.001):#16\n",
        "                    for alpha in np.arange(0.25,1.01,0.05):#16\n",
        "                        for min_frequency in range(0,5):#5\n",
        "                            for max_frequency in range(min_frequency,min_frequency+4):#4\n",
        "                                Algo = AdaptiveBatAlgorithm()\n",
        "                                Algo.set_parameters(population_size=population_size, \n",
        "                                starting_loudness=loudness,\n",
        "                                pulse_rate=pulse_rate,\n",
        "                                alpha=alpha, \n",
        "                                epsilon=epsilon, \n",
        "                                min_frequency=min_frequency,\n",
        "                                max_frequency=max_frequency,\n",
        "                                seed=SEED\n",
        "                                )\n",
        "                                lst.append(Algo)\n",
        "    return lst  "
      ]
    },
    {
      "cell_type": "markdown",
      "metadata": {},
      "source": [
        "SELF ADAPTIVE BAT"
      ]
    },
    {
      "cell_type": "markdown",
      "metadata": {},
      "source": [
        "HYBRID SELF ADAPTIVE BAT"
      ]
    },
    {
      "cell_type": "code",
      "execution_count": null,
      "metadata": {},
      "outputs": [],
      "source": [
        "\n",
        "def NIA_HSABA():\n",
        "    lst = []\n",
        "    for df in np.arange(0.10,.91,.01):\n",
        "      for cp in np.arange(0.10,.91,.01):\n",
        "        Algo = HybridSelfAdaptiveBatAlgorithm()\n",
        "        Algo.set_parameters(differential_weight=df, crossover_probability=cp)#, strategy=sc)\n",
        "        lst.append(Algo)\n",
        "\n",
        "    return lst \n",
        "    \n",
        "link = 'https://sci-hub.se/10.1155/2014/709738'"
      ]
    },
    {
      "cell_type": "markdown",
      "metadata": {},
      "source": [
        "HYBRID SELF ADAPTIVE BAT"
      ]
    },
    {
      "cell_type": "markdown",
      "metadata": {},
      "source": [
        "NIA SELECTION"
      ]
    },
    {
      "cell_type": "code",
      "execution_count": null,
      "metadata": {},
      "outputs": [],
      "source": [
        "NIA_lst = [NIA_CucKoo(), NIA_FireFly(), NIA_BAT(), NIA_HBA(), NIA_SABA(), NIA_HSABA()]\n",
        "\n",
        "NIA_Val_Dict = {0:'Cuckoo Search',1:'Fire Fly',2:'Bat',3:'Hybrid Bat',4:'Self Adaptive Bat',5:'Hybrid Self Adaptive Bat'}\n",
        "\n",
        "def Get_Algo_Val(x,NIA_val):\n",
        "    x = int(x)\n",
        "    NIA_val = int(NIA_val)\n",
        "    try:\n",
        "        return NIA_lst[NIA_val][x]\n",
        "    except:\n",
        "        print(f'Yo! X ({x}) for algo is out of bounds!')\n",
        "        x = x%(len(NIA_lst[NIA_val]))\n",
        "        return NIA_lst[NIA_val][x] \n",
        "\n",
        "NIA_Dict = [dict(), dict(), dict(), dict(), dict(), dict() ]\n",
        "\n",
        "def Get_NIA_Score(mdl_val,algo_val,NIA_val):\n",
        "    print(mdl_val,algo_val,NIA_val)\n",
        "    mdl_val = int(mdl_val)\n",
        "    algo_val = int(algo_val)\n",
        "    NIA_val = int(NIA_val)\n",
        "    print(mdl_val,algo_val,NIA_val)\n",
        "\n",
        "    Curr_dict = NIA_Dict[NIA_val]\n",
        "\n",
        "    combo_str = f'{mdl_val}_{algo_val}'\n",
        "    if combo_str in Curr_dict:\n",
        "        return Curr_dict[combo_str]\n",
        "\n",
        "    param_grid = get_mdl_para(mdl_val)\n",
        "\n",
        "    algorithm = Get_Algo_Val(x,NIA_val)\n",
        "\n",
        "    nia_search_mdl = NatureInspiredSearchCV( \n",
        "        estimator=RandomForestClassifier(),\n",
        "        param_grid=param_grid,\n",
        "        algorithm=algorithm,\n",
        "        runs=1\n",
        "    )\n",
        "    nia_search_mdl.fit(X_train, y_train)\n",
        "    val = nia_search_mdl.score(X_test,y_test)\n",
        "    Curr_dict[combo_str] = val \n",
        "    NIA_Dict[NIA_val] = Curr_dict\n",
        "    return val "
      ]
    },
    {
      "cell_type": "markdown",
      "metadata": {},
      "source": [
        "NIA SELECTION"
      ]
    },
    {
      "cell_type": "code",
      "execution_count": null,
      "metadata": {
        "colab": {
          "base_uri": "https://localhost:8080/"
        },
        "id": "iJBq20nrzlX5",
        "outputId": "b84b01cf-6b8b-48e8-e1ae-62bb44b40518"
      },
      "outputs": [],
      "source": [
        "clf = RandomForestClassifier()\n",
        "clf.fit(X_train, y_train)\n",
        "val = clf.score(X_test,y_test)\n",
        "print(f'The default value is -> {val}')"
      ]
    },
    {
      "cell_type": "code",
      "execution_count": null,
      "metadata": {},
      "outputs": [],
      "source": [
        "break"
      ]
    },
    {
      "cell_type": "code",
      "execution_count": null,
      "metadata": {},
      "outputs": [],
      "source": [
        "from bayes_opt import BayesianOptimization, UtilityFunction\n"
      ]
    },
    {
      "cell_type": "code",
      "execution_count": null,
      "metadata": {
        "colab": {
          "base_uri": "https://localhost:8080/"
        },
        "id": "DR6m8uyWFQTD",
        "outputId": "9c56b01a-aebe-4143-87b8-f484d6cf643f"
      },
      "outputs": [],
      "source": [
        "# Set range of C to optimize over. bayes_opt requires this to be a dictionary.\n",
        "pbounds = {\"algo_val\": (0, len(HBA_lst)-1), \"mdl_val\" : (0,len(mdl_para_lst)-1)}\n",
        "print(pbounds)\n",
        "#ptypes = {\"algo_val\": int, \"mdl_val\": int}\n",
        "\n",
        "# Create BayesianOptimization object, and optimize (maximize) black_box_function.\n",
        "optimizer = BayesianOptimization(f = Get_Score_HBA, pbounds = pbounds, verbose = 2, random_state = SEED)\n",
        "\n",
        "optimizer.maximize(init_points = 50, n_iter = 50)\n",
        "\n",
        "print(f'Best result: {optimizer.max[\"params\"]} f(x) = {optimizer.max[\"target\"]}.')"
      ]
    },
    {
      "cell_type": "code",
      "execution_count": null,
      "metadata": {
        "colab": {
          "base_uri": "https://localhost:8080/"
        },
        "id": "4B4ft2I5FQTF",
        "outputId": "d882b15a-aae9-4b34-d641-f063208e71a8"
      },
      "outputs": [],
      "source": [
        "# Create optimizer and utility function objects.\n",
        "optimizer = BayesianOptimization(f = None, pbounds = {\"algo_val\": (0, len(HBA_lst)-1), \"mdl_val\" : (0,len(mdl_para_lst)-1)}, verbose = 2, random_state = SEED)\n",
        "utility = UtilityFunction(kind = \"ucb\", kappa = 1.96, xi = 0.01)\n",
        "\n",
        "# Optimization for loop.\n",
        "for i in range(100):\n",
        "    # Get optimizer to suggest a new parameter value to try.\n",
        "    next_point = optimizer.suggest(utility)  \n",
        "    # Evaluate the output of the black_box_function using the new parameter value.\n",
        "    target = Get_Score_HBA(**next_point)\n",
        "    try:\n",
        "        # Update the optimizer with the evaluation results. This needs to be in try-except\n",
        "        # to prevent repeat errors from occuring.\n",
        "        optimizer.register(params = next_point, target = target)\n",
        "    except:\n",
        "        pass\n",
        "    \n",
        "print(\"Best result: {}; f(x) = {:.3f}.\".format(optimizer.max[\"params\"], optimizer.max[\"target\"]))"
      ]
    },
    {
      "cell_type": "code",
      "execution_count": null,
      "metadata": {
        "colab": {
          "base_uri": "https://localhost:8080/",
          "height": 297
        },
        "id": "OiMCKnubFQTF",
        "outputId": "cd8b804d-ad8c-478e-ffd9-0ac9b9307934"
      },
      "outputs": [],
      "source": [
        "import matplotlib.pyplot as plt\n",
        "\n",
        "#plt.figure(figsize = (15, 5))\n",
        "plt.plot(range(1, 1+len(optimizer.space.target)), optimizer.space.target, \"-o\")\n",
        "plt.grid(True)\n",
        "plt.xlabel(\"Iteration\")\n",
        "plt.ylabel(\"Black box function\")\n",
        "plt.legend()\n",
        "plt.show()"
      ]
    },
    {
      "cell_type": "code",
      "execution_count": null,
      "metadata": {
        "id": "PpRa-dsUFQTH"
      },
      "outputs": [],
      "source": [
        " "
      ]
    },
    {
      "cell_type": "markdown",
      "metadata": {
        "id": "Br_NO9vMGbt9"
      },
      "source": [
        "function ClickConnect(){\n",
        "\n",
        "console.log(\"Working\"); \n",
        "document.querySelector(\"#comments > span\").click() \n",
        "}\n",
        "setInterval(ClickConnect,5000)"
      ]
    }
  ],
  "metadata": {
    "colab": {
      "provenance": []
    },
    "kernelspec": {
      "display_name": "Python 3.9.13 64-bit (microsoft store)",
      "language": "python",
      "name": "python3"
    },
    "language_info": {
      "codemirror_mode": {
        "name": "ipython",
        "version": 3
      },
      "file_extension": ".py",
      "mimetype": "text/x-python",
      "name": "python",
      "nbconvert_exporter": "python",
      "pygments_lexer": "ipython3",
      "version": "3.9.13"
    },
    "vscode": {
      "interpreter": {
        "hash": "bcac82fb26a6e7c950421e78519edb87e1a5e005e0aec2fc293e679965bb2493"
      }
    }
  },
  "nbformat": 4,
  "nbformat_minor": 0
}
