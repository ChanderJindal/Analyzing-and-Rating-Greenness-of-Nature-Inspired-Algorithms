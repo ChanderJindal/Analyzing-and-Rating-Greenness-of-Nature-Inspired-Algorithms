{
  "cells": [
    {
      "cell_type": "code",
      "execution_count": 1,
      "metadata": {
        "colab": {
          "base_uri": "https://localhost:8080/"
        },
        "id": "Fxo9VjzEz5En",
        "outputId": "98889637-9852-4ddb-f06e-26f922c96354"
      },
      "outputs": [
        {
          "name": "stdout",
          "output_type": "stream",
          "text": [
            "Requirement already satisfied: niapy in c:\\users\\chand\\appdata\\local\\packages\\pythonsoftwarefoundation.python.3.9_qbz5n2kfra8p0\\localcache\\local-packages\\python39\\site-packages (2.0.2)\n",
            "Requirement already satisfied: openpyxl>=3.0.3 in c:\\users\\chand\\appdata\\local\\packages\\pythonsoftwarefoundation.python.3.9_qbz5n2kfra8p0\\localcache\\local-packages\\python39\\site-packages (from niapy) (3.0.10)\n",
            "Requirement already satisfied: matplotlib>=2.2.4 in c:\\users\\chand\\appdata\\local\\packages\\pythonsoftwarefoundation.python.3.9_qbz5n2kfra8p0\\localcache\\local-packages\\python39\\site-packages (from niapy) (3.5.3)\n",
            "Requirement already satisfied: pandas>=0.24.2 in c:\\users\\chand\\appdata\\local\\packages\\pythonsoftwarefoundation.python.3.9_qbz5n2kfra8p0\\localcache\\local-packages\\python39\\site-packages (from niapy) (1.4.4)\n",
            "Requirement already satisfied: numpy>=1.17.0 in c:\\users\\chand\\appdata\\local\\packages\\pythonsoftwarefoundation.python.3.9_qbz5n2kfra8p0\\localcache\\local-packages\\python39\\site-packages (from niapy) (1.23.2)\n",
            "Requirement already satisfied: kiwisolver>=1.0.1 in c:\\users\\chand\\appdata\\local\\packages\\pythonsoftwarefoundation.python.3.9_qbz5n2kfra8p0\\localcache\\local-packages\\python39\\site-packages (from matplotlib>=2.2.4->niapy) (1.4.4)\n",
            "Requirement already satisfied: python-dateutil>=2.7 in c:\\users\\chand\\appdata\\local\\packages\\pythonsoftwarefoundation.python.3.9_qbz5n2kfra8p0\\localcache\\local-packages\\python39\\site-packages (from matplotlib>=2.2.4->niapy) (2.8.2)\n",
            "Requirement already satisfied: pillow>=6.2.0 in c:\\users\\chand\\appdata\\local\\packages\\pythonsoftwarefoundation.python.3.9_qbz5n2kfra8p0\\localcache\\local-packages\\python39\\site-packages (from matplotlib>=2.2.4->niapy) (9.2.0)\n",
            "Requirement already satisfied: pyparsing>=2.2.1 in c:\\users\\chand\\appdata\\local\\packages\\pythonsoftwarefoundation.python.3.9_qbz5n2kfra8p0\\localcache\\local-packages\\python39\\site-packages (from matplotlib>=2.2.4->niapy) (3.0.9)\n",
            "Requirement already satisfied: packaging>=20.0 in c:\\users\\chand\\appdata\\local\\packages\\pythonsoftwarefoundation.python.3.9_qbz5n2kfra8p0\\localcache\\local-packages\\python39\\site-packages (from matplotlib>=2.2.4->niapy) (21.3)\n",
            "Requirement already satisfied: fonttools>=4.22.0 in c:\\users\\chand\\appdata\\local\\packages\\pythonsoftwarefoundation.python.3.9_qbz5n2kfra8p0\\localcache\\local-packages\\python39\\site-packages (from matplotlib>=2.2.4->niapy) (4.37.1)\n",
            "Requirement already satisfied: cycler>=0.10 in c:\\users\\chand\\appdata\\local\\packages\\pythonsoftwarefoundation.python.3.9_qbz5n2kfra8p0\\localcache\\local-packages\\python39\\site-packages (from matplotlib>=2.2.4->niapy) (0.11.0)\n",
            "Requirement already satisfied: et-xmlfile in c:\\users\\chand\\appdata\\local\\packages\\pythonsoftwarefoundation.python.3.9_qbz5n2kfra8p0\\localcache\\local-packages\\python39\\site-packages (from openpyxl>=3.0.3->niapy) (1.1.0)\n",
            "Requirement already satisfied: pytz>=2020.1 in c:\\users\\chand\\appdata\\local\\packages\\pythonsoftwarefoundation.python.3.9_qbz5n2kfra8p0\\localcache\\local-packages\\python39\\site-packages (from pandas>=0.24.2->niapy) (2022.2.1)\n",
            "Requirement already satisfied: six>=1.5 in c:\\users\\chand\\appdata\\local\\packages\\pythonsoftwarefoundation.python.3.9_qbz5n2kfra8p0\\localcache\\local-packages\\python39\\site-packages (from python-dateutil>=2.7->matplotlib>=2.2.4->niapy) (1.16.0)\n",
            "Note: you may need to restart the kernel to use updated packages.\n"
          ]
        }
      ],
      "source": [
        "pip install niapy"
      ]
    },
    {
      "cell_type": "code",
      "execution_count": 2,
      "metadata": {
        "colab": {
          "base_uri": "https://localhost:8080/"
        },
        "id": "Sf8P86v3z_yt",
        "outputId": "1f69e7c8-534e-45ba-ebf2-da57cd5c8b38"
      },
      "outputs": [
        {
          "name": "stdout",
          "output_type": "stream",
          "text": [
            "Requirement already satisfied: sklearn in c:\\users\\chand\\appdata\\local\\packages\\pythonsoftwarefoundation.python.3.9_qbz5n2kfra8p0\\localcache\\local-packages\\python39\\site-packages (0.0)\n",
            "Requirement already satisfied: scikit-learn in c:\\users\\chand\\appdata\\local\\packages\\pythonsoftwarefoundation.python.3.9_qbz5n2kfra8p0\\localcache\\local-packages\\python39\\site-packages (from sklearn) (1.1.2)\n",
            "Requirement already satisfied: joblib>=1.0.0 in c:\\users\\chand\\appdata\\local\\packages\\pythonsoftwarefoundation.python.3.9_qbz5n2kfra8p0\\localcache\\local-packages\\python39\\site-packages (from scikit-learn->sklearn) (1.1.0)\n",
            "Requirement already satisfied: numpy>=1.17.3 in c:\\users\\chand\\appdata\\local\\packages\\pythonsoftwarefoundation.python.3.9_qbz5n2kfra8p0\\localcache\\local-packages\\python39\\site-packages (from scikit-learn->sklearn) (1.23.2)\n",
            "Requirement already satisfied: scipy>=1.3.2 in c:\\users\\chand\\appdata\\local\\packages\\pythonsoftwarefoundation.python.3.9_qbz5n2kfra8p0\\localcache\\local-packages\\python39\\site-packages (from scikit-learn->sklearn) (1.9.1)\n",
            "Requirement already satisfied: threadpoolctl>=2.0.0 in c:\\users\\chand\\appdata\\local\\packages\\pythonsoftwarefoundation.python.3.9_qbz5n2kfra8p0\\localcache\\local-packages\\python39\\site-packages (from scikit-learn->sklearn) (3.1.0)\n",
            "Note: you may need to restart the kernel to use updated packages.\n"
          ]
        }
      ],
      "source": [
        "pip install sklearn"
      ]
    },
    {
      "cell_type": "code",
      "execution_count": 3,
      "metadata": {
        "id": "aKrF0vKFz6CB"
      },
      "outputs": [],
      "source": [
        "import pandas as pd\n",
        "from sklearn.model_selection import train_test_split ,cross_val_score\n",
        "import matplotlib.pyplot as plt\n",
        "import seaborn as sns"
      ]
    },
    {
      "cell_type": "code",
      "execution_count": 4,
      "metadata": {
        "id": "7Apfs6b5z5Es"
      },
      "outputs": [],
      "source": [
        "from sklearn.datasets import make_classification\n",
        "import numpy as np \n",
        "SEED = 1412 "
      ]
    },
    {
      "cell_type": "code",
      "execution_count": 5,
      "metadata": {
        "id": "D_wTHEOvz5Et"
      },
      "outputs": [],
      "source": [
        "X,y = make_classification(n_samples=10000,n_features=5,n_informative=2,n_classes=2,n_clusters_per_class=1,flip_y=0.2,shuffle=False,random_state=SEED)"
      ]
    },
    {
      "cell_type": "code",
      "execution_count": 6,
      "metadata": {
        "colab": {
          "base_uri": "https://localhost:8080/"
        },
        "id": "F93_hMZvz5Eu",
        "outputId": "6317a4f2-f5a4-4b41-dae5-13b03a24cc0d"
      },
      "outputs": [
        {
          "name": "stdout",
          "output_type": "stream",
          "text": [
            "<class 'numpy.ndarray'> <class 'numpy.ndarray'>\n",
            "(10000, 5) (10000,)\n"
          ]
        }
      ],
      "source": [
        "print(type(X),type(y))\n",
        "print(np.shape(X),np.shape(y))"
      ]
    },
    {
      "cell_type": "code",
      "execution_count": 7,
      "metadata": {
        "colab": {
          "base_uri": "https://localhost:8080/",
          "height": 206
        },
        "id": "gfRhBs5xz5Ew",
        "outputId": "7960a0c3-2cb3-4f4a-c8ed-63b244cc59a0"
      },
      "outputs": [
        {
          "data": {
            "text/html": [
              "<div>\n",
              "<style scoped>\n",
              "    .dataframe tbody tr th:only-of-type {\n",
              "        vertical-align: middle;\n",
              "    }\n",
              "\n",
              "    .dataframe tbody tr th {\n",
              "        vertical-align: top;\n",
              "    }\n",
              "\n",
              "    .dataframe thead th {\n",
              "        text-align: right;\n",
              "    }\n",
              "</style>\n",
              "<table border=\"1\" class=\"dataframe\">\n",
              "  <thead>\n",
              "    <tr style=\"text-align: right;\">\n",
              "      <th></th>\n",
              "      <th>0</th>\n",
              "      <th>1</th>\n",
              "      <th>2</th>\n",
              "      <th>3</th>\n",
              "      <th>4</th>\n",
              "      <th>Answer</th>\n",
              "    </tr>\n",
              "  </thead>\n",
              "  <tbody>\n",
              "    <tr>\n",
              "      <th>0</th>\n",
              "      <td>0.533273</td>\n",
              "      <td>0.819977</td>\n",
              "      <td>-0.951346</td>\n",
              "      <td>0.056317</td>\n",
              "      <td>0.104183</td>\n",
              "      <td>0</td>\n",
              "    </tr>\n",
              "    <tr>\n",
              "      <th>1</th>\n",
              "      <td>2.355706</td>\n",
              "      <td>0.729445</td>\n",
              "      <td>-1.502328</td>\n",
              "      <td>1.040854</td>\n",
              "      <td>-1.897134</td>\n",
              "      <td>1</td>\n",
              "    </tr>\n",
              "    <tr>\n",
              "      <th>2</th>\n",
              "      <td>0.191484</td>\n",
              "      <td>1.037704</td>\n",
              "      <td>-1.035397</td>\n",
              "      <td>-0.183296</td>\n",
              "      <td>-1.695266</td>\n",
              "      <td>0</td>\n",
              "    </tr>\n",
              "    <tr>\n",
              "      <th>3</th>\n",
              "      <td>1.451625</td>\n",
              "      <td>1.204866</td>\n",
              "      <td>-1.630845</td>\n",
              "      <td>0.434561</td>\n",
              "      <td>0.961220</td>\n",
              "      <td>0</td>\n",
              "    </tr>\n",
              "    <tr>\n",
              "      <th>4</th>\n",
              "      <td>-0.501209</td>\n",
              "      <td>0.631813</td>\n",
              "      <td>-0.414981</td>\n",
              "      <td>-0.436951</td>\n",
              "      <td>0.631393</td>\n",
              "      <td>0</td>\n",
              "    </tr>\n",
              "  </tbody>\n",
              "</table>\n",
              "</div>"
            ],
            "text/plain": [
              "          0         1         2         3         4  Answer\n",
              "0  0.533273  0.819977 -0.951346  0.056317  0.104183       0\n",
              "1  2.355706  0.729445 -1.502328  1.040854 -1.897134       1\n",
              "2  0.191484  1.037704 -1.035397 -0.183296 -1.695266       0\n",
              "3  1.451625  1.204866 -1.630845  0.434561  0.961220       0\n",
              "4 -0.501209  0.631813 -0.414981 -0.436951  0.631393       0"
            ]
          },
          "execution_count": 7,
          "metadata": {},
          "output_type": "execute_result"
        }
      ],
      "source": [
        "My_df = pd.DataFrame(X)\n",
        "My_df['Answer'] = y \n",
        "My_df.head()"
      ]
    },
    {
      "cell_type": "code",
      "execution_count": 8,
      "metadata": {
        "colab": {
          "base_uri": "https://localhost:8080/",
          "height": 595
        },
        "id": "vhP-ZSHOz5Ew",
        "outputId": "82dda4af-11a7-4860-dfe1-1d071b73cf57"
      },
      "outputs": [
        {
          "data": {
            "image/png": "[encoded data removed]",
            "text/plain": [
              "<Figure size 1000x1000 with 2 Axes>"
            ]
          },
          "metadata": {},
          "output_type": "display_data"
        }
      ],
      "source": [
        "corr = My_df.corr()\n",
        "#Plot figsize\n",
        "fig, ax = plt.subplots(figsize=(10, 10))\n",
        "#Generate Heat Map, allow annotations and place floats in map\n",
        "sns.heatmap(corr, cmap='RdBu', annot=True, fmt=\".2f\")\n",
        "#Apply xticks\n",
        "plt.xticks(range(len(corr.columns)), corr.columns)\n",
        "#Apply yticks\n",
        "plt.yticks(range(len(corr.columns)), corr.columns)\n",
        "#show plot\n",
        "plt.show()"
      ]
    },
    {
      "cell_type": "code",
      "execution_count": 9,
      "metadata": {
        "id": "6BgzUBBmz5Ex"
      },
      "outputs": [],
      "source": [
        "X_train, X_test, y_train, y_test = train_test_split(X, y, test_size=0.2, random_state=SEED)"
      ]
    },
    {
      "cell_type": "code",
      "execution_count": 10,
      "metadata": {
        "id": "lLzFVQj3z5Ey"
      },
      "outputs": [],
      "source": [
        "from sklearn.ensemble import RandomForestClassifier\n",
        "from sklearn.linear_model import SGDClassifier\n",
        "from sklearn.tree import DecisionTreeClassifier\n",
        "\n",
        "DTC_ = DecisionTreeClassifier()\n",
        "SDGC_ = SGDClassifier()\n",
        "RFC_ = RandomForestClassifier()"
      ]
    },
    {
      "cell_type": "code",
      "execution_count": 11,
      "metadata": {
        "colab": {
          "base_uri": "https://localhost:8080/"
        },
        "id": "jGx9Tx-WqPEw",
        "outputId": "2fcf8e7c-0761-4697-91bb-1c0de835f644"
      },
      "outputs": [
        {
          "data": {
            "text/plain": [
              "0.86"
            ]
          },
          "execution_count": 11,
          "metadata": {},
          "output_type": "execute_result"
        }
      ],
      "source": [
        "mdl = RFC_\n",
        "mdl.fit(X_train,y_train)\n",
        "val = mdl.score(X_test,y_test)\n",
        "val"
      ]
    },
    {
      "cell_type": "markdown",
      "metadata": {
        "id": "_1E2GSTbz5Ez"
      },
      "source": [
        "split 1"
      ]
    },
    {
      "cell_type": "code",
      "execution_count": 12,
      "metadata": {
        "id": "I7q1h7roz5E1"
      },
      "outputs": [],
      "source": [
        "from sklearn.ensemble import AdaBoostClassifier\n",
        "from niapy.problems import Problem\n",
        "from niapy.task import OptimizationType, Task\n",
        "\n",
        "\n",
        "def get_hyperparameters(x):\n",
        "    \"\"\"\n",
        "    Function to get hyperparameters from x value.\n",
        "    base_estimator, n_estimators, learning_rate, and loss\n",
        "    \"\"\"\n",
        "    print(f'x -> \\n{x}')\n",
        "    \n",
        "    bases = (DTC_, SDGC_, RFC_)\n",
        "    base_estimator = bases[int(x[0] * (len(bases)-1))]\n",
        "    n_estimators = int(x[1] * 100 + 1)\n",
        "    learning_rate = x[2] * 3 + 0.000001\n",
        "    #algorithms = ('SAMME', 'SAMME.R')\n",
        "    #algorithm = algorithms[int(x[3] * (len(algorithms)-1))]\n",
        "#base_estimator=None, *, n_estimators=50, learning_rate=1.0, algorithm='SAMME.R', random_state=None\n",
        "\n",
        "    params = {\n",
        "        'base_estimator': base_estimator,\n",
        "        'n_estimators': n_estimators,\n",
        "        'learning_rate' : learning_rate,\n",
        "        'algorithm': 'SAMME',\n",
        "    }\n",
        "    print(f'Para -> \\n{params}')\n",
        "\n",
        "    return params\n",
        "\n",
        "\n",
        "def get_classifier(x):\n",
        "    \"\"\"     generate regressor berdasarkan hyperparameter yang dipilih.     \"\"\"\n",
        "    params = get_hyperparameters(x)\n",
        "    return AdaBoostClassifier(**params)"
      ]
    },
    {
      "cell_type": "code",
      "execution_count": 13,
      "metadata": {
        "id": "4J_13BpPz5E2"
      },
      "outputs": [],
      "source": [
        "class ABRHyperparameterOptimization(Problem):\n",
        "    def __init__(self, X_train, y_train):\n",
        "        super().__init__(dimension=4, lower=0, upper=1)\n",
        "        self.X_train = X_train\n",
        "        self.y_train = y_train\n",
        "\n",
        "    def _evaluate(self, x):\n",
        "        model = get_classifier(x)\n",
        "        scores = cross_val_score(model, self.X_train, self.y_train, cv=5, n_jobs=-1)\n",
        "        return scores.mean()"
      ]
    },
    {
      "cell_type": "code",
      "execution_count": 14,
      "metadata": {
        "colab": {
          "base_uri": "https://localhost:8080/"
        },
        "id": "nlk1TAxDz5E3",
        "outputId": "140e9c21-2661-44ad-8733-bb91fe6ee05c"
      },
      "outputs": [],
      "source": [
        "problem = ABRHyperparameterOptimization(X_train, y_train)\n",
        "\n",
        "task = Task(problem, max_iters=100, optimization_type=OptimizationType.MAXIMIZATION)\n"
      ]
    },
    {
      "cell_type": "code",
      "execution_count": 16,
      "metadata": {},
      "outputs": [],
      "source": [
        "from niapy.algorithms.modified import HybridBatAlgorithm, SelfAdaptiveBatAlgorithm\n",
        "from niapy.algorithms.basic import BatAlgorithm, FireflyAlgorithm, GreyWolfOptimizer\n"
      ]
    },
    {
      "cell_type": "code",
      "execution_count": 17,
      "metadata": {},
      "outputs": [],
      "source": [
        "from niapy import Runner\n"
      ]
    },
    {
      "cell_type": "code",
      "execution_count": null,
      "metadata": {},
      "outputs": [],
      "source": [
        "runner = Runner(\n",
        "dimension=40,\n",
        "max_evals=100,\n",
        "runs=2,\n",
        "algorithms=[\n",
        "GreyWolfOptimizer(),\n",
        "HybridBatAlgorithm(),\n",
        "SelfAdaptiveBatAlgorithm(),\n",
        "BatAlgorithm(),\n",
        "FireflyAlgorithm()],\n",
        "problems=[\n",
        "problem\n",
        "])\n",
        "runner.run(export='json', verbose=True)\n"
      ]
    },
    {
      "cell_type": "code",
      "execution_count": null,
      "metadata": {},
      "outputs": [],
      "source": [
        "break"
      ]
    },
    {
      "cell_type": "code",
      "execution_count": null,
      "metadata": {},
      "outputs": [],
      "source": [
        "\n",
        "algorithm = HybridBatAlgorithm(population_size=10, seed=SEED)\n",
        "best_params_HBA, best_accuracy = algorithm.run(task)\n",
        " \n",
        "print('Best parameters:', get_hyperparameters(best_params_HBA))"
      ]
    },
    {
      "cell_type": "code",
      "execution_count": null,
      "metadata": {
        "colab": {
          "base_uri": "https://localhost:8080/"
        },
        "id": "zh5ofFjmz5E3",
        "outputId": "ed4947ed-c38f-48bf-e91c-72f2298b8b0e"
      },
      "outputs": [],
      "source": [
        "default_model = AdaBoostClassifier()\n",
        "best_model_HBA = get_classifier(best_params_HBA)\n",
        "\n",
        "default_model.fit(X_train, y_train)\n",
        "best_model_HBA.fit(X_train, y_train)"
      ]
    },
    {
      "cell_type": "markdown",
      "metadata": {
        "id": "X6QQ5RuI1mSZ"
      },
      "source": [
        "x -> \n",
        "[0.         0.01187018 1.         0.02658115]\n",
        "Para -> \n",
        "{'base_estimator': LinearRegression(), 'n_estimators': 2, 'learning_rate': 3.000001, 'loss': 'linear'}\n",
        "AdaBoostRegressor(base_estimator=LinearRegression(), learning_rate=3.000001,\n",
        "                  n_estimators=2)"
      ]
    },
    {
      "cell_type": "markdown",
      "metadata": {
        "id": "j_Nvijdq1mf6"
      },
      "source": []
    },
    {
      "cell_type": "code",
      "execution_count": null,
      "metadata": {
        "colab": {
          "base_uri": "https://localhost:8080/"
        },
        "id": "XmPcyl33z5E5",
        "outputId": "20a90fb7-cafc-4b5e-f5da-25c37c3f26d7"
      },
      "outputs": [],
      "source": [
        "default_score_test = default_model.score(X_test, y_test)\n",
        "best_score_HBA_test = best_model_HBA.score(X_test, y_test)\n",
        "\n",
        "print('Default model accuracy:', default_score_test)\n",
        "print('Best model accuracy:', best_score_HBA_test)"
      ]
    },
    {
      "cell_type": "markdown",
      "metadata": {
        "id": "5WVLXOm0F2kj"
      },
      "source": [
        "function ClickConnect(){\n",
        "\n",
        "console.log(\"Working\"); \n",
        "document.querySelector(\"#comments > span\").click() \n",
        "}\n",
        "setInterval(ClickConnect,5000)"
      ]
    },
    {
      "cell_type": "code",
      "execution_count": null,
      "metadata": {
        "id": "BSjQlzIMz5E6"
      },
      "outputs": [],
      "source": []
    }
  ],
  "metadata": {
    "colab": {
      "provenance": []
    },
    "gpuClass": "standard",
    "kernelspec": {
      "display_name": "Python 3.9.13 64-bit (microsoft store)",
      "language": "python",
      "name": "python3"
    },
    "language_info": {
      "codemirror_mode": {
        "name": "ipython",
        "version": 3
      },
      "file_extension": ".py",
      "mimetype": "text/x-python",
      "name": "python",
      "nbconvert_exporter": "python",
      "pygments_lexer": "ipython3",
      "version": "3.9.13"
    },
    "orig_nbformat": 4,
    "vscode": {
      "interpreter": {
        "hash": "bcac82fb26a6e7c950421e78519edb87e1a5e005e0aec2fc293e679965bb2493"
      }
    }
  },
  "nbformat": 4,
  "nbformat_minor": 0
}
