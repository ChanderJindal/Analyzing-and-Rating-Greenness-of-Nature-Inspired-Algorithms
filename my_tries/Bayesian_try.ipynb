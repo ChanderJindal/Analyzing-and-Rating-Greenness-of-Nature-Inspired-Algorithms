{
 "cells": [
  {
   "cell_type": "code",
   "execution_count": 1,
   "metadata": {},
   "outputs": [],
   "source": [
    "import numpy as np\n",
    "\n",
    "import matplotlib.pyplot as plt\n",
    "\n",
    "from sklearn.preprocessing import MinMaxScaler\n",
    "from sklearn.model_selection import train_test_split, cross_val_score\n",
    "from sklearn.metrics import roc_auc_score\n",
    "from sklearn.datasets import make_classification\n",
    "\n",
    "from bayes_opt import BayesianOptimization, UtilityFunction\n",
    "\n",
    "import warnings\n",
    "warnings.filterwarnings(\"ignore\")\n"
   ]
  },
  {
   "cell_type": "code",
   "execution_count": 2,
   "metadata": {},
   "outputs": [],
   "source": [
    "Link = 'https://github.com/natsunoyuki/blog_posts/blob/main/data_science/Bayesian%20Optimization%20of%20Model%20Hyperparameters.ipynb'"
   ]
  },
  {
   "cell_type": "code",
   "execution_count": 3,
   "metadata": {},
   "outputs": [],
   "source": [
    "SEED = 1412\n",
    "Test_Ratio = 0.2"
   ]
  },
  {
   "cell_type": "code",
   "execution_count": 4,
   "metadata": {},
   "outputs": [],
   "source": [
    "X,y = make_classification(n_samples=10000,n_features=5,n_informative=2,n_classes=2,n_clusters_per_class=1,flip_y=0.2,shuffle=False,random_state=SEED)"
   ]
  },
  {
   "cell_type": "code",
   "execution_count": 5,
   "metadata": {},
   "outputs": [],
   "source": [
    "\n",
    "X_train, X_test, y_train, y_test = train_test_split(X, y, test_size = Test_Ratio, random_state = SEED)\n",
    "\n"
   ]
  },
  {
   "cell_type": "markdown",
   "metadata": {},
   "source": []
  },
  {
   "cell_type": "code",
   "execution_count": 6,
   "metadata": {},
   "outputs": [],
   "source": [
    "from sklearn.ensemble import RandomForestClassifier\n",
    "\n",
    "from niapy.problems import Problem\n",
    "from niapy.task import OptimizationType, Task\n",
    "from niapy.runner import Runner\n"
   ]
  },
  {
   "cell_type": "code",
   "execution_count": 7,
   "metadata": {},
   "outputs": [],
   "source": [
    "def mdl_lst_maker():\n",
    "    lst = []\n",
    "    for n_estimator in range(50,501,50):\n",
    "        for criterion in ['gini', 'entropy', 'log_loss']:\n",
    "            for max_feature in ['sqrt', 'log2', None]:\n",
    "                lst.append(RandomForestClassifier(n_estimators=n_estimator, criterion=criterion, max_features=max_feature, random_state=SEED ))\n",
    "    return lst \n",
    "\n",
    "def mdl_para_lst_maker():\n",
    "    lst = []\n",
    "    for n_estimator in range(50,501,50):\n",
    "        for criterion in ['gini', 'entropy', 'log_loss']:\n",
    "            for max_feature in ['sqrt', 'log2', None]:\n",
    "                MyDict = {'n_estimators':[n_estimator], 'criterion':[criterion], 'max_features':[max_feature], 'random_state':[SEED]}\n",
    "                lst.append(MyDict)\n",
    "    return lst "
   ]
  },
  {
   "cell_type": "code",
   "execution_count": 8,
   "metadata": {},
   "outputs": [],
   "source": [
    "mdl_lst = mdl_lst_maker()\n",
    "\n",
    "def get_mdl(x):\n",
    "    x = int(x)\n",
    "    try:\n",
    "        return mdl_lst[x]\n",
    "    except:\n",
    "        x = x%len(mdl_lst)\n",
    "        print(f'Yo! X ({x}) for mdl is out of bounds!')\n",
    "        return mdl_lst[x]\n",
    "\n",
    "mdl_para_lst = mdl_para_lst_maker()\n",
    "\n",
    "def get_mdl_para(x):\n",
    "    x = int(x)\n",
    "    try:\n",
    "        return mdl_para_lst[x]\n",
    "    except:\n",
    "        x = x%len(mdl_para_lst)\n",
    "        print(f'Yo! X ({x}) for mdl is out of bounds!')\n",
    "        return mdl_para_lst[x]"
   ]
  },
  {
   "cell_type": "code",
   "execution_count": 9,
   "metadata": {},
   "outputs": [],
   "source": [
    "from niapy.algorithms.basic import FireflyAlgorithm, BatAlgorithm\n",
    "\n",
    "def NIA_FireFly():\n",
    "    lst = []\n",
    "    for population_size in range(10,101,10):#10\n",
    "        for alpha in np.arange(0.10,0.21,0.01):#10\n",
    "            for beta0 in range(10,101,10):#10\n",
    "                for gamma in np.arange(0.05,1.01,0.05):#19\n",
    "                    for theta in np.arange(0.05,1.01,0.05):#19\n",
    "                        Algo = FireflyAlgorithm()\n",
    "                        Algo.set_parameters(population_size=population_size, \n",
    "                        alpha=alpha, \n",
    "                        beta0=beta0, \n",
    "                        gamma=gamma, \n",
    "                        theta=theta,\n",
    "                        seed=SEED\n",
    "                        )\n",
    "                        lst.append(Algo)\n",
    "    return lst \n"
   ]
  },
  {
   "cell_type": "code",
   "execution_count": 10,
   "metadata": {},
   "outputs": [],
   "source": [
    "FA_lst = NIA_FireFly()\n",
    "def get_algo(x):\n",
    "    x = int(x)\n",
    "    try:\n",
    "        return FA_lst[x]\n",
    "    except:\n",
    "        print(f'Yo! X ({x}) for algo is out of bounds!')\n",
    "        x = x%(len(FA_lst))\n",
    "        return FA_lst[x]\n",
    "    "
   ]
  },
  {
   "cell_type": "code",
   "execution_count": 14,
   "metadata": {},
   "outputs": [],
   "source": [
    "import sys, os\n",
    "\n",
    "# Disable\n",
    "def blockPrint():\n",
    "    sys.stdout = open(os.devnull, 'w')\n",
    "\n",
    "# Restore\n",
    "def enablePrint():\n",
    "    sys.stdout = sys.__stdout__\n",
    "\n",
    "\n",
    "print(\"This will print\")\n",
    "\n",
    "blockPrint()\n",
    "print(\"This won't\")\n",
    "\n",
    "enablePrint()\n",
    "print(\"This will too\")"
   ]
  },
  {
   "cell_type": "code",
   "execution_count": 12,
   "metadata": {},
   "outputs": [],
   "source": [
    "from sklearn_nature_inspired_algorithms.model_selection import NatureInspiredSearchCV\n",
    "\n",
    "param_grid = get_mdl_para(1)\n",
    "clf = RandomForestClassifier()\n",
    "\n",
    "algorithm = get_algo(0) # when custom algorithm is provided random_state is ignored\n",
    "#algorithm.set_parameters(NP=50, Ts=5, Mr=0.25)\n",
    "\n",
    "nia_search_mdl = NatureInspiredSearchCV(\n",
    "    estimator=RandomForestClassifier(),\n",
    "    param_grid=param_grid,\n",
    "    algorithm=algorithm,\n",
    "    runs=1\n",
    ")\n",
    "blockPrint()\n",
    "nia_search_mdl.fit(X_train, y_train)\n",
    "val = nia_search_mdl.score(X_test,y_test)\n",
    "sys.stdout = sys.__stdout__\n",
    "enablePrint()"
   ]
  },
  {
   "cell_type": "code",
   "execution_count": 15,
   "metadata": {},
   "outputs": [],
   "source": [
    "sys.stdout = sys.__stdout__\n",
    "print(val)"
   ]
  },
  {
   "cell_type": "code",
   "execution_count": null,
   "metadata": {},
   "outputs": [],
   "source": [
    "19*19*1000 * 100*3*3"
   ]
  },
  {
   "cell_type": "code",
   "execution_count": null,
   "metadata": {},
   "outputs": [],
   "source": [
    "324900000*6 ,32490000, (32490000/60), (32490000/60)/24, ((32490000/60)/24)/365 "
   ]
  },
  {
   "cell_type": "code",
   "execution_count": null,
   "metadata": {},
   "outputs": [],
   "source": [
    "class MyProblem(Problem):\n",
    "    def __init__(self, X_train, X_test, y_train, y_test, mdl_no):\n",
    "        super().__init__(dimension=4, lower=0, upper=1)\n",
    "        self.X_train = X_train\n",
    "        self.X_test = X_test\n",
    "        self.y_train = y_train\n",
    "        self.y_test = y_test\n",
    "        self.mdl_no = mdl_no\n",
    "\n",
    "    def _evaluate(self,x):\n",
    "        print(f'this is x -> {x}')\n",
    "        mdl = get_mdl(self.mdl_no)\n",
    "        mdl.fit(self.X_train, self.y_train)\n",
    "        mdl_score = mdl.score(self.X_test, self.y_test) \n",
    "        return mdl_score"
   ]
  },
  {
   "cell_type": "code",
   "execution_count": null,
   "metadata": {},
   "outputs": [],
   "source": [
    "Curr_Algo = get_algo(0)\n",
    "problem = MyProblem(X_train, X_test, y_train, y_test, 0)\n"
   ]
  },
  {
   "cell_type": "code",
   "execution_count": null,
   "metadata": {},
   "outputs": [],
   "source": [
    "#dimension=10, max_evals=1000000, runs=1, algorithms='ArtificialBeeColonyAlgorithm', problems='Ackley'\n",
    "My_Runner = Runner(max_evals=10000, algorithms=[Curr_Algo], problems=[problem])\n",
    "My_Runner.run()"
   ]
  },
  {
   "cell_type": "code",
   "execution_count": null,
   "metadata": {},
   "outputs": [],
   "source": [
    "Curr_Algo = get_algo(0)\n",
    "problem = MyProblem(X_train, X_test, y_train, y_test, 0)\n",
    "task = Task(problem, max_iters=100, optimization_type=OptimizationType.MAXIMIZATION)\n",
    "print(task)\n",
    "best_params, best_accuracy = Curr_Algo.run(task)"
   ]
  },
  {
   "cell_type": "markdown",
   "metadata": {},
   "source": [
    "best_params_HBA, best_accuracy = algorithm.run(task)"
   ]
  },
  {
   "cell_type": "markdown",
   "metadata": {},
   "source": [
    "\n",
    "X_train, X_test, y_train, y_test = train_test_split(X, y, test_size = Test_Ratio, random_state = SEED)\n",
    "\n",
    "scaler = MinMaxScaler()\n",
    "X_train_scaled = scaler.fit_transform(X_train)\n",
    "X_test_scaled = scaler.transform(X_test)"
   ]
  },
  {
   "cell_type": "code",
   "execution_count": null,
   "metadata": {},
   "outputs": [],
   "source": [
    "\n",
    "# Define the metric to optimize over.\n",
    "def black_box_function(algo,mdl):\n",
    "    # Function to maximize using Bayesian optimization.\n",
    "    Curr_Algo = get_algo(algo)\n",
    "    problem = MyProblem(X_train, X_test, y_train, y_test, mdl)\n",
    "    task = Task(problem, max_iters=100, optimization_type=OptimizationType.MAXIMIZATION)\n",
    "    best_params, best_accuracy = Curr_Algo.run(task)\n",
    "    \n",
    "    best_mdl = get_classifier(best_params)\n",
    "    best_mdl.fit(X_train_scaled,y_train)\n",
    "    y_score = best_mdl.score(X_test_scaled,y_test)\n",
    "\n",
    "    return y_score\n",
    "\n",
    "# Set range of C to optimize over. bayes_opt requires this to be a dictionary.\n",
    "pbounds = {\"algo\": (0, len(FA_lst)-1), \"mdl\" : (0,len(mdl_lst)-1)}\n",
    "ptypes = {'algo': int, 'mdl': int}\n",
    "\n",
    "# Create BayesianOptimization object, and optimize (maximize) black_box_function.\n",
    "optimizer = BayesianOptimization(f = black_box_function, pbounds = pbounds, ptypes = ptypes, verbose = 2, random_state = SEED)\n",
    "\n",
    "optimizer.maximize(init_points = 10, n_iter = 10)\n",
    "\n",
    "print(\"Best result: {}; f(x) = {}.\".format(optimizer.max[\"params\"], optimizer.max[\"target\"]))"
   ]
  },
  {
   "cell_type": "markdown",
   "metadata": {},
   "source": []
  },
  {
   "cell_type": "code",
   "execution_count": null,
   "metadata": {},
   "outputs": [],
   "source": [
    "# Create optimizer and utility function objects.\n",
    "optimizer = BayesianOptimization(f = None, pbounds = {\"C\": (0.1, 10)}, verbose = 2, random_state = 0)\n",
    "utility = UtilityFunction(kind = \"ucb\", kappa = 1.96, xi = 0.01)\n",
    "\n",
    "# Optimization for loop.\n",
    "for i in range(15):\n",
    "    # Get optimizer to suggest a new parameter value to try.\n",
    "    next_point = optimizer.suggest(utility)\n",
    "    # Evaluate the output of the black_box_function using the new parameter value.\n",
    "    target = black_box_function(**next_point)\n",
    "    try:\n",
    "        # Update the optimizer with the evaluation results. This needs to be in try-except\n",
    "        # to prevent repeat errors from occuring.\n",
    "        optimizer.register(params = next_point, target = target)\n",
    "    except:\n",
    "        pass\n",
    "    \n",
    "print(\"Best result: {}; f(x) = {:.3f}.\".format(optimizer.max[\"params\"], optimizer.max[\"target\"]))"
   ]
  },
  {
   "cell_type": "code",
   "execution_count": null,
   "metadata": {},
   "outputs": [],
   "source": [
    "plt.figure(figsize = (15, 5))\n",
    "plt.plot(range(1, 1+len(optimizer.space.target)), optimizer.space.target, \"-o\")\n",
    "plt.grid(True)\n",
    "plt.xlabel(\"Iteration\")\n",
    "plt.ylabel(\"Black box function\")\n",
    "plt.show()"
   ]
  },
  {
   "cell_type": "code",
   "execution_count": null,
   "metadata": {},
   "outputs": [],
   "source": [
    "import skopt\n",
    "\n",
    "# Unlike bayes_opt, skopt requires that the search boundary is given as an array of tuples.\n",
    "p_bounds = [(0.1, 10.0)]\n",
    "\n",
    "opt = skopt.Optimizer(dimensions = p_bounds,\n",
    "                base_estimator = \"GP\", # Gaussian Process regressor.\n",
    "                n_initial_points = 5, \n",
    "                initial_point_generator = 'random', \n",
    "                acq_func = \"LCB\", # Lower Confidence Bounds.\n",
    "                random_state = 0)\n",
    "\n",
    "for i in range(15):\n",
    "    next_point_to_try = opt.ask() # next_point is returned as a list.\n",
    "    # Unlike bayes_opt, skopt performs minimization. Therefore we use -black_box_function(*next_point).\n",
    "    loss_to_minimize = -black_box_function(*next_point_to_try)\n",
    "    result = opt.tell(next_point_to_try, loss_to_minimize)\n",
    "    \n",
    "# Again, don't forget to use the negative of result as we are performing minimization here.\n",
    "print(\"Best result: {}, f(x) = {:.3f}.\".format(result[\"x\"], -result[\"fun\"]))"
   ]
  },
  {
   "cell_type": "code",
   "execution_count": null,
   "metadata": {},
   "outputs": [],
   "source": [
    "plt.figure(figsize = (15, 5))\n",
    "plt.plot(range(1, len(result[\"func_vals\"])+1), result[\"func_vals\"], \"-o\")\n",
    "plt.grid(True)\n",
    "plt.xlabel(\"iteration\")\n",
    "plt.ylabel(\"loss_function\")\n",
    "plt.show()"
   ]
  },
  {
   "cell_type": "code",
   "execution_count": null,
   "metadata": {},
   "outputs": [],
   "source": []
  }
 ],
 "metadata": {
  "kernelspec": {
   "display_name": "Python 3.9.13 64-bit (microsoft store)",
   "language": "python",
   "name": "python3"
  },
  "language_info": {
   "codemirror_mode": {
    "name": "ipython",
    "version": 3
   },
   "file_extension": ".py",
   "mimetype": "text/x-python",
   "name": "python",
   "nbconvert_exporter": "python",
   "pygments_lexer": "ipython3",
   "version": "3.9.13"
  },
  "orig_nbformat": 4,
  "vscode": {
   "interpreter": {
    "hash": "bcac82fb26a6e7c950421e78519edb87e1a5e005e0aec2fc293e679965bb2493"
   }
  }
 },
 "nbformat": 4,
 "nbformat_minor": 2
}
