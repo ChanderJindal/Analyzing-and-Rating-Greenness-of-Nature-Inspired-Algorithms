{
 "cells": [
  {
   "cell_type": "code",
   "execution_count": 3,
   "metadata": {},
   "outputs": [],
   "source": [
    "Link = 'https://github.com/natsunoyuki/blog_posts/blob/main/data_science/Bayesian%20Optimization%20of%20Model%20Hyperparameters.ipynb'"
   ]
  },
  {
   "cell_type": "code",
   "execution_count": 4,
   "metadata": {},
   "outputs": [],
   "source": [
    "SEED = 1412\n",
    "Test_Ratio = 0.2"
   ]
  },
  {
   "cell_type": "code",
   "execution_count": 5,
   "metadata": {},
   "outputs": [],
   "source": [
    "from sklearn.datasets import make_classification\n",
    "from sklearn.model_selection import train_test_split\n",
    "\n",
    "X,y = make_classification(n_samples=10000,n_features=5,n_informative=2,n_classes=2,n_clusters_per_class=1,flip_y=0.2,shuffle=False,random_state=SEED)\n",
    "\n",
    "X_train, X_test, y_train, y_test = train_test_split(X, y, test_size = Test_Ratio, random_state = SEED)\n",
    "\n"
   ]
  },
  {
   "cell_type": "code",
   "execution_count": 9,
   "metadata": {},
   "outputs": [],
   "source": [
    "from sklearn.ensemble import RandomForestClassifier\n",
    "\n",
    "def mdl_para_lst_maker():\n",
    "    lst = []\n",
    "    for n_estimator in range(50,501,50):\n",
    "        for criterion in ['gini', 'entropy', 'log_loss']:\n",
    "            for max_feature in ['sqrt', 'log2', None]:\n",
    "                MyDict = {'n_estimators':[n_estimator], 'criterion':[criterion], 'max_features':[max_feature], 'random_state':[SEED]}\n",
    "                lst.append(MyDict)\n",
    "    return lst \n",
    "    \n",
    "mdl_para_lst = mdl_para_lst_maker()\n",
    "\n",
    "def get_mdl_para(x):\n",
    "    x = int(x)\n",
    "    try:\n",
    "        return mdl_para_lst[x]\n",
    "    except:\n",
    "        x = x%len(mdl_para_lst)\n",
    "        print(f'Yo! X ({x}) for mdl is out of bounds!')\n",
    "        return mdl_para_lst[x]"
   ]
  },
  {
   "cell_type": "code",
   "execution_count": 10,
   "metadata": {},
   "outputs": [],
   "source": [
    "from niapy.algorithms.basic import FireflyAlgorithm\n",
    "import numpy as np \n",
    "\n",
    "def NIA_FireFly():\n",
    "    lst = []\n",
    "    for population_size in range(10,101,10):#10\n",
    "        for alpha in np.arange(0.10,0.21,0.01):#10\n",
    "            for beta0 in range(10,101,10):#10\n",
    "                for gamma in np.arange(0.05,1.01,0.05):#19\n",
    "                    for theta in np.arange(0.05,1.01,0.05):#19\n",
    "                        Algo = FireflyAlgorithm()\n",
    "                        Algo.set_parameters(population_size=population_size, \n",
    "                        alpha=alpha, \n",
    "                        beta0=beta0, \n",
    "                        gamma=gamma, \n",
    "                        theta=theta,\n",
    "                        seed=SEED\n",
    "                        )\n",
    "                        lst.append(Algo)\n",
    "    return lst \n",
    "\n",
    "FA_lst = NIA_FireFly()\n",
    "\n",
    "def get_algo(x):\n",
    "    x = int(x)\n",
    "    try:\n",
    "        return FA_lst[x]\n",
    "    except:\n",
    "        print(f'Yo! X ({x}) for algo is out of bounds!')\n",
    "        x = x%(len(FA_lst))\n",
    "        return FA_lst[x]"
   ]
  },
  {
   "cell_type": "code",
   "execution_count": 11,
   "metadata": {},
   "outputs": [],
   "source": [
    "\n",
    "    "
   ]
  },
  {
   "cell_type": "code",
   "execution_count": 20,
   "metadata": {},
   "outputs": [],
   "source": [
    "from sklearn_nature_inspired_algorithms.model_selection import NatureInspiredSearchCV\n",
    "\n",
    "Dict_combo = dict()\n",
    "\n",
    "def Get_Score(mdl_val,algo_val):\n",
    "    mdl_val = int(mdl_val)\n",
    "    algo_val = int(algo_val)\n",
    "    \n",
    "    combo_str = f'{mdl_val}_{algo_val}'\n",
    "    if combo_str in Dict_combo:\n",
    "        return Dict_combo[combo_str]\n",
    "\n",
    "    param_grid = get_mdl_para(mdl_val)\n",
    "\n",
    "    algorithm = get_algo(algo_val)\n",
    "\n",
    "    nia_search_mdl = NatureInspiredSearchCV(\n",
    "        estimator=RandomForestClassifier(),\n",
    "        param_grid=param_grid,\n",
    "        algorithm=algorithm,\n",
    "        runs=1\n",
    "    )\n",
    "    nia_search_mdl.fit(X_train, y_train)\n",
    "    val = nia_search_mdl.score(X_test,y_test)\n",
    "    Dict_combo[combo_str] = val \n",
    "    return val \n"
   ]
  },
  {
   "cell_type": "code",
   "execution_count": 21,
   "metadata": {},
   "outputs": [
    {
     "data": {
      "text/plain": [
       "324900000"
      ]
     },
     "execution_count": 21,
     "metadata": {},
     "output_type": "execute_result"
    }
   ],
   "source": [
    "19*19*1000 * 100*3*3"
   ]
  },
  {
   "cell_type": "code",
   "execution_count": 22,
   "metadata": {},
   "outputs": [
    {
     "data": {
      "text/plain": [
       "(1949400000, 32490000, 541500.0, 22562.5, 61.81506849315068)"
      ]
     },
     "execution_count": 22,
     "metadata": {},
     "output_type": "execute_result"
    }
   ],
   "source": [
    "324900000*6 ,32490000, (32490000/60), (32490000/60)/24, ((32490000/60)/24)/365 "
   ]
  },
  {
   "cell_type": "code",
   "execution_count": 23,
   "metadata": {},
   "outputs": [
    {
     "name": "stdout",
     "output_type": "stream",
     "text": [
      "|   iter    |  target   | algo_val  |  mdl_val  |\n",
      "-------------------------------------------------\n",
      "Fitting at most 1 candidates\n",
      "Optimization finished, 1 candidates were fitted\n",
      "| \u001b[0m1        \u001b[0m | \u001b[0m0.8635   \u001b[0m | \u001b[0m3.871e+05\u001b[0m | \u001b[0m66.94    \u001b[0m |\n",
      "Fitting at most 1 candidates\n",
      "Optimization finished, 1 candidates were fitted\n",
      "| \u001b[0m2        \u001b[0m | \u001b[0m0.8625   \u001b[0m | \u001b[0m2.807e+04\u001b[0m | \u001b[0m39.09    \u001b[0m |\n",
      "Fitting at most 1 candidates\n",
      "Optimization finished, 1 candidates were fitted\n",
      "| \u001b[0m3        \u001b[0m | \u001b[0m0.8635   \u001b[0m | \u001b[0m1.408e+05\u001b[0m | \u001b[0m67.72    \u001b[0m |\n",
      "Fitting at most 1 candidates\n",
      "Optimization finished, 1 candidates were fitted\n",
      "| \u001b[0m4        \u001b[0m | \u001b[0m0.863    \u001b[0m | \u001b[0m4.054e+05\u001b[0m | \u001b[0m78.24    \u001b[0m |\n",
      "Fitting at most 1 candidates\n",
      "Optimization finished, 1 candidates were fitted\n",
      "| \u001b[0m5        \u001b[0m | \u001b[0m0.863    \u001b[0m | \u001b[0m1.719e+05\u001b[0m | \u001b[0m49.47    \u001b[0m |\n",
      "Fitting at most 1 candidates\n",
      "Optimization finished, 1 candidates were fitted\n",
      "| \u001b[0m6        \u001b[0m | \u001b[0m0.8605   \u001b[0m | \u001b[0m1.171e+05\u001b[0m | \u001b[0m35.49    \u001b[0m |\n",
      "Fitting at most 1 candidates\n",
      "Optimization finished, 1 candidates were fitted\n",
      "| \u001b[0m7        \u001b[0m | \u001b[0m0.863    \u001b[0m | \u001b[0m1.187e+05\u001b[0m | \u001b[0m60.9     \u001b[0m |\n",
      "Fitting at most 1 candidates\n",
      "Optimization finished, 1 candidates were fitted\n",
      "| \u001b[0m8        \u001b[0m | \u001b[0m0.8625   \u001b[0m | \u001b[0m2.967e+04\u001b[0m | \u001b[0m43.24    \u001b[0m |\n",
      "Fitting at most 1 candidates\n",
      "Optimization finished, 1 candidates were fitted\n",
      "| \u001b[0m9        \u001b[0m | \u001b[0m0.862    \u001b[0m | \u001b[0m2.554e+05\u001b[0m | \u001b[0m81.63    \u001b[0m |\n",
      "Fitting at most 1 candidates\n",
      "Optimization finished, 1 candidates were fitted\n",
      "| \u001b[0m10       \u001b[0m | \u001b[0m0.862    \u001b[0m | \u001b[0m4.099e+05\u001b[0m | \u001b[0m16.46    \u001b[0m |\n",
      "Fitting at most 1 candidates\n",
      "Optimization finished, 1 candidates were fitted\n",
      "| \u001b[0m11       \u001b[0m | \u001b[0m0.863    \u001b[0m | \u001b[0m3.871e+05\u001b[0m | \u001b[0m76.48    \u001b[0m |\n",
      "Fitting at most 1 candidates\n",
      "Optimization finished, 1 candidates were fitted\n",
      "| \u001b[0m12       \u001b[0m | \u001b[0m0.8635   \u001b[0m | \u001b[0m1.408e+05\u001b[0m | \u001b[0m67.38    \u001b[0m |\n",
      "Fitting at most 1 candidates\n",
      "Optimization finished, 1 candidates were fitted\n",
      "| \u001b[0m13       \u001b[0m | \u001b[0m0.8605   \u001b[0m | \u001b[0m3.871e+05\u001b[0m | \u001b[0m32.64    \u001b[0m |\n",
      "Fitting at most 1 candidates\n",
      "Optimization finished, 1 candidates were fitted\n",
      "| \u001b[0m14       \u001b[0m | \u001b[0m0.862    \u001b[0m | \u001b[0m1.408e+05\u001b[0m | \u001b[0m37.68    \u001b[0m |\n",
      "Fitting at most 1 candidates\n"
     ]
    }
   ],
   "source": [
    "from bayes_opt import BayesianOptimization, UtilityFunction\n",
    "\n",
    "# Define the metric to optimize over.\n",
    "'''\n",
    "def black_box_function(algo,mdl):\n",
    "    return Get_Score(mdl,algo)\n",
    "''' \n",
    "\n",
    "# Set range of C to optimize over. bayes_opt requires this to be a dictionary.\n",
    "pbounds = {\"algo_val\": (0, len(FA_lst)-1), \"mdl_val\" : (0,len(mdl_para_lst)-1)}\n",
    "#ptypes = {\"algo_val\": int, \"mdl_val\": int}\n",
    "\n",
    "# Create BayesianOptimization object, and optimize (maximize) black_box_function.\n",
    "optimizer = BayesianOptimization(f = Get_Score, pbounds = pbounds, verbose = 2, random_state = SEED)\n",
    "\n",
    "optimizer.maximize(init_points = 20, n_iter = 5)\n",
    "\n",
    "print(\"Best result: {}; f(x) = {}.\".format(optimizer.max[\"params\"], optimizer.max[\"target\"]))"
   ]
  },
  {
   "cell_type": "markdown",
   "metadata": {},
   "source": [
    "UNTESTED AFTER THIS"
   ]
  },
  {
   "cell_type": "code",
   "execution_count": null,
   "metadata": {},
   "outputs": [],
   "source": [
    "# Create optimizer and utility function objects.\n",
    "optimizer = BayesianOptimization(f = None, pbounds = {\"algo_val\": (0, len(FA_lst)-1), \"mdl_val\" : (0,len(mdl_lst)-1)}, verbose = 2, random_state = SEED)\n",
    "utility = UtilityFunction(kind = \"ucb\", kappa = 1.96, xi = 0.01)\n",
    "\n",
    "# Optimization for loop.\n",
    "for i in range(15):\n",
    "    # Get optimizer to suggest a new parameter value to try.\n",
    "    next_point = optimizer.suggest(utility)\n",
    "    # Evaluate the output of the black_box_function using the new parameter value.\n",
    "    target = Get_Score(**next_point)\n",
    "    try:\n",
    "        # Update the optimizer with the evaluation results. This needs to be in try-except\n",
    "        # to prevent repeat errors from occuring.\n",
    "        optimizer.register(params = next_point, target = target)\n",
    "    except:\n",
    "        pass\n",
    "    \n",
    "print(\"Best result: {}; f(x) = {:.3f}.\".format(optimizer.max[\"params\"], optimizer.max[\"target\"]))"
   ]
  },
  {
   "cell_type": "code",
   "execution_count": null,
   "metadata": {},
   "outputs": [],
   "source": [
    "import matplotlib.pyplot as plt\n",
    "\n",
    "plt.figure(figsize = (15, 5))\n",
    "plt.plot(range(1, 1+len(optimizer.space.target)), optimizer.space.target, \"-o\")\n",
    "plt.grid(True)\n",
    "plt.xlabel(\"Iteration\")\n",
    "plt.ylabel(\"Black box function\")\n",
    "plt.show()"
   ]
  },
  {
   "cell_type": "code",
   "execution_count": null,
   "metadata": {},
   "outputs": [],
   "source": [
    "break\n"
   ]
  },
  {
   "cell_type": "markdown",
   "metadata": {},
   "source": [
    "NEED TO BE CHECKED BEFORE RUNNING"
   ]
  },
  {
   "cell_type": "code",
   "execution_count": null,
   "metadata": {},
   "outputs": [
    {
     "ename": "TypeError",
     "evalue": "Get_Score() missing 1 required positional argument: 'algo_val'",
     "output_type": "error",
     "traceback": [
      "\u001b[1;31m---------------------------------------------------------------------------\u001b[0m",
      "\u001b[1;31mTypeError\u001b[0m                                 Traceback (most recent call last)",
      "\u001b[1;32mc:\\Users\\chand\\Desktop\\temp_here\\Green-Computing\\my_tries\\Bayesian_try.ipynb Cell 19\u001b[0m in \u001b[0;36m<cell line: 13>\u001b[1;34m()\u001b[0m\n\u001b[0;32m     <a href='vscode-notebook-cell:/c%3A/Users/chand/Desktop/temp_here/Green-Computing/my_tries/Bayesian_try.ipynb#X35sZmlsZQ%3D%3D?line=13'>14</a>\u001b[0m     next_point_to_try \u001b[39m=\u001b[39m opt\u001b[39m.\u001b[39mask() \u001b[39m# next_point is returned as a list.\u001b[39;00m\n\u001b[0;32m     <a href='vscode-notebook-cell:/c%3A/Users/chand/Desktop/temp_here/Green-Computing/my_tries/Bayesian_try.ipynb#X35sZmlsZQ%3D%3D?line=14'>15</a>\u001b[0m     \u001b[39m# Unlike bayes_opt, skopt performs minimization. Therefore we use -black_box_function(*next_point).\u001b[39;00m\n\u001b[1;32m---> <a href='vscode-notebook-cell:/c%3A/Users/chand/Desktop/temp_here/Green-Computing/my_tries/Bayesian_try.ipynb#X35sZmlsZQ%3D%3D?line=15'>16</a>\u001b[0m     loss_to_minimize \u001b[39m=\u001b[39m \u001b[39m-\u001b[39mGet_Score(\u001b[39m*\u001b[39;49mnext_point_to_try)\n\u001b[0;32m     <a href='vscode-notebook-cell:/c%3A/Users/chand/Desktop/temp_here/Green-Computing/my_tries/Bayesian_try.ipynb#X35sZmlsZQ%3D%3D?line=16'>17</a>\u001b[0m     result \u001b[39m=\u001b[39m opt\u001b[39m.\u001b[39mtell(next_point_to_try, loss_to_minimize)\n\u001b[0;32m     <a href='vscode-notebook-cell:/c%3A/Users/chand/Desktop/temp_here/Green-Computing/my_tries/Bayesian_try.ipynb#X35sZmlsZQ%3D%3D?line=18'>19</a>\u001b[0m \u001b[39m# Again, don't forget to use the negative of result as we are performing minimization here.\u001b[39;00m\n",
      "\u001b[1;31mTypeError\u001b[0m: Get_Score() missing 1 required positional argument: 'algo_val'"
     ]
    }
   ],
   "source": [
    "import skopt\n",
    "\n",
    "# Unlike bayes_opt, skopt requires that the search boundary is given as an array of tuples.\n",
    "p_bounds = [(0.1, 10.0)]\n",
    "\n",
    "opt = skopt.Optimizer(dimensions = p_bounds,\n",
    "                base_estimator = \"GP\", # Gaussian Process regressor.\n",
    "                n_initial_points = 5, \n",
    "                initial_point_generator = 'random', \n",
    "                acq_func = \"LCB\", # Lower Confidence Bounds.\n",
    "                random_state = 0)\n",
    "\n",
    "for i in range(15):\n",
    "    next_point_to_try = opt.ask() # next_point is returned as a list.\n",
    "    # Unlike bayes_opt, skopt performs minimization. Therefore we use -black_box_function(*next_point).\n",
    "    loss_to_minimize = -Get_Score(*next_point_to_try)\n",
    "    result = opt.tell(next_point_to_try, loss_to_minimize)\n",
    "    \n",
    "# Again, don't forget to use the negative of result as we are performing minimization here.\n",
    "print(\"Best result: {}, f(x) = {:.3f}.\".format(result[\"x\"], -result[\"fun\"]))"
   ]
  },
  {
   "cell_type": "code",
   "execution_count": null,
   "metadata": {},
   "outputs": [],
   "source": [
    "plt.figure(figsize = (15, 5))\n",
    "plt.plot(range(1, len(result[\"func_vals\"])+1), result[\"func_vals\"], \"-o\")\n",
    "plt.grid(True)\n",
    "plt.xlabel(\"iteration\")\n",
    "plt.ylabel(\"loss_function\")\n",
    "plt.show()"
   ]
  },
  {
   "cell_type": "code",
   "execution_count": null,
   "metadata": {},
   "outputs": [],
   "source": []
  }
 ],
 "metadata": {
  "kernelspec": {
   "display_name": "Python 3.9.13 64-bit (microsoft store)",
   "language": "python",
   "name": "python3"
  },
  "language_info": {
   "codemirror_mode": {
    "name": "ipython",
    "version": 3
   },
   "file_extension": ".py",
   "mimetype": "text/x-python",
   "name": "python",
   "nbconvert_exporter": "python",
   "pygments_lexer": "ipython3",
   "version": "3.9.13"
  },
  "orig_nbformat": 4,
  "vscode": {
   "interpreter": {
    "hash": "bcac82fb26a6e7c950421e78519edb87e1a5e005e0aec2fc293e679965bb2493"
   }
  }
 },
 "nbformat": 4,
 "nbformat_minor": 2
}
