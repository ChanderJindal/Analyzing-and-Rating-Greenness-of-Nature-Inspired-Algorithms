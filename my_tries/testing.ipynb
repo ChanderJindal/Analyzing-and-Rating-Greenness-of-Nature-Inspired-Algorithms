{
 "cells": [
  {
   "cell_type": "code",
   "execution_count": 1,
   "metadata": {},
   "outputs": [],
   "source": [
    "import pandas as pd \n",
    "import numpy as np "
   ]
  },
  {
   "cell_type": "code",
   "execution_count": 2,
   "metadata": {},
   "outputs": [],
   "source": [
    "import sklearn\n",
    "from sklearn import datasets\n",
    "from sklearn import model_selection\n",
    "from sklearn.ensemble import RandomForestRegressor "
   ]
  },
  {
   "cell_type": "code",
   "execution_count": 3,
   "metadata": {},
   "outputs": [],
   "source": [
    "SEED = 1412 "
   ]
  },
  {
   "cell_type": "code",
   "execution_count": 4,
   "metadata": {},
   "outputs": [
    {
     "data": {
      "text/plain": [
       "'\\nsklearn.datasets.make_regression(n_samples=100, n_features=100, *, n_informative=10, n_targets=1, bias=0.0, effective_rank=None, tail_strength=0.5, noise=0.0, shuffle=True, coef=False, random_state=None)[source]\\n'"
      ]
     },
     "execution_count": 4,
     "metadata": {},
     "output_type": "execute_result"
    }
   ],
   "source": [
    "'''\n",
    "sklearn.datasets.make_regression(n_samples=100, n_features=100, *, n_informative=10, n_targets=1, bias=0.0, effective_rank=None, tail_strength=0.5, noise=0.0, shuffle=True, coef=False, random_state=None)[source]\n",
    "''' "
   ]
  },
  {
   "cell_type": "code",
   "execution_count": 5,
   "metadata": {},
   "outputs": [],
   "source": [
    "My_data = sklearn.datasets.make_regression(n_samples=10000,n_features=5,noise=20,shuffle=False,random_state=SEED)"
   ]
  },
  {
   "cell_type": "code",
   "execution_count": 6,
   "metadata": {},
   "outputs": [],
   "source": [
    "X,y = My_data"
   ]
  },
  {
   "cell_type": "code",
   "execution_count": 7,
   "metadata": {},
   "outputs": [],
   "source": [
    "#X,y = pd.DataFrame(My_df[0]), pd.DataFrame(My_df[1])"
   ]
  },
  {
   "cell_type": "code",
   "execution_count": 8,
   "metadata": {},
   "outputs": [
    {
     "data": {
      "text/plain": [
       "'\\nsklearn.model_selection.train_test_split(*arrays, test_size=None, train_size=None, random_state=None, shuffle=True, stratify=None)\\n'"
      ]
     },
     "execution_count": 8,
     "metadata": {},
     "output_type": "execute_result"
    }
   ],
   "source": [
    "'''\n",
    "sklearn.model_selection.train_test_split(*arrays, test_size=None, train_size=None, random_state=None, shuffle=True, stratify=None)\n",
    "'''"
   ]
  },
  {
   "cell_type": "code",
   "execution_count": 9,
   "metadata": {},
   "outputs": [],
   "source": [
    "X_train, X_test, y_train, y_test = model_selection.train_test_split(X,y,test_size=0.25,random_state=SEED,shuffle=False)"
   ]
  },
  {
   "cell_type": "code",
   "execution_count": 10,
   "metadata": {},
   "outputs": [],
   "source": [
    "clf = RandomForestRegressor()"
   ]
  },
  {
   "cell_type": "code",
   "execution_count": 11,
   "metadata": {},
   "outputs": [
    {
     "name": "stdout",
     "output_type": "stream",
     "text": [
      "(7500, 5) (7500,)\n"
     ]
    }
   ],
   "source": [
    "print(np.shape(X_train),np.shape(y_train))"
   ]
  },
  {
   "cell_type": "code",
   "execution_count": 12,
   "metadata": {},
   "outputs": [
    {
     "data": {
      "text/html": [
       "<style>#sk-container-id-1 {color: black;background-color: white;}#sk-container-id-1 pre{padding: 0;}#sk-container-id-1 div.sk-toggleable {background-color: white;}#sk-container-id-1 label.sk-toggleable__label {cursor: pointer;display: block;width: 100%;margin-bottom: 0;padding: 0.3em;box-sizing: border-box;text-align: center;}#sk-container-id-1 label.sk-toggleable__label-arrow:before {content: \"▸\";float: left;margin-right: 0.25em;color: #696969;}#sk-container-id-1 label.sk-toggleable__label-arrow:hover:before {color: black;}#sk-container-id-1 div.sk-estimator:hover label.sk-toggleable__label-arrow:before {color: black;}#sk-container-id-1 div.sk-toggleable__content {max-height: 0;max-width: 0;overflow: hidden;text-align: left;background-color: #f0f8ff;}#sk-container-id-1 div.sk-toggleable__content pre {margin: 0.2em;color: black;border-radius: 0.25em;background-color: #f0f8ff;}#sk-container-id-1 input.sk-toggleable__control:checked~div.sk-toggleable__content {max-height: 200px;max-width: 100%;overflow: auto;}#sk-container-id-1 input.sk-toggleable__control:checked~label.sk-toggleable__label-arrow:before {content: \"▾\";}#sk-container-id-1 div.sk-estimator input.sk-toggleable__control:checked~label.sk-toggleable__label {background-color: #d4ebff;}#sk-container-id-1 div.sk-label input.sk-toggleable__control:checked~label.sk-toggleable__label {background-color: #d4ebff;}#sk-container-id-1 input.sk-hidden--visually {border: 0;clip: rect(1px 1px 1px 1px);clip: rect(1px, 1px, 1px, 1px);height: 1px;margin: -1px;overflow: hidden;padding: 0;position: absolute;width: 1px;}#sk-container-id-1 div.sk-estimator {font-family: monospace;background-color: #f0f8ff;border: 1px dotted black;border-radius: 0.25em;box-sizing: border-box;margin-bottom: 0.5em;}#sk-container-id-1 div.sk-estimator:hover {background-color: #d4ebff;}#sk-container-id-1 div.sk-parallel-item::after {content: \"\";width: 100%;border-bottom: 1px solid gray;flex-grow: 1;}#sk-container-id-1 div.sk-label:hover label.sk-toggleable__label {background-color: #d4ebff;}#sk-container-id-1 div.sk-serial::before {content: \"\";position: absolute;border-left: 1px solid gray;box-sizing: border-box;top: 0;bottom: 0;left: 50%;z-index: 0;}#sk-container-id-1 div.sk-serial {display: flex;flex-direction: column;align-items: center;background-color: white;padding-right: 0.2em;padding-left: 0.2em;position: relative;}#sk-container-id-1 div.sk-item {position: relative;z-index: 1;}#sk-container-id-1 div.sk-parallel {display: flex;align-items: stretch;justify-content: center;background-color: white;position: relative;}#sk-container-id-1 div.sk-item::before, #sk-container-id-1 div.sk-parallel-item::before {content: \"\";position: absolute;border-left: 1px solid gray;box-sizing: border-box;top: 0;bottom: 0;left: 50%;z-index: -1;}#sk-container-id-1 div.sk-parallel-item {display: flex;flex-direction: column;z-index: 1;position: relative;background-color: white;}#sk-container-id-1 div.sk-parallel-item:first-child::after {align-self: flex-end;width: 50%;}#sk-container-id-1 div.sk-parallel-item:last-child::after {align-self: flex-start;width: 50%;}#sk-container-id-1 div.sk-parallel-item:only-child::after {width: 0;}#sk-container-id-1 div.sk-dashed-wrapped {border: 1px dashed gray;margin: 0 0.4em 0.5em 0.4em;box-sizing: border-box;padding-bottom: 0.4em;background-color: white;}#sk-container-id-1 div.sk-label label {font-family: monospace;font-weight: bold;display: inline-block;line-height: 1.2em;}#sk-container-id-1 div.sk-label-container {text-align: center;}#sk-container-id-1 div.sk-container {/* jupyter's `normalize.less` sets `[hidden] { display: none; }` but bootstrap.min.css set `[hidden] { display: none !important; }` so we also need the `!important` here to be able to override the default hidden behavior on the sphinx rendered scikit-learn.org. See: https://github.com/scikit-learn/scikit-learn/issues/21755 */display: inline-block !important;position: relative;}#sk-container-id-1 div.sk-text-repr-fallback {display: none;}</style><div id=\"sk-container-id-1\" class=\"sk-top-container\"><div class=\"sk-text-repr-fallback\"><pre>RandomForestRegressor()</pre><b>In a Jupyter environment, please rerun this cell to show the HTML representation or trust the notebook. <br />On GitHub, the HTML representation is unable to render, please try loading this page with nbviewer.org.</b></div><div class=\"sk-container\" hidden><div class=\"sk-item\"><div class=\"sk-estimator sk-toggleable\"><input class=\"sk-toggleable__control sk-hidden--visually\" id=\"sk-estimator-id-1\" type=\"checkbox\" checked><label for=\"sk-estimator-id-1\" class=\"sk-toggleable__label sk-toggleable__label-arrow\">RandomForestRegressor</label><div class=\"sk-toggleable__content\"><pre>RandomForestRegressor()</pre></div></div></div></div></div>"
      ],
      "text/plain": [
       "RandomForestRegressor()"
      ]
     },
     "execution_count": 12,
     "metadata": {},
     "output_type": "execute_result"
    }
   ],
   "source": [
    "clf.fit(X_train,y_train)\n"
   ]
  },
  {
   "cell_type": "code",
   "execution_count": 13,
   "metadata": {},
   "outputs": [
    {
     "name": "stdout",
     "output_type": "stream",
     "text": [
      "0.9078772248166853\n"
     ]
    }
   ],
   "source": [
    "val = clf.score(X_test,y_test)\n",
    "print(val)"
   ]
  },
  {
   "cell_type": "markdown",
   "metadata": {},
   "source": [
    "1 -> 0.9945074117654278\n",
    "50 -> 0.6150798528005053\n",
    "20 -> 0.9064851041278363\n"
   ]
  },
  {
   "cell_type": "markdown",
   "metadata": {},
   "source": [
    "SPLIT"
   ]
  },
  {
   "cell_type": "code",
   "execution_count": 14,
   "metadata": {},
   "outputs": [],
   "source": [
    "import niapy"
   ]
  },
  {
   "cell_type": "code",
   "execution_count": 15,
   "metadata": {},
   "outputs": [],
   "source": [
    "from niapy.algorithms.basic import  BatAlgorithm, FireflyAlgorithm\n",
    "from niapy.problems import Sphere, Step, Ridge, HappyCat, CosineMixture \n",
    "#The base classes functions I am gonna use\n",
    "from niapy import task\n",
    "from niapy import Runner "
   ]
  },
  {
   "cell_type": "code",
   "execution_count": 16,
   "metadata": {},
   "outputs": [],
   "source": [
    "dimension_val = 5\n",
    "lower_val = -10\n",
    "upper_val = 10\n",
    "Max_Iter_val = 100"
   ]
  },
  {
   "cell_type": "code",
   "execution_count": null,
   "metadata": {},
   "outputs": [],
   "source": [
    "MyRunner = Runner(\n",
    "    dimension=dimension_val,\n",
    "    max_evals=Max_Iter_val,\n",
    "    runs=2,\n",
    "    algorithms=[\n",
    "        BatAlgorithm(),\n",
    "        FireflyAlgorithm()],\n",
    "    problems=[\n",
    "        Sphere(dimension=dimension_val,lower=lower_val,upper=upper_val), \n",
    "        Step(dimension=dimension_val,lower=lower_val,upper=upper_val), \n",
    "        Ridge(dimension=dimension_val,lower=lower_val,upper=upper_val), \n",
    "        HappyCat(dimension=dimension_val,lower=lower_val,upper=upper_val), \n",
    "        CosineMixture(dimension=dimension_val,lower=lower_val,upper=upper_val)\n",
    "    ]\n",
    ")\n",
    "MyRunner.run(export='json', verbose=True)"
   ]
  },
  {
   "cell_type": "code",
   "execution_count": 26,
   "metadata": {},
   "outputs": [
    {
     "name": "stderr",
     "output_type": "stream",
     "text": [
      "INFO:niapy.runner.Runner:Running BatAlgorithm...\n",
      "INFO:niapy.runner.Runner:Running BatAlgorithm algorithm on Sphere problem...\n",
      "WARNING:niapy.task.Task:An instance of the Problem class was passed in, `dimension`, `lower` and `upper` parameters will be ignored.\n",
      "INFO:niapy.runner.Runner:Running BatAlgorithm algorithm on Step problem...\n",
      "WARNING:niapy.task.Task:An instance of the Problem class was passed in, `dimension`, `lower` and `upper` parameters will be ignored.\n",
      "INFO:niapy.runner.Runner:Running BatAlgorithm algorithm on Ridge problem...\n",
      "WARNING:niapy.task.Task:An instance of the Problem class was passed in, `dimension`, `lower` and `upper` parameters will be ignored.\n",
      "INFO:niapy.runner.Runner:Running BatAlgorithm algorithm on HappyCat problem...\n",
      "WARNING:niapy.task.Task:An instance of the Problem class was passed in, `dimension`, `lower` and `upper` parameters will be ignored.\n",
      "INFO:niapy.runner.Runner:Running BatAlgorithm algorithm on CosineMixture problem...\n",
      "WARNING:niapy.task.Task:An instance of the Problem class was passed in, `dimension`, `lower` and `upper` parameters will be ignored.\n",
      "INFO:niapy.runner.Runner:---------------------------------------------------\n",
      "INFO:niapy.runner.Runner:Running FireflyAlgorithm...\n",
      "INFO:niapy.runner.Runner:Running FireflyAlgorithm algorithm on Sphere problem...\n",
      "WARNING:niapy.task.Task:An instance of the Problem class was passed in, `dimension`, `lower` and `upper` parameters will be ignored.\n",
      "INFO:niapy.runner.Runner:Running FireflyAlgorithm algorithm on Step problem...\n",
      "WARNING:niapy.task.Task:An instance of the Problem class was passed in, `dimension`, `lower` and `upper` parameters will be ignored.\n",
      "INFO:niapy.runner.Runner:Running FireflyAlgorithm algorithm on Ridge problem...\n",
      "WARNING:niapy.task.Task:An instance of the Problem class was passed in, `dimension`, `lower` and `upper` parameters will be ignored.\n",
      "INFO:niapy.runner.Runner:Running FireflyAlgorithm algorithm on HappyCat problem...\n",
      "WARNING:niapy.task.Task:An instance of the Problem class was passed in, `dimension`, `lower` and `upper` parameters will be ignored.\n",
      "INFO:niapy.runner.Runner:Running FireflyAlgorithm algorithm on CosineMixture problem...\n",
      "WARNING:niapy.task.Task:An instance of the Problem class was passed in, `dimension`, `lower` and `upper` parameters will be ignored.\n",
      "INFO:niapy.runner.Runner:---------------------------------------------------\n",
      "INFO:niapy.runner.Runner:Export to JSON file completed!\n"
     ]
    },
    {
     "data": {
      "text/plain": [
       "{'BatAlgorithm': {'Sphere': [(array([ 0.40716285, -1.88328892,  2.89590506, -2.09160804,  2.62210279]),\n",
       "    23.349072052311378)],\n",
       "  'Step': [(array([ 2.05292734,  0.39931855,  1.93305605, -0.39878066, -7.28015261]),\n",
       "    10.0)],\n",
       "  'Ridge': [(array([-1.24432946, -3.90397959,  3.17385532,  1.56136257,  0.612565  ]),\n",
       "    32.16234368955087)],\n",
       "  'HappyCat': [(array([-1.31468775,  3.70977334, -3.95939608, -3.22647147, -3.15862405]),\n",
       "    11.957354860673778)],\n",
       "  'CosineMixture': [(array([ 10., -10., -10.,  10., -10.]), -500.5)]},\n",
       " 'FireflyAlgorithm': {'Sphere': [(array([-3.23047458,  4.13115954, -3.45251372,  2.84265471, -0.96075175]),\n",
       "    48.42602579162377)],\n",
       "  'Step': [(array([ 1.65732731,  0.28880629, -0.73468992, -1.78611335,  1.86140375]),\n",
       "    3.0)],\n",
       "  'Ridge': [(array([ 2.45596713, -0.33974434, -1.86767386, -2.05314427,  0.74219361]),\n",
       "    14.957211762762473)],\n",
       "  'HappyCat': [(array([ 4.34871049, -4.528603  , -2.42179454, -0.77629951,  1.23456649]),\n",
       "    12.506106377321967)],\n",
       "  'CosineMixture': [(array([ 10.        , -10.        ,   4.53849257,  10.        ,\n",
       "            10.        ]),\n",
       "    -420.9410682292563)]}}"
      ]
     },
     "execution_count": 26,
     "metadata": {},
     "output_type": "execute_result"
    }
   ],
   "source": [
    "MyRunner = Runner(\n",
    "    dimension=dimension_val,\n",
    "    max_evals=Max_Iter_val,\n",
    "    runs=1,\n",
    "    algorithms=[\n",
    "        BatAlgorithm(),\n",
    "        FireflyAlgorithm()],\n",
    "    problems=[\n",
    "        Sphere(dimension=dimension_val,lower=lower_val,upper=upper_val), \n",
    "        Step(dimension=dimension_val,lower=lower_val,upper=upper_val), \n",
    "        Ridge(dimension=dimension_val,lower=lower_val,upper=upper_val), \n",
    "        HappyCat(dimension=dimension_val,lower=lower_val,upper=upper_val), \n",
    "        CosineMixture(dimension=dimension_val,lower=lower_val,upper=upper_val)\n",
    "    ]\n",
    ")\n",
    "MyRunner.run(export='json', verbose=True)"
   ]
  },
  {
   "cell_type": "code",
   "execution_count": 18,
   "metadata": {},
   "outputs": [
    {
     "ename": "SyntaxError",
     "evalue": "'break' outside loop (668683560.py, line 1)",
     "output_type": "error",
     "traceback": [
      "\u001b[1;36m  Input \u001b[1;32mIn [18]\u001b[1;36m\u001b[0m\n\u001b[1;33m    break\u001b[0m\n\u001b[1;37m    ^\u001b[0m\n\u001b[1;31mSyntaxError\u001b[0m\u001b[1;31m:\u001b[0m 'break' outside loop\n"
     ]
    }
   ],
   "source": [
    "break"
   ]
  },
  {
   "cell_type": "code",
   "execution_count": null,
   "metadata": {},
   "outputs": [],
   "source": [
    "from niapy import Runner\n",
    "from niapy.algorithms.basic import (\n",
    "    GreyWolfOptimizer,\n",
    "    ParticleSwarmAlgorithm\n",
    ")\n",
    "from niapy.problems import (\n",
    "    Problem,\n",
    "    Ackley,\n",
    "    Griewank,\n",
    "    Sphere,\n",
    "    HappyCat\n",
    ")\n",
    "\n",
    "class MyProblem(Problem):\n",
    "    def __init__(self, dimension, lower=-10, upper=10, *args, **kwargs):\n",
    "        super().__init__(dimension, lower, upper, *args, **kwargs)\n",
    "\n",
    "    def _evaluate(self, x):\n",
    "        return np.sum(x ** 2)\n",
    "\n",
    "runner = Runner(\n",
    "    dimension=40,\n",
    "    max_evals=100,\n",
    "    runs=2,\n",
    "    algorithms=[\n",
    "        GreyWolfOptimizer(),\n",
    "        \"FlowerPollinationAlgorithm\",\n",
    "        ParticleSwarmAlgorithm(),\n",
    "        \"HybridBatAlgorithm\",\n",
    "        \"SimulatedAnnealing\",\n",
    "        \"CuckooSearch\"],\n",
    "    problems=[\n",
    "        Ackley(40),\n",
    "        Griewank(40),\n",
    "        Sphere(40),\n",
    "        HappyCat(40),\n",
    "        \"rastrigin\",\n",
    "        MyProblem(dimension=40)\n",
    "    ]\n",
    ")\n",
    "\n",
    "runner.run(export='json', verbose=True)"
   ]
  }
 ],
 "metadata": {
  "kernelspec": {
   "display_name": "Python 3.9.13 64-bit (microsoft store)",
   "language": "python",
   "name": "python3"
  },
  "language_info": {
   "codemirror_mode": {
    "name": "ipython",
    "version": 3
   },
   "file_extension": ".py",
   "mimetype": "text/x-python",
   "name": "python",
   "nbconvert_exporter": "python",
   "pygments_lexer": "ipython3",
   "version": "3.9.13"
  },
  "orig_nbformat": 4,
  "vscode": {
   "interpreter": {
    "hash": "bcac82fb26a6e7c950421e78519edb87e1a5e005e0aec2fc293e679965bb2493"
   }
  }
 },
 "nbformat": 4,
 "nbformat_minor": 2
}
