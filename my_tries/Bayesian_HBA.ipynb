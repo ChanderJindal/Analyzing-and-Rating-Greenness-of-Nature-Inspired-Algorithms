{
  "cells": [
    {
      "cell_type": "code",
      "execution_count": 50,
      "metadata": {
        "id": "8kP5DjKoFQS7"
      },
      "outputs": [],
      "source": [
        "Link = 'https://github.com/natsunoyuki/blog_posts/blob/main/data_science/Bayesian%20Optimization%20of%20Model%20Hyperparameters.ipynb'"
      ]
    },
    {
      "cell_type": "code",
      "source": [
        "pip install niapy"
      ],
      "metadata": {
        "colab": {
          "base_uri": "https://localhost:8080/"
        },
        "id": "Yq0fwUIDFkId",
        "outputId": "b66b2c32-7833-42b8-e670-041d02dcbb70"
      },
      "execution_count": 51,
      "outputs": [
        {
          "output_type": "stream",
          "name": "stdout",
          "text": [
            "Looking in indexes: https://pypi.org/simple, https://us-python.pkg.dev/colab-wheels/public/simple/\n",
            "Requirement already satisfied: niapy in /usr/local/lib/python3.7/dist-packages (2.0.0)\n",
            "Requirement already satisfied: matplotlib>=2.2.4 in /usr/local/lib/python3.7/dist-packages (from niapy) (3.2.2)\n",
            "Requirement already satisfied: pandas>=0.24.2 in /usr/local/lib/python3.7/dist-packages (from niapy) (1.3.5)\n",
            "Requirement already satisfied: openpyxl>=3.0.3 in /usr/local/lib/python3.7/dist-packages (from niapy) (3.0.10)\n",
            "Requirement already satisfied: numpy>=1.17.0 in /usr/local/lib/python3.7/dist-packages (from niapy) (1.21.6)\n",
            "Requirement already satisfied: cycler>=0.10 in /usr/local/lib/python3.7/dist-packages (from matplotlib>=2.2.4->niapy) (0.11.0)\n",
            "Requirement already satisfied: pyparsing!=2.0.4,!=2.1.2,!=2.1.6,>=2.0.1 in /usr/local/lib/python3.7/dist-packages (from matplotlib>=2.2.4->niapy) (3.0.9)\n",
            "Requirement already satisfied: python-dateutil>=2.1 in /usr/local/lib/python3.7/dist-packages (from matplotlib>=2.2.4->niapy) (2.8.2)\n",
            "Requirement already satisfied: kiwisolver>=1.0.1 in /usr/local/lib/python3.7/dist-packages (from matplotlib>=2.2.4->niapy) (1.4.4)\n",
            "Requirement already satisfied: typing-extensions in /usr/local/lib/python3.7/dist-packages (from kiwisolver>=1.0.1->matplotlib>=2.2.4->niapy) (4.1.1)\n",
            "Requirement already satisfied: et-xmlfile in /usr/local/lib/python3.7/dist-packages (from openpyxl>=3.0.3->niapy) (1.1.0)\n",
            "Requirement already satisfied: pytz>=2017.3 in /usr/local/lib/python3.7/dist-packages (from pandas>=0.24.2->niapy) (2022.6)\n",
            "Requirement already satisfied: six>=1.5 in /usr/local/lib/python3.7/dist-packages (from python-dateutil>=2.1->matplotlib>=2.2.4->niapy) (1.15.0)\n"
          ]
        }
      ]
    },
    {
      "cell_type": "code",
      "source": [
        "pip install sklearn "
      ],
      "metadata": {
        "colab": {
          "base_uri": "https://localhost:8080/"
        },
        "id": "xfp_nrcuFkK1",
        "outputId": "b64d3a12-5c11-43d5-cada-44d009d086c7"
      },
      "execution_count": 52,
      "outputs": [
        {
          "output_type": "stream",
          "name": "stdout",
          "text": [
            "Looking in indexes: https://pypi.org/simple, https://us-python.pkg.dev/colab-wheels/public/simple/\n",
            "Requirement already satisfied: sklearn in /usr/local/lib/python3.7/dist-packages (0.0.post1)\n"
          ]
        }
      ]
    },
    {
      "cell_type": "code",
      "source": [
        "pip install sklearn-nature-inspired-algorithms"
      ],
      "metadata": {
        "colab": {
          "base_uri": "https://localhost:8080/"
        },
        "id": "jIy5TXCwFkOY",
        "outputId": "e41ef33a-8126-4d4f-dffc-18124045d75b"
      },
      "execution_count": 53,
      "outputs": [
        {
          "output_type": "stream",
          "name": "stdout",
          "text": [
            "Looking in indexes: https://pypi.org/simple, https://us-python.pkg.dev/colab-wheels/public/simple/\n",
            "Requirement already satisfied: sklearn-nature-inspired-algorithms in /usr/local/lib/python3.7/dist-packages (0.7.1)\n",
            "Requirement already satisfied: pandas<2.0.0,>=1.0 in /usr/local/lib/python3.7/dist-packages (from sklearn-nature-inspired-algorithms) (1.3.5)\n",
            "Requirement already satisfied: seaborn<1.0.0,>=0.10 in /usr/local/lib/python3.7/dist-packages (from sklearn-nature-inspired-algorithms) (0.11.2)\n",
            "Requirement already satisfied: matplotlib<4.0.0,>=3.2 in /usr/local/lib/python3.7/dist-packages (from sklearn-nature-inspired-algorithms) (3.2.2)\n",
            "Requirement already satisfied: scikit-learn<1.0.0,>=0.22 in /usr/local/lib/python3.7/dist-packages (from sklearn-nature-inspired-algorithms) (0.24.2)\n",
            "Requirement already satisfied: toml<1.0.0,>=0.9 in /usr/local/lib/python3.7/dist-packages (from sklearn-nature-inspired-algorithms) (0.10.2)\n",
            "Requirement already satisfied: niapy==2.0.0 in /usr/local/lib/python3.7/dist-packages (from sklearn-nature-inspired-algorithms) (2.0.0)\n",
            "Requirement already satisfied: numpy<2.0.0,>=1.18 in /usr/local/lib/python3.7/dist-packages (from sklearn-nature-inspired-algorithms) (1.21.6)\n",
            "Requirement already satisfied: openpyxl>=3.0.3 in /usr/local/lib/python3.7/dist-packages (from niapy==2.0.0->sklearn-nature-inspired-algorithms) (3.0.10)\n",
            "Requirement already satisfied: pyparsing!=2.0.4,!=2.1.2,!=2.1.6,>=2.0.1 in /usr/local/lib/python3.7/dist-packages (from matplotlib<4.0.0,>=3.2->sklearn-nature-inspired-algorithms) (3.0.9)\n",
            "Requirement already satisfied: kiwisolver>=1.0.1 in /usr/local/lib/python3.7/dist-packages (from matplotlib<4.0.0,>=3.2->sklearn-nature-inspired-algorithms) (1.4.4)\n",
            "Requirement already satisfied: cycler>=0.10 in /usr/local/lib/python3.7/dist-packages (from matplotlib<4.0.0,>=3.2->sklearn-nature-inspired-algorithms) (0.11.0)\n",
            "Requirement already satisfied: python-dateutil>=2.1 in /usr/local/lib/python3.7/dist-packages (from matplotlib<4.0.0,>=3.2->sklearn-nature-inspired-algorithms) (2.8.2)\n",
            "Requirement already satisfied: typing-extensions in /usr/local/lib/python3.7/dist-packages (from kiwisolver>=1.0.1->matplotlib<4.0.0,>=3.2->sklearn-nature-inspired-algorithms) (4.1.1)\n",
            "Requirement already satisfied: et-xmlfile in /usr/local/lib/python3.7/dist-packages (from openpyxl>=3.0.3->niapy==2.0.0->sklearn-nature-inspired-algorithms) (1.1.0)\n",
            "Requirement already satisfied: pytz>=2017.3 in /usr/local/lib/python3.7/dist-packages (from pandas<2.0.0,>=1.0->sklearn-nature-inspired-algorithms) (2022.6)\n",
            "Requirement already satisfied: six>=1.5 in /usr/local/lib/python3.7/dist-packages (from python-dateutil>=2.1->matplotlib<4.0.0,>=3.2->sklearn-nature-inspired-algorithms) (1.15.0)\n",
            "Requirement already satisfied: threadpoolctl>=2.0.0 in /usr/local/lib/python3.7/dist-packages (from scikit-learn<1.0.0,>=0.22->sklearn-nature-inspired-algorithms) (3.1.0)\n",
            "Requirement already satisfied: scipy>=0.19.1 in /usr/local/lib/python3.7/dist-packages (from scikit-learn<1.0.0,>=0.22->sklearn-nature-inspired-algorithms) (1.7.3)\n",
            "Requirement already satisfied: joblib>=0.11 in /usr/local/lib/python3.7/dist-packages (from scikit-learn<1.0.0,>=0.22->sklearn-nature-inspired-algorithms) (1.2.0)\n"
          ]
        }
      ]
    },
    {
      "cell_type": "code",
      "source": [
        "pip install bayesian-optimization"
      ],
      "metadata": {
        "colab": {
          "base_uri": "https://localhost:8080/"
        },
        "id": "rOUE4gTGFz9K",
        "outputId": "53daaf20-5a7b-4c9c-8524-73a32bab5e6b"
      },
      "execution_count": 54,
      "outputs": [
        {
          "output_type": "stream",
          "name": "stdout",
          "text": [
            "Looking in indexes: https://pypi.org/simple, https://us-python.pkg.dev/colab-wheels/public/simple/\n",
            "Requirement already satisfied: bayesian-optimization in /usr/local/lib/python3.7/dist-packages (1.3.1)\n",
            "Requirement already satisfied: scikit-learn>=0.18.0 in /usr/local/lib/python3.7/dist-packages (from bayesian-optimization) (0.24.2)\n",
            "Requirement already satisfied: scipy>=1.0.0 in /usr/local/lib/python3.7/dist-packages (from bayesian-optimization) (1.7.3)\n",
            "Requirement already satisfied: numpy>=1.9.0 in /usr/local/lib/python3.7/dist-packages (from bayesian-optimization) (1.21.6)\n",
            "Requirement already satisfied: threadpoolctl>=2.0.0 in /usr/local/lib/python3.7/dist-packages (from scikit-learn>=0.18.0->bayesian-optimization) (3.1.0)\n",
            "Requirement already satisfied: joblib>=0.11 in /usr/local/lib/python3.7/dist-packages (from scikit-learn>=0.18.0->bayesian-optimization) (1.2.0)\n"
          ]
        }
      ]
    },
    {
      "cell_type": "code",
      "execution_count": 55,
      "metadata": {
        "id": "VWCENWUzFQS9"
      },
      "outputs": [],
      "source": [
        "SEED = 1412\n",
        "Test_Ratio = 0.2"
      ]
    },
    {
      "cell_type": "code",
      "execution_count": 56,
      "metadata": {
        "id": "Rl8W4hYOFQS-"
      },
      "outputs": [],
      "source": [
        "from sklearn.datasets import make_classification\n",
        "from sklearn.model_selection import train_test_split\n",
        "\n",
        "X,y = make_classification(n_samples=10000,n_features=5,n_informative=2,n_classes=2,n_clusters_per_class=1,flip_y=0.2,shuffle=False,random_state=SEED)\n",
        "\n",
        "X_train, X_test, y_train, y_test = train_test_split(X, y, test_size = Test_Ratio, random_state = SEED)\n",
        "\n"
      ]
    },
    {
      "cell_type": "code",
      "execution_count": 57,
      "metadata": {
        "id": "ohW1sQrJFQS_"
      },
      "outputs": [],
      "source": [
        "from sklearn.ensemble import RandomForestClassifier\n",
        "\n",
        "def mdl_para_lst_maker():\n",
        "    lst = []\n",
        "    for n_estimator in range(50,501,50):\n",
        "        for criterion in ['gini', 'entropy']:\n",
        "            for max_feature in ['sqrt', 'log2', None]:\n",
        "                MyDict = {'n_estimators':[n_estimator], 'criterion':[criterion], 'max_features':[max_feature], 'random_state':[SEED]}\n",
        "                lst.append(MyDict)\n",
        "    return lst \n",
        "    \n",
        "mdl_para_lst = mdl_para_lst_maker()\n",
        "\n",
        "def get_mdl_para(x):\n",
        "    x = int(x)\n",
        "    try:\n",
        "        return mdl_para_lst[x]\n",
        "    except:\n",
        "        x = x%len(mdl_para_lst)\n",
        "        print(f'Yo! X ({x}) for mdl is out of bounds!')\n",
        "        return mdl_para_lst[x]"
      ]
    },
    {
      "cell_type": "markdown",
      "source": [
        "FIRE FLY"
      ],
      "metadata": {
        "id": "XuILZgNu7_ZN"
      }
    },
    {
      "cell_type": "code",
      "execution_count": 58,
      "metadata": {
        "colab": {
          "base_uri": "https://localhost:8080/",
          "height": 126
        },
        "id": "5jQPkz7qFQS_",
        "outputId": "ff22e0d8-55ae-421e-ee75-535ec06d7a2e"
      },
      "outputs": [
        {
          "output_type": "execute_result",
          "data": {
            "text/plain": [
              "\"\\nfrom niapy.algorithms.basic import FireflyAlgorithm\\nimport numpy as np \\n\\ndef NIA_FireFly():\\n    lst = []\\n    for population_size in range(10,101,10):#10\\n        for alpha in np.arange(0.10,0.21,0.01):#10\\n            for beta0 in range(10,101,10):#10\\n                for gamma in np.arange(0.05,1.01,0.05):#19\\n                    for theta in np.arange(0.05,1.01,0.05):#19\\n                        Algo = FireflyAlgorithm()\\n                        Algo.set_parameters(population_size=population_size, \\n                        alpha=alpha, \\n                        beta0=beta0, \\n                        gamma=gamma, \\n                        theta=theta,\\n                        seed=SEED\\n                        )\\n                        lst.append(Algo)\\n    return lst \\n\\nFA_lst = NIA_FireFly()\\n\\ndef get_algo_FA(x):\\n    x = int(x)\\n    try:\\n        return FA_lst[x]\\n    except:\\n        print(f'Yo! X ({x}) for algo is out of bounds!')\\n        x = x%(len(FA_lst))\\n        return FA_lst[x]\\n\""
            ],
            "application/vnd.google.colaboratory.intrinsic+json": {
              "type": "string"
            }
          },
          "metadata": {},
          "execution_count": 58
        }
      ],
      "source": [
        "'''\n",
        "from niapy.algorithms.basic import FireflyAlgorithm\n",
        "import numpy as np \n",
        "\n",
        "def NIA_FireFly():\n",
        "    lst = []\n",
        "    for population_size in range(10,101,10):#10\n",
        "        for alpha in np.arange(0.10,0.21,0.01):#10\n",
        "            for beta0 in range(10,101,10):#10\n",
        "                for gamma in np.arange(0.05,1.01,0.05):#19\n",
        "                    for theta in np.arange(0.05,1.01,0.05):#19\n",
        "                        Algo = FireflyAlgorithm()\n",
        "                        Algo.set_parameters(population_size=population_size, \n",
        "                        alpha=alpha, \n",
        "                        beta0=beta0, \n",
        "                        gamma=gamma, \n",
        "                        theta=theta,\n",
        "                        seed=SEED\n",
        "                        )\n",
        "                        lst.append(Algo)\n",
        "    return lst \n",
        "\n",
        "FA_lst = NIA_FireFly()\n",
        "\n",
        "def get_algo_FA(x):\n",
        "    x = int(x)\n",
        "    try:\n",
        "        return FA_lst[x]\n",
        "    except:\n",
        "        print(f'Yo! X ({x}) for algo is out of bounds!')\n",
        "        x = x%(len(FA_lst))\n",
        "        return FA_lst[x]\n",
        "'''"
      ]
    },
    {
      "cell_type": "code",
      "source": [
        "'''\n",
        "from sklearn_nature_inspired_algorithms.model_selection import NatureInspiredSearchCV\n",
        "\n",
        "Dict_combo_FA = dict()\n",
        "\n",
        "def Get_Score_FA(mdl_val,algo_val):\n",
        "    print(mdl_val,algo_val)\n",
        "    mdl_val = int(mdl_val)\n",
        "    algo_val = int(algo_val)\n",
        "    print(mdl_val,algo_val)\n",
        "    \n",
        "    combo_str = f'{mdl_val}_{algo_val}'\n",
        "    if combo_str in Dict_combo_FA:\n",
        "        return Dict_combo_FA[combo_str]\n",
        "\n",
        "    param_grid = get_mdl_para(mdl_val)\n",
        "\n",
        "    algorithm = get_algo_FA(algo_val)\n",
        "\n",
        "    nia_search_mdl = NatureInspiredSearchCV(\n",
        "        estimator=RandomForestClassifier(),\n",
        "        param_grid=param_grid,\n",
        "        algorithm=algorithm,\n",
        "        runs=1\n",
        "    )\n",
        "    nia_search_mdl.fit(X_train, y_train)\n",
        "    val = nia_search_mdl.score(X_test,y_test)\n",
        "    Dict_combo_FA[combo_str] = val \n",
        "    return val \n",
        "'''"
      ],
      "metadata": {
        "colab": {
          "base_uri": "https://localhost:8080/",
          "height": 108
        },
        "id": "Imbmcfy46bNP",
        "outputId": "6a381d9e-f327-4918-83c3-c9c47076687c"
      },
      "execution_count": 59,
      "outputs": [
        {
          "output_type": "execute_result",
          "data": {
            "text/plain": [
              "\"\\nfrom sklearn_nature_inspired_algorithms.model_selection import NatureInspiredSearchCV\\n\\nDict_combo_FA = dict()\\n\\ndef Get_Score_FA(mdl_val,algo_val):\\n    print(mdl_val,algo_val)\\n    mdl_val = int(mdl_val)\\n    algo_val = int(algo_val)\\n    print(mdl_val,algo_val)\\n    \\n    combo_str = f'{mdl_val}_{algo_val}'\\n    if combo_str in Dict_combo_FA:\\n        return Dict_combo_FA[combo_str]\\n\\n    param_grid = get_mdl_para(mdl_val)\\n\\n    algorithm = get_algo_FA(algo_val)\\n\\n    nia_search_mdl = NatureInspiredSearchCV(\\n        estimator=RandomForestClassifier(),\\n        param_grid=param_grid,\\n        algorithm=algorithm,\\n        runs=1\\n    )\\n    nia_search_mdl.fit(X_train, y_train)\\n    val = nia_search_mdl.score(X_test,y_test)\\n    Dict_combo_FA[combo_str] = val \\n    return val \\n\""
            ],
            "application/vnd.google.colaboratory.intrinsic+json": {
              "type": "string"
            }
          },
          "metadata": {},
          "execution_count": 59
        }
      ]
    },
    {
      "cell_type": "markdown",
      "source": [
        "FIRE FLY"
      ],
      "metadata": {
        "id": "FwXzOIRk8BjL"
      }
    },
    {
      "cell_type": "markdown",
      "source": [
        "HYBRID BAT"
      ],
      "metadata": {
        "id": "Etm2Lbkd8Cy3"
      }
    },
    {
      "cell_type": "code",
      "source": [
        "from niapy.algorithms.modified import HybridBatAlgorithm\n",
        "#from niapy.algorithms.basic.de import cross_rand1, cross_rand2, cross_best2, cross_best1, cross_curr2rand1, cross_curr2best1, multi_mutations, proportional, linear, bilinear\n",
        "import numpy as np \n",
        "#set_parameters(self, differential_weight=0.50, crossover_probability=0.90, strategy=cross_best1)\n",
        "#['cross_rand1', 'cross_rand2', 'cross_best2', 'cross_best1', 'cross_best2', 'cross_curr2rand1', 'cross_curr2best1', 'multi_mutations', 'proportional', 'linear', 'bilinear']\n",
        "def NIA_HBA():\n",
        "    lst = []\n",
        "    for df in np.arange(0.10,.91,.10):\n",
        "      for cp in np.arange(0.10,.91,.10):\n",
        "        #for sc in [cross_rand1, cross_best2, cross_curr2rand1, cross_curr2best1, multi_mutations, proportional, linear]:\n",
        "        Algo = HybridBatAlgorithm()\n",
        "        Algo.set_parameters(differential_weight=df, crossover_probability=cp)#, strategy=sc)\n",
        "        lst.append(Algo)\n",
        "\n",
        "    return lst \n",
        "\n",
        "HBA_lst = NIA_HBA()\n",
        "\n",
        "def get_algo_HBA(x):\n",
        "    x = int(x)\n",
        "    try:\n",
        "        return HBA_lst[x]\n",
        "    except:\n",
        "        print(f'Yo! X ({x}) for algo is out of bounds!')\n",
        "        x = x%(len(HBA_lst))\n",
        "        return HBA_lst[x]"
      ],
      "metadata": {
        "id": "twgtafT23Mgb"
      },
      "execution_count": 60,
      "outputs": []
    },
    {
      "cell_type": "code",
      "execution_count": 61,
      "metadata": {
        "id": "_enUhypGFQTA"
      },
      "outputs": [],
      "source": [
        "from sklearn_nature_inspired_algorithms.model_selection import NatureInspiredSearchCV\n",
        "\n",
        "Dict_combo_HBA = dict()\n",
        "\n",
        "def Get_Score_HBA(mdl_val,algo_val):\n",
        "    print(mdl_val,algo_val)\n",
        "    mdl_val = int(mdl_val)\n",
        "    algo_val = int(algo_val)\n",
        "    print(mdl_val,algo_val)\n",
        "    \n",
        "    combo_str = f'{mdl_val}_{algo_val}'\n",
        "    if combo_str in Dict_combo_HBA:\n",
        "        return Dict_combo_HBA[combo_str]\n",
        "\n",
        "    param_grid = get_mdl_para(mdl_val)\n",
        "\n",
        "    algorithm = get_algo_HBA(algo_val)\n",
        "\n",
        "    nia_search_mdl = NatureInspiredSearchCV(\n",
        "        estimator=RandomForestClassifier(),\n",
        "        param_grid=param_grid,\n",
        "        algorithm=algorithm,\n",
        "        runs=1\n",
        "    )\n",
        "    nia_search_mdl.fit(X_train, y_train)\n",
        "    val = nia_search_mdl.score(X_test,y_test)\n",
        "    Dict_combo_HBA[combo_str] = val \n",
        "    return val \n"
      ]
    },
    {
      "cell_type": "markdown",
      "source": [
        "HYBRID BAT"
      ],
      "metadata": {
        "id": "hGXMMcnX8E8M"
      }
    },
    {
      "cell_type": "code",
      "execution_count": 62,
      "metadata": {
        "colab": {
          "base_uri": "https://localhost:8080/"
        },
        "id": "F_TjiLahFQTB",
        "outputId": "7daa592f-0c70-4962-b2be-cb91828aee72"
      },
      "outputs": [
        {
          "output_type": "execute_result",
          "data": {
            "text/plain": [
              "324900000"
            ]
          },
          "metadata": {},
          "execution_count": 62
        }
      ],
      "source": [
        "19*19*1000 * 100*3*3"
      ]
    },
    {
      "cell_type": "code",
      "execution_count": 63,
      "metadata": {
        "colab": {
          "base_uri": "https://localhost:8080/"
        },
        "id": "aQhCZOBxFQTC",
        "outputId": "a323eae3-9028-4ea7-8978-d28f6769222e"
      },
      "outputs": [
        {
          "output_type": "execute_result",
          "data": {
            "text/plain": [
              "(1949400000, 32490000, 541500.0, 22562.5, 61.81506849315068)"
            ]
          },
          "metadata": {},
          "execution_count": 63
        }
      ],
      "source": [
        "324900000*6 ,32490000, (32490000/60), (32490000/60)/24, ((32490000/60)/24)/365 "
      ]
    },
    {
      "cell_type": "code",
      "source": [
        "clf = RandomForestClassifier()\n",
        "clf.fit(X_train, y_train)\n",
        "val = clf.score(X_test,y_test)\n",
        "print(val)"
      ],
      "metadata": {
        "colab": {
          "base_uri": "https://localhost:8080/"
        },
        "id": "iJBq20nrzlX5",
        "outputId": "eda4dedc-9c8c-4848-f81b-22095f9fa97b"
      },
      "execution_count": 64,
      "outputs": [
        {
          "output_type": "stream",
          "name": "stdout",
          "text": [
            "0.8625\n"
          ]
        }
      ]
    },
    {
      "cell_type": "code",
      "execution_count": 65,
      "metadata": {
        "colab": {
          "base_uri": "https://localhost:8080/"
        },
        "id": "DR6m8uyWFQTD",
        "outputId": "344bfc16-c6c4-411b-aa3e-9fd3f42bee87"
      },
      "outputs": [
        {
          "output_type": "stream",
          "name": "stdout",
          "text": [
            "{'algo_val': (0, 80), 'mdl_val': (0, 59)}\n",
            "|   iter    |  target   | algo_val  |  mdl_val  |\n",
            "-------------------------------------------------\n",
            "44.37312093390081 70.37946230774946\n",
            "44 70\n",
            "Fitting at most 1 candidates\n",
            "Optimization finished, 1 candidates were fitted\n",
            "| \u001b[0m1        \u001b[0m | \u001b[0m0.8605   \u001b[0m | \u001b[0m70.38    \u001b[0m | \u001b[0m44.37    \u001b[0m |\n",
            "25.916042978878316 5.1031562716486345\n",
            "25 5\n",
            "Fitting at most 1 candidates\n",
            "Optimization finished, 1 candidates were fitted\n",
            "| \u001b[95m2        \u001b[0m | \u001b[95m0.862    \u001b[0m | \u001b[95m5.103    \u001b[0m | \u001b[95m25.92    \u001b[0m |\n",
            "44.89426287782875 25.599141270514192\n",
            "44 25\n",
            "Fitting at most 1 candidates\n",
            "Optimization finished, 1 candidates were fitted\n",
            "| \u001b[0m3        \u001b[0m | \u001b[0m0.8605   \u001b[0m | \u001b[0m25.6     \u001b[0m | \u001b[0m44.89    \u001b[0m |\n",
            "51.867185895021436 73.7138103882092\n",
            "51 73\n",
            "Fitting at most 1 candidates\n",
            "Optimization finished, 1 candidates were fitted\n",
            "| \u001b[95m4        \u001b[0m | \u001b[95m0.863    \u001b[0m | \u001b[95m73.71    \u001b[0m | \u001b[95m51.87    \u001b[0m |\n",
            "32.79692004623707 31.258081516566463\n",
            "32 31\n",
            "Fitting at most 1 candidates\n",
            "Optimization finished, 1 candidates were fitted\n",
            "| \u001b[0m5        \u001b[0m | \u001b[0m0.861    \u001b[0m | \u001b[0m31.26    \u001b[0m | \u001b[0m32.8     \u001b[0m |\n",
            "23.5303563693083 21.290096385566983\n",
            "23 21\n",
            "Fitting at most 1 candidates\n",
            "Optimization finished, 1 candidates were fitted\n",
            "| \u001b[0m6        \u001b[0m | \u001b[0m0.8605   \u001b[0m | \u001b[0m21.29    \u001b[0m | \u001b[0m23.53    \u001b[0m |\n",
            "40.37125720147732 21.57917882219391\n",
            "40 21\n",
            "Fitting at most 1 candidates\n",
            "Optimization finished, 1 candidates were fitted\n",
            "| \u001b[0m7        \u001b[0m | \u001b[0m0.863    \u001b[0m | \u001b[0m21.58    \u001b[0m | \u001b[0m40.37    \u001b[0m |\n",
            "28.66523612445707 5.395171951145521\n",
            "28 5\n",
            "Fitting at most 1 candidates\n",
            "Optimization finished, 1 candidates were fitted\n",
            "| \u001b[0m8        \u001b[0m | \u001b[0m0.8625   \u001b[0m | \u001b[0m5.395    \u001b[0m | \u001b[0m28.67    \u001b[0m |\n",
            "54.11543045848653 46.439502882927655\n",
            "54 46\n",
            "Fitting at most 1 candidates\n",
            "Optimization finished, 1 candidates were fitted\n",
            "| \u001b[0m9        \u001b[0m | \u001b[0m0.862    \u001b[0m | \u001b[0m46.44    \u001b[0m | \u001b[0m54.12    \u001b[0m |\n",
            "10.9110191800722 74.51920734706383\n",
            "10 74\n",
            "Fitting at most 1 candidates\n",
            "| \u001b[0m10       \u001b[0m | \u001b[0m0.862    \u001b[0m | \u001b[0m74.52    \u001b[0m | \u001b[0m10.91    \u001b[0m |\n",
            "56.53026514933786 41.07480620116949\n",
            "56 41\n",
            "Fitting at most 1 candidates\n",
            "Optimization finished, 1 candidates were fitted\n",
            "| \u001b[0m11       \u001b[0m | \u001b[0m0.8615   \u001b[0m | \u001b[0m41.07    \u001b[0m | \u001b[0m56.53    \u001b[0m |\n",
            "27.073815632284983 57.01834699381449\n",
            "27 57\n",
            "Fitting at most 1 candidates\n",
            "Optimization finished, 1 candidates were fitted\n",
            "| \u001b[0m12       \u001b[0m | \u001b[0m0.8625   \u001b[0m | \u001b[0m57.02    \u001b[0m | \u001b[0m27.07    \u001b[0m |\n",
            "15.472390905965245 22.459635317905693\n",
            "15 22\n",
            "Fitting at most 1 candidates\n",
            "Optimization finished, 1 candidates were fitted\n",
            "| \u001b[0m13       \u001b[0m | \u001b[0m0.862    \u001b[0m | \u001b[0m22.46    \u001b[0m | \u001b[0m15.47    \u001b[0m |\n",
            "33.94985675289153 27.044032691932394\n",
            "33 27\n",
            "Fitting at most 1 candidates\n",
            "Optimization finished, 1 candidates were fitted\n",
            "| \u001b[0m14       \u001b[0m | \u001b[0m0.863    \u001b[0m | \u001b[0m27.04    \u001b[0m | \u001b[0m33.95    \u001b[0m |\n",
            "5.270452007151863 70.56941878468953\n",
            "5 70\n",
            "Fitting at most 1 candidates\n",
            "Optimization finished, 1 candidates were fitted\n",
            "| \u001b[0m15       \u001b[0m | \u001b[0m0.863    \u001b[0m | \u001b[0m70.57    \u001b[0m | \u001b[0m5.27     \u001b[0m |\n",
            "44.43782784353064 48.6237396718344\n",
            "44 48\n",
            "Fitting at most 1 candidates\n",
            "Optimization finished, 1 candidates were fitted\n",
            "| \u001b[0m16       \u001b[0m | \u001b[0m0.8605   \u001b[0m | \u001b[0m48.62    \u001b[0m | \u001b[0m44.44    \u001b[0m |\n",
            "23.596313648263802 26.0746612510233\n",
            "23 26\n",
            "Fitting at most 1 candidates\n",
            "Optimization finished, 1 candidates were fitted\n",
            "| \u001b[0m17       \u001b[0m | \u001b[0m0.8605   \u001b[0m | \u001b[0m26.07    \u001b[0m | \u001b[0m23.6     \u001b[0m |\n",
            "0.45759675645545705 75.89558426837925\n",
            "0 75\n",
            "Fitting at most 1 candidates\n",
            "Optimization finished, 1 candidates were fitted\n",
            "| \u001b[0m18       \u001b[0m | \u001b[0m0.861    \u001b[0m | \u001b[0m75.9     \u001b[0m | \u001b[0m0.4576   \u001b[0m |\n",
            "15.22569982448434 8.126408274271952\n",
            "15 8\n",
            "Fitting at most 1 candidates\n",
            "Optimization finished, 1 candidates were fitted\n",
            "| \u001b[0m19       \u001b[0m | \u001b[0m0.862    \u001b[0m | \u001b[0m8.126    \u001b[0m | \u001b[0m15.23    \u001b[0m |\n",
            "37.05981919622904 2.620890541002865\n",
            "37 2\n",
            "Fitting at most 1 candidates\n",
            "Optimization finished, 1 candidates were fitted\n",
            "| \u001b[0m20       \u001b[0m | \u001b[0m0.8615   \u001b[0m | \u001b[0m2.621    \u001b[0m | \u001b[0m37.06    \u001b[0m |\n",
            "19.54632889985186 16.738718132025696\n",
            "19 16\n",
            "Fitting at most 1 candidates\n",
            "Optimization finished, 1 candidates were fitted\n",
            "| \u001b[0m21       \u001b[0m | \u001b[0m0.863    \u001b[0m | \u001b[0m16.74    \u001b[0m | \u001b[0m19.55    \u001b[0m |\n",
            "53.814354376363454 20.501460128547706\n",
            "53 20\n",
            "Fitting at most 1 candidates\n",
            "Optimization finished, 1 candidates were fitted\n",
            "| \u001b[0m22       \u001b[0m | \u001b[0m0.8625   \u001b[0m | \u001b[0m20.5     \u001b[0m | \u001b[0m53.81    \u001b[0m |\n",
            "8.723284249773391 42.32362483292506\n",
            "8 42\n",
            "Fitting at most 1 candidates\n",
            "Optimization finished, 1 candidates were fitted\n",
            "| \u001b[0m23       \u001b[0m | \u001b[0m0.8615   \u001b[0m | \u001b[0m42.32    \u001b[0m | \u001b[0m8.723    \u001b[0m |\n",
            "6.161245440130831 30.222504227431592\n",
            "6 30\n",
            "Fitting at most 1 candidates\n",
            "Optimization finished, 1 candidates were fitted\n",
            "| \u001b[95m24       \u001b[0m | \u001b[95m0.865    \u001b[0m | \u001b[95m30.22    \u001b[0m | \u001b[95m6.161    \u001b[0m |\n",
            "41.48706845137053 32.13189113254919\n",
            "41 32\n",
            "Fitting at most 1 candidates\n",
            "Optimization finished, 1 candidates were fitted\n",
            "| \u001b[0m25       \u001b[0m | \u001b[0m0.8625   \u001b[0m | \u001b[0m32.13    \u001b[0m | \u001b[0m41.49    \u001b[0m |\n",
            "24.516518103005026 61.8802267537545\n",
            "24 61\n",
            "Fitting at most 1 candidates\n",
            "Optimization finished, 1 candidates were fitted\n",
            "| \u001b[0m26       \u001b[0m | \u001b[0m0.862    \u001b[0m | \u001b[0m61.88    \u001b[0m | \u001b[0m24.52    \u001b[0m |\n",
            "29.749775453437454 20.928185756295363\n",
            "29 20\n",
            "Fitting at most 1 candidates\n",
            "Optimization finished, 1 candidates were fitted\n",
            "| \u001b[0m27       \u001b[0m | \u001b[0m0.862    \u001b[0m | \u001b[0m20.93    \u001b[0m | \u001b[0m29.75    \u001b[0m |\n",
            "40.3018500437822 42.32052898036554\n",
            "40 42\n",
            "Fitting at most 1 candidates\n",
            "Optimization finished, 1 candidates were fitted\n",
            "| \u001b[0m28       \u001b[0m | \u001b[0m0.863    \u001b[0m | \u001b[0m42.32    \u001b[0m | \u001b[0m40.3     \u001b[0m |\n",
            "21.755352934256667 13.369179015598398\n",
            "21 13\n",
            "Fitting at most 1 candidates\n",
            "Optimization finished, 1 candidates were fitted\n",
            "| \u001b[0m29       \u001b[0m | \u001b[0m0.8625   \u001b[0m | \u001b[0m13.37    \u001b[0m | \u001b[0m21.76    \u001b[0m |\n",
            "58.70370941805597 35.85685381446079\n",
            "58 35\n",
            "Fitting at most 1 candidates\n",
            "Optimization finished, 1 candidates were fitted\n",
            "| \u001b[0m30       \u001b[0m | \u001b[0m0.8635   \u001b[0m | \u001b[0m35.86    \u001b[0m | \u001b[0m58.7     \u001b[0m |\n",
            "0.28625343959584226 41.20415809712333\n",
            "0 41\n",
            "Fitting at most 1 candidates\n",
            "Optimization finished, 1 candidates were fitted\n",
            "| \u001b[0m31       \u001b[0m | \u001b[0m0.861    \u001b[0m | \u001b[0m41.2     \u001b[0m | \u001b[0m0.2863   \u001b[0m |\n",
            "8.232577780941638 33.14336921557605\n",
            "8 33\n",
            "Fitting at most 1 candidates\n",
            "Optimization finished, 1 candidates were fitted\n",
            "| \u001b[0m32       \u001b[0m | \u001b[0m0.8615   \u001b[0m | \u001b[0m33.14    \u001b[0m | \u001b[0m8.233    \u001b[0m |\n",
            "4.963756108549237 35.21622545528952\n",
            "4 35\n",
            "Fitting at most 1 candidates\n",
            "Optimization finished, 1 candidates were fitted\n",
            "| \u001b[0m33       \u001b[0m | \u001b[0m0.8615   \u001b[0m | \u001b[0m35.22    \u001b[0m | \u001b[0m4.964    \u001b[0m |\n",
            "24.6936246012652 73.07093287058474\n",
            "24 73\n",
            "Fitting at most 1 candidates\n",
            "Optimization finished, 1 candidates were fitted\n",
            "| \u001b[0m34       \u001b[0m | \u001b[0m0.862    \u001b[0m | \u001b[0m73.07    \u001b[0m | \u001b[0m24.69    \u001b[0m |\n",
            "29.51340659398022 63.56338500687842\n",
            "29 63\n",
            "Fitting at most 1 candidates\n",
            "Optimization finished, 1 candidates were fitted\n",
            "| \u001b[0m35       \u001b[0m | \u001b[0m0.862    \u001b[0m | \u001b[0m63.56    \u001b[0m | \u001b[0m29.51    \u001b[0m |\n",
            "17.298748376147444 65.74852176015482\n",
            "17 65\n",
            "Fitting at most 1 candidates\n",
            "Optimization finished, 1 candidates were fitted\n",
            "| \u001b[0m36       \u001b[0m | \u001b[0m0.861    \u001b[0m | \u001b[0m65.75    \u001b[0m | \u001b[0m17.3     \u001b[0m |\n",
            "8.1544154243204 21.703743987510222\n",
            "8 21\n",
            "Fitting at most 1 candidates\n",
            "Optimization finished, 1 candidates were fitted\n",
            "| \u001b[0m37       \u001b[0m | \u001b[0m0.8615   \u001b[0m | \u001b[0m21.7     \u001b[0m | \u001b[0m8.154    \u001b[0m |\n",
            "34.00928103574097 4.0543047147511935\n",
            "34 4\n",
            "Fitting at most 1 candidates\n",
            "Optimization finished, 1 candidates were fitted\n",
            "| \u001b[0m38       \u001b[0m | \u001b[0m0.863    \u001b[0m | \u001b[0m4.054    \u001b[0m | \u001b[0m34.01    \u001b[0m |\n",
            "43.55767759426656 1.8841621210726522\n",
            "43 1\n",
            "Fitting at most 1 candidates\n",
            "Optimization finished, 1 candidates were fitted\n",
            "| \u001b[0m39       \u001b[0m | \u001b[0m0.8615   \u001b[0m | \u001b[0m1.884    \u001b[0m | \u001b[0m43.56    \u001b[0m |\n",
            "56.5987458111232 60.99271931750167\n",
            "56 60\n",
            "Fitting at most 1 candidates\n",
            "Optimization finished, 1 candidates were fitted\n",
            "| \u001b[0m40       \u001b[0m | \u001b[0m0.8615   \u001b[0m | \u001b[0m60.99    \u001b[0m | \u001b[0m56.6     \u001b[0m |\n",
            "19.46599848779132 9.997364515354077\n",
            "19 9\n",
            "Fitting at most 1 candidates\n",
            "Optimization finished, 1 candidates were fitted\n",
            "| \u001b[0m41       \u001b[0m | \u001b[0m0.863    \u001b[0m | \u001b[0m9.997    \u001b[0m | \u001b[0m19.47    \u001b[0m |\n",
            "53.267110751348625 59.554005412696426\n",
            "53 59\n",
            "Fitting at most 1 candidates\n",
            "Optimization finished, 1 candidates were fitted\n",
            "| \u001b[0m42       \u001b[0m | \u001b[0m0.8625   \u001b[0m | \u001b[0m59.55    \u001b[0m | \u001b[0m53.27    \u001b[0m |\n",
            "40.40008832697907 29.56703663338624\n",
            "40 29\n",
            "Fitting at most 1 candidates\n",
            "Optimization finished, 1 candidates were fitted\n",
            "| \u001b[0m43       \u001b[0m | \u001b[0m0.863    \u001b[0m | \u001b[0m29.57    \u001b[0m | \u001b[0m40.4     \u001b[0m |\n",
            "17.02544338114278 30.361758565198357\n",
            "17 30\n",
            "Fitting at most 1 candidates\n",
            "Optimization finished, 1 candidates were fitted\n",
            "| \u001b[0m44       \u001b[0m | \u001b[0m0.861    \u001b[0m | \u001b[0m30.36    \u001b[0m | \u001b[0m17.03    \u001b[0m |\n",
            "31.300410547877927 3.066463893679874\n",
            "31 3\n",
            "Fitting at most 1 candidates\n",
            "Optimization finished, 1 candidates were fitted\n",
            "| \u001b[0m45       \u001b[0m | \u001b[0m0.861    \u001b[0m | \u001b[0m3.066    \u001b[0m | \u001b[0m31.3     \u001b[0m |\n",
            "24.19863740734848 35.88749524063679\n",
            "24 35\n",
            "Fitting at most 1 candidates\n",
            "Optimization finished, 1 candidates were fitted\n",
            "| \u001b[0m46       \u001b[0m | \u001b[0m0.862    \u001b[0m | \u001b[0m35.89    \u001b[0m | \u001b[0m24.2     \u001b[0m |\n",
            "52.37863406401438 12.622294560871392\n",
            "52 12\n",
            "Fitting at most 1 candidates\n",
            "Optimization finished, 1 candidates were fitted\n",
            "| \u001b[0m47       \u001b[0m | \u001b[0m0.863    \u001b[0m | \u001b[0m12.62    \u001b[0m | \u001b[0m52.38    \u001b[0m |\n",
            "55.59744039228975 66.25743907510964\n",
            "55 66\n",
            "Fitting at most 1 candidates\n",
            "Optimization finished, 1 candidates were fitted\n",
            "| \u001b[0m48       \u001b[0m | \u001b[0m0.862    \u001b[0m | \u001b[0m66.26    \u001b[0m | \u001b[0m55.6     \u001b[0m |\n",
            "10.290964197757088 24.62369245165762\n",
            "10 24\n",
            "Fitting at most 1 candidates\n",
            "Optimization finished, 1 candidates were fitted\n",
            "| \u001b[0m49       \u001b[0m | \u001b[0m0.862    \u001b[0m | \u001b[0m24.62    \u001b[0m | \u001b[0m10.29    \u001b[0m |\n",
            "34.07750089028386 16.207669771955693\n",
            "34 16\n",
            "Fitting at most 1 candidates\n",
            "Optimization finished, 1 candidates were fitted\n",
            "| \u001b[0m50       \u001b[0m | \u001b[0m0.863    \u001b[0m | \u001b[0m16.21    \u001b[0m | \u001b[0m34.08    \u001b[0m |\n",
            "7.487217610159509 41.68040092267556\n",
            "7 41\n",
            "Fitting at most 1 candidates\n",
            "Optimization finished, 1 candidates were fitted\n",
            "| \u001b[0m51       \u001b[0m | \u001b[0m0.865    \u001b[0m | \u001b[0m41.68    \u001b[0m | \u001b[0m7.487    \u001b[0m |\n",
            "51.79467318010693 73.77400821327032\n",
            "51 73\n",
            "| \u001b[0m52       \u001b[0m | \u001b[0m0.863    \u001b[0m | \u001b[0m73.77    \u001b[0m | \u001b[0m51.79    \u001b[0m |\n",
            "7.094889108739089 41.72827181493354\n",
            "7 41\n",
            "| \u001b[0m53       \u001b[0m | \u001b[0m0.865    \u001b[0m | \u001b[0m41.73    \u001b[0m | \u001b[0m7.095    \u001b[0m |\n",
            "7.3335157662835515 40.962557521810396\n",
            "7 40\n",
            "Fitting at most 1 candidates\n",
            "Optimization finished, 1 candidates were fitted\n",
            "| \u001b[0m54       \u001b[0m | \u001b[0m0.865    \u001b[0m | \u001b[0m40.96    \u001b[0m | \u001b[0m7.334    \u001b[0m |\n",
            "5.456370930163451 29.77916664759548\n",
            "5 29\n",
            "Fitting at most 1 candidates\n",
            "Optimization finished, 1 candidates were fitted\n",
            "| \u001b[0m55       \u001b[0m | \u001b[0m0.863    \u001b[0m | \u001b[0m29.78    \u001b[0m | \u001b[0m5.456    \u001b[0m |\n",
            "6.567091855770295 40.79796772120229\n",
            "6 40\n",
            "Fitting at most 1 candidates\n",
            "Optimization finished, 1 candidates were fitted\n",
            "| \u001b[0m56       \u001b[0m | \u001b[0m0.865    \u001b[0m | \u001b[0m40.8     \u001b[0m | \u001b[0m6.567    \u001b[0m |\n",
            "7.071805949971975 30.043169197743687\n",
            "7 30\n",
            "Fitting at most 1 candidates\n",
            "Optimization finished, 1 candidates were fitted\n",
            "| \u001b[0m57       \u001b[0m | \u001b[0m0.865    \u001b[0m | \u001b[0m30.04    \u001b[0m | \u001b[0m7.072    \u001b[0m |\n",
            "6.751875824547723 31.271360010446763\n",
            "6 31\n",
            "Fitting at most 1 candidates\n",
            "Optimization finished, 1 candidates were fitted\n",
            "| \u001b[0m58       \u001b[0m | \u001b[0m0.865    \u001b[0m | \u001b[0m31.27    \u001b[0m | \u001b[0m6.752    \u001b[0m |\n",
            "7.5263563177558295 30.951400062402517\n",
            "7 30\n",
            "| \u001b[0m59       \u001b[0m | \u001b[0m0.865    \u001b[0m | \u001b[0m30.95    \u001b[0m | \u001b[0m7.526    \u001b[0m |\n",
            "5.087986407826153 41.23411598842334\n",
            "5 41\n",
            "Fitting at most 1 candidates\n",
            "Optimization finished, 1 candidates were fitted\n",
            "| \u001b[0m60       \u001b[0m | \u001b[0m0.863    \u001b[0m | \u001b[0m41.23    \u001b[0m | \u001b[0m5.088    \u001b[0m |\n",
            "6.941213763015039 39.75198745664051\n",
            "6 39\n",
            "Fitting at most 1 candidates\n",
            "Optimization finished, 1 candidates were fitted\n",
            "| \u001b[0m61       \u001b[0m | \u001b[0m0.865    \u001b[0m | \u001b[0m39.75    \u001b[0m | \u001b[0m6.941    \u001b[0m |\n",
            "6.192209744197165 39.20216660244521\n",
            "6 39\n",
            "| \u001b[0m62       \u001b[0m | \u001b[0m0.865    \u001b[0m | \u001b[0m39.2     \u001b[0m | \u001b[0m6.192    \u001b[0m |\n",
            "6.972558162852373 38.30220954405064\n",
            "6 38\n",
            "Fitting at most 1 candidates\n",
            "Optimization finished, 1 candidates were fitted\n",
            "| \u001b[0m63       \u001b[0m | \u001b[0m0.865    \u001b[0m | \u001b[0m38.3     \u001b[0m | \u001b[0m6.973    \u001b[0m |\n",
            "8.255518142398312 38.67234831399063\n",
            "8 38\n",
            "Fitting at most 1 candidates\n",
            "Optimization finished, 1 candidates were fitted\n",
            "| \u001b[0m64       \u001b[0m | \u001b[0m0.8615   \u001b[0m | \u001b[0m38.67    \u001b[0m | \u001b[0m8.256    \u001b[0m |\n",
            "5.8181717496243675 38.14440131054208\n",
            "5 38\n",
            "Fitting at most 1 candidates\n",
            "Optimization finished, 1 candidates were fitted\n",
            "| \u001b[0m65       \u001b[0m | \u001b[0m0.863    \u001b[0m | \u001b[0m38.14    \u001b[0m | \u001b[0m5.818    \u001b[0m |\n",
            "8.5420531923647 30.101894485061848\n",
            "8 30\n",
            "Fitting at most 1 candidates\n",
            "Optimization finished, 1 candidates were fitted\n",
            "| \u001b[0m66       \u001b[0m | \u001b[0m0.8615   \u001b[0m | \u001b[0m30.1     \u001b[0m | \u001b[0m8.542    \u001b[0m |\n",
            "6.500553895139697 30.66035211878944\n",
            "6 30\n",
            "| \u001b[0m67       \u001b[0m | \u001b[0m0.865    \u001b[0m | \u001b[0m30.66    \u001b[0m | \u001b[0m6.501    \u001b[0m |\n",
            "6.827008342568073 29.200003835263438\n",
            "6 29\n",
            "Fitting at most 1 candidates\n",
            "Optimization finished, 1 candidates were fitted\n",
            "| \u001b[0m68       \u001b[0m | \u001b[0m0.865    \u001b[0m | \u001b[0m29.2     \u001b[0m | \u001b[0m6.827    \u001b[0m |\n",
            "5.909874505004512 39.92952962044746\n",
            "5 39\n",
            "Fitting at most 1 candidates\n",
            "Optimization finished, 1 candidates were fitted\n",
            "| \u001b[0m69       \u001b[0m | \u001b[0m0.863    \u001b[0m | \u001b[0m39.93    \u001b[0m | \u001b[0m5.91     \u001b[0m |\n",
            "6.884312931668189 39.17362073300464\n",
            "6 39\n",
            "| \u001b[0m70       \u001b[0m | \u001b[0m0.865    \u001b[0m | \u001b[0m39.17    \u001b[0m | \u001b[0m6.884    \u001b[0m |\n",
            "6.781816194063814 28.237939393447853\n",
            "6 28\n",
            "Fitting at most 1 candidates\n",
            "Optimization finished, 1 candidates were fitted\n",
            "| \u001b[0m71       \u001b[0m | \u001b[0m0.865    \u001b[0m | \u001b[0m28.24    \u001b[0m | \u001b[0m6.782    \u001b[0m |\n",
            "8.012813972520942 27.7759751444125\n",
            "8 27\n",
            "Fitting at most 1 candidates\n",
            "Optimization finished, 1 candidates were fitted\n",
            "| \u001b[0m72       \u001b[0m | \u001b[0m0.8615   \u001b[0m | \u001b[0m27.78    \u001b[0m | \u001b[0m8.013    \u001b[0m |\n",
            "6.0311427247871805 27.359005160733993\n",
            "6 27\n",
            "Fitting at most 1 candidates\n",
            "Optimization finished, 1 candidates were fitted\n",
            "| \u001b[0m73       \u001b[0m | \u001b[0m0.865    \u001b[0m | \u001b[0m27.36    \u001b[0m | \u001b[0m6.031    \u001b[0m |\n",
            "5.618959265988071 28.068714803660015\n",
            "5 28\n",
            "Fitting at most 1 candidates\n",
            "Optimization finished, 1 candidates were fitted\n",
            "| \u001b[0m74       \u001b[0m | \u001b[0m0.863    \u001b[0m | \u001b[0m28.07    \u001b[0m | \u001b[0m5.619    \u001b[0m |\n",
            "6.918340596631269 26.91071853548216\n",
            "6 26\n",
            "Fitting at most 1 candidates\n",
            "Optimization finished, 1 candidates were fitted\n",
            "| \u001b[0m75       \u001b[0m | \u001b[0m0.865    \u001b[0m | \u001b[0m26.91    \u001b[0m | \u001b[0m6.918    \u001b[0m |\n",
            "5.638879973020732 25.821988881925797\n",
            "5 25\n",
            "Fitting at most 1 candidates\n",
            "Optimization finished, 1 candidates were fitted\n",
            "| \u001b[0m76       \u001b[0m | \u001b[0m0.863    \u001b[0m | \u001b[0m25.82    \u001b[0m | \u001b[0m5.639    \u001b[0m |\n",
            "6.144220773452708 32.44243329833249\n",
            "6 32\n",
            "Fitting at most 1 candidates\n",
            "Optimization finished, 1 candidates were fitted\n",
            "| \u001b[0m77       \u001b[0m | \u001b[0m0.865    \u001b[0m | \u001b[0m32.44    \u001b[0m | \u001b[0m6.144    \u001b[0m |\n",
            "5.656201102740717 31.91286004792979\n",
            "5 31\n",
            "Fitting at most 1 candidates\n",
            "Optimization finished, 1 candidates were fitted\n",
            "| \u001b[0m78       \u001b[0m | \u001b[0m0.863    \u001b[0m | \u001b[0m31.91    \u001b[0m | \u001b[0m5.656    \u001b[0m |\n",
            "6.853181232956813 32.47355005697739\n",
            "6 32\n",
            "| \u001b[0m79       \u001b[0m | \u001b[0m0.865    \u001b[0m | \u001b[0m32.47    \u001b[0m | \u001b[0m6.853    \u001b[0m |\n",
            "6.187485496496898 33.05872760579426\n",
            "6 33\n",
            "Fitting at most 1 candidates\n",
            "Optimization finished, 1 candidates were fitted\n",
            "| \u001b[0m80       \u001b[0m | \u001b[0m0.865    \u001b[0m | \u001b[0m33.06    \u001b[0m | \u001b[0m6.187    \u001b[0m |\n",
            "5.792578749234472 42.96887379103133\n",
            "5 42\n",
            "Fitting at most 1 candidates\n",
            "Optimization finished, 1 candidates were fitted\n",
            "| \u001b[0m81       \u001b[0m | \u001b[0m0.863    \u001b[0m | \u001b[0m42.97    \u001b[0m | \u001b[0m5.793    \u001b[0m |\n",
            "7.097148075581497 37.28532106644324\n",
            "7 37\n",
            "Fitting at most 1 candidates\n",
            "Optimization finished, 1 candidates were fitted\n",
            "| \u001b[0m82       \u001b[0m | \u001b[0m0.865    \u001b[0m | \u001b[0m37.29    \u001b[0m | \u001b[0m7.097    \u001b[0m |\n",
            "8.316036954943968 36.51694375457954\n",
            "8 36\n",
            "Fitting at most 1 candidates\n",
            "Optimization finished, 1 candidates were fitted\n",
            "| \u001b[0m83       \u001b[0m | \u001b[0m0.8615   \u001b[0m | \u001b[0m36.52    \u001b[0m | \u001b[0m8.316    \u001b[0m |\n",
            "7.151182654593619 25.92798404877189\n",
            "7 25\n",
            "Fitting at most 1 candidates\n",
            "Optimization finished, 1 candidates were fitted\n",
            "| \u001b[0m84       \u001b[0m | \u001b[0m0.865    \u001b[0m | \u001b[0m25.93    \u001b[0m | \u001b[0m7.151    \u001b[0m |\n",
            "7.61183990860116 24.431778504872923\n",
            "7 24\n",
            "Fitting at most 1 candidates\n",
            "Optimization finished, 1 candidates were fitted\n",
            "| \u001b[0m85       \u001b[0m | \u001b[0m0.865    \u001b[0m | \u001b[0m24.43    \u001b[0m | \u001b[0m7.612    \u001b[0m |\n",
            "8.224953847618307 25.177757623018422\n",
            "8 25\n",
            "Fitting at most 1 candidates\n",
            "Optimization finished, 1 candidates were fitted\n",
            "| \u001b[0m86       \u001b[0m | \u001b[0m0.8615   \u001b[0m | \u001b[0m25.18    \u001b[0m | \u001b[0m8.225    \u001b[0m |\n",
            "6.70934150326826 24.8618758153966\n",
            "6 24\n",
            "Fitting at most 1 candidates\n",
            "Optimization finished, 1 candidates were fitted\n",
            "| \u001b[0m87       \u001b[0m | \u001b[0m0.865    \u001b[0m | \u001b[0m24.86    \u001b[0m | \u001b[0m6.709    \u001b[0m |\n",
            "6.784506674972423 23.68386410959768\n",
            "6 23\n",
            "Fitting at most 1 candidates\n",
            "Optimization finished, 1 candidates were fitted\n",
            "| \u001b[0m88       \u001b[0m | \u001b[0m0.865    \u001b[0m | \u001b[0m23.68    \u001b[0m | \u001b[0m6.785    \u001b[0m |\n",
            "5.69659979489691 23.86543083620138\n",
            "5 23\n",
            "Fitting at most 1 candidates\n",
            "Optimization finished, 1 candidates were fitted\n",
            "| \u001b[0m89       \u001b[0m | \u001b[0m0.863    \u001b[0m | \u001b[0m23.87    \u001b[0m | \u001b[0m5.697    \u001b[0m |\n",
            "7.9925321796180455 23.680069532259466\n",
            "7 23\n",
            "Fitting at most 1 candidates\n",
            "Optimization finished, 1 candidates were fitted\n",
            "| \u001b[0m90       \u001b[0m | \u001b[0m0.865    \u001b[0m | \u001b[0m23.68    \u001b[0m | \u001b[0m7.993    \u001b[0m |\n",
            "7.333386050249099 24.006440080741676\n",
            "7 24\n",
            "| \u001b[0m91       \u001b[0m | \u001b[0m0.865    \u001b[0m | \u001b[0m24.01    \u001b[0m | \u001b[0m7.333    \u001b[0m |\n",
            "6.641374791817386 26.403349704872873\n",
            "6 26\n",
            "| \u001b[0m92       \u001b[0m | \u001b[0m0.865    \u001b[0m | \u001b[0m26.4     \u001b[0m | \u001b[0m6.641    \u001b[0m |\n",
            "56.78076756218289 35.11879246142794\n",
            "56 35\n",
            "Fitting at most 1 candidates\n",
            "Optimization finished, 1 candidates were fitted\n",
            "| \u001b[0m93       \u001b[0m | \u001b[0m0.8615   \u001b[0m | \u001b[0m35.12    \u001b[0m | \u001b[0m56.78    \u001b[0m |\n",
            "6.338084814374775 22.691802718879003\n",
            "6 22\n",
            "Fitting at most 1 candidates\n",
            "Optimization finished, 1 candidates were fitted\n",
            "| \u001b[0m94       \u001b[0m | \u001b[0m0.865    \u001b[0m | \u001b[0m22.69    \u001b[0m | \u001b[0m6.338    \u001b[0m |\n",
            "5.1478615688540375 21.67403986395332\n",
            "5 21\n",
            "Fitting at most 1 candidates\n",
            "Optimization finished, 1 candidates were fitted\n",
            "| \u001b[0m95       \u001b[0m | \u001b[0m0.863    \u001b[0m | \u001b[0m21.67    \u001b[0m | \u001b[0m5.148    \u001b[0m |\n",
            "7.084427016082185 22.85868647011916\n",
            "7 22\n",
            "Fitting at most 1 candidates\n",
            "Optimization finished, 1 candidates were fitted\n",
            "| \u001b[0m96       \u001b[0m | \u001b[0m0.865    \u001b[0m | \u001b[0m22.86    \u001b[0m | \u001b[0m7.084    \u001b[0m |\n",
            "58.8483284648807 37.95718415458904\n",
            "58 37\n",
            "Fitting at most 1 candidates\n",
            "Optimization finished, 1 candidates were fitted\n",
            "| \u001b[0m97       \u001b[0m | \u001b[0m0.8635   \u001b[0m | \u001b[0m37.96    \u001b[0m | \u001b[0m58.85    \u001b[0m |\n",
            "1.5077947503418354 0.23757888417784478\n",
            "1 0\n",
            "Fitting at most 1 candidates\n",
            "Optimization finished, 1 candidates were fitted\n",
            "| \u001b[0m98       \u001b[0m | \u001b[0m0.861    \u001b[0m | \u001b[0m0.2376   \u001b[0m | \u001b[0m1.508    \u001b[0m |\n",
            "37.122108985428994 24.273248882577203\n",
            "37 24\n",
            "Fitting at most 1 candidates\n",
            "Optimization finished, 1 candidates were fitted\n",
            "| \u001b[0m99       \u001b[0m | \u001b[0m0.8615   \u001b[0m | \u001b[0m24.27    \u001b[0m | \u001b[0m37.12    \u001b[0m |\n",
            "41.542345816859395 17.88260318324344\n",
            "41 17\n",
            "Fitting at most 1 candidates\n",
            "Optimization finished, 1 candidates were fitted\n",
            "| \u001b[0m100      \u001b[0m | \u001b[0m0.8625   \u001b[0m | \u001b[0m17.88    \u001b[0m | \u001b[0m41.54    \u001b[0m |\n",
            "4.717466756980065 66.85244929431877\n",
            "4 66\n",
            "Fitting at most 1 candidates\n",
            "Optimization finished, 1 candidates were fitted\n",
            "| \u001b[0m101      \u001b[0m | \u001b[0m0.8615   \u001b[0m | \u001b[0m66.85    \u001b[0m | \u001b[0m4.717    \u001b[0m |\n",
            "36.714097183363734 41.90283716732071\n",
            "36 41\n",
            "Fitting at most 1 candidates\n",
            "Optimization finished, 1 candidates were fitted\n",
            "| \u001b[0m102      \u001b[0m | \u001b[0m0.8615   \u001b[0m | \u001b[0m41.9     \u001b[0m | \u001b[0m36.71    \u001b[0m |\n",
            "43.76860612614065 41.81523882146799\n",
            "43 41\n",
            "Fitting at most 1 candidates\n",
            "Optimization finished, 1 candidates were fitted\n",
            "| \u001b[0m103      \u001b[0m | \u001b[0m0.8615   \u001b[0m | \u001b[0m41.82    \u001b[0m | \u001b[0m43.77    \u001b[0m |\n",
            "33.562653783968194 12.929719964602686\n",
            "33 12\n",
            "Fitting at most 1 candidates\n",
            "Optimization finished, 1 candidates were fitted\n",
            "| \u001b[0m104      \u001b[0m | \u001b[0m0.863    \u001b[0m | \u001b[0m12.93    \u001b[0m | \u001b[0m33.56    \u001b[0m |\n",
            "36.73484639921838 13.874874912564783\n",
            "36 13\n",
            "Fitting at most 1 candidates\n",
            "Optimization finished, 1 candidates were fitted\n",
            "| \u001b[0m105      \u001b[0m | \u001b[0m0.8615   \u001b[0m | \u001b[0m13.87    \u001b[0m | \u001b[0m36.73    \u001b[0m |\n",
            "31.192015085305155 14.572506217249828\n",
            "31 14\n",
            "Fitting at most 1 candidates\n",
            "Optimization finished, 1 candidates were fitted\n",
            "| \u001b[0m106      \u001b[0m | \u001b[0m0.861    \u001b[0m | \u001b[0m14.57    \u001b[0m | \u001b[0m31.19    \u001b[0m |\n",
            "33.582272773230976 9.825725458925394\n",
            "33 9\n",
            "Fitting at most 1 candidates\n",
            "Optimization finished, 1 candidates were fitted\n",
            "| \u001b[0m107      \u001b[0m | \u001b[0m0.863    \u001b[0m | \u001b[0m9.826    \u001b[0m | \u001b[0m33.58    \u001b[0m |\n",
            "34.76087718330701 6.966747550512418\n",
            "34 6\n",
            "Fitting at most 1 candidates\n",
            "Optimization finished, 1 candidates were fitted\n",
            "| \u001b[0m108      \u001b[0m | \u001b[0m0.863    \u001b[0m | \u001b[0m6.967    \u001b[0m | \u001b[0m34.76    \u001b[0m |\n",
            "49.455929219103595 13.813820352320256\n",
            "49 13\n",
            "Fitting at most 1 candidates\n",
            "Optimization finished, 1 candidates were fitted\n",
            "| \u001b[0m109      \u001b[0m | \u001b[0m0.8615   \u001b[0m | \u001b[0m13.81    \u001b[0m | \u001b[0m49.46    \u001b[0m |\n",
            "55.340239315185265 12.621403958584567\n",
            "55 12\n",
            "Fitting at most 1 candidates\n",
            "Optimization finished, 1 candidates were fitted\n",
            "| \u001b[0m110      \u001b[0m | \u001b[0m0.862    \u001b[0m | \u001b[0m12.62    \u001b[0m | \u001b[0m55.34    \u001b[0m |\n",
            "16.615340841204656 16.155256893925056\n",
            "16 16\n",
            "Fitting at most 1 candidates\n",
            "Optimization finished, 1 candidates were fitted\n",
            "| \u001b[0m111      \u001b[0m | \u001b[0m0.862    \u001b[0m | \u001b[0m16.16    \u001b[0m | \u001b[0m16.62    \u001b[0m |\n",
            "7.35986151832678 31.72514407853246\n",
            "7 31\n",
            "Fitting at most 1 candidates\n",
            "Optimization finished, 1 candidates were fitted\n",
            "| \u001b[0m112      \u001b[0m | \u001b[0m0.865    \u001b[0m | \u001b[0m31.73    \u001b[0m | \u001b[0m7.36     \u001b[0m |\n",
            "53.86914892696248 76.07027833521785\n",
            "53 76\n",
            "Fitting at most 1 candidates\n",
            "Optimization finished, 1 candidates were fitted\n",
            "| \u001b[0m113      \u001b[0m | \u001b[0m0.8625   \u001b[0m | \u001b[0m76.07    \u001b[0m | \u001b[0m53.87    \u001b[0m |\n",
            "35.02672361508313 19.06820810952737\n",
            "35 19\n",
            "Fitting at most 1 candidates\n",
            "Optimization finished, 1 candidates were fitted\n",
            "| \u001b[0m114      \u001b[0m | \u001b[0m0.863    \u001b[0m | \u001b[0m19.07    \u001b[0m | \u001b[0m35.03    \u001b[0m |\n",
            "50.478857806455586 71.07596437692084\n",
            "50 71\n",
            "Fitting at most 1 candidates\n",
            "Optimization finished, 1 candidates were fitted\n",
            "| \u001b[0m115      \u001b[0m | \u001b[0m0.861    \u001b[0m | \u001b[0m71.08    \u001b[0m | \u001b[0m50.48    \u001b[0m |\n",
            "36.97006063265086 8.728243702105773\n",
            "36 8\n",
            "Fitting at most 1 candidates\n",
            "Optimization finished, 1 candidates were fitted\n",
            "| \u001b[0m116      \u001b[0m | \u001b[0m0.8615   \u001b[0m | \u001b[0m8.728    \u001b[0m | \u001b[0m36.97    \u001b[0m |\n",
            "20.815204811653636 7.258601971733238\n",
            "20 7\n",
            "Fitting at most 1 candidates\n",
            "Optimization finished, 1 candidates were fitted\n",
            "| \u001b[0m117      \u001b[0m | \u001b[0m0.8625   \u001b[0m | \u001b[0m7.259    \u001b[0m | \u001b[0m20.82    \u001b[0m |\n",
            "5.406904548702555 73.49350416660522\n",
            "5 73\n",
            "Fitting at most 1 candidates\n",
            "Optimization finished, 1 candidates were fitted\n",
            "| \u001b[0m118      \u001b[0m | \u001b[0m0.863    \u001b[0m | \u001b[0m73.49    \u001b[0m | \u001b[0m5.407    \u001b[0m |\n",
            "32.01319945084574 7.760623048649826\n",
            "32 7\n",
            "Fitting at most 1 candidates\n",
            "Optimization finished, 1 candidates were fitted\n",
            "| \u001b[0m119      \u001b[0m | \u001b[0m0.861    \u001b[0m | \u001b[0m7.761    \u001b[0m | \u001b[0m32.01    \u001b[0m |\n",
            "6.378116670869081 36.571394963414\n",
            "6 36\n",
            "Fitting at most 1 candidates\n",
            "Optimization finished, 1 candidates were fitted\n",
            "| \u001b[0m120      \u001b[0m | \u001b[0m0.865    \u001b[0m | \u001b[0m36.57    \u001b[0m | \u001b[0m6.378    \u001b[0m |\n",
            "7.760317579336576 71.55606415280656\n",
            "7 71\n",
            "Fitting at most 1 candidates\n",
            "Optimization finished, 1 candidates were fitted\n",
            "| \u001b[0m121      \u001b[0m | \u001b[0m0.865    \u001b[0m | \u001b[0m71.56    \u001b[0m | \u001b[0m7.76     \u001b[0m |\n",
            "8.863493471682101 71.55056038667686\n",
            "8 71\n",
            "Fitting at most 1 candidates\n",
            "Optimization finished, 1 candidates were fitted\n",
            "| \u001b[0m122      \u001b[0m | \u001b[0m0.8615   \u001b[0m | \u001b[0m71.55    \u001b[0m | \u001b[0m8.863    \u001b[0m |\n",
            "=================================================\n",
            "Best result: {'algo_val': 30.222504227431592, 'mdl_val': 6.161245440130831}; f(x) = 0.865.\n"
          ]
        }
      ],
      "source": [
        "from bayes_opt import BayesianOptimization, UtilityFunction\n",
        "\n",
        "# Define the metric to optimize over.\n",
        "'''\n",
        "def black_box_function(algo,mdl):\n",
        "    return Get_Score(mdl,algo)\n",
        "''' \n",
        "\n",
        "# Set range of C to optimize over. bayes_opt requires this to be a dictionary.\n",
        "pbounds = {\"algo_val\": (0, len(HBA_lst)-1), \"mdl_val\" : (0,len(mdl_para_lst)-1)}\n",
        "print(pbounds)\n",
        "#ptypes = {\"algo_val\": int, \"mdl_val\": int}\n",
        "\n",
        "# Create BayesianOptimization object, and optimize (maximize) black_box_function.\n",
        "optimizer = BayesianOptimization(f = Get_Score_HBA, pbounds = pbounds, verbose = 2, random_state = SEED)\n",
        "\n",
        "optimizer.maximize(init_points = 51, n_iter = 71)\n",
        "\n",
        "print(\"Best result: {}; f(x) = {}.\".format(optimizer.max[\"params\"], optimizer.max[\"target\"]))"
      ]
    },
    {
      "cell_type": "code",
      "execution_count": 66,
      "metadata": {
        "colab": {
          "base_uri": "https://localhost:8080/"
        },
        "id": "4B4ft2I5FQTF",
        "outputId": "39d1cb75-bca2-4547-ff73-68d1817f07b8"
      },
      "outputs": [
        {
          "output_type": "stream",
          "name": "stdout",
          "text": [
            "44.37312093390081 70.37946230774946\n",
            "44 70\n",
            "53.406825583377625 60.27898563190991\n",
            "53 60\n",
            "Fitting at most 1 candidates\n",
            "Optimization finished, 1 candidates were fitted\n",
            "36.00911275665642 51.340502150259226\n",
            "36 51\n",
            "Fitting at most 1 candidates\n",
            "Optimization finished, 1 candidates were fitted\n",
            "2.8893087878744073 9.566953701936463\n",
            "2 9\n",
            "Fitting at most 1 candidates\n",
            "Optimization finished, 1 candidates were fitted\n",
            "24.56464016697844 51.78317559617171\n",
            "24 51\n",
            "Fitting at most 1 candidates\n",
            "Optimization finished, 1 candidates were fitted\n",
            "55.150689482497086 58.351221377144704\n",
            "55 58\n",
            "Fitting at most 1 candidates\n",
            "Optimization finished, 1 candidates were fitted\n",
            "55.74085486541742 64.72122326657288\n",
            "55 64\n",
            "Fitting at most 1 candidates\n",
            "Optimization finished, 1 candidates were fitted\n",
            "48.2807898840228 58.192236985592196\n",
            "48 58\n",
            "Fitting at most 1 candidates\n",
            "Optimization finished, 1 candidates were fitted\n",
            "23.833567096496232 44.586539613449936\n",
            "23 44\n",
            "Fitting at most 1 candidates\n",
            "Optimization finished, 1 candidates were fitted\n",
            "26.199006584874244 57.15052681044519\n",
            "26 57\n",
            "Fitting at most 1 candidates\n",
            "Optimization finished, 1 candidates were fitted\n",
            "51.588178109469574 63.303605359960656\n",
            "51 63\n",
            "Fitting at most 1 candidates\n",
            "Optimization finished, 1 candidates were fitted\n",
            "51.00305447923462 66.26461097290564\n",
            "51 66\n",
            "Fitting at most 1 candidates\n",
            "Optimization finished, 1 candidates were fitted\n",
            "54.18955987903062 71.86196825444094\n",
            "54 71\n",
            "Fitting at most 1 candidates\n",
            "Optimization finished, 1 candidates were fitted\n",
            "48.61392835796004 64.33812364087692\n",
            "48 64\n",
            "Fitting at most 1 candidates\n",
            "Optimization finished, 1 candidates were fitted\n",
            "52.99014469441892 67.26582988854715\n",
            "52 67\n",
            "Fitting at most 1 candidates\n",
            "Optimization finished, 1 candidates were fitted\n",
            "Best result: {'algo_val': 63.303605359960656, 'mdl_val': 51.588178109469574}; f(x) = 0.863.\n"
          ]
        }
      ],
      "source": [
        "# Create optimizer and utility function objects.\n",
        "optimizer = BayesianOptimization(f = None, pbounds = {\"algo_val\": (0, len(HBA_lst)-1), \"mdl_val\" : (0,len(mdl_para_lst)-1)}, verbose = 2, random_state = SEED)\n",
        "utility = UtilityFunction(kind = \"ucb\", kappa = 1.96, xi = 0.01)\n",
        "\n",
        "# Optimization for loop.\n",
        "for i in range(15):\n",
        "    # Get optimizer to suggest a new parameter value to try.\n",
        "    next_point = optimizer.suggest(utility)    \n",
        "    # Evaluate the output of the black_box_function using the new parameter value.\n",
        "    target = Get_Score_HBA(**next_point)\n",
        "    try:\n",
        "        # Update the optimizer with the evaluation results. This needs to be in try-except\n",
        "        # to prevent repeat errors from occuring.\n",
        "        optimizer.register(params = next_point, target = target)\n",
        "    except:\n",
        "        pass\n",
        "    \n",
        "print(\"Best result: {}; f(x) = {:.3f}.\".format(optimizer.max[\"params\"], optimizer.max[\"target\"]))"
      ]
    },
    {
      "cell_type": "code",
      "execution_count": 67,
      "metadata": {
        "colab": {
          "base_uri": "https://localhost:8080/",
          "height": 334
        },
        "id": "OiMCKnubFQTF",
        "outputId": "51b60a11-e7ac-41ad-ffaf-abd72d36e2fb"
      },
      "outputs": [
        {
          "output_type": "display_data",
          "data": {
            "text/plain": [
              "<Figure size 1080x360 with 1 Axes>"
            ],
            "image/png": "[encoded data removed]"
          },
          "metadata": {
            "needs_background": "light"
          }
        }
      ],
      "source": [
        "import matplotlib.pyplot as plt\n",
        "\n",
        "plt.figure(figsize = (15, 5))\n",
        "plt.plot(range(1, 1+len(optimizer.space.target)), optimizer.space.target, \"-o\")\n",
        "plt.grid(True)\n",
        "plt.xlabel(\"Iteration\")\n",
        "plt.ylabel(\"Black box function\")\n",
        "plt.show()"
      ]
    },
    {
      "cell_type": "markdown",
      "metadata": {
        "id": "hG5GjTInFQTG"
      },
      "source": [
        "NEED TO BE CHECKED BEFORE RUNNING"
      ]
    },
    {
      "cell_type": "code",
      "execution_count": 68,
      "metadata": {
        "colab": {
          "base_uri": "https://localhost:8080/",
          "height": 387
        },
        "id": "lsmgrUhzFQTG",
        "outputId": "c1cfb85e-0a85-408b-8f5a-4acd7ac05cb9"
      },
      "outputs": [
        {
          "output_type": "error",
          "ename": "ModuleNotFoundError",
          "evalue": "ignored",
          "traceback": [
            "\u001b[0;31m---------------------------------------------------------------------------\u001b[0m",
            "\u001b[0;31mModuleNotFoundError\u001b[0m                       Traceback (most recent call last)",
            "\u001b[0;32m<ipython-input-68-842f9464ab4a>\u001b[0m in \u001b[0;36m<module>\u001b[0;34m\u001b[0m\n\u001b[0;32m----> 1\u001b[0;31m \u001b[0;32mimport\u001b[0m \u001b[0mskopt\u001b[0m\u001b[0;34m\u001b[0m\u001b[0;34m\u001b[0m\u001b[0m\n\u001b[0m\u001b[1;32m      2\u001b[0m \u001b[0;34m\u001b[0m\u001b[0m\n\u001b[1;32m      3\u001b[0m \u001b[0;31m# Unlike bayes_opt, skopt requires that the search boundary is given as an array of tuples.\u001b[0m\u001b[0;34m\u001b[0m\u001b[0;34m\u001b[0m\u001b[0;34m\u001b[0m\u001b[0m\n\u001b[1;32m      4\u001b[0m \u001b[0mp_bounds\u001b[0m \u001b[0;34m=\u001b[0m \u001b[0;34m[\u001b[0m\u001b[0;34m(\u001b[0m\u001b[0;36m0.1\u001b[0m\u001b[0;34m,\u001b[0m \u001b[0;36m10.0\u001b[0m\u001b[0;34m)\u001b[0m\u001b[0;34m]\u001b[0m\u001b[0;34m\u001b[0m\u001b[0;34m\u001b[0m\u001b[0m\n\u001b[1;32m      5\u001b[0m \u001b[0;34m\u001b[0m\u001b[0m\n",
            "\u001b[0;31mModuleNotFoundError\u001b[0m: No module named 'skopt'",
            "",
            "\u001b[0;31m---------------------------------------------------------------------------\u001b[0;32m\nNOTE: If your import is failing due to a missing package, you can\nmanually install dependencies using either !pip or !apt.\n\nTo view examples of installing some common dependencies, click the\n\"Open Examples\" button below.\n\u001b[0;31m---------------------------------------------------------------------------\u001b[0m\n"
          ],
          "errorDetails": {
            "actions": [
              {
                "action": "open_url",
                "actionText": "Open Examples",
                "url": "/notebooks/snippets/importing_libraries.ipynb"
              }
            ]
          }
        }
      ],
      "source": [
        "import skopt\n",
        "\n",
        "# Unlike bayes_opt, skopt requires that the search boundary is given as an array of tuples.\n",
        "p_bounds = [(0.1, 10.0)]\n",
        "\n",
        "opt = skopt.Optimizer(dimensions = p_bounds,\n",
        "                base_estimator = \"GP\", # Gaussian Process regressor.\n",
        "                n_initial_points = 5, \n",
        "                initial_point_generator = 'random', \n",
        "                acq_func = \"LCB\", # Lower Confidence Bounds.\n",
        "                random_state = 0)\n",
        "\n",
        "for i in range(15):\n",
        "    next_point_to_try = opt.ask() # next_point is returned as a list.\n",
        "    # Unlike bayes_opt, skopt performs minimization. Therefore we use -black_box_function(*next_point).\n",
        "    loss_to_minimize = -Get_Score(*next_point_to_try)\n",
        "    result = opt.tell(next_point_to_try, loss_to_minimize)\n",
        "    \n",
        "# Again, don't forget to use the negative of result as we are performing minimization here.\n",
        "print(\"Best result: {}, f(x) = {:.3f}.\".format(result[\"x\"], -result[\"fun\"]))"
      ]
    },
    {
      "cell_type": "code",
      "execution_count": null,
      "metadata": {
        "id": "hKfDNbFsFQTG"
      },
      "outputs": [],
      "source": [
        "plt.figure(figsize = (15, 5))\n",
        "plt.plot(range(1, len(result[\"func_vals\"])+1), result[\"func_vals\"], \"-o\")\n",
        "plt.grid(True)\n",
        "plt.xlabel(\"iteration\")\n",
        "plt.ylabel(\"loss_function\")\n",
        "plt.show()"
      ]
    },
    {
      "cell_type": "code",
      "execution_count": null,
      "metadata": {
        "id": "PpRa-dsUFQTH"
      },
      "outputs": [],
      "source": []
    },
    {
      "cell_type": "markdown",
      "source": [
        "function ClickConnect(){\n",
        "\n",
        "console.log(\"Working\"); \n",
        "document.querySelector(\"#comments > span\").click() \n",
        "}\n",
        "setInterval(ClickConnect,5000)"
      ],
      "metadata": {
        "id": "Br_NO9vMGbt9"
      }
    }
  ],
  "metadata": {
    "kernelspec": {
      "display_name": "Python 3.9.13 64-bit (microsoft store)",
      "language": "python",
      "name": "python3"
    },
    "language_info": {
      "codemirror_mode": {
        "name": "ipython",
        "version": 3
      },
      "file_extension": ".py",
      "mimetype": "text/x-python",
      "name": "python",
      "nbconvert_exporter": "python",
      "pygments_lexer": "ipython3",
      "version": "3.9.13"
    },
    "orig_nbformat": 4,
    "vscode": {
      "interpreter": {
        "hash": "bcac82fb26a6e7c950421e78519edb87e1a5e005e0aec2fc293e679965bb2493"
      }
    },
    "colab": {
      "provenance": []
    }
  },
  "nbformat": 4,
  "nbformat_minor": 0
}