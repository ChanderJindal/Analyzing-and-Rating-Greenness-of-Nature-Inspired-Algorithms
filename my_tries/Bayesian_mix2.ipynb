{
  "cells": [
    {
      "cell_type": "code",
      "execution_count": 1,
      "metadata": {
        "id": "8kP5DjKoFQS7"
      },
      "outputs": [],
      "source": [
        "Link = 'https://github.com/natsunoyuki/blog_posts/blob/main/data_science/Bayesian%20Optimization%20of%20Model%20Hyperparameters.ipynb'"
      ]
    },
    {
      "cell_type": "code",
      "execution_count": 2,
      "metadata": {
        "colab": {
          "base_uri": "https://localhost:8080/"
        },
        "id": "Yq0fwUIDFkId",
        "outputId": "5e1c8552-6c44-4fcd-944c-26562ab37f58"
      },
      "outputs": [
        {
          "output_type": "stream",
          "name": "stdout",
          "text": [
            "Looking in indexes: https://pypi.org/simple, https://us-python.pkg.dev/colab-wheels/public/simple/\n",
            "Collecting niapy\n",
            "  Downloading niapy-2.0.4-py3-none-any.whl (181 kB)\n",
            "\u001b[K     |████████████████████████████████| 181 kB 14.2 MB/s \n",
            "\u001b[?25hRequirement already satisfied: matplotlib>=2.2.4 in /usr/local/lib/python3.7/dist-packages (from niapy) (3.2.2)\n",
            "Requirement already satisfied: pandas>=0.24.2 in /usr/local/lib/python3.7/dist-packages (from niapy) (1.3.5)\n",
            "Requirement already satisfied: openpyxl>=3.0.3 in /usr/local/lib/python3.7/dist-packages (from niapy) (3.0.10)\n",
            "Requirement already satisfied: numpy>=1.17.0 in /usr/local/lib/python3.7/dist-packages (from niapy) (1.21.6)\n",
            "Requirement already satisfied: python-dateutil>=2.1 in /usr/local/lib/python3.7/dist-packages (from matplotlib>=2.2.4->niapy) (2.8.2)\n",
            "Requirement already satisfied: cycler>=0.10 in /usr/local/lib/python3.7/dist-packages (from matplotlib>=2.2.4->niapy) (0.11.0)\n",
            "Requirement already satisfied: pyparsing!=2.0.4,!=2.1.2,!=2.1.6,>=2.0.1 in /usr/local/lib/python3.7/dist-packages (from matplotlib>=2.2.4->niapy) (3.0.9)\n",
            "Requirement already satisfied: kiwisolver>=1.0.1 in /usr/local/lib/python3.7/dist-packages (from matplotlib>=2.2.4->niapy) (1.4.4)\n",
            "Requirement already satisfied: typing-extensions in /usr/local/lib/python3.7/dist-packages (from kiwisolver>=1.0.1->matplotlib>=2.2.4->niapy) (4.1.1)\n",
            "Requirement already satisfied: et-xmlfile in /usr/local/lib/python3.7/dist-packages (from openpyxl>=3.0.3->niapy) (1.1.0)\n",
            "Requirement already satisfied: pytz>=2017.3 in /usr/local/lib/python3.7/dist-packages (from pandas>=0.24.2->niapy) (2022.6)\n",
            "Requirement already satisfied: six>=1.5 in /usr/local/lib/python3.7/dist-packages (from python-dateutil>=2.1->matplotlib>=2.2.4->niapy) (1.15.0)\n",
            "Installing collected packages: niapy\n",
            "Successfully installed niapy-2.0.4\n"
          ]
        }
      ],
      "source": [
        "pip install niapy"
      ]
    },
    {
      "cell_type": "code",
      "execution_count": 3,
      "metadata": {
        "colab": {
          "base_uri": "https://localhost:8080/"
        },
        "id": "xfp_nrcuFkK1",
        "outputId": "6ad178ed-ff92-4ff8-863e-46932af07ffd"
      },
      "outputs": [
        {
          "output_type": "stream",
          "name": "stdout",
          "text": [
            "Looking in indexes: https://pypi.org/simple, https://us-python.pkg.dev/colab-wheels/public/simple/\n",
            "Collecting sklearn\n",
            "  Downloading sklearn-0.0.post1.tar.gz (3.6 kB)\n",
            "Building wheels for collected packages: sklearn\n",
            "  Building wheel for sklearn (setup.py) ... \u001b[?25l\u001b[?25hdone\n",
            "  Created wheel for sklearn: filename=sklearn-0.0.post1-py3-none-any.whl size=2344 sha256=04717d792699307662b57420d027b7fed5c6d6464917acb2060eae2e35f3c556\n",
            "  Stored in directory: /root/.cache/pip/wheels/42/56/cc/4a8bf86613aafd5b7f1b310477667c1fca5c51c3ae4124a003\n",
            "Successfully built sklearn\n",
            "Installing collected packages: sklearn\n",
            "Successfully installed sklearn-0.0.post1\n"
          ]
        }
      ],
      "source": [
        "pip install sklearn "
      ]
    },
    {
      "cell_type": "code",
      "execution_count": 4,
      "metadata": {
        "colab": {
          "base_uri": "https://localhost:8080/"
        },
        "id": "jIy5TXCwFkOY",
        "outputId": "be20b4ea-0f31-40da-84f5-dda76e4ddb10"
      },
      "outputs": [
        {
          "output_type": "stream",
          "name": "stdout",
          "text": [
            "Looking in indexes: https://pypi.org/simple, https://us-python.pkg.dev/colab-wheels/public/simple/\n",
            "Collecting sklearn-nature-inspired-algorithms\n",
            "  Downloading sklearn_nature_inspired_algorithms-0.7.1-py3-none-any.whl (9.9 kB)\n",
            "Requirement already satisfied: pandas<2.0.0,>=1.0 in /usr/local/lib/python3.7/dist-packages (from sklearn-nature-inspired-algorithms) (1.3.5)\n",
            "Requirement already satisfied: seaborn<1.0.0,>=0.10 in /usr/local/lib/python3.7/dist-packages (from sklearn-nature-inspired-algorithms) (0.11.2)\n",
            "Requirement already satisfied: numpy<2.0.0,>=1.18 in /usr/local/lib/python3.7/dist-packages (from sklearn-nature-inspired-algorithms) (1.21.6)\n",
            "Collecting scikit-learn<1.0.0,>=0.22\n",
            "  Downloading scikit_learn-0.24.2-cp37-cp37m-manylinux2010_x86_64.whl (22.3 MB)\n",
            "\u001b[K     |████████████████████████████████| 22.3 MB 1.3 MB/s \n",
            "\u001b[?25hRequirement already satisfied: toml<1.0.0,>=0.9 in /usr/local/lib/python3.7/dist-packages (from sklearn-nature-inspired-algorithms) (0.10.2)\n",
            "Requirement already satisfied: matplotlib<4.0.0,>=3.2 in /usr/local/lib/python3.7/dist-packages (from sklearn-nature-inspired-algorithms) (3.2.2)\n",
            "Collecting niapy==2.0.0\n",
            "  Downloading niapy-2.0.0-py3-none-any.whl (175 kB)\n",
            "\u001b[K     |████████████████████████████████| 175 kB 80.4 MB/s \n",
            "\u001b[?25hRequirement already satisfied: openpyxl>=3.0.3 in /usr/local/lib/python3.7/dist-packages (from niapy==2.0.0->sklearn-nature-inspired-algorithms) (3.0.10)\n",
            "Requirement already satisfied: cycler>=0.10 in /usr/local/lib/python3.7/dist-packages (from matplotlib<4.0.0,>=3.2->sklearn-nature-inspired-algorithms) (0.11.0)\n",
            "Requirement already satisfied: kiwisolver>=1.0.1 in /usr/local/lib/python3.7/dist-packages (from matplotlib<4.0.0,>=3.2->sklearn-nature-inspired-algorithms) (1.4.4)\n",
            "Requirement already satisfied: pyparsing!=2.0.4,!=2.1.2,!=2.1.6,>=2.0.1 in /usr/local/lib/python3.7/dist-packages (from matplotlib<4.0.0,>=3.2->sklearn-nature-inspired-algorithms) (3.0.9)\n",
            "Requirement already satisfied: python-dateutil>=2.1 in /usr/local/lib/python3.7/dist-packages (from matplotlib<4.0.0,>=3.2->sklearn-nature-inspired-algorithms) (2.8.2)\n",
            "Requirement already satisfied: typing-extensions in /usr/local/lib/python3.7/dist-packages (from kiwisolver>=1.0.1->matplotlib<4.0.0,>=3.2->sklearn-nature-inspired-algorithms) (4.1.1)\n",
            "Requirement already satisfied: et-xmlfile in /usr/local/lib/python3.7/dist-packages (from openpyxl>=3.0.3->niapy==2.0.0->sklearn-nature-inspired-algorithms) (1.1.0)\n",
            "Requirement already satisfied: pytz>=2017.3 in /usr/local/lib/python3.7/dist-packages (from pandas<2.0.0,>=1.0->sklearn-nature-inspired-algorithms) (2022.6)\n",
            "Requirement already satisfied: six>=1.5 in /usr/local/lib/python3.7/dist-packages (from python-dateutil>=2.1->matplotlib<4.0.0,>=3.2->sklearn-nature-inspired-algorithms) (1.15.0)\n",
            "Requirement already satisfied: joblib>=0.11 in /usr/local/lib/python3.7/dist-packages (from scikit-learn<1.0.0,>=0.22->sklearn-nature-inspired-algorithms) (1.2.0)\n",
            "Requirement already satisfied: scipy>=0.19.1 in /usr/local/lib/python3.7/dist-packages (from scikit-learn<1.0.0,>=0.22->sklearn-nature-inspired-algorithms) (1.7.3)\n",
            "Requirement already satisfied: threadpoolctl>=2.0.0 in /usr/local/lib/python3.7/dist-packages (from scikit-learn<1.0.0,>=0.22->sklearn-nature-inspired-algorithms) (3.1.0)\n",
            "Installing collected packages: scikit-learn, niapy, sklearn-nature-inspired-algorithms\n",
            "  Attempting uninstall: scikit-learn\n",
            "    Found existing installation: scikit-learn 1.0.2\n",
            "    Uninstalling scikit-learn-1.0.2:\n",
            "      Successfully uninstalled scikit-learn-1.0.2\n",
            "  Attempting uninstall: niapy\n",
            "    Found existing installation: niapy 2.0.4\n",
            "    Uninstalling niapy-2.0.4:\n",
            "      Successfully uninstalled niapy-2.0.4\n",
            "\u001b[31mERROR: pip's dependency resolver does not currently take into account all the packages that are installed. This behaviour is the source of the following dependency conflicts.\n",
            "yellowbrick 1.5 requires scikit-learn>=1.0.0, but you have scikit-learn 0.24.2 which is incompatible.\u001b[0m\n",
            "Successfully installed niapy-2.0.0 scikit-learn-0.24.2 sklearn-nature-inspired-algorithms-0.7.1\n"
          ]
        }
      ],
      "source": [
        "pip install sklearn-nature-inspired-algorithms"
      ]
    },
    {
      "cell_type": "code",
      "execution_count": 5,
      "metadata": {
        "colab": {
          "base_uri": "https://localhost:8080/"
        },
        "id": "rOUE4gTGFz9K",
        "outputId": "3fb34b65-d191-40b5-bff7-f31d9914292d"
      },
      "outputs": [
        {
          "output_type": "stream",
          "name": "stdout",
          "text": [
            "Looking in indexes: https://pypi.org/simple, https://us-python.pkg.dev/colab-wheels/public/simple/\n",
            "Collecting bayesian-optimization\n",
            "  Downloading bayesian_optimization-1.3.1-py3-none-any.whl (16 kB)\n",
            "Requirement already satisfied: scikit-learn>=0.18.0 in /usr/local/lib/python3.7/dist-packages (from bayesian-optimization) (0.24.2)\n",
            "Requirement already satisfied: numpy>=1.9.0 in /usr/local/lib/python3.7/dist-packages (from bayesian-optimization) (1.21.6)\n",
            "Requirement already satisfied: scipy>=1.0.0 in /usr/local/lib/python3.7/dist-packages (from bayesian-optimization) (1.7.3)\n",
            "Requirement already satisfied: joblib>=0.11 in /usr/local/lib/python3.7/dist-packages (from scikit-learn>=0.18.0->bayesian-optimization) (1.2.0)\n",
            "Requirement already satisfied: threadpoolctl>=2.0.0 in /usr/local/lib/python3.7/dist-packages (from scikit-learn>=0.18.0->bayesian-optimization) (3.1.0)\n",
            "Installing collected packages: bayesian-optimization\n",
            "Successfully installed bayesian-optimization-1.3.1\n"
          ]
        }
      ],
      "source": [
        "pip install bayesian-optimization"
      ]
    },
    {
      "cell_type": "code",
      "execution_count": 6,
      "metadata": {
        "id": "VWCENWUzFQS9"
      },
      "outputs": [],
      "source": [
        "SEED = 1412\n",
        "Test_Ratio = 0.2"
      ]
    },
    {
      "cell_type": "code",
      "execution_count": 7,
      "metadata": {
        "id": "Rl8W4hYOFQS-"
      },
      "outputs": [],
      "source": [
        "from sklearn.datasets import make_classification\n",
        "from sklearn.model_selection import train_test_split\n",
        "\n",
        "X,y = make_classification(n_samples=10000,n_features=5,n_informative=2,n_classes=2,n_clusters_per_class=1,flip_y=0.1412,shuffle=False,random_state=SEED)\n",
        "\n",
        "X_train, X_test, y_train, y_test = train_test_split(X, y, test_size = Test_Ratio, random_state = SEED)\n",
        "\n"
      ]
    },
    {
      "cell_type": "code",
      "execution_count": 21,
      "metadata": {
        "id": "hQa-0Ofoe8yQ"
      },
      "outputs": [],
      "source": [
        "import json\n",
        "import numpy as np \n",
        "from niapy.algorithms.basic import CuckooSearch, FireflyAlgorithm, BatAlgorithm\n",
        "from niapy.algorithms.modified import HybridBatAlgorithm, AdaptiveBatAlgorithm, HybridSelfAdaptiveBatAlgorithm\n",
        "\n",
        "from sklearn_nature_inspired_algorithms.model_selection import NatureInspiredSearchCV\n",
        "from sklearn.ensemble import RandomForestClassifier\n"
      ]
    },
    {
      "cell_type": "markdown",
      "metadata": {
        "id": "fsGsiIt8e8yR"
      },
      "source": [
        "SCORING FUNCTIONS (6)"
      ]
    },
    {
      "cell_type": "markdown",
      "metadata": {
        "id": "fbhs_5Bhe8yS"
      },
      "source": [
        "CUCKOO SEARCH"
      ]
    },
    {
      "cell_type": "code",
      "execution_count": 22,
      "metadata": {
        "id": "RPrU3DTMe8yS"
      },
      "outputs": [],
      "source": [
        "CucKoo_pbounds = {'population_size':(10,100),'pa':(0.1,1.0) ,'n_estimator':(10,1000),'criterion':(0,1),'max_feature':(0,1)}\n",
        "\n",
        "Cuckoo_dict = dict()\n",
        "\n",
        "def Save_cuckoo_dict():\n",
        "    with open('Cuckoo_results.json','w') as dict_dump:\n",
        "        json.dump(Cuckoo_dict,dict_dump)\n",
        "\n",
        "def Score_Cuckoo(population_size,pa,n_estimator,criterion,max_feature):\n",
        "    \n",
        "    population_size = int(population_size)\n",
        "    n_estimator = int(n_estimator)\n",
        "    if criterion < 0.5:\n",
        "        criterion = 'gini'\n",
        "    else:\n",
        "        criterion = 'entropy'\n",
        "    if max_feature < 0.34:\n",
        "        max_feature = 'sqrt'\n",
        "    elif max_feature < 0.67:\n",
        "        max_feature = 'log2'\n",
        "    else:\n",
        "        max_feature = None\n",
        "\n",
        "    combo_str = f'{population_size}_{pa}_{n_estimator}_{criterion}_{max_feature}'\n",
        "\n",
        "    if combo_str in Cuckoo_dict:\n",
        "        return Cuckoo_dict[combo_str]\n",
        "\n",
        "    Algo = CuckooSearch()\n",
        "    Algo.set_parameters(population_size=population_size,pa=pa,seed=SEED)\n",
        "\n",
        "    nia_mdl = NatureInspiredSearchCV(\n",
        "        estimator=RandomForestClassifier(n_estimators=n_estimator,criterion=criterion,max_features=max_feature),\n",
        "        param_grid={},\n",
        "        algorithm=Algo,\n",
        "        runs=1\n",
        "    )\n",
        "    nia_mdl.fit(X_train,y_train)\n",
        "    val = nia_mdl.score(X_test,y_test)\n",
        "    Cuckoo_dict[combo_str] = val \n",
        "\n",
        "    return val\n"
      ]
    },
    {
      "cell_type": "markdown",
      "metadata": {
        "id": "zjwskMKUe8yT"
      },
      "source": [
        "CUCKOO SEARCH"
      ]
    },
    {
      "cell_type": "markdown",
      "metadata": {
        "id": "dKpXd9zWe8yT"
      },
      "source": [
        "FIRE FLY "
      ]
    },
    {
      "cell_type": "code",
      "execution_count": 23,
      "metadata": {
        "id": "th9hn7Yge8yU"
      },
      "outputs": [],
      "source": [
        "FireFly_pbounds = {'population_size':(10,100),'alpha':(0.1,1.0),'beta0':(0.01,100),'gamma':(0.1,1.0),'theta':(0.1,1.0),'n_estimator':(10,1000),'criterion':(0,1),'max_feature':(0,1)}\n",
        "\n",
        "Firefly_dict = dict()\n",
        "\n",
        "def Save_firefly_dict():\n",
        "    with open('Firefly_results.json','w') as dict_dump:\n",
        "        json.dump(Firefly_dict,dict_dump)\n",
        "\n",
        "def Score_Firefly(population_size,alpha,beta0,gamma,theta,n_estimator,criterion,max_feature):\n",
        "    \n",
        "    population_size = int(population_size)\n",
        "    n_estimator = int(n_estimator)\n",
        "    if criterion < 0.5:\n",
        "        criterion = 'gini'\n",
        "    else:\n",
        "        criterion = 'entropy'\n",
        "    if max_feature < 0.34:\n",
        "        max_feature = 'sqrt'\n",
        "    elif max_feature < 0.67:\n",
        "        max_feature = 'log2'\n",
        "    else:\n",
        "        max_feature = None\n",
        "\n",
        "    combo_str = f'{population_size}_{alpha}_{beta0}_{gamma}_{theta}_{n_estimator}_{criterion}_{max_feature}'\n",
        "\n",
        "    if combo_str in Firefly_dict:\n",
        "        return Firefly_dict[combo_str]\n",
        "\n",
        "    Algo = FireflyAlgorithm()\n",
        "    Algo.set_parameters(population_size=population_size,alpha=alpha,beta0=beta0,gamma=gamma,theta=theta,seed=SEED)\n",
        "\n",
        "    nia_mdl = NatureInspiredSearchCV(\n",
        "        estimator=RandomForestClassifier(n_estimators=n_estimator,criterion=criterion,max_features=max_feature),         \n",
        "        param_grid={},\n",
        "        algorithm=Algo,\n",
        "        runs=1\n",
        "    )\n",
        "    nia_mdl.fit(X_train,y_train)\n",
        "    val = nia_mdl.score(X_test,y_test)\n",
        "    Firefly_dict[combo_str] = val \n",
        "\n",
        "    return val\n"
      ]
    },
    {
      "cell_type": "markdown",
      "metadata": {
        "id": "xr6i5YwNe8yU"
      },
      "source": [
        "FIRE FLY "
      ]
    },
    {
      "cell_type": "markdown",
      "metadata": {
        "id": "yC4cSoSpe8yU"
      },
      "source": [
        "BAT"
      ]
    },
    {
      "cell_type": "code",
      "execution_count": 24,
      "metadata": {
        "id": "FHruFa4Ae8yV"
      },
      "outputs": [],
      "source": [
        "\n",
        "BAT_pbounds = {'population_size':(10,100),'loudness':(0.1,1.0),'pulse_rate':(0.1,1.0),'gamma':(0.1,1.0),'alpha':(0.1,1.0),'min_frequency':(0,10),'max_frequency':(10,100),'n_estimator':(10,1000),'criterion':(0,1),'max_feature':(0,1)}\n",
        "\n",
        "Bat_dict = dict()\n",
        "\n",
        "def Save_bat_dict():\n",
        "    with open('Bat_results.json','w') as dict_dump:\n",
        "        json.dump(Bat_dict,dict_dump)\n",
        "\n",
        "def Score_Bat(population_size,loudness,pulse_rate,gamma,alpha,min_frequency,max_frequency,n_estimator,criterion,max_feature):\n",
        "    \n",
        "    population_size = int(population_size)\n",
        "    n_estimator = int(n_estimator)\n",
        "    if criterion < 0.5:\n",
        "        criterion = 'gini'\n",
        "    else:\n",
        "        criterion = 'entropy'\n",
        "    if max_feature < 0.34:\n",
        "        max_feature = 'sqrt'\n",
        "    elif max_feature < 0.67:\n",
        "        max_feature = 'log2'\n",
        "    else:\n",
        "        max_feature = None\n",
        "\n",
        "    combo_str = f'{population_size}_{loudness}_{pulse_rate}_{gamma}_{alpha}_{min_frequency}_{max_frequency}_{n_estimator}_{criterion}_{max_feature}'\n",
        "\n",
        "    if combo_str in Bat_dict:\n",
        "        return Bat_dict[combo_str]\n",
        "\n",
        "    Algo = BatAlgorithm()\n",
        "    Algo.set_parameters(population_size=population_size,loudness=loudness,pulse_rate=pulse_rate,alpha=alpha,gamma=gamma,min_frequency=min_frequency,max_frequency=max_frequency,seed=SEED)\n",
        "\n",
        "    nia_mdl = NatureInspiredSearchCV(\n",
        "        estimator=RandomForestClassifier(n_estimators=n_estimator,criterion=criterion,max_features=max_feature),         \n",
        "        param_grid={},\n",
        "        algorithm=Algo,\n",
        "        runs=1\n",
        "    )\n",
        "    nia_mdl.fit(X_train,y_train)\n",
        "    val = nia_mdl.score(X_test,y_test)\n",
        "    Bat_dict[combo_str] = val \n",
        "\n",
        "    return val\n"
      ]
    },
    {
      "cell_type": "markdown",
      "metadata": {
        "id": "y1x7e8ioe8yW"
      },
      "source": [
        "BAT"
      ]
    },
    {
      "cell_type": "markdown",
      "metadata": {
        "id": "UwQ5o3AJe8yW"
      },
      "source": [
        "HYBRID BAT"
      ]
    },
    {
      "cell_type": "code",
      "execution_count": 25,
      "metadata": {
        "id": "_NXOmcAYe8yX"
      },
      "outputs": [],
      "source": [
        "HBA_pbounds = {'differential_weight':(0.1,1.0),'crossover_probability':(0.1,1.0),'n_estimator':(10,1000),'criterion':(0,1),'max_feature':(0,1)}\n",
        "\n",
        "\n",
        "HBA_dict = dict()\n",
        "\n",
        "def Save_hba_dict():\n",
        "    with open('HBA_results.json','w') as dict_dump:\n",
        "        json.dump(HBA_dict,dict_dump)\n",
        "\n",
        "def Score_HBA(differential_weight,crossover_probability,n_estimator,criterion,max_feature):\n",
        "    \n",
        "    n_estimator = int(n_estimator)\n",
        "    if criterion < 0.5:\n",
        "        criterion = 'gini'\n",
        "    else:\n",
        "        criterion = 'entropy'\n",
        "    if max_feature < 0.34:\n",
        "        max_feature = 'sqrt'\n",
        "    elif max_feature < 0.67:\n",
        "        max_feature = 'log2'\n",
        "    else:\n",
        "        max_feature = None\n",
        "\n",
        "    combo_str = f'{differential_weight}_{crossover_probability}_{n_estimator}_{criterion}_{max_feature}'\n",
        "\n",
        "    if combo_str in HBA_dict:\n",
        "        return HBA_dict[combo_str]\n",
        "\n",
        "    Algo = HybridBatAlgorithm()\n",
        "    Algo.set_parameters(differential_weight=differential_weight,crossover_probability=crossover_probability,seed=SEED)\n",
        "\n",
        "    nia_mdl = NatureInspiredSearchCV(\n",
        "        estimator=RandomForestClassifier(n_estimators=n_estimator,criterion=criterion,max_features=max_feature),         \n",
        "        param_grid={},\n",
        "        algorithm=Algo,\n",
        "        runs=1\n",
        "    )\n",
        "    nia_mdl.fit(X_train,y_train)\n",
        "    val = nia_mdl.score(X_test,y_test)\n",
        "    HBA_dict[combo_str] = val \n",
        "\n",
        "    return val\n"
      ]
    },
    {
      "cell_type": "markdown",
      "metadata": {
        "id": "g9EvQl5Ce8yX"
      },
      "source": [
        "HYBRID BAT"
      ]
    },
    {
      "cell_type": "markdown",
      "metadata": {
        "id": "zcf1zg_me8yX"
      },
      "source": [
        "SELF ADAPTIVE BAT"
      ]
    },
    {
      "cell_type": "code",
      "execution_count": 26,
      "metadata": {
        "id": "Fv42ZRxMe8yX"
      },
      "outputs": [],
      "source": [
        "SABA_pbounds = {'population_size':(10,100),'loudness':(0.1,1.0),'pulse_rate':(0.1,1.0),'epsilon':(0,0.1),'alpha':(0.1,1.0),'min_frequency':(0,10),'max_frequency':(10,100),'n_estimator':(10,1000),'criterion':(0,1),'max_feature':(0,1)}\n",
        "\n",
        "SBA_dict = dict()\n",
        "\n",
        "def Save_sba_dict():\n",
        "    with open('SBA_results.json','w') as dict_dump:\n",
        "        json.dump(SBA_dict,dict_dump)\n",
        "\n",
        "def Score_SBA(population_size,loudness,pulse_rate,epsilon,alpha,min_frequency,max_frequency,n_estimator,criterion,max_feature):\n",
        "    \n",
        "    population_size = int(population_size)\n",
        "    n_estimator = int(n_estimator)\n",
        "    if criterion < 0.5:\n",
        "        criterion = 'gini'\n",
        "    else:\n",
        "        criterion = 'entropy'\n",
        "    if max_feature < 0.34:\n",
        "        max_feature = 'sqrt'\n",
        "    elif max_feature < 0.67:\n",
        "        max_feature = 'log2'\n",
        "    else:\n",
        "        max_feature = None\n",
        "\n",
        "    combo_str = f'{population_size}_{loudness}_{pulse_rate}_{epsilon}_{alpha}_{min_frequency}_{max_frequency}_{n_estimator}_{criterion}_{max_feature}'\n",
        "\n",
        "    if combo_str in SBA_dict:\n",
        "        return SBA_dict[combo_str]\n",
        "\n",
        "    Algo = AdaptiveBatAlgorithm()\n",
        "    Algo.set_parameters(population_size=population_size,loudness=loudness,pulse_rate=pulse_rate,alpha=alpha,epsilon=epsilon,min_frequency=min_frequency,max_frequency=max_frequency,seed=SEED)\n",
        "\n",
        "    nia_mdl = NatureInspiredSearchCV(\n",
        "        estimator=RandomForestClassifier(n_estimators=n_estimator,criterion=criterion,max_features=max_feature),         \n",
        "        param_grid={},\n",
        "        algorithm=Algo,\n",
        "        runs=1\n",
        "    )\n",
        "    nia_mdl.fit(X_train,y_train)\n",
        "    val = nia_mdl.score(X_test,y_test)\n",
        "    SBA_dict[combo_str] = val \n",
        "\n",
        "    return val\n"
      ]
    },
    {
      "cell_type": "markdown",
      "metadata": {
        "id": "bgPsKAJUe8yY"
      },
      "source": [
        "SELF ADAPTIVE BAT"
      ]
    },
    {
      "cell_type": "markdown",
      "metadata": {
        "id": "GdK4U0Z3e8yY"
      },
      "source": [
        "HYBRID SELF ADAPTIVE BAT"
      ]
    },
    {
      "cell_type": "code",
      "execution_count": 27,
      "metadata": {
        "id": "F2_0l7Kme8yY"
      },
      "outputs": [],
      "source": [
        "HSABA_pbounds = {'differential_weight':(0.1,1.0),'crossover_probability':(0.1,1.0),'n_estimator':(10,1000),'criterion':(0,1),'max_feature':(0,1)}\n",
        "\n",
        "HSABA_dict = dict()\n",
        "\n",
        "def Save_hsaba_dict():\n",
        "    with open('HSABA_results.json','w') as dict_dump:\n",
        "        json.dump(HSABA_dict,dict_dump)\n",
        "\n",
        "def Score_HBA(differential_weight,crossover_probability,n_estimator,criterion,max_feature):\n",
        "    \n",
        "    n_estimator = int(n_estimator)\n",
        "    if criterion < 0.5:\n",
        "        criterion = 'gini'\n",
        "    else:\n",
        "        criterion = 'entropy'\n",
        "    if max_feature < 0.34:\n",
        "        max_feature = 'sqrt'\n",
        "    elif max_feature < 0.67:\n",
        "        max_feature = 'log2'\n",
        "    else:\n",
        "        max_feature = None\n",
        "\n",
        "    combo_str = f'{differential_weight}_{crossover_probability}_{n_estimator}_{criterion}_{max_feature}'\n",
        "\n",
        "    if combo_str in HSABA_dict:\n",
        "        return HSABA_dict[combo_str]\n",
        "\n",
        "    Algo = HybridSelfAdaptiveBatAlgorithm()\n",
        "    Algo.set_parameters(differential_weight=differential_weight,crossover_probability=crossover_probability,seed=SEED)\n",
        "\n",
        "    nia_mdl = NatureInspiredSearchCV(\n",
        "        estimator=RandomForestClassifier(n_estimators=n_estimator,criterion=criterion,max_features=max_feature),         \n",
        "        param_grid={},\n",
        "        algorithm=Algo,\n",
        "        runs=1\n",
        "    )\n",
        "    nia_mdl.fit(X_train,y_train)\n",
        "    val = nia_mdl.score(X_test,y_test)\n",
        "    HSABA_dict[combo_str] = val \n",
        "\n",
        "    return val\n"
      ]
    },
    {
      "cell_type": "markdown",
      "metadata": {
        "id": "nVoHknq7e8yY"
      },
      "source": [
        "HYBRID SELF ADAPTIVE BAT"
      ]
    },
    {
      "cell_type": "markdown",
      "metadata": {
        "id": "JiG9DsyJe8yY"
      },
      "source": [
        "SCORING FUNCTIONS (6)"
      ]
    },
    {
      "cell_type": "markdown",
      "metadata": {
        "id": "65Z1IZsle8yZ"
      },
      "source": [
        "FUNCTION LIST"
      ]
    },
    {
      "cell_type": "code",
      "execution_count": 28,
      "metadata": {
        "id": "4gEl8KmKe8yZ"
      },
      "outputs": [],
      "source": [
        "NIA_Val_Dict = {0:'Cuckoo Search',1:'Fire Fly',2:'Bat',3:'Hybrid Bat',4:'Self Adaptive Bat',5:'Hybrid Self Adaptive Bat'}\n",
        "\n",
        "NIA_lst = [CucKoo_pbounds, FireFly_pbounds, BAT_pbounds, HBA_pbounds, SABA_pbounds, HSABA_pbounds]\n",
        "\n",
        "Save_dict_fxn = [Save_cuckoo_dict, Save_firefly_dict, Save_bat_dict, Save_hba_dict, Save_sba_dict, Save_hsaba_dict]\n",
        "\n",
        "NIA_Score_fxn = [Score_Cuckoo, Score_Firefly, Score_Bat, Score_HBA, Score_SBA, Score_HBA]"
      ]
    },
    {
      "cell_type": "markdown",
      "metadata": {
        "id": "xYISMKude8yZ"
      },
      "source": [
        "FUNCTION LIST"
      ]
    },
    {
      "cell_type": "markdown",
      "metadata": {
        "id": "rQnCJhq-e8yZ"
      },
      "source": [
        "BASE CASE"
      ]
    },
    {
      "cell_type": "code",
      "execution_count": 29,
      "metadata": {
        "colab": {
          "base_uri": "https://localhost:8080/"
        },
        "id": "iJBq20nrzlX5",
        "outputId": "9f1d331a-8784-4006-c071-6ba4f13ef44f"
      },
      "outputs": [
        {
          "output_type": "stream",
          "name": "stdout",
          "text": [
            "The default value is -> 0.8975\n"
          ]
        }
      ],
      "source": [
        "clf = RandomForestClassifier()\n",
        "clf.fit(X_train, y_train)\n",
        "val = clf.score(X_test,y_test)\n",
        "print(f'The default value is -> {val}')"
      ]
    },
    {
      "cell_type": "markdown",
      "metadata": {
        "id": "zswUbhB_e8yZ"
      },
      "source": [
        "BASE CASE"
      ]
    },
    {
      "cell_type": "code",
      "execution_count": 30,
      "metadata": {
        "id": "Wq_S7p7fe8ya"
      },
      "outputs": [],
      "source": [
        "from bayes_opt import BayesianOptimization, UtilityFunction\n",
        "import matplotlib.pyplot as plt\n"
      ]
    },
    {
      "cell_type": "code",
      "execution_count": 31,
      "metadata": {
        "id": "CagnD0eWe8ya"
      },
      "outputs": [],
      "source": [
        "def Optimize_and_plot(bounds,score_fxn,Algo_name:str,Iters:int,Dict_save_fxn):\n",
        "\n",
        "    optimizer = BayesianOptimization(f = None, pbounds = bounds, verbose = 2, random_state = SEED)\n",
        "    utility = UtilityFunction(kind = \"ucb\", kappa = 1.96, xi = 0.01)\n",
        "\n",
        "    for i in range(Iters):\n",
        "        # Get optimizer to suggest a new parameter value to try.\n",
        "        next_point = optimizer.suggest(utility)  \n",
        "        # Evaluate the output of the black_box_function using the new parameter value.\n",
        "        target = score_fxn(**next_point)\n",
        "        try:\n",
        "            # Update the optimizer with the evaluation results. This needs to be in try-except\n",
        "            # to prevent repeat errors from occuring.\n",
        "            optimizer.register(params = next_point, target = target)\n",
        "        except:\n",
        "            pass\n",
        "    \n",
        "    print(f'Best result: {optimizer.max[\"params\"]}; f(x) = {optimizer.max[\"target\"]}.')\n",
        "\n",
        "    Dict_save_fxn()\n",
        "    \n",
        "\n",
        "    plt.plot(range(1, 1+len(optimizer.space.target)), optimizer.space.target, \"-o\")\n",
        "    plt.grid(True)\n",
        "    plt.xlabel(\"Iteration\")\n",
        "    plt.ylabel(\"Score\")\n",
        "    plt.legend()\n",
        "    plt.savefig(f'{Algo_name}_{Iters}_Iterations.svg',format='svg')\n",
        "    plt.show()"
      ]
    },
    {
      "cell_type": "code",
      "execution_count": 32,
      "metadata": {
        "id": "7Y24s3d1e8ya"
      },
      "outputs": [],
      "source": [
        "NIA_Val_Dict = {0:'Cuckoo Search',1:'Fire Fly',2:'Bat',3:'Hybrid Bat',4:'Self Adaptive Bat',5:'Hybrid Self Adaptive Bat'}\n",
        "\n",
        "NIA_lst = [CucKoo_pbounds, FireFly_pbounds, BAT_pbounds, HBA_pbounds, SABA_pbounds, HSABA_pbounds]\n",
        "\n",
        "Save_dict_fxn = [Save_cuckoo_dict, Save_firefly_dict, Save_bat_dict, Save_hba_dict, Save_sba_dict, Save_hsaba_dict]\n",
        "\n",
        "NIA_Score_fxn = [Score_Cuckoo, Score_Firefly, Score_Bat, Score_HBA, Score_SBA, Score_HBA]"
      ]
    },
    {
      "cell_type": "code",
      "execution_count": null,
      "metadata": {
        "colab": {
          "base_uri": "https://localhost:8080/"
        },
        "id": "9KJEEtHze8ya",
        "outputId": "9fa52d38-98d4-40cf-9e37-69dfa7b48909"
      },
      "outputs": [
        {
          "output_type": "stream",
          "name": "stdout",
          "text": [
            "Fitting at most 1.0 candidates\n"
          ]
        }
      ],
      "source": [
        "for i in range(len(NIA_lst)):\n",
        "    Optimize_and_plot(bounds=NIA_lst[i],score_fxn=NIA_Score_fxn[i],Algo_name=NIA_Val_Dict[i],Dict_save_fxn=Save_dict_fxn[i],Iters=100)\n",
        "    "
      ]
    },
    {
      "cell_type": "markdown",
      "metadata": {
        "id": "Br_NO9vMGbt9"
      },
      "source": [
        "function ClickConnect(){\n",
        "\n",
        "console.log(\"Working\"); \n",
        "document.querySelector(\"#comments > span\").click() \n",
        "}\n",
        "setInterval(ClickConnect,5000)"
      ]
    },
    {
      "cell_type": "markdown",
      "metadata": {
        "id": "9_jHSvqse8yb"
      },
      "source": [
        "Basement Don't go down"
      ]
    },
    {
      "cell_type": "code",
      "execution_count": null,
      "metadata": {
        "id": "SVwKI-TOe8yb"
      },
      "outputs": [],
      "source": [
        "break"
      ]
    },
    {
      "cell_type": "markdown",
      "metadata": {
        "id": "JjWSs9W0e8yb"
      },
      "source": []
    },
    {
      "cell_type": "markdown",
      "metadata": {
        "id": "kc7jpE0we8yb"
      },
      "source": []
    },
    {
      "cell_type": "code",
      "execution_count": null,
      "metadata": {
        "id": "DS63Vgrye8yb"
      },
      "outputs": [],
      "source": [
        "# Set range of C to optimize over. bayes_opt requires this to be a dictionary.\n",
        "pbounds = {\"algo_val\": (0, len(HBA_lst)-1), \"mdl_val\" : (0,len(mdl_para_lst)-1)}\n",
        "print(pbounds)\n",
        "#ptypes = {\"algo_val\": int, \"mdl_val\": int}\n",
        "\n",
        "# Create BayesianOptimization object, and optimize (maximize) black_box_function.\n",
        "optimizer = BayesianOptimization(f = Get_Score_HBA, pbounds = pbounds, verbose = 2, random_state = SEED)\n",
        "\n",
        "optimizer.maximize(init_points = 50, n_iter = 50)\n",
        "\n",
        "print(f'Best result: {optimizer.max[\"params\"]} f(x) = {optimizer.max[\"target\"]}.')"
      ]
    },
    {
      "cell_type": "code",
      "execution_count": null,
      "metadata": {
        "id": "-nqvyZIFe8yb"
      },
      "outputs": [],
      "source": [
        "# Create optimizer and utility function objects.\n",
        "optimizer = BayesianOptimization(f = None, pbounds = {\"algo_val\": (0, len(HBA_lst)-1), \"mdl_val\" : (0,len(mdl_para_lst)-1)}, verbose = 2, random_state = SEED)\n",
        "utility = UtilityFunction(kind = \"ucb\", kappa = 1.96, xi = 0.01)\n",
        "\n",
        "# Optimization for loop.\n",
        "for i in range(100):\n",
        "    # Get optimizer to suggest a new parameter value to try.\n",
        "    next_point = optimizer.suggest(utility)  \n",
        "    # Evaluate the output of the black_box_function using the new parameter value.\n",
        "    target = Get_Score_HBA(**next_point)\n",
        "    try:\n",
        "        # Update the optimizer with the evaluation results. This needs to be in try-except\n",
        "        # to prevent repeat errors from occuring.\n",
        "        optimizer.register(params = next_point, target = target)\n",
        "    except:\n",
        "        pass\n",
        "    \n",
        "print(f'Best result: {optimizer.max[\"params\"]}; f(x) = {optimizer.max[\"target\"]}.' )"
      ]
    },
    {
      "cell_type": "code",
      "execution_count": null,
      "metadata": {
        "id": "VyWhg8Tje8yb"
      },
      "outputs": [],
      "source": [
        "\n",
        "#plt.figure(figsize = (15, 5))\n",
        "plt.plot(range(1, 1+len(optimizer.space.target)), optimizer.space.target, \"-o\")\n",
        "plt.grid(True)\n",
        "plt.xlabel(\"Iteration\")\n",
        "plt.ylabel(\"Black box function\")\n",
        "plt.legend()\n",
        "plt.show()"
      ]
    }
  ],
  "metadata": {
    "colab": {
      "provenance": []
    },
    "kernelspec": {
      "display_name": "Python 3.9.13 64-bit (microsoft store)",
      "language": "python",
      "name": "python3"
    },
    "language_info": {
      "codemirror_mode": {
        "name": "ipython",
        "version": 3
      },
      "file_extension": ".py",
      "mimetype": "text/x-python",
      "name": "python",
      "nbconvert_exporter": "python",
      "pygments_lexer": "ipython3",
      "version": "3.9.13"
    },
    "vscode": {
      "interpreter": {
        "hash": "bcac82fb26a6e7c950421e78519edb87e1a5e005e0aec2fc293e679965bb2493"
      }
    }
  },
  "nbformat": 4,
  "nbformat_minor": 0
}