{
  "cells": [
    {
      "cell_type": "code",
      "execution_count": 1,
      "metadata": {
        "id": "8kP5DjKoFQS7"
      },
      "outputs": [],
      "source": [
        "Link = 'https://github.com/natsunoyuki/blog_posts/blob/main/data_science/Bayesian%20Optimization%20of%20Model%20Hyperparameters.ipynb'"
      ]
    },
    {
      "cell_type": "code",
      "execution_count": 2,
      "metadata": {
        "colab": {
          "base_uri": "https://localhost:8080/"
        },
        "id": "Yq0fwUIDFkId",
        "outputId": "5e1c8552-6c44-4fcd-944c-26562ab37f58"
      },
      "outputs": [
        {
          "name": "stdout",
          "output_type": "stream",
          "text": [
            "Requirement already satisfied: niapy in c:\\users\\chand\\appdata\\local\\packages\\pythonsoftwarefoundation.python.3.9_qbz5n2kfra8p0\\localcache\\local-packages\\python39\\site-packages (2.0.2)\n",
            "Requirement already satisfied: numpy>=1.17.0 in c:\\users\\chand\\appdata\\local\\packages\\pythonsoftwarefoundation.python.3.9_qbz5n2kfra8p0\\localcache\\local-packages\\python39\\site-packages (from niapy) (1.22.4)\n",
            "Requirement already satisfied: matplotlib>=2.2.4 in c:\\users\\chand\\appdata\\local\\packages\\pythonsoftwarefoundation.python.3.9_qbz5n2kfra8p0\\localcache\\local-packages\\python39\\site-packages (from niapy) (3.5.3)\n",
            "Requirement already satisfied: pandas>=0.24.2 in c:\\users\\chand\\appdata\\local\\packages\\pythonsoftwarefoundation.python.3.9_qbz5n2kfra8p0\\localcache\\local-packages\\python39\\site-packages (from niapy) (1.4.4)\n",
            "Requirement already satisfied: openpyxl>=3.0.3 in c:\\users\\chand\\appdata\\local\\packages\\pythonsoftwarefoundation.python.3.9_qbz5n2kfra8p0\\localcache\\local-packages\\python39\\site-packages (from niapy) (3.0.10)\n",
            "Requirement already satisfied: pillow>=6.2.0 in c:\\users\\chand\\appdata\\local\\packages\\pythonsoftwarefoundation.python.3.9_qbz5n2kfra8p0\\localcache\\local-packages\\python39\\site-packages (from matplotlib>=2.2.4->niapy) (9.3.0)\n",
            "Requirement already satisfied: packaging>=20.0 in c:\\users\\chand\\appdata\\local\\packages\\pythonsoftwarefoundation.python.3.9_qbz5n2kfra8p0\\localcache\\local-packages\\python39\\site-packages (from matplotlib>=2.2.4->niapy) (21.3)\n",
            "Requirement already satisfied: cycler>=0.10 in c:\\users\\chand\\appdata\\local\\packages\\pythonsoftwarefoundation.python.3.9_qbz5n2kfra8p0\\localcache\\local-packages\\python39\\site-packages (from matplotlib>=2.2.4->niapy) (0.11.0)\n",
            "Requirement already satisfied: kiwisolver>=1.0.1 in c:\\users\\chand\\appdata\\local\\packages\\pythonsoftwarefoundation.python.3.9_qbz5n2kfra8p0\\localcache\\local-packages\\python39\\site-packages (from matplotlib>=2.2.4->niapy) (1.4.4)\n",
            "Requirement already satisfied: python-dateutil>=2.7 in c:\\users\\chand\\appdata\\local\\packages\\pythonsoftwarefoundation.python.3.9_qbz5n2kfra8p0\\localcache\\local-packages\\python39\\site-packages (from matplotlib>=2.2.4->niapy) (2.8.2)\n",
            "Requirement already satisfied: fonttools>=4.22.0 in c:\\users\\chand\\appdata\\local\\packages\\pythonsoftwarefoundation.python.3.9_qbz5n2kfra8p0\\localcache\\local-packages\\python39\\site-packages (from matplotlib>=2.2.4->niapy) (4.37.1)\n",
            "Requirement already satisfied: pyparsing>=2.2.1 in c:\\users\\chand\\appdata\\local\\packages\\pythonsoftwarefoundation.python.3.9_qbz5n2kfra8p0\\localcache\\local-packages\\python39\\site-packages (from matplotlib>=2.2.4->niapy) (3.0.9)\n",
            "Requirement already satisfied: et-xmlfile in c:\\users\\chand\\appdata\\local\\packages\\pythonsoftwarefoundation.python.3.9_qbz5n2kfra8p0\\localcache\\local-packages\\python39\\site-packages (from openpyxl>=3.0.3->niapy) (1.1.0)\n",
            "Requirement already satisfied: pytz>=2020.1 in c:\\users\\chand\\appdata\\local\\packages\\pythonsoftwarefoundation.python.3.9_qbz5n2kfra8p0\\localcache\\local-packages\\python39\\site-packages (from pandas>=0.24.2->niapy) (2022.2.1)\n",
            "Requirement already satisfied: six>=1.5 in c:\\users\\chand\\appdata\\local\\packages\\pythonsoftwarefoundation.python.3.9_qbz5n2kfra8p0\\localcache\\local-packages\\python39\\site-packages (from python-dateutil>=2.7->matplotlib>=2.2.4->niapy) (1.16.0)\n",
            "Note: you may need to restart the kernel to use updated packages.\n"
          ]
        },
        {
          "name": "stderr",
          "output_type": "stream",
          "text": [
            "WARNING: Ignoring invalid distribution -illow (c:\\users\\chand\\appdata\\local\\packages\\pythonsoftwarefoundation.python.3.9_qbz5n2kfra8p0\\localcache\\local-packages\\python39\\site-packages)\n",
            "WARNING: Ignoring invalid distribution -illow (c:\\users\\chand\\appdata\\local\\packages\\pythonsoftwarefoundation.python.3.9_qbz5n2kfra8p0\\localcache\\local-packages\\python39\\site-packages)\n",
            "WARNING: Ignoring invalid distribution -illow (c:\\users\\chand\\appdata\\local\\packages\\pythonsoftwarefoundation.python.3.9_qbz5n2kfra8p0\\localcache\\local-packages\\python39\\site-packages)\n",
            "WARNING: Ignoring invalid distribution -illow (c:\\users\\chand\\appdata\\local\\packages\\pythonsoftwarefoundation.python.3.9_qbz5n2kfra8p0\\localcache\\local-packages\\python39\\site-packages)\n",
            "WARNING: Ignoring invalid distribution -illow (c:\\users\\chand\\appdata\\local\\packages\\pythonsoftwarefoundation.python.3.9_qbz5n2kfra8p0\\localcache\\local-packages\\python39\\site-packages)\n",
            "WARNING: Ignoring invalid distribution -illow (c:\\users\\chand\\appdata\\local\\packages\\pythonsoftwarefoundation.python.3.9_qbz5n2kfra8p0\\localcache\\local-packages\\python39\\site-packages)\n"
          ]
        }
      ],
      "source": [
        "pip install niapy"
      ]
    },
    {
      "cell_type": "code",
      "execution_count": 3,
      "metadata": {
        "colab": {
          "base_uri": "https://localhost:8080/"
        },
        "id": "xfp_nrcuFkK1",
        "outputId": "6ad178ed-ff92-4ff8-863e-46932af07ffd"
      },
      "outputs": [
        {
          "name": "stdout",
          "output_type": "stream",
          "text": [
            "Requirement already satisfied: sklearn in c:\\users\\chand\\appdata\\local\\packages\\pythonsoftwarefoundation.python.3.9_qbz5n2kfra8p0\\localcache\\local-packages\\python39\\site-packages (0.0)\n",
            "Requirement already satisfied: scikit-learn in c:\\users\\chand\\appdata\\local\\packages\\pythonsoftwarefoundation.python.3.9_qbz5n2kfra8p0\\localcache\\local-packages\\python39\\site-packages (from sklearn) (1.1.2)\n",
            "Requirement already satisfied: joblib>=1.0.0 in c:\\users\\chand\\appdata\\local\\packages\\pythonsoftwarefoundation.python.3.9_qbz5n2kfra8p0\\localcache\\local-packages\\python39\\site-packages (from scikit-learn->sklearn) (1.1.0)\n",
            "Requirement already satisfied: scipy>=1.3.2 in c:\\users\\chand\\appdata\\local\\packages\\pythonsoftwarefoundation.python.3.9_qbz5n2kfra8p0\\localcache\\local-packages\\python39\\site-packages (from scikit-learn->sklearn) (1.7.3)\n",
            "Requirement already satisfied: threadpoolctl>=2.0.0 in c:\\users\\chand\\appdata\\local\\packages\\pythonsoftwarefoundation.python.3.9_qbz5n2kfra8p0\\localcache\\local-packages\\python39\\site-packages (from scikit-learn->sklearn) (3.1.0)\n",
            "Requirement already satisfied: numpy>=1.17.3 in c:\\users\\chand\\appdata\\local\\packages\\pythonsoftwarefoundation.python.3.9_qbz5n2kfra8p0\\localcache\\local-packages\\python39\\site-packages (from scikit-learn->sklearn) (1.22.4)\n",
            "Note: you may need to restart the kernel to use updated packages.\n"
          ]
        },
        {
          "name": "stderr",
          "output_type": "stream",
          "text": [
            "WARNING: Ignoring invalid distribution -illow (c:\\users\\chand\\appdata\\local\\packages\\pythonsoftwarefoundation.python.3.9_qbz5n2kfra8p0\\localcache\\local-packages\\python39\\site-packages)\n",
            "WARNING: Ignoring invalid distribution -illow (c:\\users\\chand\\appdata\\local\\packages\\pythonsoftwarefoundation.python.3.9_qbz5n2kfra8p0\\localcache\\local-packages\\python39\\site-packages)\n",
            "WARNING: Ignoring invalid distribution -illow (c:\\users\\chand\\appdata\\local\\packages\\pythonsoftwarefoundation.python.3.9_qbz5n2kfra8p0\\localcache\\local-packages\\python39\\site-packages)\n",
            "WARNING: Ignoring invalid distribution -illow (c:\\users\\chand\\appdata\\local\\packages\\pythonsoftwarefoundation.python.3.9_qbz5n2kfra8p0\\localcache\\local-packages\\python39\\site-packages)\n",
            "WARNING: Ignoring invalid distribution -illow (c:\\users\\chand\\appdata\\local\\packages\\pythonsoftwarefoundation.python.3.9_qbz5n2kfra8p0\\localcache\\local-packages\\python39\\site-packages)\n",
            "WARNING: Ignoring invalid distribution -illow (c:\\users\\chand\\appdata\\local\\packages\\pythonsoftwarefoundation.python.3.9_qbz5n2kfra8p0\\localcache\\local-packages\\python39\\site-packages)\n"
          ]
        }
      ],
      "source": [
        "pip install sklearn "
      ]
    },
    {
      "cell_type": "code",
      "execution_count": 4,
      "metadata": {
        "colab": {
          "base_uri": "https://localhost:8080/"
        },
        "id": "jIy5TXCwFkOY",
        "outputId": "be20b4ea-0f31-40da-84f5-dda76e4ddb10"
      },
      "outputs": [
        {
          "name": "stdout",
          "output_type": "stream",
          "text": [
            "Requirement already satisfied: sklearn-nature-inspired-algorithms in c:\\users\\chand\\appdata\\local\\packages\\pythonsoftwarefoundation.python.3.9_qbz5n2kfra8p0\\localcache\\local-packages\\python39\\site-packages (0.9.0)\n",
            "Requirement already satisfied: niapy==2.0.2 in c:\\users\\chand\\appdata\\local\\packages\\pythonsoftwarefoundation.python.3.9_qbz5n2kfra8p0\\localcache\\local-packages\\python39\\site-packages (from sklearn-nature-inspired-algorithms) (2.0.2)\n",
            "Requirement already satisfied: numpy<2.0.0,>=1.22 in c:\\users\\chand\\appdata\\local\\packages\\pythonsoftwarefoundation.python.3.9_qbz5n2kfra8p0\\localcache\\local-packages\\python39\\site-packages (from sklearn-nature-inspired-algorithms) (1.22.4)\n",
            "Requirement already satisfied: scikit-learn>=1.0.2 in c:\\users\\chand\\appdata\\local\\packages\\pythonsoftwarefoundation.python.3.9_qbz5n2kfra8p0\\localcache\\local-packages\\python39\\site-packages (from sklearn-nature-inspired-algorithms) (1.1.2)\n",
            "Requirement already satisfied: pandas<2.0.0,>=1.4 in c:\\users\\chand\\appdata\\local\\packages\\pythonsoftwarefoundation.python.3.9_qbz5n2kfra8p0\\localcache\\local-packages\\python39\\site-packages (from sklearn-nature-inspired-algorithms) (1.4.4)\n",
            "Requirement already satisfied: toml<1.0.0,>=0.10 in c:\\users\\chand\\appdata\\local\\packages\\pythonsoftwarefoundation.python.3.9_qbz5n2kfra8p0\\localcache\\local-packages\\python39\\site-packages (from sklearn-nature-inspired-algorithms) (0.10.2)\n",
            "Requirement already satisfied: scipy>=1.7.3 in c:\\users\\chand\\appdata\\local\\packages\\pythonsoftwarefoundation.python.3.9_qbz5n2kfra8p0\\localcache\\local-packages\\python39\\site-packages (from sklearn-nature-inspired-algorithms) (1.7.3)\n",
            "Requirement already satisfied: matplotlib<4.0.0,>=3.5 in c:\\users\\chand\\appdata\\local\\packages\\pythonsoftwarefoundation.python.3.9_qbz5n2kfra8p0\\localcache\\local-packages\\python39\\site-packages (from sklearn-nature-inspired-algorithms) (3.5.3)\n",
            "Requirement already satisfied: seaborn<1.0.0,>=0.11 in c:\\users\\chand\\appdata\\local\\packages\\pythonsoftwarefoundation.python.3.9_qbz5n2kfra8p0\\localcache\\local-packages\\python39\\site-packages (from sklearn-nature-inspired-algorithms) (0.12.0)\n",
            "Requirement already satisfied: openpyxl>=3.0.3 in c:\\users\\chand\\appdata\\local\\packages\\pythonsoftwarefoundation.python.3.9_qbz5n2kfra8p0\\localcache\\local-packages\\python39\\site-packages (from niapy==2.0.2->sklearn-nature-inspired-algorithms) (3.0.10)\n",
            "Requirement already satisfied: kiwisolver>=1.0.1 in c:\\users\\chand\\appdata\\local\\packages\\pythonsoftwarefoundation.python.3.9_qbz5n2kfra8p0\\localcache\\local-packages\\python39\\site-packages (from matplotlib<4.0.0,>=3.5->sklearn-nature-inspired-algorithms) (1.4.4)\n",
            "Requirement already satisfied: pillow>=6.2.0 in c:\\users\\chand\\appdata\\local\\packages\\pythonsoftwarefoundation.python.3.9_qbz5n2kfra8p0\\localcache\\local-packages\\python39\\site-packages (from matplotlib<4.0.0,>=3.5->sklearn-nature-inspired-algorithms) (9.3.0)\n",
            "Requirement already satisfied: cycler>=0.10 in c:\\users\\chand\\appdata\\local\\packages\\pythonsoftwarefoundation.python.3.9_qbz5n2kfra8p0\\localcache\\local-packages\\python39\\site-packages (from matplotlib<4.0.0,>=3.5->sklearn-nature-inspired-algorithms) (0.11.0)\n",
            "Requirement already satisfied: packaging>=20.0 in c:\\users\\chand\\appdata\\local\\packages\\pythonsoftwarefoundation.python.3.9_qbz5n2kfra8p0\\localcache\\local-packages\\python39\\site-packages (from matplotlib<4.0.0,>=3.5->sklearn-nature-inspired-algorithms) (21.3)\n",
            "Requirement already satisfied: python-dateutil>=2.7 in c:\\users\\chand\\appdata\\local\\packages\\pythonsoftwarefoundation.python.3.9_qbz5n2kfra8p0\\localcache\\local-packages\\python39\\site-packages (from matplotlib<4.0.0,>=3.5->sklearn-nature-inspired-algorithms) (2.8.2)\n",
            "Requirement already satisfied: fonttools>=4.22.0 in c:\\users\\chand\\appdata\\local\\packages\\pythonsoftwarefoundation.python.3.9_qbz5n2kfra8p0\\localcache\\local-packages\\python39\\site-packages (from matplotlib<4.0.0,>=3.5->sklearn-nature-inspired-algorithms) (4.37.1)\n",
            "Requirement already satisfied: pyparsing>=2.2.1 in c:\\users\\chand\\appdata\\local\\packages\\pythonsoftwarefoundation.python.3.9_qbz5n2kfra8p0\\localcache\\local-packages\\python39\\site-packages (from matplotlib<4.0.0,>=3.5->sklearn-nature-inspired-algorithms) (3.0.9)\n",
            "Requirement already satisfied: pytz>=2020.1 in c:\\users\\chand\\appdata\\local\\packages\\pythonsoftwarefoundation.python.3.9_qbz5n2kfra8p0\\localcache\\local-packages\\python39\\site-packages (from pandas<2.0.0,>=1.4->sklearn-nature-inspired-algorithms) (2022.2.1)\n",
            "Requirement already satisfied: threadpoolctl>=2.0.0 in c:\\users\\chand\\appdata\\local\\packages\\pythonsoftwarefoundation.python.3.9_qbz5n2kfra8p0\\localcache\\local-packages\\python39\\site-packages (from scikit-learn>=1.0.2->sklearn-nature-inspired-algorithms) (3.1.0)\n",
            "Requirement already satisfied: joblib>=1.0.0 in c:\\users\\chand\\appdata\\local\\packages\\pythonsoftwarefoundation.python.3.9_qbz5n2kfra8p0\\localcache\\local-packages\\python39\\site-packages (from scikit-learn>=1.0.2->sklearn-nature-inspired-algorithms) (1.1.0)\n",
            "Requirement already satisfied: et-xmlfile in c:\\users\\chand\\appdata\\local\\packages\\pythonsoftwarefoundation.python.3.9_qbz5n2kfra8p0\\localcache\\local-packages\\python39\\site-packages (from openpyxl>=3.0.3->niapy==2.0.2->sklearn-nature-inspired-algorithms) (1.1.0)\n",
            "Requirement already satisfied: six>=1.5 in c:\\users\\chand\\appdata\\local\\packages\\pythonsoftwarefoundation.python.3.9_qbz5n2kfra8p0\\localcache\\local-packages\\python39\\site-packages (from python-dateutil>=2.7->matplotlib<4.0.0,>=3.5->sklearn-nature-inspired-algorithms) (1.16.0)\n",
            "Note: you may need to restart the kernel to use updated packages.\n"
          ]
        },
        {
          "name": "stderr",
          "output_type": "stream",
          "text": [
            "WARNING: Ignoring invalid distribution -illow (c:\\users\\chand\\appdata\\local\\packages\\pythonsoftwarefoundation.python.3.9_qbz5n2kfra8p0\\localcache\\local-packages\\python39\\site-packages)\n",
            "WARNING: Ignoring invalid distribution -illow (c:\\users\\chand\\appdata\\local\\packages\\pythonsoftwarefoundation.python.3.9_qbz5n2kfra8p0\\localcache\\local-packages\\python39\\site-packages)\n",
            "WARNING: Ignoring invalid distribution -illow (c:\\users\\chand\\appdata\\local\\packages\\pythonsoftwarefoundation.python.3.9_qbz5n2kfra8p0\\localcache\\local-packages\\python39\\site-packages)\n",
            "WARNING: Ignoring invalid distribution -illow (c:\\users\\chand\\appdata\\local\\packages\\pythonsoftwarefoundation.python.3.9_qbz5n2kfra8p0\\localcache\\local-packages\\python39\\site-packages)\n",
            "WARNING: Ignoring invalid distribution -illow (c:\\users\\chand\\appdata\\local\\packages\\pythonsoftwarefoundation.python.3.9_qbz5n2kfra8p0\\localcache\\local-packages\\python39\\site-packages)\n",
            "WARNING: Ignoring invalid distribution -illow (c:\\users\\chand\\appdata\\local\\packages\\pythonsoftwarefoundation.python.3.9_qbz5n2kfra8p0\\localcache\\local-packages\\python39\\site-packages)\n"
          ]
        }
      ],
      "source": [
        "pip install sklearn-nature-inspired-algorithms"
      ]
    },
    {
      "cell_type": "code",
      "execution_count": 5,
      "metadata": {
        "colab": {
          "base_uri": "https://localhost:8080/"
        },
        "id": "rOUE4gTGFz9K",
        "outputId": "3fb34b65-d191-40b5-bff7-f31d9914292d"
      },
      "outputs": [
        {
          "name": "stdout",
          "output_type": "stream",
          "text": [
            "Requirement already satisfied: bayesian-optimization in c:\\users\\chand\\appdata\\local\\packages\\pythonsoftwarefoundation.python.3.9_qbz5n2kfra8p0\\localcache\\local-packages\\python39\\site-packages (1.3.1)Note: you may need to restart the kernel to use updated packages.\n",
            "\n",
            "Requirement already satisfied: scipy>=1.0.0 in c:\\users\\chand\\appdata\\local\\packages\\pythonsoftwarefoundation.python.3.9_qbz5n2kfra8p0\\localcache\\local-packages\\python39\\site-packages (from bayesian-optimization) (1.7.3)\n",
            "Requirement already satisfied: numpy>=1.9.0 in c:\\users\\chand\\appdata\\local\\packages\\pythonsoftwarefoundation.python.3.9_qbz5n2kfra8p0\\localcache\\local-packages\\python39\\site-packages (from bayesian-optimization) (1.22.4)\n",
            "Requirement already satisfied: scikit-learn>=0.18.0 in c:\\users\\chand\\appdata\\local\\packages\\pythonsoftwarefoundation.python.3.9_qbz5n2kfra8p0\\localcache\\local-packages\\python39\\site-packages (from bayesian-optimization) (1.1.2)\n",
            "Requirement already satisfied: threadpoolctl>=2.0.0 in c:\\users\\chand\\appdata\\local\\packages\\pythonsoftwarefoundation.python.3.9_qbz5n2kfra8p0\\localcache\\local-packages\\python39\\site-packages (from scikit-learn>=0.18.0->bayesian-optimization) (3.1.0)\n",
            "Requirement already satisfied: joblib>=1.0.0 in c:\\users\\chand\\appdata\\local\\packages\\pythonsoftwarefoundation.python.3.9_qbz5n2kfra8p0\\localcache\\local-packages\\python39\\site-packages (from scikit-learn>=0.18.0->bayesian-optimization) (1.1.0)\n"
          ]
        },
        {
          "name": "stderr",
          "output_type": "stream",
          "text": [
            "WARNING: Ignoring invalid distribution -illow (c:\\users\\chand\\appdata\\local\\packages\\pythonsoftwarefoundation.python.3.9_qbz5n2kfra8p0\\localcache\\local-packages\\python39\\site-packages)\n",
            "WARNING: Ignoring invalid distribution -illow (c:\\users\\chand\\appdata\\local\\packages\\pythonsoftwarefoundation.python.3.9_qbz5n2kfra8p0\\localcache\\local-packages\\python39\\site-packages)\n",
            "WARNING: Ignoring invalid distribution -illow (c:\\users\\chand\\appdata\\local\\packages\\pythonsoftwarefoundation.python.3.9_qbz5n2kfra8p0\\localcache\\local-packages\\python39\\site-packages)\n",
            "WARNING: Ignoring invalid distribution -illow (c:\\users\\chand\\appdata\\local\\packages\\pythonsoftwarefoundation.python.3.9_qbz5n2kfra8p0\\localcache\\local-packages\\python39\\site-packages)\n",
            "WARNING: Ignoring invalid distribution -illow (c:\\users\\chand\\appdata\\local\\packages\\pythonsoftwarefoundation.python.3.9_qbz5n2kfra8p0\\localcache\\local-packages\\python39\\site-packages)\n",
            "WARNING: Ignoring invalid distribution -illow (c:\\users\\chand\\appdata\\local\\packages\\pythonsoftwarefoundation.python.3.9_qbz5n2kfra8p0\\localcache\\local-packages\\python39\\site-packages)\n"
          ]
        }
      ],
      "source": [
        "pip install bayesian-optimization"
      ]
    },
    {
      "cell_type": "code",
      "execution_count": 6,
      "metadata": {
        "id": "VWCENWUzFQS9"
      },
      "outputs": [],
      "source": [
        "SEED = 1412\n",
        "Test_Ratio = 0.2"
      ]
    },
    {
      "cell_type": "code",
      "execution_count": 7,
      "metadata": {
        "id": "Rl8W4hYOFQS-"
      },
      "outputs": [],
      "source": [
        "from sklearn.datasets import make_classification\n",
        "from sklearn.model_selection import train_test_split\n",
        "\n",
        "X,y = make_classification(n_samples=10000,n_features=5,n_informative=2,n_classes=2,n_clusters_per_class=1,flip_y=0.14,shuffle=False,random_state=SEED)\n",
        "#95 -> 4.5%\n",
        "#90 -> 14%\n",
        "#89 -> 14.12%\n",
        "X_train, X_test, y_train, y_test = train_test_split(X, y, test_size = Test_Ratio, random_state = SEED)\n",
        "\n"
      ]
    },
    {
      "cell_type": "code",
      "execution_count": 8,
      "metadata": {
        "id": "hQa-0Ofoe8yQ"
      },
      "outputs": [],
      "source": [
        "import json\n",
        "import numpy as np \n",
        "from niapy.algorithms.basic import CuckooSearch, FireflyAlgorithm, BatAlgorithm, ArtificialBeeColonyAlgorithm, ParticleSwarmAlgorithm\n",
        "from niapy.algorithms.modified import AdaptiveBatAlgorithm\n",
        "\n",
        "from sklearn_nature_inspired_algorithms.model_selection import NatureInspiredSearchCV\n",
        "from sklearn.ensemble import RandomForestClassifier\n"
      ]
    },
    {
      "cell_type": "markdown",
      "metadata": {
        "id": "fsGsiIt8e8yR"
      },
      "source": [
        "SCORING FUNCTIONS (6)"
      ]
    },
    {
      "cell_type": "markdown",
      "metadata": {
        "id": "fbhs_5Bhe8yS"
      },
      "source": [
        "CUCKOO SEARCH"
      ]
    },
    {
      "cell_type": "code",
      "execution_count": 9,
      "metadata": {
        "id": "RPrU3DTMe8yS"
      },
      "outputs": [],
      "source": [
        "CucKoo_pbounds = {'population_size':(10,100),'pa':(0.1,1.0) ,'n_estimator':(10,1000),'criterion':(0,1),'max_feature':(0,1)}\n",
        "\n",
        "Cuckoo_dict = dict()\n",
        "\n",
        "def Save_cuckoo_dict():\n",
        "    with open('Cuckoo_results.json','w') as dict_dump:\n",
        "        json.dump(Cuckoo_dict,dict_dump)\n",
        "\n",
        "def Score_Cuckoo(population_size,pa,n_estimator,criterion,max_feature):\n",
        "    \n",
        "    population_size = int(population_size)\n",
        "    n_estimator = int(n_estimator)\n",
        "    if criterion < 0.5:\n",
        "        criterion = 'gini'\n",
        "    else:\n",
        "        criterion = 'entropy'\n",
        "    if max_feature < 0.34:\n",
        "        max_feature = 'sqrt'\n",
        "    elif max_feature < 0.67:\n",
        "        max_feature = 'log2'\n",
        "    else:\n",
        "        max_feature = None\n",
        "\n",
        "    combo_str = f'{population_size}_{pa}_{n_estimator}_{criterion}_{max_feature}'\n",
        "\n",
        "    if combo_str in Cuckoo_dict:\n",
        "        return Cuckoo_dict[combo_str]\n",
        "\n",
        "    Algo = CuckooSearch()\n",
        "    Algo.set_parameters(population_size=population_size,pa=pa,seed=SEED)\n",
        "\n",
        "    nia_mdl = NatureInspiredSearchCV(\n",
        "        estimator=RandomForestClassifier(n_estimators=n_estimator,criterion=criterion,max_features=max_feature),\n",
        "        param_grid={},\n",
        "        algorithm=Algo,\n",
        "        runs=1\n",
        "    )\n",
        "    nia_mdl.fit(X_train,y_train)\n",
        "    val = nia_mdl.score(X_test,y_test)\n",
        "    Cuckoo_dict[combo_str] = val \n",
        "\n",
        "    return val\n"
      ]
    },
    {
      "cell_type": "markdown",
      "metadata": {
        "id": "zjwskMKUe8yT"
      },
      "source": [
        "CUCKOO SEARCH"
      ]
    },
    {
      "cell_type": "markdown",
      "metadata": {
        "id": "dKpXd9zWe8yT"
      },
      "source": [
        "FIRE FLY "
      ]
    },
    {
      "cell_type": "code",
      "execution_count": 10,
      "metadata": {
        "id": "th9hn7Yge8yU"
      },
      "outputs": [],
      "source": [
        "FireFly_pbounds = {'population_size':(10,100),'alpha':(0.1,1.0),'beta0':(0.01,100),'gamma':(0.1,1.0),'theta':(0.1,1.0),'n_estimator':(10,1000),'criterion':(0,1),'max_feature':(0,1)}\n",
        "\n",
        "Firefly_dict = dict()\n",
        "\n",
        "def Save_firefly_dict():\n",
        "    with open('Firefly_results.json','w') as dict_dump:\n",
        "        json.dump(Firefly_dict,dict_dump)\n",
        "\n",
        "def Score_Firefly(population_size,alpha,beta0,gamma,theta,n_estimator,criterion,max_feature):\n",
        "    \n",
        "    population_size = int(population_size)\n",
        "    n_estimator = int(n_estimator)\n",
        "    if criterion < 0.5:\n",
        "        criterion = 'gini'\n",
        "    else:\n",
        "        criterion = 'entropy'\n",
        "    if max_feature < 0.34:\n",
        "        max_feature = 'sqrt'\n",
        "    elif max_feature < 0.67:\n",
        "        max_feature = 'log2'\n",
        "    else:\n",
        "        max_feature = None\n",
        "\n",
        "    combo_str = f'{population_size}_{alpha}_{beta0}_{gamma}_{theta}_{n_estimator}_{criterion}_{max_feature}'\n",
        "\n",
        "    if combo_str in Firefly_dict:\n",
        "        return Firefly_dict[combo_str]\n",
        "\n",
        "    Algo = FireflyAlgorithm()\n",
        "    Algo.set_parameters(population_size=population_size,alpha=alpha,beta0=beta0,gamma=gamma,theta=theta,seed=SEED)\n",
        "\n",
        "    nia_mdl = NatureInspiredSearchCV(\n",
        "        estimator=RandomForestClassifier(n_estimators=n_estimator,criterion=criterion,max_features=max_feature),         \n",
        "        param_grid={},\n",
        "        algorithm=Algo,\n",
        "        runs=1\n",
        "    )\n",
        "    nia_mdl.fit(X_train,y_train)\n",
        "    val = nia_mdl.score(X_test,y_test)\n",
        "    Firefly_dict[combo_str] = val \n",
        "\n",
        "    return val\n"
      ]
    },
    {
      "cell_type": "markdown",
      "metadata": {
        "id": "xr6i5YwNe8yU"
      },
      "source": [
        "FIRE FLY "
      ]
    },
    {
      "cell_type": "markdown",
      "metadata": {
        "id": "yC4cSoSpe8yU"
      },
      "source": [
        "BAT"
      ]
    },
    {
      "cell_type": "code",
      "execution_count": 11,
      "metadata": {
        "id": "FHruFa4Ae8yV"
      },
      "outputs": [],
      "source": [
        "\n",
        "BAT_pbounds = {'population_size':(10,100),'loudness':(0.1,1.0),'pulse_rate':(0.1,1.0),'gamma':(0.1,1.0),'alpha':(0.1,1.0),'min_frequency':(0,10),'max_frequency':(10,100),'n_estimator':(10,1000),'criterion':(0,1),'max_feature':(0,1)}\n",
        "\n",
        "Bat_dict = dict()\n",
        "\n",
        "def Save_bat_dict():\n",
        "    with open('Bat_results.json','w') as dict_dump:\n",
        "        json.dump(Bat_dict,dict_dump)\n",
        "\n",
        "def Score_Bat(population_size,loudness,pulse_rate,gamma,alpha,min_frequency,max_frequency,n_estimator,criterion,max_feature):\n",
        "    \n",
        "    population_size = int(population_size)\n",
        "    n_estimator = int(n_estimator)\n",
        "    if criterion < 0.5:\n",
        "        criterion = 'gini'\n",
        "    else:\n",
        "        criterion = 'entropy'\n",
        "    if max_feature < 0.34:\n",
        "        max_feature = 'sqrt'\n",
        "    elif max_feature < 0.67:\n",
        "        max_feature = 'log2'\n",
        "    else:\n",
        "        max_feature = None\n",
        "\n",
        "    combo_str = f'{population_size}_{loudness}_{pulse_rate}_{gamma}_{alpha}_{min_frequency}_{max_frequency}_{n_estimator}_{criterion}_{max_feature}'\n",
        "\n",
        "    if combo_str in Bat_dict:\n",
        "        return Bat_dict[combo_str]\n",
        "\n",
        "    Algo = BatAlgorithm()\n",
        "    Algo.set_parameters(population_size=population_size,loudness=loudness,pulse_rate=pulse_rate,alpha=alpha,gamma=gamma,min_frequency=min_frequency,max_frequency=max_frequency,seed=SEED)\n",
        "\n",
        "    nia_mdl = NatureInspiredSearchCV(\n",
        "        estimator=RandomForestClassifier(n_estimators=n_estimator,criterion=criterion,max_features=max_feature),         \n",
        "        param_grid={},\n",
        "        algorithm=Algo,\n",
        "        runs=1\n",
        "    )\n",
        "    nia_mdl.fit(X_train,y_train)\n",
        "    val = nia_mdl.score(X_test,y_test)\n",
        "    Bat_dict[combo_str] = val \n",
        "\n",
        "    return val\n"
      ]
    },
    {
      "cell_type": "markdown",
      "metadata": {
        "id": "y1x7e8ioe8yW"
      },
      "source": [
        "BAT"
      ]
    },
    {
      "cell_type": "markdown",
      "metadata": {
        "id": "UwQ5o3AJe8yW"
      },
      "source": [
        "SELF ADAPTIVE BAT"
      ]
    },
    {
      "cell_type": "code",
      "execution_count": 12,
      "metadata": {
        "id": "_NXOmcAYe8yX"
      },
      "outputs": [],
      "source": [
        "SABA_pbounds = {'population_size':(10,100),'loudness':(0.1,1.0),'pulse_rate':(0.1,1.0),'epsilon':(0,0.1),'alpha':(0.1,1.0),'min_frequency':(0,10),'max_frequency':(10,100),'n_estimator':(10,1000),'criterion':(0,1),'max_feature':(0,1)}\n",
        "\n",
        "SBA_dict = dict()\n",
        "\n",
        "def Save_sba_dict():\n",
        "    with open('SBA_results.json','w') as dict_dump:\n",
        "        json.dump(SBA_dict,dict_dump)\n",
        "\n",
        "def Score_SBA(population_size,loudness,pulse_rate,epsilon,alpha,min_frequency,max_frequency,n_estimator,criterion,max_feature):\n",
        "    \n",
        "    population_size = int(population_size)\n",
        "    n_estimator = int(n_estimator)\n",
        "    if criterion < 0.5:\n",
        "        criterion = 'gini'\n",
        "    else:\n",
        "        criterion = 'entropy'\n",
        "    if max_feature < 0.34:\n",
        "        max_feature = 'sqrt'\n",
        "    elif max_feature < 0.67:\n",
        "        max_feature = 'log2'\n",
        "    else:\n",
        "        max_feature = None\n",
        "\n",
        "    combo_str = f'{population_size}_{loudness}_{pulse_rate}_{epsilon}_{alpha}_{min_frequency}_{max_frequency}_{n_estimator}_{criterion}_{max_feature}'\n",
        "\n",
        "    if combo_str in SBA_dict:\n",
        "        return SBA_dict[combo_str]\n",
        "\n",
        "    Algo = AdaptiveBatAlgorithm()\n",
        "    Algo.set_parameters(population_size=population_size,loudness=loudness,pulse_rate=pulse_rate,alpha=alpha,epsilon=epsilon,min_frequency=min_frequency,max_frequency=max_frequency,seed=SEED)\n",
        "\n",
        "    nia_mdl = NatureInspiredSearchCV(\n",
        "        estimator=RandomForestClassifier(n_estimators=n_estimator,criterion=criterion,max_features=max_feature),         \n",
        "        param_grid={},\n",
        "        algorithm=Algo,\n",
        "        runs=1\n",
        "    )\n",
        "    nia_mdl.fit(X_train,y_train)\n",
        "    val = nia_mdl.score(X_test,y_test)\n",
        "    SBA_dict[combo_str] = val \n",
        "\n",
        "    return val\n"
      ]
    },
    {
      "cell_type": "markdown",
      "metadata": {
        "id": "g9EvQl5Ce8yX"
      },
      "source": [
        "SELF ADAPTIVE BAT"
      ]
    },
    {
      "cell_type": "markdown",
      "metadata": {
        "id": "zcf1zg_me8yX"
      },
      "source": [
        "ARTIFICIAL BEE COLONY"
      ]
    },
    {
      "cell_type": "code",
      "execution_count": 13,
      "metadata": {
        "id": "Fv42ZRxMe8yX"
      },
      "outputs": [],
      "source": [
        "ABC_pbounds = {'population_size':(10,100), 'limit':(30,100)}\n",
        "ABC_dict = dict()\n",
        "\n",
        "def Save_abc_dict():\n",
        "    with open('ABC_results.json','w') as dict_dump:\n",
        "        json.dump(ABC_dict,dict_dump)\n",
        "\n",
        "def Score_ABC(population_size,limit,n_estimator,criterion,max_feature):\n",
        "    \n",
        "    n_estimator = int(n_estimator)\n",
        "    population_size = int(population_size)\n",
        "    if criterion < 0.5:\n",
        "        criterion = 'gini'\n",
        "    else:\n",
        "        criterion = 'entropy'\n",
        "    if max_feature < 0.34:\n",
        "        max_feature = 'sqrt'\n",
        "    elif max_feature < 0.67:\n",
        "        max_feature = 'log2'\n",
        "    else:\n",
        "        max_feature = None\n",
        "\n",
        "    combo_str = f'{population_size}_{limit}_{n_estimator}_{criterion}_{max_feature}'\n",
        "\n",
        "    if combo_str in ABC_dict:\n",
        "        return ABC_dict[combo_str]\n",
        "\n",
        "    Algo = ArtificialBeeColonyAlgorithm(population_size=population_size,limit=limit,seed=SEED)\n",
        "\n",
        "    nia_mdl = NatureInspiredSearchCV(\n",
        "        estimator=RandomForestClassifier(n_estimators=n_estimator,criterion=criterion,max_features=max_feature),         \n",
        "        param_grid={},\n",
        "        algorithm=Algo,\n",
        "        runs=1,\n",
        "    )\n",
        "    nia_mdl.fit(X_train,y_train)\n",
        "    val = nia_mdl.score(X_test,y_test)\n",
        "    ABC_dict[combo_str] = val \n",
        "\n",
        "    return val\n"
      ]
    },
    {
      "cell_type": "markdown",
      "metadata": {
        "id": "bgPsKAJUe8yY"
      },
      "source": [
        "ARTIFICIAL BEE COLONY"
      ]
    },
    {
      "cell_type": "markdown",
      "metadata": {
        "id": "GdK4U0Z3e8yY"
      },
      "source": [
        "PARTICLE SWARM"
      ]
    },
    {
      "cell_type": "code",
      "execution_count": 38,
      "metadata": {
        "id": "F2_0l7Kme8yY"
      },
      "outputs": [],
      "source": [
        "PSA_pbounds = {'population_size':(10,100),'c1':(0,4),'c2'(0,4),'w':(0,1),'min_velocity':(-10,0),'max_velocity':(0,10),'repair':(0,5),'n_estimator':(10,1000),'criterion':(0,1),'max_feature':(0,1)}\n",
        "\n",
        "PSA_dict = dict()\n",
        "\n",
        "def Save_psa_dict():\n",
        "    with open('PSA_results.json','w') as dict_dump:\n",
        "        json.dump(PSA_dict,dict_dump)\n",
        "\n",
        "def Score_PSA(population_size,c1,c2,w,min_velocity,max_velocity,repair,n_estimator,criterion,max_feature):\n",
        "\n",
        "    population_size = int(population_size)\n",
        "    n_estimator = int(n_estimator)\n",
        "    if criterion < 0.5:\n",
        "        criterion = 'gini'\n",
        "    else:\n",
        "        criterion = 'entropy'\n",
        "    if max_feature < 0.34:\n",
        "        max_feature = 'sqrt'\n",
        "    elif max_feature < 0.67:\n",
        "        max_feature = 'log2'\n",
        "    else:\n",
        "        max_feature = None\n",
        "    #limit, limit_inverse, wang, rand, reflect\n",
        "    repair_name = ''\n",
        "    if repair < 1.0:\n",
        "        repair = niapy.util.repair.limit\n",
        "        repair_name = 'limit'\n",
        "    elif repair < 2.0:\n",
        "        repair = niapy.util.repair.limit_inverse\n",
        "        repair_name = 'limit_inverse'\n",
        "    elif repair < 3.0:\n",
        "        repair = niapy.util.repair.wang\n",
        "        repair_name = 'wang'\n",
        "    elif repair < 4.0:\n",
        "        repair = niapy.util.repair.rand\n",
        "        repair_name = 'rand'\n",
        "    else:\n",
        "        repair = niapy.util.repair.reflect\n",
        "        repair_name = 'reflect'\n",
        "\n",
        "\n",
        "    combo_str = f'{population_size}_{c1}_{c2}_{w}_{min_velocity}_{max_velocity}_{repair_name}_{n_estimator}_{criterion}_{max_feature}'\n",
        "\n",
        "    if combo_str in PSA_dict:\n",
        "        return PSA_dict[combo_str]\n",
        "\n",
        "    Algo = ParticleSwarmAlgorithm()\n",
        "    Algo.set_parameters(population_size=population_size,c1=c1,c2=c2,w=w,min_velocity=min_velocity,max_velocity=max_velocity,repair=repair,seed=SEED) \n",
        "\n",
        "    nia_mdl = NatureInspiredSearchCV(\n",
        "        estimator=RandomForestClassifier(n_estimators=n_estimator,criterion=criterion,max_features=max_feature),         \n",
        "        param_grid={},\n",
        "        algorithm=Algo,\n",
        "        runs=1,\n",
        "    )\n",
        "    nia_mdl.fit(X_train,y_train)\n",
        "    val = nia_mdl.score(X_test,y_test)\n",
        "    PSA_dict[combo_str] = val \n",
        "\n",
        "    return val\n",
        "Link = 'https://www.researchgate.net/profile/Mohamed_Mourad_Lafifi/post/Which-is-the-best-swarm-size-in-PSO/attachment/5b5b6f85b53d2f89289c14e1/AS%3A653084896288769%401532718981208/download/Good+Parameters+for+Particle+Swarm+Optimization.pdf'"
      ]
    },
    {
      "cell_type": "markdown",
      "metadata": {
        "id": "nVoHknq7e8yY"
      },
      "source": [
        "HYBRID SELF ADAPTIVE BAT"
      ]
    },
    {
      "cell_type": "markdown",
      "metadata": {
        "id": "JiG9DsyJe8yY"
      },
      "source": [
        "SCORING FUNCTIONS (6)"
      ]
    },
    {
      "cell_type": "markdown",
      "metadata": {
        "id": "65Z1IZsle8yZ"
      },
      "source": [
        "FUNCTION LIST"
      ]
    },
    {
      "cell_type": "code",
      "execution_count": null,
      "metadata": {},
      "outputs": [],
      "source": [
        "NIA_Val_Dict = {0:'Cuckoo Search',1:'Fire Fly',2:'Bat',3:'Self Adaptive Bat',4:'Artificial Bee Colony',5:'Particle Swarm'}\n",
        "\n",
        "NIA_lst = [CucKoo_pbounds, FireFly_pbounds, BAT_pbounds, SABA_pbounds, ABC_pbounds, PSA_pbounds]\n",
        "\n",
        "Save_dict_fxn = [Save_cuckoo_dict, Save_firefly_dict, Save_bat_dict, Save_sba_dict, Save_abc_dict, Save_psa_dict]\n",
        "\n",
        "NIA_Score_fxn = [Score_Cuckoo, Score_Firefly, Score_Bat, Score_SBA, Score_ABC, Score_PSA]"
      ]
    },
    {
      "cell_type": "markdown",
      "metadata": {
        "id": "xYISMKude8yZ"
      },
      "source": [
        "FUNCTION LIST"
      ]
    },
    {
      "cell_type": "markdown",
      "metadata": {
        "id": "rQnCJhq-e8yZ"
      },
      "source": [
        "BASE CASE"
      ]
    },
    {
      "cell_type": "code",
      "execution_count": 40,
      "metadata": {
        "colab": {
          "base_uri": "https://localhost:8080/"
        },
        "id": "iJBq20nrzlX5",
        "outputId": "9f1d331a-8784-4006-c071-6ba4f13ef44f"
      },
      "outputs": [
        {
          "name": "stdout",
          "output_type": "stream",
          "text": [
            "The default value is -> 0.903\n"
          ]
        }
      ],
      "source": [
        "clf = RandomForestClassifier()\n",
        "clf.fit(X_train, y_train)\n",
        "val = clf.score(X_test,y_test)\n",
        "print(f'The default value is -> {val}')"
      ]
    },
    {
      "cell_type": "markdown",
      "metadata": {
        "id": "zswUbhB_e8yZ"
      },
      "source": [
        "BASE CASE"
      ]
    },
    {
      "cell_type": "code",
      "execution_count": 41,
      "metadata": {
        "id": "Wq_S7p7fe8ya"
      },
      "outputs": [],
      "source": [
        "from bayes_opt import BayesianOptimization, UtilityFunction\n",
        "import matplotlib.pyplot as plt\n"
      ]
    },
    {
      "cell_type": "code",
      "execution_count": 42,
      "metadata": {
        "id": "CagnD0eWe8ya"
      },
      "outputs": [],
      "source": [
        "def Optimize_and_plot(bounds,score_fxn,Algo_name:str,Iters:int,Dict_save_fxn):\n",
        "\n",
        "    optimizer = BayesianOptimization(f = None, pbounds = bounds, verbose = 2, random_state = SEED)\n",
        "    utility = UtilityFunction(kind = \"ucb\", kappa = 1.96, xi = 0.01)\n",
        "\n",
        "    for i in range(Iters):\n",
        "        # Get optimizer to suggest a new parameter value to try.\n",
        "        next_point = optimizer.suggest(utility)  \n",
        "        # Evaluate the output of the black_box_function using the new parameter value.\n",
        "        target = score_fxn(**next_point)\n",
        "        try:\n",
        "            # Update the optimizer with the evaluation results. This needs to be in try-except\n",
        "            # to prevent repeat errors from occuring.\n",
        "            optimizer.register(params = next_point, target = target)\n",
        "        except:\n",
        "            pass\n",
        "    \n",
        "    print(f'Best result: {optimizer.max[\"params\"]}; f(x) = {optimizer.max[\"target\"]}.')\n",
        "\n",
        "    Dict_save_fxn()\n",
        "    \n",
        "\n",
        "    plt.plot(range(1, 1+len(optimizer.space.target)), optimizer.space.target, \"-o\")\n",
        "    plt.grid(True)\n",
        "    plt.xlabel(\"Iteration\")\n",
        "    plt.ylabel(\"Score\")\n",
        "    plt.legend()\n",
        "    plt.savefig(f'{Algo_name}_{Iters}_Iterations.svg',format='svg')\n",
        "    plt.show()"
      ]
    },
    {
      "cell_type": "code",
      "execution_count": 43,
      "metadata": {
        "id": "7Y24s3d1e8ya"
      },
      "outputs": [],
      "source": [
        "NIA_Val_Dict = {0:'Cuckoo Search',1:'Fire Fly',2:'Bat',3:'Self Adaptive Bat',4:'Artificial Bee Colony',5:'Particle Swarm'}\n",
        "\n",
        "NIA_lst = [CucKoo_pbounds, FireFly_pbounds, BAT_pbounds, SABA_pbounds, ABC_pbounds, PSA_pbounds]\n",
        "\n",
        "Save_dict_fxn = [Save_cuckoo_dict, Save_firefly_dict, Save_bat_dict, Save_sba_dict, Save_abc_dict, Save_psa_dict]\n",
        "\n",
        "NIA_Score_fxn = [Score_Cuckoo, Score_Firefly, Score_Bat, Score_SBA, Score_ABC, Score_PSA]"
      ]
    },
    {
      "cell_type": "code",
      "execution_count": 56,
      "metadata": {
        "colab": {
          "base_uri": "https://localhost:8080/"
        },
        "id": "9KJEEtHze8ya",
        "outputId": "9fa52d38-98d4-40cf-9e37-69dfa7b48909"
      },
      "outputs": [
        {
          "name": "stdout",
          "output_type": "stream",
          "text": [
            "Fitting at most 1.0 candidates\n"
          ]
        }
      ],
      "source": [
        "for i in range(4,len(NIA_lst)):\n",
        "    Optimize_and_plot(bounds=NIA_lst[i],score_fxn=NIA_Score_fxn[i],Algo_name=NIA_Val_Dict[i],Dict_save_fxn=Save_dict_fxn[i],Iters=100)\n",
        "    "
      ]
    },
    {
      "cell_type": "markdown",
      "metadata": {
        "id": "Br_NO9vMGbt9"
      },
      "source": [
        "function ClickConnect(){\n",
        "\n",
        "console.log(\"Working\"); \n",
        "document.querySelector(\"#comments > span\").click() \n",
        "}\n",
        "setInterval(ClickConnect,5000)"
      ]
    },
    {
      "cell_type": "markdown",
      "metadata": {
        "id": "9_jHSvqse8yb"
      },
      "source": [
        "Basement Don't go down"
      ]
    },
    {
      "cell_type": "code",
      "execution_count": null,
      "metadata": {
        "id": "SVwKI-TOe8yb"
      },
      "outputs": [],
      "source": [
        "break"
      ]
    },
    {
      "cell_type": "code",
      "execution_count": 46,
      "metadata": {},
      "outputs": [],
      "source": [
        "from niapy.algorithms.modified import  ParameterFreeBatAlgorithm"
      ]
    },
    {
      "cell_type": "code",
      "execution_count": 47,
      "metadata": {},
      "outputs": [],
      "source": [
        "algo = ParameterFreeBatAlgorithm()"
      ]
    },
    {
      "cell_type": "code",
      "execution_count": 48,
      "metadata": {},
      "outputs": [
        {
          "data": {
            "text/plain": [
              "{'population_size': 80,\n",
              " 'initialization_function': <function niapy.algorithms.algorithm.default_numpy_init(task, population_size, rng, **_kwargs)>,\n",
              " 'individual_type': None,\n",
              " 'rng': Generator(PCG64) at 0x18CEA40BF20,\n",
              " 'exception': None,\n",
              " 'loudness': 0.9,\n",
              " 'pulse_rate': 0.1}"
            ]
          },
          "execution_count": 48,
          "metadata": {},
          "output_type": "execute_result"
        }
      ],
      "source": [
        "algo.__dict__"
      ]
    },
    {
      "cell_type": "code",
      "execution_count": 51,
      "metadata": {},
      "outputs": [
        {
          "name": "stdout",
          "output_type": "stream",
          "text": [
            "Fitting at most 1.0 candidates\n"
          ]
        },
        {
          "ename": "IndexError",
          "evalue": "index 0 is out of bounds for axis 0 with size 0",
          "output_type": "error",
          "traceback": [
            "\u001b[1;31m---------------------------------------------------------------------------\u001b[0m",
            "\u001b[1;31mIndexError\u001b[0m                                Traceback (most recent call last)",
            "\u001b[1;32mc:\\Users\\chand\\Desktop\\temp_here\\Green-Computing\\my_tries\\Bayesian_mix2.ipynb Cell 45\u001b[0m in \u001b[0;36m<cell line: 9>\u001b[1;34m()\u001b[0m\n\u001b[0;32m      <a href='vscode-notebook-cell:/c%3A/Users/chand/Desktop/temp_here/Green-Computing/my_tries/Bayesian_mix2.ipynb#Y120sZmlsZQ%3D%3D?line=1'>2</a>\u001b[0m \u001b[39m#Algo.set_parameters()\u001b[39;00m\n\u001b[0;32m      <a href='vscode-notebook-cell:/c%3A/Users/chand/Desktop/temp_here/Green-Computing/my_tries/Bayesian_mix2.ipynb#Y120sZmlsZQ%3D%3D?line=2'>3</a>\u001b[0m nia_mdl \u001b[39m=\u001b[39m NatureInspiredSearchCV(\n\u001b[0;32m      <a href='vscode-notebook-cell:/c%3A/Users/chand/Desktop/temp_here/Green-Computing/my_tries/Bayesian_mix2.ipynb#Y120sZmlsZQ%3D%3D?line=3'>4</a>\u001b[0m     estimator\u001b[39m=\u001b[39mRandomForestClassifier(n_estimators\u001b[39m=\u001b[39m\u001b[39m100\u001b[39m,criterion\u001b[39m=\u001b[39m\u001b[39m'\u001b[39m\u001b[39mentropy\u001b[39m\u001b[39m'\u001b[39m,max_features\u001b[39m=\u001b[39m\u001b[39m'\u001b[39m\u001b[39msqrt\u001b[39m\u001b[39m'\u001b[39m),         \n\u001b[0;32m      <a href='vscode-notebook-cell:/c%3A/Users/chand/Desktop/temp_here/Green-Computing/my_tries/Bayesian_mix2.ipynb#Y120sZmlsZQ%3D%3D?line=4'>5</a>\u001b[0m     param_grid\u001b[39m=\u001b[39m{},\n\u001b[0;32m      <a href='vscode-notebook-cell:/c%3A/Users/chand/Desktop/temp_here/Green-Computing/my_tries/Bayesian_mix2.ipynb#Y120sZmlsZQ%3D%3D?line=5'>6</a>\u001b[0m     algorithm\u001b[39m=\u001b[39mAlgo,\n\u001b[0;32m      <a href='vscode-notebook-cell:/c%3A/Users/chand/Desktop/temp_here/Green-Computing/my_tries/Bayesian_mix2.ipynb#Y120sZmlsZQ%3D%3D?line=6'>7</a>\u001b[0m     runs\u001b[39m=\u001b[39m\u001b[39m1\u001b[39m,\n\u001b[0;32m      <a href='vscode-notebook-cell:/c%3A/Users/chand/Desktop/temp_here/Green-Computing/my_tries/Bayesian_mix2.ipynb#Y120sZmlsZQ%3D%3D?line=7'>8</a>\u001b[0m )\n\u001b[1;32m----> <a href='vscode-notebook-cell:/c%3A/Users/chand/Desktop/temp_here/Green-Computing/my_tries/Bayesian_mix2.ipynb#Y120sZmlsZQ%3D%3D?line=8'>9</a>\u001b[0m nia_mdl\u001b[39m.\u001b[39;49mfit(X_train,y_train)\n\u001b[0;32m     <a href='vscode-notebook-cell:/c%3A/Users/chand/Desktop/temp_here/Green-Computing/my_tries/Bayesian_mix2.ipynb#Y120sZmlsZQ%3D%3D?line=9'>10</a>\u001b[0m val \u001b[39m=\u001b[39m nia_mdl\u001b[39m.\u001b[39mscore(X_test,y_test)\n",
            "File \u001b[1;32m~\\AppData\\Local\\Packages\\PythonSoftwareFoundation.Python.3.9_qbz5n2kfra8p0\\LocalCache\\local-packages\\Python39\\site-packages\\sklearn_nature_inspired_algorithms\\model_selection\\nature_inspired_search_cv.py:19\u001b[0m, in \u001b[0;36mNatureInspiredSearchCV.fit\u001b[1;34m(self, X, y, groups, **fit_params)\u001b[0m\n\u001b[0;32m     17\u001b[0m \u001b[39mself\u001b[39m\u001b[39m.\u001b[39mcv_orig \u001b[39m=\u001b[39m check_cv(\u001b[39mself\u001b[39m\u001b[39m.\u001b[39mcv, y, classifier\u001b[39m=\u001b[39mis_classifier(\u001b[39mself\u001b[39m\u001b[39m.\u001b[39mestimator))\n\u001b[0;32m     18\u001b[0m \u001b[39mself\u001b[39m\u001b[39m.\u001b[39mn_splits \u001b[39m=\u001b[39m \u001b[39mself\u001b[39m\u001b[39m.\u001b[39mcv_orig\u001b[39m.\u001b[39mget_n_splits(X, y, groups)\n\u001b[1;32m---> 19\u001b[0m \u001b[39mreturn\u001b[39;00m \u001b[39msuper\u001b[39m()\u001b[39m.\u001b[39mfit(X, y, groups\u001b[39m=\u001b[39mgroups, \u001b[39m*\u001b[39m\u001b[39m*\u001b[39mfit_params)\n",
            "File \u001b[1;32m~\\AppData\\Local\\Packages\\PythonSoftwareFoundation.Python.3.9_qbz5n2kfra8p0\\LocalCache\\local-packages\\Python39\\site-packages\\sklearn\\model_selection\\_search.py:875\u001b[0m, in \u001b[0;36mBaseSearchCV.fit\u001b[1;34m(self, X, y, groups, **fit_params)\u001b[0m\n\u001b[0;32m    869\u001b[0m     results \u001b[39m=\u001b[39m \u001b[39mself\u001b[39m\u001b[39m.\u001b[39m_format_results(\n\u001b[0;32m    870\u001b[0m         all_candidate_params, n_splits, all_out, all_more_results\n\u001b[0;32m    871\u001b[0m     )\n\u001b[0;32m    873\u001b[0m     \u001b[39mreturn\u001b[39;00m results\n\u001b[1;32m--> 875\u001b[0m \u001b[39mself\u001b[39;49m\u001b[39m.\u001b[39;49m_run_search(evaluate_candidates)\n\u001b[0;32m    877\u001b[0m \u001b[39m# multimetric is determined here because in the case of a callable\u001b[39;00m\n\u001b[0;32m    878\u001b[0m \u001b[39m# self.scoring the return type is only known after calling\u001b[39;00m\n\u001b[0;32m    879\u001b[0m first_test_score \u001b[39m=\u001b[39m all_out[\u001b[39m0\u001b[39m][\u001b[39m\"\u001b[39m\u001b[39mtest_scores\u001b[39m\u001b[39m\"\u001b[39m]\n",
            "File \u001b[1;32m~\\AppData\\Local\\Packages\\PythonSoftwareFoundation.Python.3.9_qbz5n2kfra8p0\\LocalCache\\local-packages\\Python39\\site-packages\\sklearn_nature_inspired_algorithms\\model_selection\\nature_inspired_search_cv.py:47\u001b[0m, in \u001b[0;36mNatureInspiredSearchCV._run_search\u001b[1;34m(self, evaluate_candidates)\u001b[0m\n\u001b[0;32m     37\u001b[0m         \u001b[39mprint\u001b[39m(\u001b[39mf\u001b[39m\u001b[39m'\u001b[39m\u001b[39mRun \u001b[39m\u001b[39m{\u001b[39;00mi\u001b[39m}\u001b[39;00m\u001b[39m/\u001b[39m\u001b[39m{\u001b[39;00m\u001b[39mself\u001b[39m\u001b[39m.\u001b[39mruns\u001b[39m}\u001b[39;00m\u001b[39m, Iteration \u001b[39m\u001b[39m{\u001b[39;00miteration\u001b[39m}\u001b[39;00m\u001b[39m/\u001b[39m\u001b[39m{\u001b[39;00m\u001b[39mself\u001b[39m\u001b[39m.\u001b[39mmax_n_gen\u001b[39m}\u001b[39;00m\u001b[39m{\u001b[39;00mstagnation\u001b[39m}\u001b[39;00m\u001b[39m'\u001b[39m\n\u001b[0;32m     38\u001b[0m               \u001b[39mf\u001b[39m\u001b[39m'\u001b[39m\u001b[39m | There were \u001b[39m\u001b[39m{\u001b[39;00mproblem\u001b[39m.\u001b[39mevaluation_count\u001b[39m}\u001b[39;00m\u001b[39m candidates trained until now\u001b[39m\u001b[39m'\u001b[39m)\n\u001b[0;32m     40\u001b[0m task \u001b[39m=\u001b[39m StagnationStoppingTask(\n\u001b[0;32m     41\u001b[0m     max_iters\u001b[39m=\u001b[39m\u001b[39mself\u001b[39m\u001b[39m.\u001b[39mmax_n_gen,\n\u001b[0;32m     42\u001b[0m     max_stagnating_gen\u001b[39m=\u001b[39m\u001b[39mself\u001b[39m\u001b[39m.\u001b[39mmax_stagnating_gen,\n\u001b[0;32m     43\u001b[0m     problem\u001b[39m=\u001b[39mproblem,\n\u001b[0;32m     44\u001b[0m     iteration_finished_callback\u001b[39m=\u001b[39miteration_finished_callback\n\u001b[0;32m     45\u001b[0m )\n\u001b[1;32m---> 47\u001b[0m \u001b[39mself\u001b[39;49m\u001b[39m.\u001b[39;49m__algorithm\u001b[39m.\u001b[39;49mrun(task\u001b[39m=\u001b[39;49mtask)\n\u001b[0;32m     49\u001b[0m \u001b[39mif\u001b[39;00m \u001b[39mself\u001b[39m\u001b[39m.\u001b[39m__algorithm\u001b[39m.\u001b[39mexception:\n\u001b[0;32m     50\u001b[0m     \u001b[39mraise\u001b[39;00m \u001b[39mself\u001b[39m\u001b[39m.\u001b[39m__algorithm\u001b[39m.\u001b[39mexception\n",
            "File \u001b[1;32m~\\AppData\\Local\\Packages\\PythonSoftwareFoundation.Python.3.9_qbz5n2kfra8p0\\LocalCache\\local-packages\\Python39\\site-packages\\niapy\\algorithms\\algorithm.py:357\u001b[0m, in \u001b[0;36mAlgorithm.run\u001b[1;34m(self, task)\u001b[0m\n\u001b[0;32m    355\u001b[0m \u001b[39mexcept\u001b[39;00m \u001b[39mBaseException\u001b[39;00m \u001b[39mas\u001b[39;00m e:\n\u001b[0;32m    356\u001b[0m     \u001b[39mif\u001b[39;00m threading\u001b[39m.\u001b[39mcurrent_thread() \u001b[39m==\u001b[39m threading\u001b[39m.\u001b[39mmain_thread() \u001b[39mand\u001b[39;00m multiprocessing\u001b[39m.\u001b[39mcurrent_process()\u001b[39m.\u001b[39mname \u001b[39m==\u001b[39m \u001b[39m'\u001b[39m\u001b[39mMainProcess\u001b[39m\u001b[39m'\u001b[39m:\n\u001b[1;32m--> 357\u001b[0m         \u001b[39mraise\u001b[39;00m e\n\u001b[0;32m    358\u001b[0m     \u001b[39mself\u001b[39m\u001b[39m.\u001b[39mexception \u001b[39m=\u001b[39m e\n\u001b[0;32m    359\u001b[0m     \u001b[39mreturn\u001b[39;00m \u001b[39mNone\u001b[39;00m, \u001b[39mNone\u001b[39;00m\n",
            "File \u001b[1;32m~\\AppData\\Local\\Packages\\PythonSoftwareFoundation.Python.3.9_qbz5n2kfra8p0\\LocalCache\\local-packages\\Python39\\site-packages\\niapy\\algorithms\\algorithm.py:353\u001b[0m, in \u001b[0;36mAlgorithm.run\u001b[1;34m(self, task)\u001b[0m\n\u001b[0;32m    338\u001b[0m \u001b[39mr\u001b[39m\u001b[39m\"\"\"Start the optimization.\u001b[39;00m\n\u001b[0;32m    339\u001b[0m \n\u001b[0;32m    340\u001b[0m \u001b[39mArgs:\u001b[39;00m\n\u001b[1;32m   (...)\u001b[0m\n\u001b[0;32m    350\u001b[0m \n\u001b[0;32m    351\u001b[0m \u001b[39m\"\"\"\u001b[39;00m\n\u001b[0;32m    352\u001b[0m \u001b[39mtry\u001b[39;00m:\n\u001b[1;32m--> 353\u001b[0m     r \u001b[39m=\u001b[39m \u001b[39mself\u001b[39;49m\u001b[39m.\u001b[39;49mrun_task(task)\n\u001b[0;32m    354\u001b[0m     \u001b[39mreturn\u001b[39;00m r[\u001b[39m0\u001b[39m], r[\u001b[39m1\u001b[39m] \u001b[39m*\u001b[39m task\u001b[39m.\u001b[39moptimization_type\u001b[39m.\u001b[39mvalue\n\u001b[0;32m    355\u001b[0m \u001b[39mexcept\u001b[39;00m \u001b[39mBaseException\u001b[39;00m \u001b[39mas\u001b[39;00m e:\n",
            "File \u001b[1;32m~\\AppData\\Local\\Packages\\PythonSoftwareFoundation.Python.3.9_qbz5n2kfra8p0\\LocalCache\\local-packages\\Python39\\site-packages\\niapy\\algorithms\\algorithm.py:333\u001b[0m, in \u001b[0;36mAlgorithm.run_task\u001b[1;34m(self, task)\u001b[0m\n\u001b[0;32m    331\u001b[0m algo, xb, fxb \u001b[39m=\u001b[39m \u001b[39mself\u001b[39m\u001b[39m.\u001b[39miteration_generator(task), \u001b[39mNone\u001b[39;00m, np\u001b[39m.\u001b[39minf\n\u001b[0;32m    332\u001b[0m \u001b[39mwhile\u001b[39;00m \u001b[39mnot\u001b[39;00m task\u001b[39m.\u001b[39mstopping_condition():\n\u001b[1;32m--> 333\u001b[0m     xb, fxb \u001b[39m=\u001b[39m \u001b[39mnext\u001b[39;49m(algo)\n\u001b[0;32m    334\u001b[0m     task\u001b[39m.\u001b[39mnext_iter()\n\u001b[0;32m    335\u001b[0m \u001b[39mreturn\u001b[39;00m xb, fxb\n",
            "File \u001b[1;32m~\\AppData\\Local\\Packages\\PythonSoftwareFoundation.Python.3.9_qbz5n2kfra8p0\\LocalCache\\local-packages\\Python39\\site-packages\\niapy\\algorithms\\algorithm.py:313\u001b[0m, in \u001b[0;36mAlgorithm.iteration_generator\u001b[1;34m(self, task)\u001b[0m\n\u001b[0;32m    311\u001b[0m     \u001b[39myield\u001b[39;00m xb, fxb\n\u001b[0;32m    312\u001b[0m \u001b[39mwhile\u001b[39;00m \u001b[39mTrue\u001b[39;00m:\n\u001b[1;32m--> 313\u001b[0m     pop, fpop, xb, fxb, params \u001b[39m=\u001b[39m \u001b[39mself\u001b[39m\u001b[39m.\u001b[39mrun_iteration(task, pop, fpop, xb, fxb, \u001b[39m*\u001b[39m\u001b[39m*\u001b[39mparams)\n\u001b[0;32m    314\u001b[0m     \u001b[39myield\u001b[39;00m xb, fxb\n",
            "File \u001b[1;32m~\\AppData\\Local\\Packages\\PythonSoftwareFoundation.Python.3.9_qbz5n2kfra8p0\\LocalCache\\local-packages\\Python39\\site-packages\\niapy\\algorithms\\modified\\plba.py:133\u001b[0m, in \u001b[0;36mParameterFreeBatAlgorithm.run_iteration\u001b[1;34m(self, task, population, population_fitness, best_x, best_fitness, **params)\u001b[0m\n\u001b[0;32m    131\u001b[0m upper, lower \u001b[39m=\u001b[39m task\u001b[39m.\u001b[39mupper, task\u001b[39m.\u001b[39mlower\n\u001b[0;32m    132\u001b[0m \u001b[39mfor\u001b[39;00m i \u001b[39min\u001b[39;00m \u001b[39mrange\u001b[39m(\u001b[39mself\u001b[39m\u001b[39m.\u001b[39mpopulation_size):\n\u001b[1;32m--> 133\u001b[0m     frequency \u001b[39m=\u001b[39m ((upper[\u001b[39m0\u001b[39;49m] \u001b[39m-\u001b[39m lower[\u001b[39m0\u001b[39m]) \u001b[39m/\u001b[39m \u001b[39mfloat\u001b[39m(\u001b[39mself\u001b[39m\u001b[39m.\u001b[39mpopulation_size)) \u001b[39m*\u001b[39m \u001b[39mself\u001b[39m\u001b[39m.\u001b[39mnormal(\u001b[39m0\u001b[39m, \u001b[39m1\u001b[39m)\n\u001b[0;32m    134\u001b[0m     velocities[i] \u001b[39m+\u001b[39m\u001b[39m=\u001b[39m (population[i] \u001b[39m-\u001b[39m best_x) \u001b[39m*\u001b[39m frequency\n\u001b[0;32m    135\u001b[0m     \u001b[39mif\u001b[39;00m \u001b[39mself\u001b[39m\u001b[39m.\u001b[39mrandom() \u001b[39m>\u001b[39m \u001b[39mself\u001b[39m\u001b[39m.\u001b[39mpulse_rate:\n",
            "\u001b[1;31mIndexError\u001b[0m: index 0 is out of bounds for axis 0 with size 0"
          ]
        }
      ],
      "source": [
        "Algo = ParameterFreeBatAlgorithm()#differential_weight=differential_weight,crossover_probability=crossover_probability,population_size=population_size,loudness=loudness,pulse_rate=pulse_rate,gamma=gamma,min_frequency=min_frequency,max_frequency=max_frequency,seed=SEED)\n",
        "#Algo.set_parameters()\n",
        "nia_mdl = NatureInspiredSearchCV(\n",
        "    estimator=RandomForestClassifier(n_estimators=100,criterion='entropy',max_features='sqrt'),         \n",
        "    param_grid={},\n",
        "    algorithm=Algo,\n",
        "    runs=1,\n",
        ")\n",
        "nia_mdl.fit(X_train,y_train)\n",
        "val = nia_mdl.score(X_test,y_test)"
      ]
    },
    {
      "cell_type": "code",
      "execution_count": 54,
      "metadata": {},
      "outputs": [
        {
          "data": {
            "text/plain": [
              "(array([[-6.32691956e-01, -1.21731763e+00,  1.35690383e+00,\n",
              "          1.23291176e-04, -5.56998506e-01],\n",
              "        [ 2.24534224e+00,  8.35909593e-01, -1.56322064e+00,\n",
              "          9.53581706e-01, -1.62152775e-01],\n",
              "        [ 1.84214391e+00,  1.08302524e+00, -1.65328993e+00,\n",
              "          6.73581693e-01,  2.31946495e+00],\n",
              "        ...,\n",
              "        [ 2.86134365e+00,  1.63328531e+00, -2.52231744e+00,\n",
              "          1.05965443e+00, -1.44574557e+00],\n",
              "        [ 2.85367252e-01,  7.38364378e-01, -7.88720818e-01,\n",
              "         -5.18911108e-02,  3.93000640e-01],\n",
              "        [-1.91439146e+00, -3.19433022e-01,  9.65721801e-01,\n",
              "         -9.20711283e-01,  8.19739263e-01]]),\n",
              " array([1, 0, 0, ..., 0, 0, 0]))"
            ]
          },
          "execution_count": 54,
          "metadata": {},
          "output_type": "execute_result"
        }
      ],
      "source": [
        "X_train,y_train"
      ]
    }
  ],
  "metadata": {
    "colab": {
      "provenance": []
    },
    "kernelspec": {
      "display_name": "Python 3.9.13 64-bit (microsoft store)",
      "language": "python",
      "name": "python3"
    },
    "language_info": {
      "codemirror_mode": {
        "name": "ipython",
        "version": 3
      },
      "file_extension": ".py",
      "mimetype": "text/x-python",
      "name": "python",
      "nbconvert_exporter": "python",
      "pygments_lexer": "ipython3",
      "version": "3.9.13"
    },
    "vscode": {
      "interpreter": {
        "hash": "bcac82fb26a6e7c950421e78519edb87e1a5e005e0aec2fc293e679965bb2493"
      }
    }
  },
  "nbformat": 4,
  "nbformat_minor": 0
}
