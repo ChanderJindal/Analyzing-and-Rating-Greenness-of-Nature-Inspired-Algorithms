{
 "cells": [
  {
   "cell_type": "code",
   "execution_count": 1,
   "id": "226ddf6b",
   "metadata": {},
   "outputs": [],
   "source": [
    "import os\n",
    "import json\n",
    "import numpy as np\n",
    "import pandas as pd"
   ]
  },
  {
   "cell_type": "code",
   "execution_count": 2,
   "id": "9cf3e6e9",
   "metadata": {},
   "outputs": [],
   "source": [
    "Home = os.getcwd()\n",
    "DataFolder = os.path.join(Home,'Data')\n",
    "df = pd.read_csv(os.path.join(DataFolder,'MyDataSet.csv'))\n",
    "df_cols = list(df.columns)\n",
    "df = df[df.filter(regex='^(?!Unnamed)').columns]"
   ]
  },
  {
   "cell_type": "code",
   "execution_count": 3,
   "id": "ee955cff",
   "metadata": {},
   "outputs": [],
   "source": [
    "from sklearn.model_selection import train_test_split\n",
    "from sklearn.ensemble import RandomForestClassifier\n",
    "\n",
    "from sklearn_nature_inspired_algorithms.model_selection import NatureInspiredSearchCV\n",
    "from niapy.algorithms import basic"
   ]
  },
  {
   "cell_type": "code",
   "execution_count": 4,
   "id": "78843e28",
   "metadata": {},
   "outputs": [],
   "source": [
    "def Define_Model():\n",
    "    model = RandomForestClassifier()\n",
    "    param_grid = {}\n",
    "    return model, param_grid"
   ]
  },
  {
   "cell_type": "code",
   "execution_count": 5,
   "id": "88907358",
   "metadata": {},
   "outputs": [],
   "source": [
    "df_cols = list(df.columns)\n",
    "y = df[df_cols[-1]]\n",
    "X = df[df_cols[:-1]]\n",
    "start_val = 0\n",
    "model, param_grid = Define_Model()"
   ]
  },
  {
   "cell_type": "code",
   "execution_count": null,
   "id": "f2770373",
   "metadata": {},
   "outputs": [],
   "source": [
    "def SKLEARN_CUCKOOSEARCH(Kmodel, Kparam_grid):\n",
    "    lst = []\n",
    "    for Kpopulation_size in range(10,101,10): #10\n",
    "        for Kpa in np.arange(0.01,1.01,.01): #100\n",
    "            \n",
    "            Algo = basic.cs.CuckooSearch()\n",
    "            Algo.set_parameters(\n",
    "                population_size = Kpopulation_size,\n",
    "                pa = Kpa\n",
    "            )\n",
    "            NIS = NatureInspiredSearchCV(\n",
    "                estimator = Kmodel,\n",
    "                param_grid = Kparam_grid,\n",
    "                algorithm=Algo\n",
    "            )\n",
    "            lst.append(NIS)\n",
    "    return lst"
   ]
  },
  {
   "cell_type": "code",
   "execution_count": 6,
   "id": "510a14b6",
   "metadata": {},
   "outputs": [],
   "source": [
    "def Save_Often(CS_Dict,Name):\n",
    "    ResultFolder = os.path.join(Home, 'Result')\n",
    "    Name = os.path.join(ResultFolder, Name)\n",
    "    with open(Name,'w') as kanaishk:\n",
    "        json.dump(CS_Dict,kanaishk)"
   ]
  },
  {
   "cell_type": "code",
   "execution_count": null,
   "id": "b86c72f1",
   "metadata": {},
   "outputs": [],
   "source": [
    "NIS_lst = SKLEARN_CUCKOOSEARCH(model, param_grid)\n",
    "print(len(NIS_lst))\n",
    "Best_Score = 0\n",
    "Best_Para = None \n",
    "CS_Dict = dict()"
   ]
  },
  {
   "cell_type": "code",
   "execution_count": null,
   "id": "09db4f84",
   "metadata": {},
   "outputs": [],
   "source": [
    "for i in range(len(NIS_lst)):\n",
    "    if(i%100==0 and i != start_val):\n",
    "        Name = f'Kanaishk Cuckoo Search Dict-{i/100}.json'\n",
    "        Save_Often(CS_Dict,Name)\n",
    "        CS_Dict = dict()\n",
    "    Curr_Candidate = NIS_lst[i]\n",
    "    Curr_Candidate.fit(X,y)\n",
    "    Curr_Para = NIS_lst[i].algorithm.get_parameters()\n",
    "    Curr_Score = Curr_Candidate.best_score_\n",
    "    CS_Dict[str(Curr_Para)] = Curr_Score\n",
    "    if Curr_Score > Best_Score:\n",
    "        Best_Para = Curr_Para"
   ]
  },
  {
   "cell_type": "code",
   "execution_count": null,
   "id": "144ee51e",
   "metadata": {},
   "outputs": [],
   "source": [
    "#Incase some of the model do not work\n",
    "'''CS_Dict = dict()\n",
    "for i in range(800,900):\n",
    "    Curr_Candidate = NIS_lst[i]\n",
    "    Curr_Candidate.fit(X,y)\n",
    "    Curr_Para = NIS_lst[i].algorithm.get_parameters()\n",
    "    Curr_Score = Curr_Candidate.best_score_\n",
    "    CS_Dict[str(Curr_Para)] = Curr_Score\n",
    "    if Curr_Score > Best_Score:\n",
    "        Best_Para = Curr_Para\n",
    "Name = 'Kanaishk Cuckoo Search Dict-9.0.json'\n",
    "Save_Often(CS_Dict,Name)'''"
   ]
  },
  {
   "cell_type": "code",
   "execution_count": null,
   "id": "f244fd19",
   "metadata": {},
   "outputs": [],
   "source": [
    "print(Best_Score)\n",
    "print(Best_Para)"
   ]
  },
  {
   "cell_type": "code",
   "execution_count": 29,
   "id": "47939d27",
   "metadata": {},
   "outputs": [],
   "source": [
    "def SKLEARN_CUCKOOSEARCH_PARAMGRID(Kmodel, Kparam_grid):\n",
    "    lst = []\n",
    "    population_size_lst = [50] #[30,50,10,50,70,90,20,30,40,60]\n",
    "    pa_lst = [0.77] #[0.32,0.77,0.74,0.87,0.14,0.31,0.76,0.19,0.52,0.3]\n",
    "    for i in range(1):#10\n",
    "            \n",
    "        Algo = basic.cs.CuckooSearch()\n",
    "        Algo.set_parameters(\n",
    "            population_size = population_size_lst[i],\n",
    "            pa = pa_lst[i]\n",
    "        )\n",
    "        NIS = NatureInspiredSearchCV(\n",
    "            estimator = Kmodel,\n",
    "            param_grid = Kparam_grid,\n",
    "            algorithm=Algo\n",
    "        )\n",
    "        lst.append(NIS)\n",
    "    return lst"
   ]
  },
  {
   "cell_type": "code",
   "execution_count": 30,
   "id": "4a98099a",
   "metadata": {},
   "outputs": [],
   "source": [
    "param_grid = {\n",
    "    'n_estimators': range(50, 550, 50),\n",
    "    'max_depth': [2, 4, 6, 8, 10, 20],\n",
    "    'min_samples_split': range(2, 8, 2),\n",
    "    'max_features': [\"auto\", \"sqrt\", \"log2\"]\n",
    "}"
   ]
  },
  {
   "cell_type": "code",
   "execution_count": 31,
   "id": "d4371678",
   "metadata": {},
   "outputs": [
    {
     "name": "stdout",
     "output_type": "stream",
     "text": [
      "1\n"
     ]
    }
   ],
   "source": [
    "NIS_lst = SKLEARN_CUCKOOSEARCH_PARAMGRID(model, param_grid)\n",
    "print(len(NIS_lst))\n",
    "Best_Score = 0\n",
    "Best_Para = None "
   ]
  },
  {
   "cell_type": "code",
   "execution_count": 32,
   "id": "161e42cf",
   "metadata": {},
   "outputs": [
    {
     "name": "stdout",
     "output_type": "stream",
     "text": [
      "Fitting at most 540 candidates\n",
      "Optimization finished, 458 candidates were fitted\n",
      "{'n_estimators': range(50, 550, 50), 'max_depth': [2, 4, 6, 8, 10, 20], 'min_samples_split': range(2, 8, 2), 'max_features': ['auto', 'sqrt', 'log2']}\n"
     ]
    }
   ],
   "source": [
    "CS_Dict = dict()\n",
    "for i in range(len(NIS_lst)):\n",
    "    Curr_Candidate = NIS_lst[i]\n",
    "    Curr_Candidate.fit(X,y)\n",
    "    Curr_Para = NIS_lst[i].algorithm.get_parameters()\n",
    "    Curr_Score = Curr_Candidate.best_score_\n",
    "    CS_Dict[str(Curr_Para)] = Curr_Score\n",
    "    print(Curr_Candidate.param_grid)\n",
    "    if Curr_Score > Best_Score:\n",
    "        Best_Para = Curr_Para\n",
    "Name = 'Kanaishk Cuckoo Search Dict-param_grid.json'\n",
    "Save_Often(CS_Dict,Name)"
   ]
  },
  {
   "cell_type": "code",
   "execution_count": 33,
   "id": "b9a085ad",
   "metadata": {},
   "outputs": [
    {
     "name": "stdout",
     "output_type": "stream",
     "text": [
      "0\n",
      "{'population_size': 50, 'initialization_function': <function default_numpy_init at 0x000001E9D434ADE0>, 'individual_type': None, 'pa': 0.77}\n"
     ]
    }
   ],
   "source": [
    "print(Best_Score)\n",
    "print(Best_Para)"
   ]
  },
  {
   "cell_type": "code",
   "execution_count": 19,
   "id": "a4bb4d86",
   "metadata": {},
   "outputs": [],
   "source": [
    "from sklearn.metrics import confusion_matrix, f1_score, accuracy_score"
   ]
  },
  {
   "cell_type": "code",
   "execution_count": 23,
   "id": "10487e37",
   "metadata": {},
   "outputs": [
    {
     "data": {
      "text/plain": [
       "array([[    17,  11718],\n",
       "       [     9, 117648]], dtype=int64)"
      ]
     },
     "execution_count": 23,
     "metadata": {},
     "output_type": "execute_result"
    }
   ],
   "source": [
    "clf = model.fit(X,y)\n",
    "\n",
    "# Create our predictions\n",
    "prediction = clf.predict(X)\n",
    "\n",
    "# Create confusion matrix\n",
    "confusion_matrix(y, prediction)"
   ]
  },
  {
   "cell_type": "code",
   "execution_count": 24,
   "id": "d2688c3a",
   "metadata": {},
   "outputs": [
    {
     "data": {
      "text/plain": [
       "0.909368430814888"
      ]
     },
     "execution_count": 24,
     "metadata": {},
     "output_type": "execute_result"
    }
   ],
   "source": [
    "# Display accuracy score\n",
    "accuracy_score(y, prediction)"
   ]
  },
  {
   "cell_type": "code",
   "execution_count": 25,
   "id": "4fa182cd",
   "metadata": {},
   "outputs": [
    {
     "data": {
      "text/plain": [
       "0.9525266877983022"
      ]
     },
     "execution_count": 25,
     "metadata": {},
     "output_type": "execute_result"
    }
   ],
   "source": [
    "# Display F1 score\n",
    "f1_score(y,prediction)"
   ]
  },
  {
   "cell_type": "code",
   "execution_count": 17,
   "id": "879fc912",
   "metadata": {},
   "outputs": [],
   "source": [
    "#Orignal Paper Cuckoo Search: https://ieeexplore.ieee.org/abstract/document/5393690\n",
    "#Sklearn Dir: https://github.com/timzatko/Sklearn-Nature-Inspired-Algorithms\n",
    "#NIAPY ALgorithm Class: https://github.com/NiaOrg/NiaPy/blob/master/niapy/algorithms/algorithm.py\n",
    "#NIAPY Cuckoo Search Algorithm Class: https://github.com/NiaOrg/NiaPy/blob/master/niapy/algorithms/basic/cs.py\n",
    "#NIAPY How to test Algorithm: https://github.com/NiaOrg/NiaPy/blob/master/niapy/tests/test_algorithm.py\n",
    "#NIAPY How to test CS: https://github.com/NiaOrg/NiaPy/blob/master/niapy/tests/test_cs.py\n",
    "#NIAPY Task (Answer to Sphere Function): https://github.com/NiaOrg/NiaPy/blob/master/niapy/task.py"
   ]
  }
 ],
 "metadata": {
  "kernelspec": {
   "display_name": "Python 3.9.13 64-bit (microsoft store)",
   "language": "python",
   "name": "python3"
  },
  "language_info": {
   "codemirror_mode": {
    "name": "ipython",
    "version": 3
   },
   "file_extension": ".py",
   "mimetype": "text/x-python",
   "name": "python",
   "nbconvert_exporter": "python",
   "pygments_lexer": "ipython3",
   "version": "3.9.13"
  },
  "vscode": {
   "interpreter": {
    "hash": "bcac82fb26a6e7c950421e78519edb87e1a5e005e0aec2fc293e679965bb2493"
   }
  }
 },
 "nbformat": 4,
 "nbformat_minor": 5
}
